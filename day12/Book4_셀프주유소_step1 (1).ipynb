{
 "cells": [
  {
   "cell_type": "markdown",
   "metadata": {},
   "source": [
    "## 4-1 Selenium 사용하기\n",
    "\n",
    "- 구글 크롬웹드라이버 설치하기 \n",
    "    - 주의사항:현재 사용하고 있는 크롬웹브라우저와 버전이 같아야한다. \n",
    "    - http://chromedriver.chromium.org/downloads 에서 윈도우용 32비트 저장 \n",
    "    - 작업폴더 기준으로 driver/chromedriver.exe 붙여넣기 \n",
    "- 셀레니움 설치 \n",
    "    - pip install selenium"
   ]
  },
  {
   "cell_type": "markdown",
   "metadata": {},
   "source": [
    "### selenium 설치와 임포트 "
   ]
  },
  {
   "cell_type": "code",
   "execution_count": 2,
   "metadata": {
    "scrolled": true
   },
   "outputs": [
    {
     "name": "stdout",
     "output_type": "stream",
     "text": [
      "Collecting selenium\n",
      "  Downloading https://files.pythonhosted.org/packages/80/d6/4294f0b4bce4de0abf13e17190289f9d0613b0a44e5dd6a7f5ca98459853/selenium-3.141.0-py2.py3-none-any.whl (904kB)\n",
      "Requirement already satisfied: urllib3 in c:\\anaconda3\\lib\\site-packages (from selenium) (1.24.2)\n",
      "Installing collected packages: selenium\n",
      "Successfully installed selenium-3.141.0\n",
      "Note: you may need to restart the kernel to use updated packages.\n"
     ]
    }
   ],
   "source": [
    "pip install selenium"
   ]
  },
  {
   "cell_type": "code",
   "execution_count": 1,
   "metadata": {
    "scrolled": false
   },
   "outputs": [
    {
     "data": {
      "text/plain": [
       "'3.141.0'"
      ]
     },
     "execution_count": 1,
     "metadata": {},
     "output_type": "execute_result"
    }
   ],
   "source": [
    "import selenium\n",
    "\n",
    "selenium.__version__"
   ]
  },
  {
   "cell_type": "markdown",
   "metadata": {},
   "source": [
    "### webdriver 설치 및 구동"
   ]
  },
  {
   "cell_type": "code",
   "execution_count": 2,
   "metadata": {
    "scrolled": false
   },
   "outputs": [],
   "source": [
    "from selenium import webdriver"
   ]
  },
  {
   "cell_type": "code",
   "execution_count": 3,
   "metadata": {},
   "outputs": [],
   "source": [
    "# 자동으로 크롬웹브라우저가 실행되는지 확인 \n",
    "driver = webdriver.Chrome('driver/chromedriver')"
   ]
  },
  {
   "cell_type": "code",
   "execution_count": 4,
   "metadata": {},
   "outputs": [],
   "source": [
    "# url 에 접근 \n",
    "driver.get('http://www.google.com')"
   ]
  },
  {
   "cell_type": "code",
   "execution_count": 5,
   "metadata": {},
   "outputs": [
    {
     "data": {
      "text/plain": [
       "True"
      ]
     },
     "execution_count": 5,
     "metadata": {},
     "output_type": "execute_result"
    }
   ],
   "source": [
    "# 스크린샷 저장하기 \n",
    "driver.save_screenshot('C:\\\\workspace_ds\\\\output\\\\001.png')"
   ]
  },
  {
   "cell_type": "code",
   "execution_count": 6,
   "metadata": {
    "scrolled": true
   },
   "outputs": [
    {
     "data": {
      "text/plain": [
       "['001.png',\n",
       " 'bar.png',\n",
       " 'df.csv',\n",
       " 'df.pickle',\n",
       " 'df.tsv',\n",
       " 'df.xls',\n",
       " 'df.xlsx',\n",
       " 'dramamovie.csv',\n",
       " 'graph.png',\n",
       " 'graph2.png',\n",
       " 'graph2.svg',\n",
       " 'movie2000.csv',\n",
       " 'movie_anim.xls',\n",
       " 'Name.pickle',\n",
       " 'pop_seoul.csv']"
      ]
     },
     "execution_count": 6,
     "metadata": {},
     "output_type": "execute_result"
    }
   ],
   "source": [
    "import os\n",
    "os.listdir('C:\\\\workspace_ds\\\\output')"
   ]
  },
  {
   "cell_type": "markdown",
   "metadata": {},
   "source": [
    "## 구글 검색창에 키워드 입력하여 검색 결과 확인하기 \n",
    "\n",
    "- driver.find_element_by_name(태그의name속성값).send_keys(검색어입력)\n",
    "- driver.find_element_by_name(태그의name속성값).submit()"
   ]
  },
  {
   "cell_type": "code",
   "execution_count": 7,
   "metadata": {},
   "outputs": [
    {
     "data": {
      "text/plain": [
       "'\\n<input class=\"gLFyf gsfi\" maxlength=\"2048\" name=\"q\" type=\"text\" \\njsaction=\"paste:puy29d\" aria-autocomplete=\"both\" aria-haspopup=\"false\" \\nautocapitalize=\"off\" autocomplete=\"off\" autocorrect=\"off\" autofocus=\"\" \\nrole=\"combobox\" spellcheck=\"false\" title=\"검색\" value=\"\" aria-label=\"검색\" \\ndata-ved=\"0ahUKEwiN_e7h0LnnAhVIMd4KHUzzAVgQ39UDCAQ\">\\n'"
      ]
     },
     "execution_count": 7,
     "metadata": {},
     "output_type": "execute_result"
    }
   ],
   "source": [
    "# 구글검색창의 검색입력창 copy Element\n",
    "'''\n",
    "<input class=\"gLFyf gsfi\" maxlength=\"2048\" name=\"q\" type=\"text\" \n",
    "jsaction=\"paste:puy29d\" aria-autocomplete=\"both\" aria-haspopup=\"false\" \n",
    "autocapitalize=\"off\" autocomplete=\"off\" autocorrect=\"off\" autofocus=\"\" \n",
    "role=\"combobox\" spellcheck=\"false\" title=\"검색\" value=\"\" aria-label=\"검색\" \n",
    "data-ved=\"0ahUKEwiN_e7h0LnnAhVIMd4KHUzzAVgQ39UDCAQ\">\n",
    "'''"
   ]
  },
  {
   "cell_type": "code",
   "execution_count": 8,
   "metadata": {},
   "outputs": [],
   "source": [
    "driver.find_element_by_name('q').send_keys('파이썬')\n",
    "driver.find_element_by_name('q').submit()"
   ]
  },
  {
   "cell_type": "markdown",
   "metadata": {},
   "source": [
    "### 검색결과에서 첫번째 제목\n",
    "\n",
    "- driver.find_element_by_css_selector('선택자')\n",
    "- 텍스트만 표시 \n",
    "    - driver.find_element_by_css_selector('선택자').text"
   ]
  },
  {
   "cell_type": "code",
   "execution_count": 9,
   "metadata": {},
   "outputs": [],
   "source": [
    "# copy selector 이용\n",
    "title = '#rso > div:nth-child(1) > div > div:nth-child(1) > div > div > div.r > a > h3'"
   ]
  },
  {
   "cell_type": "code",
   "execution_count": 10,
   "metadata": {},
   "outputs": [
    {
     "data": {
      "text/plain": [
       "<selenium.webdriver.remote.webelement.WebElement (session=\"6fdbca1d2bb9e75c63751f18634fc82e\", element=\"5f798d00-bf5b-4501-b1b8-e13a15ffc494\")>"
      ]
     },
     "execution_count": 10,
     "metadata": {},
     "output_type": "execute_result"
    }
   ],
   "source": [
    "result = driver.find_element_by_css_selector(title)\n",
    "result"
   ]
  },
  {
   "cell_type": "code",
   "execution_count": 11,
   "metadata": {},
   "outputs": [
    {
     "data": {
      "text/plain": [
       "'파이썬 - 위키백과, 우리 모두의 백과사전'"
      ]
     },
     "execution_count": 11,
     "metadata": {},
     "output_type": "execute_result"
    }
   ],
   "source": [
    "result.text"
   ]
  },
  {
   "cell_type": "markdown",
   "metadata": {},
   "source": [
    "## 네이버 검색창 결과 확인하기 \n",
    "\n",
    "```\n",
    "네이버 검색창에 트위터로 검색한 후 결과창에서 1번째 검색결과의 제목을 출력하여라\n",
    "네이버 검색창에 트위터로 검색한 후 결과창에서 1번째 검색결과을 클릭하여라 \n",
    "```\n",
    "\n",
    "- driver.find_element_by_css_selector(CSS셀렉터)\n",
    "- driver.find_element_by_css_selector(CSS셀렉터).text\n",
    "- driver.find_element_by_css_selector(CSS셀렉터).click()"
   ]
  },
  {
   "cell_type": "code",
   "execution_count": 12,
   "metadata": {},
   "outputs": [],
   "source": [
    "# url 에 접근 \n",
    "driver.get('http://naver.com')"
   ]
  },
  {
   "cell_type": "code",
   "execution_count": 13,
   "metadata": {},
   "outputs": [],
   "source": [
    "driver.find_element_by_name('query').send_keys('트위터')\n",
    "driver.find_element_by_name('query').submit()"
   ]
  },
  {
   "cell_type": "code",
   "execution_count": 14,
   "metadata": {},
   "outputs": [
    {
     "data": {
      "text/plain": [
       "<selenium.webdriver.remote.webelement.WebElement (session=\"6fdbca1d2bb9e75c63751f18634fc82e\", element=\"5f254119-a53d-4c65-bcf2-4545981f0bc6\")>"
      ]
     },
     "execution_count": 14,
     "metadata": {},
     "output_type": "execute_result"
    }
   ],
   "source": [
    "selector = '#main_pack > div.nsite.section._nsiteTop > ul > li > dl > dt > a'\n",
    "driver.find_element_by_css_selector(selector)"
   ]
  },
  {
   "cell_type": "code",
   "execution_count": 15,
   "metadata": {},
   "outputs": [
    {
     "data": {
      "text/plain": [
       "\"트위터. 핵심은 '실시간'입니다. / 트위터\""
      ]
     },
     "execution_count": 15,
     "metadata": {},
     "output_type": "execute_result"
    }
   ],
   "source": [
    "driver.find_element_by_css_selector(selector).text"
   ]
  },
  {
   "cell_type": "code",
   "execution_count": 16,
   "metadata": {},
   "outputs": [],
   "source": [
    "driver.find_element_by_css_selector(selector).click()"
   ]
  },
  {
   "cell_type": "markdown",
   "metadata": {},
   "source": [
    "###  DAUM  검색창 결과 확인하기 \n",
    "\n",
    "```\n",
    "DAUM 검색창에 오늘의날씨 로 검색한 후 결과창에서 검색결과의 제목을 출력하여라\n",
    "DAUM 검색창에 오늘의날씨로 검색한 후 결과창에서  검색결과을 클릭하여라 \n",
    "```"
   ]
  },
  {
   "cell_type": "code",
   "execution_count": 17,
   "metadata": {},
   "outputs": [],
   "source": [
    "# url 에 접근 \n",
    "driver.get('https://www.daum.net')"
   ]
  },
  {
   "cell_type": "code",
   "execution_count": 18,
   "metadata": {},
   "outputs": [],
   "source": [
    "driver.find_element_by_name('q').send_keys('오늘의날씨')\n",
    "driver.find_element_by_name('q').submit()"
   ]
  },
  {
   "cell_type": "code",
   "execution_count": 19,
   "metadata": {},
   "outputs": [
    {
     "data": {
      "text/plain": [
       "<selenium.webdriver.remote.webelement.WebElement (session=\"6fdbca1d2bb9e75c63751f18634fc82e\", element=\"ed3ddfb9-8322-4058-858d-15821ec54af8\")>"
      ]
     },
     "execution_count": 19,
     "metadata": {},
     "output_type": "execute_result"
    }
   ],
   "source": [
    "# #clusterResultUL > li.fst > div.wrap_cont > div > div.wrap_tit.mg_tit > a\n",
    "selector = '#clusterResultUL > li.fst > div.wrap_cont > div > div.wrap_tit.mg_tit > a'\n",
    "driver.find_element_by_css_selector(selector)"
   ]
  },
  {
   "cell_type": "code",
   "execution_count": 20,
   "metadata": {},
   "outputs": [
    {
     "data": {
      "text/plain": [
       "'오늘의 날씨'"
      ]
     },
     "execution_count": 20,
     "metadata": {},
     "output_type": "execute_result"
    }
   ],
   "source": [
    "driver.find_element_by_css_selector(selector).text"
   ]
  },
  {
   "cell_type": "code",
   "execution_count": 21,
   "metadata": {},
   "outputs": [],
   "source": [
    "driver.find_element_by_css_selector(selector).click()"
   ]
  },
  {
   "cell_type": "markdown",
   "metadata": {},
   "source": [
    "### 크롬드라이버 닫기"
   ]
  },
  {
   "cell_type": "code",
   "execution_count": 22,
   "metadata": {},
   "outputs": [],
   "source": [
    "driver.close()"
   ]
  },
  {
   "cell_type": "code",
   "execution_count": null,
   "metadata": {},
   "outputs": [],
   "source": []
  },
  {
   "cell_type": "markdown",
   "metadata": {},
   "source": [
    "## Naver 영화 순위 \n",
    "\n",
    "```\n",
    "https://movie.naver.com/movie/sdb/rank/rmovie.nhn?sel=cur&date=20190731\n",
    "```"
   ]
  },
  {
   "cell_type": "code",
   "execution_count": 23,
   "metadata": {},
   "outputs": [],
   "source": [
    "# Selenium Module\n",
    "from selenium import webdriver \n",
    "# BeautifulSoup Module\n",
    "from bs4 import BeautifulSoup as bs"
   ]
  },
  {
   "cell_type": "code",
   "execution_count": 25,
   "metadata": {},
   "outputs": [],
   "source": [
    "#  chromedriver의 경로 지정\n",
    "# 자동으로 크롬웹브라우저가 실행되는지 확인 \n",
    "driver = webdriver.Chrome('driver/chromedriver')\n",
    "# 웹 자원 로드를 위한 시간 설정\n",
    "driver.implicitly_wait(3) "
   ]
  },
  {
   "cell_type": "code",
   "execution_count": 26,
   "metadata": {},
   "outputs": [],
   "source": [
    "# url 에 접근 \n",
    "driver.get('https://movie.naver.com/movie/sdb/rank/rmovie.nhn?sel=cur&date=20190731')"
   ]
  },
  {
   "cell_type": "markdown",
   "metadata": {},
   "source": [
    "#### 순위 리스트 생성 "
   ]
  },
  {
   "cell_type": "code",
   "execution_count": 27,
   "metadata": {},
   "outputs": [
    {
     "data": {
      "text/plain": [
       "34"
      ]
     },
     "execution_count": 27,
     "metadata": {},
     "output_type": "execute_result"
    }
   ],
   "source": [
    "target = '#old_content > table > tbody > tr > td.title > div > a'\n",
    "# #old_content > table > tbody > tr:nth-child(2) > td.title > div > a\n",
    "result = driver.find_elements_by_css_selector(target)\n",
    "len(result)"
   ]
  },
  {
   "cell_type": "code",
   "execution_count": 28,
   "metadata": {},
   "outputs": [
    {
     "data": {
      "text/plain": [
       "list"
      ]
     },
     "execution_count": 28,
     "metadata": {},
     "output_type": "execute_result"
    }
   ],
   "source": [
    "type(result)"
   ]
  },
  {
   "cell_type": "markdown",
   "metadata": {},
   "source": [
    "#### 10위까지만 출력"
   ]
  },
  {
   "cell_type": "code",
   "execution_count": 29,
   "metadata": {},
   "outputs": [
    {
     "name": "stdout",
     "output_type": "stream",
     "text": [
      "알라딘\n",
      "어벤져스: 엔드게임\n",
      "아이 캔 스피크\n",
      "레드슈즈\n",
      "뽀로로 극장판 보물섬 대모험\n",
      "교회오빠\n",
      "이웃집 토토로\n",
      "토이 스토리 4\n",
      "퍼펙트 월드\n",
      "마녀 배달부 키키\n"
     ]
    }
   ],
   "source": [
    "for i in range(10):\n",
    "    print(result[i].text)"
   ]
  },
  {
   "cell_type": "markdown",
   "metadata": {},
   "source": [
    "### 네이버영화 티켓예매순 랭킹을 출력하여라 "
   ]
  },
  {
   "cell_type": "code",
   "execution_count": 31,
   "metadata": {},
   "outputs": [
    {
     "data": {
      "text/plain": [
       "'\\n<div class=\"box_type_1 mb_8\">\\n\\t<h3><img src=\"https://ssl.pstatic.net/imgmovie/2007/img/running/tlt_r_reservation.gif\" alt=\"티켓예매순\" width=\"51\" height=\"11\"></h3>\\n\\t<div id=\"reserveRanking0\" style=\"display:block\">\\n\\t<ul class=\"r_ranking\">\\n\\t\\t\\t\\t\\t\\t<li class=\"ranking01\"><a href=\"/movie/bi/mi/basic.nhn?code=181925\" onclick=\"clickcr(this,\\'tck.list\\',\\'181925\\',\\'1\\',event);\" class=\"b\" title=\"클로젯\"><span class=\"blind\">1위</span>클로젯</a><span class=\"ratio check\">30.73%</span></li>\\n\\n\\t\\t\\t\\t\\t\\t<li class=\"ranking02\"><a href=\"/movie/bi/mi/basic.nhn?code=187350\" onclick=\"clickcr(this,\\'tck.list\\',\\'187350\\',\\'2\\',event);\" title=\"버즈 오브 프레이(할리 퀸의 황홀한 해방)\"><span class=\"blind\">2위</span>버즈 오브 프레이(..</a> <span class=\"ratio\">25.68%</span></li>\\n\\n\\t\\t\\t\\t\\t\\t<li class=\"ranking03\"><a href=\"/movie/bi/mi/basic.nhn?code=176306\" onclick=\"clickcr(this,\\'tck.list\\',\\'176306\\',\\'3\\',event);\" title=\"남산의 부장들\"><span class=\"blind\">3위</span>남산의 부장들</a> <span class=\"ratio\">17.11%</span></li>\\n\\n\\t\\t\\t\\t\\t\\t<li class=\"ranking04\"><a href=\"/movie/bi/mi/basic.nhn?code=185838\" onclick=\"clickcr(this,\\'tck.list\\',\\'185838\\',\\'4\\',event);\" title=\"히트맨 \"><span class=\"blind\">4위</span>히트맨 </a> <span class=\"ratio\">8.3%</span></li>\\n\\n\\t\\t\\t\\t\\t\\t<li class=\"ranking05\"><a href=\"/movie/bi/mi/basic.nhn?code=190325\" onclick=\"clickcr(this,\\'tck.list\\',\\'190325\\',\\'5\\',event);\" title=\"극장판 미니특공대: 공룡왕 디노\"><span class=\"blind\">5위</span>극장판 미니특공대:..</a> <span class=\"ratio\">2.53%</span></li>\\n\\n\\t</ul>\\n\\t\\t<a id=\"ticketRankLink\" href=\"/movie/sdb/rank/rreserve.nhn\" onclick=\"clickcr(this,\\'tck.more\\',\\'\\',\\'\\',event);\" class=\"more\">더보기</a>\\n\\t<div class=\"term_1\"><img src=\"https://ssl.pstatic.net/imgmovie/2007/img/common/txt_source_yes24_02.gif\" alt=\"출처:YES24\" width=\"54\" height=\"12\"><div class=\"date\">2020.02.05</div></div>\\n\\t</div>\\n</div>\\n'"
      ]
     },
     "execution_count": 31,
     "metadata": {},
     "output_type": "execute_result"
    }
   ],
   "source": [
    "'''\n",
    "<li class=\"ranking01\"><a href=\"/movie/bi/mi/basic.nhn?code=181925\" onclick=\"clickcr(this,'tck.list','181925','1',event);\" class=\"b\" title=\"클로젯\"><span class=\"blind\">1위</span>클로젯</a><span class=\"ratio check\">30.73%</span></li>\n",
    "'''"
   ]
  },
  {
   "cell_type": "code",
   "execution_count": 32,
   "metadata": {},
   "outputs": [],
   "source": [
    "# url 에 접근 \n",
    "driver.get('https://movie.naver.com/movie/sdb/rank/rmovie.nhn?sel=cur&date=20190731')"
   ]
  },
  {
   "cell_type": "code",
   "execution_count": 40,
   "metadata": {},
   "outputs": [
    {
     "data": {
      "text/plain": [
       "5"
      ]
     },
     "execution_count": 40,
     "metadata": {},
     "output_type": "execute_result"
    }
   ],
   "source": [
    "target = '#reserveRanking0 > ul > li > a'\n",
    "result = driver.find_elements_by_css_selector(target)\n",
    "len(result)"
   ]
  },
  {
   "cell_type": "code",
   "execution_count": 43,
   "metadata": {
    "scrolled": false
   },
   "outputs": [
    {
     "name": "stdout",
     "output_type": "stream",
     "text": [
      "1위 => 클로젯\n",
      "2위 => 버즈 오브 프레이(..\n",
      "3위 => 남산의 부장들\n",
      "4위 => 히트맨\n",
      "5위 => 극장판 미니특공대:..\n"
     ]
    }
   ],
   "source": [
    "for i in range(0, len(result)):\n",
    "    print(f'{i+1}위 => {result[i].text}')"
   ]
  },
  {
   "cell_type": "code",
   "execution_count": null,
   "metadata": {},
   "outputs": [],
   "source": []
  },
  {
   "cell_type": "markdown",
   "metadata": {},
   "source": [
    "## Naver 영화 보헤미안랩소드 평점/리뷰\n",
    "\n",
    "> https://movie.naver.com/movie/bi/mi/point.nhn?code=156464&onlyActualPointYn=Y#pointAfterTab"
   ]
  },
  {
   "cell_type": "code",
   "execution_count": 52,
   "metadata": {},
   "outputs": [],
   "source": [
    "#  chromedriver의 경로 지정\n",
    "driver = webdriver.Chrome('driver/chromedriver')\n",
    "# 웹 자원 로드를 위한 시간 설정\n",
    "driver.implicitly_wait(3) \n",
    "# url 에 접근 \n",
    "driver.get('https://movie.naver.com/movie/bi/mi/point.nhn?code=156464&onlyActualPointYn=Y#pointAfterTab')"
   ]
  },
  {
   "cell_type": "code",
   "execution_count": 55,
   "metadata": {},
   "outputs": [
    {
     "data": {
      "text/plain": [
       "[<selenium.webdriver.remote.webelement.WebElement (session=\"0c8c1c786a76877c841d7a702bc63108\", element=\"e4dbee24-108f-4497-aaae-9bbc9e50ee29\")>,\n",
       " <selenium.webdriver.remote.webelement.WebElement (session=\"0c8c1c786a76877c841d7a702bc63108\", element=\"fb17910c-edd0-4a36-a14b-639e88cb4172\")>,\n",
       " <selenium.webdriver.remote.webelement.WebElement (session=\"0c8c1c786a76877c841d7a702bc63108\", element=\"a0deea98-5273-46ec-acdf-a59bbce44583\")>,\n",
       " <selenium.webdriver.remote.webelement.WebElement (session=\"0c8c1c786a76877c841d7a702bc63108\", element=\"75363e86-880d-41ba-b1f7-a6b18098bb4e\")>]"
      ]
     },
     "execution_count": 55,
     "metadata": {},
     "output_type": "execute_result"
    }
   ],
   "source": [
    "# #pointNetizenPersentBasic\n",
    "\n",
    "target = '#netizen_point_tab_inner > em'\n",
    "result = driver.find_elements_by_css_selector(target)\n",
    "result"
   ]
  },
  {
   "cell_type": "code",
   "execution_count": 56,
   "metadata": {},
   "outputs": [
    {
     "name": "stdout",
     "output_type": "stream",
     "text": [
      "9.42"
     ]
    }
   ],
   "source": [
    "for i in result:\n",
    "    print(i.text, end='')"
   ]
  },
  {
   "cell_type": "code",
   "execution_count": null,
   "metadata": {},
   "outputs": [],
   "source": []
  },
  {
   "cell_type": "markdown",
   "metadata": {},
   "source": [
    "# 리뷰 - 페이지한개"
   ]
  },
  {
   "cell_type": "code",
   "execution_count": 58,
   "metadata": {},
   "outputs": [],
   "source": [
    "#  chromedriver의 경로 지정\n",
    "driver = webdriver.Chrome('driver/chromedriver')\n",
    "# 웹 자원 로드를 위한 시간 설정\n",
    "driver.implicitly_wait(3) \n",
    "# url 에 접근 \n",
    "# driver.get('https://movie.naver.com/movie/bi/mi/basic.nhn?code=156464')\n",
    "driver.get('https://movie.naver.com/movie/bi/mi/review.nhn?code=156464#reviewTab')\n",
    "\n"
   ]
  },
  {
   "cell_type": "code",
   "execution_count": 64,
   "metadata": {},
   "outputs": [
    {
     "data": {
      "text/plain": [
       "[<selenium.webdriver.remote.webelement.WebElement (session=\"b5af1b9a9440781b9093831f34748861\", element=\"52802173-db72-4a0b-9bfb-a2650c8fa514\")>,\n",
       " <selenium.webdriver.remote.webelement.WebElement (session=\"b5af1b9a9440781b9093831f34748861\", element=\"add70ab0-3d7e-46df-8c44-26865d830cb8\")>,\n",
       " <selenium.webdriver.remote.webelement.WebElement (session=\"b5af1b9a9440781b9093831f34748861\", element=\"d13e72ca-6586-4ed8-8fd4-e0d9a09b9004\")>,\n",
       " <selenium.webdriver.remote.webelement.WebElement (session=\"b5af1b9a9440781b9093831f34748861\", element=\"537723d7-40f3-4861-957c-9e235f8d3ae4\")>,\n",
       " <selenium.webdriver.remote.webelement.WebElement (session=\"b5af1b9a9440781b9093831f34748861\", element=\"661f4775-86d7-4d12-8565-7f83ac79b0c1\")>,\n",
       " <selenium.webdriver.remote.webelement.WebElement (session=\"b5af1b9a9440781b9093831f34748861\", element=\"cb6e508b-9451-4fbd-a3ed-a50b837f195f\")>,\n",
       " <selenium.webdriver.remote.webelement.WebElement (session=\"b5af1b9a9440781b9093831f34748861\", element=\"bb017ef3-d14d-44fd-9e91-f4b1d975c4b7\")>,\n",
       " <selenium.webdriver.remote.webelement.WebElement (session=\"b5af1b9a9440781b9093831f34748861\", element=\"0abcb722-ba6d-4fac-bfe2-0b4145a32627\")>,\n",
       " <selenium.webdriver.remote.webelement.WebElement (session=\"b5af1b9a9440781b9093831f34748861\", element=\"9d9699be-402b-43aa-9cec-d2875e1ebbb3\")>,\n",
       " <selenium.webdriver.remote.webelement.WebElement (session=\"b5af1b9a9440781b9093831f34748861\", element=\"82f477e1-c6ee-4818-919f-7f39931fa2ba\")>]"
      ]
     },
     "execution_count": 64,
     "metadata": {},
     "output_type": "execute_result"
    }
   ],
   "source": [
    "#reviewTab > div > div > ul > li:nth-child(1) > p\n",
    "        \n",
    "# target = '#reviewTab > div > div > ul > li:nth-child(1) > p'\n",
    "target = '#reviewTab > div > div > ul > li > p'\n",
    "\n",
    "result = driver.find_elements_by_css_selector(target)\n",
    "result"
   ]
  },
  {
   "cell_type": "code",
   "execution_count": 66,
   "metadata": {},
   "outputs": [
    {
     "name": "stdout",
     "output_type": "stream",
     "text": [
      "영화 보헤미안 랩소디를 아이맥스 스크린을 통해 관람했다. 실제 콘서트 현장에 있는 듯한 기분이 들 정도로 생생한 분위기와 현장감을 담은 공연 장면의 열기가 아이맥스 스크린을 통해서 더욱 극대화되는 느낌이 들었다.음악의 꿈을 ...\n",
      "이 영화 - 퀸 = 0퀸이 아니었다면 볼 리도 없었겠지만 퀸이라 봤다. 퀸이니까. 게다가 나름 네임류 감독이기에 평타만 치자. 평타만 치자 바랐다.이 영화(보헤미안 랩소디) - 퀸 = 0이었다.이 영화의 포커스는 무엇인가.퀸이라는 그룹에 ...\n",
      "이 영화를 보기 전, 기대치를 최대한 낮추었다. \"이 영화는 분명히 형편없을 거야!\"라는 혼잣말을 갈릴레오 갈릴레오처럼 수도 없이 되뇌었다. 사실 영화의 퀄리티가 진짜 객관적으로 형편없을 거라는 예상은 아니었다. 오히려 브라이...\n",
      "영화 보헤미안 랩소디 후기, 프레디모큐리와 퀸에 관련한 실화.. 퀸을 좋아하시는 분들이라면 열광적으로 좋아할만한 영화입니다. ☆ 프롤로그 완벽한 타인을 보고 포스팅 했는데 이랬다 저랬다 하는 분들이 너무 많으신데요.지극...\n",
      "프레디 삼촌. 절대 저 모습이 아니었어.85년 Live Aid공연 모습인듯 한데 난닝구와 청바지 삼선 아디다스 운동화 차림에 오른팔 상박 팔찌는제대로 흉내내었지만 너무 달라. 너무 빈해 보여...........초등학교 입학때부터 대학졸업까지...\n",
      "안녕하세요. 케이론입니다!오늘 리뷰할 영화는보헤미안 랩소디입니다.지극히 개인적인 몇 줄 평피곤한 몸을 이끌고상영 시간이 가까운 영화를 택했다.그 어떤 줄거리나 정보도 없이 예매한 영화가<보헤미안 랩소디>란 사실에 감사...\n",
      "프레디머큐리를 낮게 평가한 저질 상업 영화다.음악에 대한 열정과 완벽한 음악을 만들기 위한 노력을 제대로 표현하지 않았으며, 최고의 라이브를 위해, 관객과 호응하기 위해 어떤 노력을 했는지도 없다. 이란계 외국인으로서 받는 차...\n",
      "queen bohemian rhapsody과연영화에서 이명곡을 어떻게 부를것인가 느낌은 결말부분에 나올꺼같은데 기대된다 하아 이런명곡부를가수가 있을까 기대하는분은 공감 queen bohemian rhapsody queen bohemian rhapsody queen bohemian rhap...\n",
      "원문 : http://chungawedding.co.kr/221429804212이 영화에 스포일러라는게 존재할까?결론은 모두가 아는것이고, #퀸 의 노래 역시 퀸을 몰라도 어디서 한번쯤은 들어본 음악일테니...영화의 주제와 이야기는 정해져 있고, 그렇다면 아직...\n",
      "내가 퀸Queen 에 빠지게 된 계기가 바로 이 보헤미안랩소디 때문이었다.이 곡을 처음 들었을 때 다른 그 어떤 팝송명곡에서도 접해본 적이 없던 그 충격은 지금도 잊혀지지 않는다.락(Rock) 과 클래식(Classic), 오페라(opera) 등 전혀 서...\n"
     ]
    }
   ],
   "source": [
    "for i in result:\n",
    "    print(i.text)"
   ]
  },
  {
   "cell_type": "code",
   "execution_count": null,
   "metadata": {},
   "outputs": [],
   "source": []
  },
  {
   "cell_type": "markdown",
   "metadata": {},
   "source": [
    "## 여러페이지 크롤링을 위한 주소 체계 이해하기 \n",
    "\n",
    "- https://movie.naver.com/movie/bi/mi/review.nhn?code=156464&page=2"
   ]
  },
  {
   "cell_type": "code",
   "execution_count": 67,
   "metadata": {},
   "outputs": [],
   "source": [
    "#  chromedriver의 경로 지정\n",
    "driver = webdriver.Chrome('driver/chromedriver')\n",
    "# 웹 자원 로드를 위한 시간 설정\n",
    "driver.implicitly_wait(3) \n"
   ]
  },
  {
   "cell_type": "code",
   "execution_count": 68,
   "metadata": {},
   "outputs": [
    {
     "name": "stdout",
     "output_type": "stream",
     "text": [
      "1\n",
      "2\n",
      "3\n",
      "4\n",
      "5\n",
      "6\n",
      "7\n",
      "8\n",
      "9\n",
      "10\n"
     ]
    }
   ],
   "source": [
    "result_list=[]\n",
    "for i in range(1,11):\n",
    "    print(i)\n",
    "    driver.get('https://movie.naver.com/movie/bi/mi/review.nhn?code=156464&page='+str(i))\n",
    "    target = '#reviewTab > div > div > ul > li > p > a'\n",
    "    result = driver.find_elements_by_css_selector(target)\n",
    "    for j in result:\n",
    "        result_list.append(j.text)"
   ]
  },
  {
   "cell_type": "code",
   "execution_count": 69,
   "metadata": {},
   "outputs": [
    {
     "name": "stdout",
     "output_type": "stream",
     "text": [
      "['영화 보헤미안 랩소디를 아이맥스 스크린을 통해 관람했다. 실제 콘서트 현장에 있는 듯한 기분이 들 정도로 생생한 분위기와 현장감을 담은 공연 장면의 열기가 아이맥스 스크린을 통해서 더욱 극대화되는 느낌이 들었다.음악의 꿈을 ...', '이 영화 - 퀸 = 0퀸이 아니었다면 볼 리도 없었겠지만 퀸이라 봤다. 퀸이니까. 게다가 나름 네임류 감독이기에 평타만 치자. 평타만 치자 바랐다.이 영화(보헤미안 랩소디) - 퀸 = 0이었다.이 영화의 포커스는 무엇인가.퀸이라는 그룹에 ...', '이 영화를 보기 전, 기대치를 최대한 낮추었다. \"이 영화는 분명히 형편없을 거야!\"라는 혼잣말을 갈릴레오 갈릴레오처럼 수도 없이 되뇌었다. 사실 영화의 퀄리티가 진짜 객관적으로 형편없을 거라는 예상은 아니었다. 오히려 브라이...', '영화 보헤미안 랩소디 후기, 프레디모큐리와 퀸에 관련한 실화.. 퀸을 좋아하시는 분들이라면 열광적으로 좋아할만한 영화입니다. ☆ 프롤로그 완벽한 타인을 보고 포스팅 했는데 이랬다 저랬다 하는 분들이 너무 많으신데요.지극...', '프레디 삼촌. 절대 저 모습이 아니었어.85년 Live Aid공연 모습인듯 한데 난닝구와 청바지 삼선 아디다스 운동화 차림에 오른팔 상박 팔찌는제대로 흉내내었지만 너무 달라. 너무 빈해 보여...........초등학교 입학때부터 대학졸업까지...', '안녕하세요. 케이론입니다!오늘 리뷰할 영화는보헤미안 랩소디입니다.지극히 개인적인 몇 줄 평피곤한 몸을 이끌고상영 시간이 가까운 영화를 택했다.그 어떤 줄거리나 정보도 없이 예매한 영화가<보헤미안 랩소디>란 사실에 감사...', '프레디머큐리를 낮게 평가한 저질 상업 영화다.음악에 대한 열정과 완벽한 음악을 만들기 위한 노력을 제대로 표현하지 않았으며, 최고의 라이브를 위해, 관객과 호응하기 위해 어떤 노력을 했는지도 없다. 이란계 외국인으로서 받는 차...', 'queen bohemian rhapsody과연영화에서 이명곡을 어떻게 부를것인가 느낌은 결말부분에 나올꺼같은데 기대된다 하아 이런명곡부를가수가 있을까 기대하는분은 공감 queen bohemian rhapsody queen bohemian rhapsody queen bohemian rhap...', '원문 : http://chungawedding.co.kr/221429804212이 영화에 스포일러라는게 존재할까?결론은 모두가 아는것이고, #퀸 의 노래 역시 퀸을 몰라도 어디서 한번쯤은 들어본 음악일테니...영화의 주제와 이야기는 정해져 있고, 그렇다면 아직...', '내가 퀸Queen 에 빠지게 된 계기가 바로 이 보헤미안랩소디 때문이었다.이 곡을 처음 들었을 때 다른 그 어떤 팝송명곡에서도 접해본 적이 없던 그 충격은 지금도 잊혀지지 않는다.락(Rock) 과 클래식(Classic), 오페라(opera) 등 전혀 서...', '퀸(Queen) TOP 10 Songs 퀸 (Queen)은 1971년 런던에서 결성된 영국 록 밴드입니다. 천체물리학과를 다니던 브라이언 메이(기타, 보컬)를 중심으로치대생 로저 테일러(드럼, 고음)가 합류해서 \"SMILE\"이 1968년 결성되었고, 밴드의 ...', '나에게 퀸의 음악은 사실.. 그렇게 와 닫는 음악들이 아니였다.내가 퀸을 처음 알게 된건...보컬 프레디 머큐리가 동성애자고 에이즈로 죽었다는 중학생이던 시절 (막 고등학교 올라가기 직전) 의기억이 다였고...좀 더 크면서 노래의 깊...', '좀 일찍 예매 할려고 했는데 매진이라 다음 시간때 예매를 하고 볼려고 극장에 갔는데..야~ 이게 10월에 개봉했던 영화가 맞나 싶을 정도로 사람이 많더라..상영시간이 2시간이 넘었는데 시간 가는줄 모르고 봤다.. 역시 이런 영화는 극...', '영화 <보헤미안 랩소디>는 한 남자의 일대기가 아니다. 그렇다고 밴드의 역사를 다루지도 않는다. 물론 어느 정도 그들의 삶이 스며들어 있고, 그들이 느꼈던 감정, 그리고 음악이 묻어 있기는 하지만 그것만으로는 부족하다. 134...', 'your Majesty, the World will Love U Forever- 보헤미안 랩소디 감독 브라이언 싱어 출연 라미 말렉, 조셉 마젤로, 마이크 마이어스, 루시 보인턴 개봉 2018.10.31. 미국, 영국 리뷰보기 ...', \"<보헤미안 랩소디, 2018> #ScreenX 영화같은 인생을 살고 떠났던레전드의 인생을 다시 영화로. 비틀즈에 이어 제 2의 브리티시 인베이전.80년대 전설적인 영국의 락 그룹 'Que...\", '전설의 밴드, 퀸(Queen)의 주옥같은 명곡, 강렬한 퍼모먼스가 생동하는 라이브 공연을 보고 왔다.자신이 양성애자임을 깨닫고 커밍아웃하자 \"당신 잘못이 아니라서 더 슬퍼요\" 라며 울먹이는 여친. 그녀의 아버지도 청각장애인이라서 머큐...', \"Bohemian Rhapsody , 2018<보헤미안 랩소디>는 제작 단계 때부터 탈이 많았던 영화다. 연출을 맡은 '브라이언 싱어'가 성폭행 혐의로 해고되어 다른 감독으로 교체되었기 때문인데, 브라이언 싱어에게 이는 처음 있는 일이 아니다....\", '본 영화의 개봉 사실이 알려지고 국내외 수많은 퀸 팬, 음악 팬들은 생각했을 것이다.\"긴 세월의 퀸 역사를 어떻게 담을까?\"\"위대한 퍼모머 프레디 머큐리를 재현할 수 있을까?\"본인 또한 오랜시간 퀸의 팬이었고 이 영화가 제작에 들어간...', '브라이언 싱어 감독 / 134분 / 12세 관람가라미 말렉, 조셉 마젤로, 마이크 마이어스, 루시 보인턴..전문가 평점: 로튼토마토 지수 57%(평점: 6/10), 메타스코어 49점, 11월 1일 기준관객 평점: 로튼팝콘 지수 N/A, 메타유저스코어 N/A, 1...', '보헤미안 랩소디 Bohemian Rhapsody브라이언 싱어 2018죽기 직전에 듣고 싶은 노래 죽기 전에 이런 질문을 받을 수 있기는 할런지도 잘 모르겠지만, 그럼에도 미리 답을 준비하고 있는 질문이 하나 있다. “당신이 죽기 직전에 듣고 싶은 ...', \"작년에 한참 Queen이 역주행을 했지요.... ^^개인적으로 너무 좋아하던 프레디의 목소리.....그런데 '보헤미안 랩소디' 그 이전에 Queen 음악으로 가득찬 영화가 사실 2편 더 있어요.....두편 다 볼만한 영화들이니 한번 기회 되실 때 보...\", '영화 보헤미안랩소디 결말은? 퀸의 음악은 영원하다!퀸이 어떤 그룹인지는 몰라도 평생 퀸의 음악은 한번쯤은 들어보셨을... 보헤미안 랩소디 감독 브라이언 싱어 출연 라미 말렉, 조셉 마젤로, 마이크 마이어스, 루시 ...', '심장이 뛴다.천재들이 만든 그룹 퀸무조건 본다.무조건 소장한다...................................................................................................................................................................', '동성애 장면에 평을 보면 굳이 저런 장면이 필요한가를 불만으로 갖는 관람객들이 많았다 그러나 난 동성애 장면이 나쁘지 않았다고 생각한다이 동성애 장면은 남자둘의 키스신이 매우 진하게 연출된걸 말한다 이장면에서나는 갑자기 게...', '예고편이나 포스터만 봐도아 이건 퀸의 일대기를 담은 영화겠구나.라는 생각은 빡대가리가 아닌 이상 누구나 할 수 있는 생각이고,이 영화의 제목을 보아도 아 이건 퀸이랑 관련된 영화겠구나 라는 생각은진짜 똥대가리가 아닌 이상 누구...', \"우선 결론부터 말하자면 잘만든 영화입니다.영화보고 몸에 전율이 느껴지고 울컥한건 정말 오랜만었어요.보헤미안 랩소디를 제외하면, 최근에 '극장'가서 본 영화는 '더 넌' 하나뿐인데 이건 진짜 재미없게 봐서 보헤미안 랩소디가 정말 ...\", '와 신난다. 와 대단하다. 와 멋지다.퀸은 역시 전설이야-. 역시 프레디.그런데, 난7만여 명의 관객, 7월 13일, 1985년, 웸블리스타디움의 공연 장면보다한적한 곳, 주체할 수 없는 영감을 감당할 수 없어 심장 쿵쾅, 눈동자 흔들 하며 피...', '솔직히 내가 아는 퀸의 노래는 보헤미안 랩소디, I was born to love you 정도였고프레디 머큐리가 양성애자 였다는 정도였다근데 영화를 보면서 느낀 건 알게 모르게 내가 들어온 퀸노래가 굉장히 많았고그로 인해 나도 영향을 많이 받았...', '보헤미안 랩소디 감독 브라이언 싱어 출연 라미 말렉, 조셉 마젤로, 마이크 마이어스, 루시 보인턴 개봉 2018.10.31. 미국, 영국 평점 리뷰보기 오랜만에 영화관. 심야영화로 보...', \"전설의 귀환보헤미안 랩소디와... 어제 영화 '보헤미안 랩소디' 보고 퀸의 매력에 제대로 빠져버렸다.노래, 배우, 연출 모든 게 완벽했던 영화! 심지어 나의 영화 기대작 리스트에도 없었던 음악 영화였는데 와... 아직도 그 여운이 가시...\", '* 영화관에 아이들은 대리고 오지 맙시다 ^^ (왜 하필 내 뒷자리임?)* 특히 커플은 옆사람 끼리 대화하고 소리내어 웃지 맙시다 ^^ * 맨발로 다리꼬고 이상한 자세로 옆사람에게 불편함을 주지 맙시다 ^^ * 특히나 이런 뮤직컬류와 같은 ...', '보헤미안 랩소디, 프레디 머큐리역을 제대로 소화한 라미 말렉개봉일 : 2018. 10. 31관람일 : 2018. 10. 31감독 : 브라이언 싱어지난 달 중순에 음악 영화스타 이즈 본을 강추했었는데,불과 한 달도 안 되어서또 한 편의 영화를 강추하게 ...', \"퇴근 후, 영화를 한 편 보았다. 영화는 퀸 리드싱어 프레디 머큐리의 이야기에 퀸의 명곡들로 2시간을 꽉꽉 채운 '보헤미안 랩소디'. 사실 금요일이 아니면 평일 저녁엔 영화를 잘 보지 않지만VIP시사회에 스크린X로 당첨된 덕에 죽전역 C...\", '보헤미안 랩소디오랜만에 영화다운 영화를 영화관에서 관람했다.엄마랑 영화 본 지가 언제인지 기억도 안 나는 못난 딸이라이 영화만큼은 엄마랑 같이 보고 싶어서 짝꿍이랑 셋이 함께-얼마 전 생일이라고 CGV 콤보를 무료로 주네팝콘 반...', '프레디 머큐리를 알고 보니 더 감동적인 퀸 뮤직!- 수십년 전 영혼을 흔들었던 퀸의 뮤직의 탄생과정과 프레디 머큐리 개인에 대한 열정적인 스토리가 퀸의 레전드 음악과 어우러져 최고의 감동을 느낄 수 있다. 마지막 20분은 정말 자리...', '프레디 머큐리의 보헤미안 랩소디에 대해서,동성애자로 변해가는 모습을 담았다고 한 제 해석에 대해서 많은 수의 댓글들이 달렸네요.댓글을 올려 주신 분 중에서 킬러퀸도 해석해 주실 수 있느냐고 하셔서, 도전해 봅니다.저는 다른 분이...', \"한참을 다시 생각하게 하는 영화「 퀸(Queen) 보헤미안 랩소디 」한 세대를 풍미했던 가수.. 감히 전설적인 밴드라고 말하고 싶은 '퀸(Queen)'에 대한 영화이다.우연찮게 시사회에 당첨이 되어 지금은 정식 개봉을 했지만 개봉 전 미...\", '보헤미안 랩소디 감독 브라이언 싱어 출연 라미 말렉, 루시 보인턴, 귈림 리, 벤 하디, 조셉 마젤로 개봉 2018.10.31. 미국, 영국 리뷰보기 누군가에게 정보를 알려 주기 위함이 아니라, 30살의 내가...', '지난 주 토요일에는 그룹 퀸을 다룬 『보헤미안 랩소디』를 보고 왔다. 퀸의 노래를 종종 유투브에서 듣는 터라 큰 기대 없이 그냥 단지 시간이 맞아서 보게 되었는데 기대 이상으로 마음의 뜨거운 울림이 있었다.노래방에서 노래할 기...', '브라이언 싱어의 퀸 전기영화. 사실 퀸보다는 프레디 머큐리의 전기영화에 더 가깝지 않나 싶을 정도로 프레디 머큐리에 초점이 맞춰져 있다. 퀸을 아주 좋아하는 편은 아니라 일일히 알지는 못하지만 몇 명의 사실왜곡이 좀 있다. 다큐아...', \"퀸의 음악을 한마디로 표현하라고 한다면 난 '아름답다'고 말하겠다.락 음악에서 멋있다, 시끄럽다, 죽여준다 뭐 이러한 단어들이 칭송을 의미하는 단어라고 한다면, 같은 락 음악이지만 퀸의 음악은 기존 락에서는 느끼기 어려운 세련되...\", '영화 보헤미안 랩소디 후기 프레디 머큐리 전설의 귀환오늘은 1973년 데뷔한 영국의 록 그룹 퀸의 일대기를 다룬 영화 보헤미안 랩소디를 소개할려고해요1986년생인 저는 솔직히 퀸의 시대에 태어난 사람이 아니라 정확히는 모르는면이 있...', '롯시월타 시사로 볼때도 노래마다 전율이 일고 눈물이 살짝 나긴 했는데 MX관에서 2차로 보니 라이브 에이드 공연에서 눈물이 나면서 엔딩 타이틀이 나올땐 눈물이 터져서 제대로 보지못하고 듣기만 했다 ㅠ그냥 무대 영상만 봤으면 이런...', \"나는 스타가 되지 않을 것이다. 전설이 될 것이다내가 이 영화를 보지 못했더라면 영국의 전설적인 그룹 '퀸(Queen)'에 대해서 알 수 있었을까?영화의 자막이 다 끝나고도 나는 자리에서 일어나고 싶지 않았다. 좀 더 그의 노래를 듣고 싶...\", \"보헤미안 랩소디 감독 브라이언 싱어 출연 라미 말렉, 루시 보인턴, 귈림 리, 벤 하디, 조셉 마젤로 개봉 2018.10.31. 미국, 영국 평점 리뷰보기 퀸의 세대가 아닌 나에게 'QUEE...\", '보헤미안 랩소디 감독 브라이언 싱어 출연 라미 말렉, 루시 보인턴, 귈림 리, 벤 하디, 조셉 마젤로 개봉 2018.10.31. 미국, 영국 평점 리뷰보기 드디어 보게 된 영화!예전에 ...', '보헤미안 랩소디 감독 브라이언 싱어 출연 라미 말렉, 루시 보인턴, 귈림 리, 벤 하디, 조셉 마젤로 개봉 2018.10.31. 미국, 영국 평점 리뷰보기 특별히 눈에 띄는 스토리도 갈등...', '보헤미안 랩소디 감독 브라이언 싱어 출연 라미 말렉, 루시 보인턴, 귈림 리, 벤 하디, 조셉 마젤로 개봉 2018.10.31. 미국, 영국 평점 리뷰보기 11월 23일 cgv울산삼산 디지털일...', \"'퀸', 위대한 남성그룹 전 세계를 휩쓴 노래들과 그들의 엄청난 매력이 담겨있죠. < 보헤미안 랩소디 > 상영하기 한참 전 예고편이 공개되었을때 사람들에게 엄청난 관심과 엄청난 예고편 조회수를 자랑했죠. 그리고 그렇게 상영이 ...\", '보헤미안 랩소디 감독 브라이언 싱어 출연 라미 말렉, 조셉 마젤로, 마이크 마이어스, 루시 보인턴 개봉 2018.10.31. 미국, 영국 평점 리뷰보기 80년대 영국을 넘어 세계적인 ...', '보헤미안 랩소디 감독 브라이언 싱어 출연 라미 말렉, 루시 보인턴, 귈림 리, 벤 하디, 조셉 마젤로 개봉 2018.10.31. 미국, 영국 평점 리뷰보기 퀸..1985년에 고1이었던 나에게...', '영화가 개봉되길 기다렸다. 전설적인 영국 록그룹 퀸 (QUEEN)의 영화「보헤미안 랩소디 (Bohemian Rapsody)」. 로저 테일러(Roger Taylor, 드럼), 브라이언 메이(Brian May, 기타), 존 디콘(John Deacon, 베이스)과 천재적인 작곡가 ...', '보헤미안 랩소디 감독 브라이언 싱어 출연 라미 말렉, 루시 보인턴, 귈림 리, 벤 하디, 조셉 마젤로 개봉 2018.10.31. 미국, 영국 리뷰보기 음악영화로서는 이례적으로 관객수가 600만을 넘은 <보...', '드뎌 봤다영화《 보헤미안 랩소디 》시대를 앞서가는 독창적인 음악과 화려한 퍼포먼스로 관중들을 사로잡는 락밴드 퀸의 이야기다감독 : 브라이언 싱어보컬 :프레리 머큐리기타 사운드 : 브라이언 메이드럼머 : 로저 테일러베이스 : 존 ...', '[2018. 11. 27 영화 리뷰]개봉 이후부터 쭉 보고 싶었던영화였는데 기회가 되서 봤습니다!퀸과 프레디 머큐리의 삶을 담은 영화<보헤미안 랩소디>사실 저는 퀸이나 프레디 머큐리에 대해자세히 알지 못하는데음악 영화를 좋아해서 ...', '[뮤아] 이렇게까지 열광하는 이유는 과연 무엇일까?! 한 사람의 인생으로 알아보는 영화 <보헤미안 랩소디> 안녕하세요 : )영화를 좋아하는 뮤아입니다!오늘은 문화뮤! 모드 ON! 이지요^^많은 이웃님들이저에게 꼭 보라고 추천한영...', '보헤미안 랩소디 감독 브라이언 싱어 출연 라미 말렉, 조셉 마젤로, 루시 보인턴, 벤 하디, ... 개봉 2018.10... 리뷰보기 아이들이 먼저 재미있게 보고 온 이 영화를 주말 마지막 남편과...', \"호진시네마의 No.1424번째 영화 <보헤미안 랩소디>. 10월 31일 개봉하여, 박스오피스 1위는 물론 현재까지 367만 관객을 동원하며 흥행에 성공한 작품.나는 밴드 '퀸'을 몰랐고, '프레디 머큐리'도 잘 몰랐기에,미루다가 워낙 평이 ...\", '보헤미안 랩소디 감독 브라이언 싱어 출연 라미 말렉, 루시 보인턴, 귈림 리, 벤 하디, 조셉... 개봉 2018.10.... 리뷰보기 <이 글은 의식의 흐름대로 작성되어 독해하기 어려...', '록은 좋아하지만 사실 시대는 한참 지나서 접해서 시류를 타보지는못했던지라 퀸도 곡들만 들어본 상태에서 봤습니다. 처음 인지하고접했던게 학창시절 너바나를 좋아하는 친구때문에 얼터너티브 록이니이미 메탈이나 정통락에서는 지난 ...', '보헤미안 랩소디정말 재미있다.지금껏 내가 본 실존 인물의 일대기를 그린 영화중 단연 으뜸이라 말 할 정도다.실존 인물의 일대기 영화를 딱히 재미있게 본 적이 별로 없어서 안보려고 했는데 어쩌다 보니 극장까지 가서 보게 되었음. 그...', '보헤미안 랩소디 프레디 머큐리의 삶에 집중! 보헤미안 랩소디 감독 브라이언 싱어 출연 라미 말렉, 루시 보인턴, 귈림 리, 벤 하디, 조셉 마젤로 개봉 2018.10.31. 미국, 영국 리뷰보기 장안의 화제...', '(이미지 출처=네이버 영화)[영화추천]영화 보헤미안 랩소디, 전설이 아닌 레전드(살짝 스포)\"음, 참 뭐라고 표현하기 힘든 전율이랄까?\"참고로 나는 퀸 세대는 아니다. 다만, 퀸의 노래는 어렸을 적부터 많이 들어왔기에 아는 것일 뿐.DJ...', '보헤미안 랩소디 감독 브라이언 싱어 출연 라미 말렉, 루시 보인턴, 귈림 리, 벤 하디, 조셉 마젤로 개봉 2018.10.31. 미국, 영국 평점 리뷰보기 커밍아웃이 등장한 영화중 이...', '보헤미안 랩소디 감독 브라이언 싱어 출연 라미 말렉, 루시 보인턴, 귈림 리, 벤 하디, 조셉 마젤로 개봉 2018.10.31. 미국, 영국 리뷰보기 [2018-209] 보헤미안 랩소디(스크린엑스버전) 2018년 12월 ...', \"프레디 머큐리의 인생과 이야기를 볼 수 있는 영화보헤미안 랩소디요즘 극장가에서 하반기 가장 뜨거운 영화가 어떤거냐고 물어본다면당연코 많은 사람들이 입맞추어 말할 영화'보헤미안 랩소디'보헤미안 랩소디는 퀸의 이야기와 프레디 ...\", '올해 최고의 화제작이라 꼽힐만한 보헤미안 랩소디를 거의 끝물에 드디어 관람 완료우.이 영화를 본 주변 사람들이 너나 없이 추천을 했다. 100%의 추천 확률은 아마 이 영화가 살면서 처음이지 않나 싶다. 그리고 그 찬사들은 진한 여운...', '보헤미안 랩소디 감독 브라이언 싱어 출연 라미 말렉, 루시 보인턴, 귈림 리, 벤 하디, 조셉 마젤로 개봉 2018.10.31. 미국, 영국 리뷰보기 2018년 대한민국 을 퀸의 음악세계 로 초대 하고...', '다른건 몰라....그냥 퀸은 내가 아는한도내에서는 아직까지 라이브의 끝판왕은 얘들임....개인적으로 퀸의 노래를 엄청 좋아하거나 최고의 가수로 꼽거나 하지는 않는다..다만 그들이 전설이 었다는데는 이견이 없다...작사작곡....이런...', '꼭 봐야할 아티스트의 음악가의 전기영화는 개인적으로,라비앙 로즈, 드림걸즈, 레이, 휘트니, 아마데우스, 불멸의 연인이다.모두가 인물의 전설스러운 신화가 다가오지만 줄거리와 구성이 탄탄하여 몰입도가 높다. (불멸의 연인은 단지 ...', '용산 아이파크 cgv screen x 보헤미안 랩소디 11월 2일 10시 45분 F열 3번, 4번좌석 앉은 검은 모자 쓴 남자 새끼들아 봐라. 늦게 들어와서 카톡하는 거 그거까지는 참을 수 있어 근데 새끼들아 옆자리 앉은 사람이 조용히 하라는데 주인...', '진실을 마주하는 사람이 되는 것은 힘들다.자기 자신을 있는 그대로 받아들일 수 있는 사람이 된다는 것은 힘들다.사람은 나약해서 혼자 우뚝 서있을 수가 없다.가족, 친구는 나의 존재가 있게 해준다. 죽음 앞에 서야 그 사실을 깨닫게 ...', '나는 76년생이다.퀸이라는 그룹에 대해 알게 된건 80년대 말, 90년대 초반 쯤인것 같다.그리고, 92년, 93년에 프레디 머큐리 추모공연을 학교 컴퓨터실에서 작은 TV에 비디오로 봤다. 그때의 전율이 아직도 잊히지 않는다.영화의 내용은 ...', '저녁은 부엉이돈가스 먹엇는데 여길 꼭 가봐야햇던 것은 아니고 이전부터 눈에 계속 걸렸고 내가 좋아하는 코바코의 적셔먹는 돈가스 같은 메뉴가 잇을 것만 같은 착각을 해서.. 영화 보헤미안 랩소디 보고 나와서 들럿는데 퀸 노래를 검...', '영화 자막이 다 올라갈때까지 자리를 뜰수 없었다.많은 사람들이 끝까지 자리를 지키고 있었다, 다들 무슨 생각을 하고 있는지.자리에서 일어나는데 다리가 후들거리네, 나오는 한숨뿐.사실 마지막부분에서는 눈물도 살짝, 펑펑 울고 싶...', '와 이 노래가 다 이 가수들이 부른거였어?하게끔 만드는 영화.몰입감 100% 집중력 극대화 되는 영화였다. 2시간이 그리 길게 느껴지지 않을 만큼 말이다.영화 보면서 화장실을 가는 사람이 단 한사람도 없었을 만큼 명작이었다.마지막 라...', \"[ 라이브 에이드(Live Aid)는 1985년 7월 13일에 개최된 대규모 공연으로 '밥 겔도프(Bob Geldof)'와 '밋지 유르(Midge Ure)'가 에티오피아 난민의 기아문제를 해결하기 위한 자금 마련을 목적으로 기획하였다. 일명 '범지구적 주크박스'...\", '혹시 퀀을 안좋아 하더라도 꼭 추천하고 싶은 영화!갠적으로 소장하고 싶을 정도로 좋았네요.음악 영화 별로 안좋아하는데(맘마미아를 지겹게 본 1인) 이건 아주 좋았네요.콘서트를 간것같은 느낌이랄까...스토리 있는 영화와 콘서트 두 ...', '영화 리뷰 - 보헤미안 랩소디 10월 31일.10월의 마지막 날이자 할로윈 데이 그리고 10월의 문화의 날.이날 영화를 보러갔고 마침 이날이 보헤미안 랩소디라는 영화의 개봉날이었습니다.무슨 영화인지도 잘 모른채 (그저 락 밴드에 관한 ...', '보헤미안 랩소디 감독 브라이언 싱어 출연 라미 말렉, 조셉 마젤로, 마이크 마이어스, 루시 보인턴 개봉 2018.10.31. 미국, 영국 평점 리뷰보기 안녕하세요 카오스입니다...', '보헤미안 랩소디 감독 브라이언 싱어 출연 라미 말렉, 조셉 마젤로, 마이크 마이어스, 루시 보인턴 개봉 2018.10.31. 미국, 영국 평점 리뷰보기 영국의 두 번째 여왕이라 불리는 전설적인 록 밴드 ‘...', '토요일 남은 업무 마무리하고 새벽에 혼자 영화관 갔다. 담주부터는 일정이 너무 가득차있어서 뭘 하고싶어도 할 수 없을게 분명할 것 같아서 일단 꼭 봐야지 생각했던 보헤미안 랩소디 영화를 무작정 예매하고 갔는데 너무 피곤하더라. ...', '가장 섬세했던 입술. 목에 핏대. 눈깜빡임. 3가지 만으로도, 연기를 완성 한것 같다. 복싱 결승전을 본것처럼, 손발에 땀이 나는 영화. 시작부터 재밌겠네~ 예상된 영화. (사실 어떤 영화인지 모르고, 평점이 9.6대라서 예매함) 마지막엔...', '보헤미안 랩소디 감독 브라이언 싱어 출연 라미 말렉, 조셉 마젤로, 마이크 마이어스, 루시 보인턴 개봉 2018.10.31. 미국, 영국 평점 리뷰보기 안녕하세요 라임펭귄입니다.오늘 ...', '감동...감동3번 보고 오늘 한번 더 보러갑니다. 주연배우에 너무 몰입해서 진짜 프레디를 보니 오히려 어색해버리는 아이러니 ㅋㅋ 넘 좋아요..꼭 보세요~~마지막 공연은 하루종일 보고싶은 장면이네여. 대신 컴으로 하루종일 퀸 음악 듣...', '[보헤미안 랩소디 IMAX] 퀸 노래로 소름 돋는 134분Bohemian Rhapsody, 2018 보헤미안 랩소디 감독 브라이언 싱어 출연 라미 말렉, 조셉 마젤로, 마이크 마이어스, 루시 보인턴 개봉 2018.10.31. 미국, 영국 ...', '우리 세대(50대 초반)는 퀸이 아주 익숙해서 정말 몰입해서 본 영화예요. 쇼쌩크 탈출 이후 내인생 두번 째 감동작 입니다.부들부들 떨면서 본 영화 입니다. 특히 마지막 공연은 실제 공연장에서 보는 듯한 착각을 하면서 보았습니다. 나...', '음알못퀸알못근데 노래는 아는게나와요시절을 그대로 보여주고그 세계의 가치관을 다보여줌.영화보시고 유투브에서 퀸을 검색해보면 정말 싱크로율 대박수준이아니라 그냥 그때그시절이에요.2018년에 1980년을 느낄수 있었어요.억지로 여...', '보헤미안 랩소디 감독 브라이언 싱어 출연 라미 말렉, 조셉 마젤로, 마이크 마이어스, 루시 보인턴 개봉 2018.10.31. 미국, 영국 평점 리뷰보기 올해 가장 기대했던 영화 보헤...', '영화를 본 시간은 2시간이었지만,영화의 기분은 2주이상 갈 것 같은 영화.어린 시절 밴드음악을 정말 좋아하던 시절이 있었다.그 때 퀸의 음악을 들었고, 퀸의 음악에 빠졌었다.하지만 그게 끝이었다.보헤미안 랩소디 라는 영화가 재밌다...', '처음 아이맥스로 혼자 영화를 보러 가서 푹 반하고가족들이랑 스크린x로 다시 보고 왔습니다.노래 한곡 나올때마다 온몸에 소름이 쫙 돋고, 정말 정말 정말 말이 안나올정도로 감탄만 나오고 넋나가는 영화에요.온몸이 들썩들썩 신나게 영...', '영화 보헤미안 랩소디전설적인 영국밴드 QUEEN퀸의 탄생과 레전드 공연 보헤미안 랩소디 감독 브라이언 싱어 출연 라미 말렉, 조셉 마젤로, 마이크 마이어스, 루시 보인턴 개봉 2018.10.31. 미국, 영국 평점 ...', 'Queen.프레디 머큐리.오로지 수능 성적만이 지상 최대 과제였던 그 당시 나는 가사조차 제대로 알아듣지 못하는 퀸의 ‘보헤미안 랩소디’를 셀 수도 없을 만큼 반복해서 들었고 꽤나 긴 시간동안 매일 밤 잠들기 전 그 노래를 들으며 잠...', '퀸을 처음 알게된 것은 중학교 때였다.당시 신해철의 고스트네이션을 즐겨 들었는데, 너무 늦은 새벽시간에 하는지라듣는 날 보다는 못 듣는 날이 훨씬 많았다.하루는 신해철이 보헤미안 랩소디를 들려주면서,그 당시에 이 노래를 만드는 ...', '백만년만에 두서없는 영화리뷰 한번 ...?보헤미안 랩소디 이제서야봤다....하하...개인적으로 다큐식의 영화는 그렇게 좋아하는편은 아니어서 스킵했는데평이 너무 좋아서... 퀸 잘 모르는데.. 그래도 마지막에서 다들 너무 좋다고 얼마나...', \"같은 세대, 같은 시대에 태어나지 않았지만, 오늘날 그들의 무대를 '영상으로나마' 볼 수 있다는 것은 큰 행운이지만, '영상으로 밖에' 볼 수 없다는 것은 불행이기도 할 것이다. '전설'이라 불리는 이들, 마이클 잭슨, 밥 딜런, 엘비스 ...\", '보헤미안 랩소디 감독 브라이언 싱어 출연 라미 말렉, 조셉 마젤로, 마이크 마이어스, 루시 보인턴 개봉 2018.10.31. 미국, 영국 평점 리뷰보기 개봉일인 오늘만을 손꼽아 기다렸...', '젊은 시절 락밴드 퀸을 모르고 지난간 학창시절이 후회됩니다.이영화는 흐르는 음악을 듣는 것 만으로도 평점 8은 줄수 있겠네요.거기에 주인공 프레디머큐리의 드라마 같은 인생다큐를 더해서 평점 10입니다.기억을 더듬어 생각나는 장면...', '특별히 눈에 띄는 스토리도 갈등도 클라이막스도 없는 스토리만 보면 잔잔한 영화. 퀸을 잘 모르는 사람(퀸은 몰라도 퀸의 노래는 누구나 한번쯤 다 들어봤을것이다.)이나 퀸을 싫어하는 사람(좋아하거나 열광하지는 않아도 퀸을 싫어하는...']\n"
     ]
    }
   ],
   "source": [
    "print(result_list)"
   ]
  },
  {
   "cell_type": "code",
   "execution_count": 70,
   "metadata": {},
   "outputs": [
    {
     "name": "stdout",
     "output_type": "stream",
     "text": [
      "1  :  영화 보헤미안 랩소디를 아이맥스 스크린을 통해 관람했다. 실제 콘서트 현장에 있는 듯한 기분이 들 정도로 생생한 분위기와 현장감을 담은 공연 장면의 열기가 아이맥스 스크린을 통해서 더욱 극대화되는 느낌이 들었다.음악의 꿈을 ...\n",
      "2  :  이 영화 - 퀸 = 0퀸이 아니었다면 볼 리도 없었겠지만 퀸이라 봤다. 퀸이니까. 게다가 나름 네임류 감독이기에 평타만 치자. 평타만 치자 바랐다.이 영화(보헤미안 랩소디) - 퀸 = 0이었다.이 영화의 포커스는 무엇인가.퀸이라는 그룹에 ...\n",
      "3  :  이 영화를 보기 전, 기대치를 최대한 낮추었다. \"이 영화는 분명히 형편없을 거야!\"라는 혼잣말을 갈릴레오 갈릴레오처럼 수도 없이 되뇌었다. 사실 영화의 퀄리티가 진짜 객관적으로 형편없을 거라는 예상은 아니었다. 오히려 브라이...\n",
      "4  :  영화 보헤미안 랩소디 후기, 프레디모큐리와 퀸에 관련한 실화.. 퀸을 좋아하시는 분들이라면 열광적으로 좋아할만한 영화입니다. ☆ 프롤로그 완벽한 타인을 보고 포스팅 했는데 이랬다 저랬다 하는 분들이 너무 많으신데요.지극...\n",
      "5  :  프레디 삼촌. 절대 저 모습이 아니었어.85년 Live Aid공연 모습인듯 한데 난닝구와 청바지 삼선 아디다스 운동화 차림에 오른팔 상박 팔찌는제대로 흉내내었지만 너무 달라. 너무 빈해 보여...........초등학교 입학때부터 대학졸업까지...\n",
      "6  :  안녕하세요. 케이론입니다!오늘 리뷰할 영화는보헤미안 랩소디입니다.지극히 개인적인 몇 줄 평피곤한 몸을 이끌고상영 시간이 가까운 영화를 택했다.그 어떤 줄거리나 정보도 없이 예매한 영화가<보헤미안 랩소디>란 사실에 감사...\n",
      "7  :  프레디머큐리를 낮게 평가한 저질 상업 영화다.음악에 대한 열정과 완벽한 음악을 만들기 위한 노력을 제대로 표현하지 않았으며, 최고의 라이브를 위해, 관객과 호응하기 위해 어떤 노력을 했는지도 없다. 이란계 외국인으로서 받는 차...\n",
      "8  :  queen bohemian rhapsody과연영화에서 이명곡을 어떻게 부를것인가 느낌은 결말부분에 나올꺼같은데 기대된다 하아 이런명곡부를가수가 있을까 기대하는분은 공감 queen bohemian rhapsody queen bohemian rhapsody queen bohemian rhap...\n",
      "9  :  원문 : http://chungawedding.co.kr/221429804212이 영화에 스포일러라는게 존재할까?결론은 모두가 아는것이고, #퀸 의 노래 역시 퀸을 몰라도 어디서 한번쯤은 들어본 음악일테니...영화의 주제와 이야기는 정해져 있고, 그렇다면 아직...\n",
      "10  :  내가 퀸Queen 에 빠지게 된 계기가 바로 이 보헤미안랩소디 때문이었다.이 곡을 처음 들었을 때 다른 그 어떤 팝송명곡에서도 접해본 적이 없던 그 충격은 지금도 잊혀지지 않는다.락(Rock) 과 클래식(Classic), 오페라(opera) 등 전혀 서...\n",
      "11  :  퀸(Queen) TOP 10 Songs 퀸 (Queen)은 1971년 런던에서 결성된 영국 록 밴드입니다. 천체물리학과를 다니던 브라이언 메이(기타, 보컬)를 중심으로치대생 로저 테일러(드럼, 고음)가 합류해서 \"SMILE\"이 1968년 결성되었고, 밴드의 ...\n",
      "12  :  나에게 퀸의 음악은 사실.. 그렇게 와 닫는 음악들이 아니였다.내가 퀸을 처음 알게 된건...보컬 프레디 머큐리가 동성애자고 에이즈로 죽었다는 중학생이던 시절 (막 고등학교 올라가기 직전) 의기억이 다였고...좀 더 크면서 노래의 깊...\n",
      "13  :  좀 일찍 예매 할려고 했는데 매진이라 다음 시간때 예매를 하고 볼려고 극장에 갔는데..야~ 이게 10월에 개봉했던 영화가 맞나 싶을 정도로 사람이 많더라..상영시간이 2시간이 넘었는데 시간 가는줄 모르고 봤다.. 역시 이런 영화는 극...\n",
      "14  :  영화 <보헤미안 랩소디>는 한 남자의 일대기가 아니다. 그렇다고 밴드의 역사를 다루지도 않는다. 물론 어느 정도 그들의 삶이 스며들어 있고, 그들이 느꼈던 감정, 그리고 음악이 묻어 있기는 하지만 그것만으로는 부족하다. 134...\n",
      "15  :  your Majesty, the World will Love U Forever- 보헤미안 랩소디 감독 브라이언 싱어 출연 라미 말렉, 조셉 마젤로, 마이크 마이어스, 루시 보인턴 개봉 2018.10.31. 미국, 영국 리뷰보기 ...\n",
      "16  :  <보헤미안 랩소디, 2018> #ScreenX 영화같은 인생을 살고 떠났던레전드의 인생을 다시 영화로. 비틀즈에 이어 제 2의 브리티시 인베이전.80년대 전설적인 영국의 락 그룹 'Que...\n",
      "17  :  전설의 밴드, 퀸(Queen)의 주옥같은 명곡, 강렬한 퍼모먼스가 생동하는 라이브 공연을 보고 왔다.자신이 양성애자임을 깨닫고 커밍아웃하자 \"당신 잘못이 아니라서 더 슬퍼요\" 라며 울먹이는 여친. 그녀의 아버지도 청각장애인이라서 머큐...\n",
      "18  :  Bohemian Rhapsody , 2018<보헤미안 랩소디>는 제작 단계 때부터 탈이 많았던 영화다. 연출을 맡은 '브라이언 싱어'가 성폭행 혐의로 해고되어 다른 감독으로 교체되었기 때문인데, 브라이언 싱어에게 이는 처음 있는 일이 아니다....\n",
      "19  :  본 영화의 개봉 사실이 알려지고 국내외 수많은 퀸 팬, 음악 팬들은 생각했을 것이다.\"긴 세월의 퀸 역사를 어떻게 담을까?\"\"위대한 퍼모머 프레디 머큐리를 재현할 수 있을까?\"본인 또한 오랜시간 퀸의 팬이었고 이 영화가 제작에 들어간...\n",
      "20  :  브라이언 싱어 감독 / 134분 / 12세 관람가라미 말렉, 조셉 마젤로, 마이크 마이어스, 루시 보인턴..전문가 평점: 로튼토마토 지수 57%(평점: 6/10), 메타스코어 49점, 11월 1일 기준관객 평점: 로튼팝콘 지수 N/A, 메타유저스코어 N/A, 1...\n",
      "21  :  보헤미안 랩소디 Bohemian Rhapsody브라이언 싱어 2018죽기 직전에 듣고 싶은 노래 죽기 전에 이런 질문을 받을 수 있기는 할런지도 잘 모르겠지만, 그럼에도 미리 답을 준비하고 있는 질문이 하나 있다. “당신이 죽기 직전에 듣고 싶은 ...\n",
      "22  :  작년에 한참 Queen이 역주행을 했지요.... ^^개인적으로 너무 좋아하던 프레디의 목소리.....그런데 '보헤미안 랩소디' 그 이전에 Queen 음악으로 가득찬 영화가 사실 2편 더 있어요.....두편 다 볼만한 영화들이니 한번 기회 되실 때 보...\n",
      "23  :  영화 보헤미안랩소디 결말은? 퀸의 음악은 영원하다!퀸이 어떤 그룹인지는 몰라도 평생 퀸의 음악은 한번쯤은 들어보셨을... 보헤미안 랩소디 감독 브라이언 싱어 출연 라미 말렉, 조셉 마젤로, 마이크 마이어스, 루시 ...\n",
      "24  :  심장이 뛴다.천재들이 만든 그룹 퀸무조건 본다.무조건 소장한다...................................................................................................................................................................\n",
      "25  :  동성애 장면에 평을 보면 굳이 저런 장면이 필요한가를 불만으로 갖는 관람객들이 많았다 그러나 난 동성애 장면이 나쁘지 않았다고 생각한다이 동성애 장면은 남자둘의 키스신이 매우 진하게 연출된걸 말한다 이장면에서나는 갑자기 게...\n",
      "26  :  예고편이나 포스터만 봐도아 이건 퀸의 일대기를 담은 영화겠구나.라는 생각은 빡대가리가 아닌 이상 누구나 할 수 있는 생각이고,이 영화의 제목을 보아도 아 이건 퀸이랑 관련된 영화겠구나 라는 생각은진짜 똥대가리가 아닌 이상 누구...\n",
      "27  :  우선 결론부터 말하자면 잘만든 영화입니다.영화보고 몸에 전율이 느껴지고 울컥한건 정말 오랜만었어요.보헤미안 랩소디를 제외하면, 최근에 '극장'가서 본 영화는 '더 넌' 하나뿐인데 이건 진짜 재미없게 봐서 보헤미안 랩소디가 정말 ...\n",
      "28  :  와 신난다. 와 대단하다. 와 멋지다.퀸은 역시 전설이야-. 역시 프레디.그런데, 난7만여 명의 관객, 7월 13일, 1985년, 웸블리스타디움의 공연 장면보다한적한 곳, 주체할 수 없는 영감을 감당할 수 없어 심장 쿵쾅, 눈동자 흔들 하며 피...\n",
      "29  :  솔직히 내가 아는 퀸의 노래는 보헤미안 랩소디, I was born to love you 정도였고프레디 머큐리가 양성애자 였다는 정도였다근데 영화를 보면서 느낀 건 알게 모르게 내가 들어온 퀸노래가 굉장히 많았고그로 인해 나도 영향을 많이 받았...\n",
      "30  :  보헤미안 랩소디 감독 브라이언 싱어 출연 라미 말렉, 조셉 마젤로, 마이크 마이어스, 루시 보인턴 개봉 2018.10.31. 미국, 영국 평점 리뷰보기 오랜만에 영화관. 심야영화로 보...\n",
      "31  :  전설의 귀환보헤미안 랩소디와... 어제 영화 '보헤미안 랩소디' 보고 퀸의 매력에 제대로 빠져버렸다.노래, 배우, 연출 모든 게 완벽했던 영화! 심지어 나의 영화 기대작 리스트에도 없었던 음악 영화였는데 와... 아직도 그 여운이 가시...\n",
      "32  :  * 영화관에 아이들은 대리고 오지 맙시다 ^^ (왜 하필 내 뒷자리임?)* 특히 커플은 옆사람 끼리 대화하고 소리내어 웃지 맙시다 ^^ * 맨발로 다리꼬고 이상한 자세로 옆사람에게 불편함을 주지 맙시다 ^^ * 특히나 이런 뮤직컬류와 같은 ...\n",
      "33  :  보헤미안 랩소디, 프레디 머큐리역을 제대로 소화한 라미 말렉개봉일 : 2018. 10. 31관람일 : 2018. 10. 31감독 : 브라이언 싱어지난 달 중순에 음악 영화스타 이즈 본을 강추했었는데,불과 한 달도 안 되어서또 한 편의 영화를 강추하게 ...\n",
      "34  :  퇴근 후, 영화를 한 편 보았다. 영화는 퀸 리드싱어 프레디 머큐리의 이야기에 퀸의 명곡들로 2시간을 꽉꽉 채운 '보헤미안 랩소디'. 사실 금요일이 아니면 평일 저녁엔 영화를 잘 보지 않지만VIP시사회에 스크린X로 당첨된 덕에 죽전역 C...\n",
      "35  :  보헤미안 랩소디오랜만에 영화다운 영화를 영화관에서 관람했다.엄마랑 영화 본 지가 언제인지 기억도 안 나는 못난 딸이라이 영화만큼은 엄마랑 같이 보고 싶어서 짝꿍이랑 셋이 함께-얼마 전 생일이라고 CGV 콤보를 무료로 주네팝콘 반...\n",
      "36  :  프레디 머큐리를 알고 보니 더 감동적인 퀸 뮤직!- 수십년 전 영혼을 흔들었던 퀸의 뮤직의 탄생과정과 프레디 머큐리 개인에 대한 열정적인 스토리가 퀸의 레전드 음악과 어우러져 최고의 감동을 느낄 수 있다. 마지막 20분은 정말 자리...\n",
      "37  :  프레디 머큐리의 보헤미안 랩소디에 대해서,동성애자로 변해가는 모습을 담았다고 한 제 해석에 대해서 많은 수의 댓글들이 달렸네요.댓글을 올려 주신 분 중에서 킬러퀸도 해석해 주실 수 있느냐고 하셔서, 도전해 봅니다.저는 다른 분이...\n",
      "38  :  한참을 다시 생각하게 하는 영화「 퀸(Queen) 보헤미안 랩소디 」한 세대를 풍미했던 가수.. 감히 전설적인 밴드라고 말하고 싶은 '퀸(Queen)'에 대한 영화이다.우연찮게 시사회에 당첨이 되어 지금은 정식 개봉을 했지만 개봉 전 미...\n",
      "39  :  보헤미안 랩소디 감독 브라이언 싱어 출연 라미 말렉, 루시 보인턴, 귈림 리, 벤 하디, 조셉 마젤로 개봉 2018.10.31. 미국, 영국 리뷰보기 누군가에게 정보를 알려 주기 위함이 아니라, 30살의 내가...\n",
      "40  :  지난 주 토요일에는 그룹 퀸을 다룬 『보헤미안 랩소디』를 보고 왔다. 퀸의 노래를 종종 유투브에서 듣는 터라 큰 기대 없이 그냥 단지 시간이 맞아서 보게 되었는데 기대 이상으로 마음의 뜨거운 울림이 있었다.노래방에서 노래할 기...\n",
      "41  :  브라이언 싱어의 퀸 전기영화. 사실 퀸보다는 프레디 머큐리의 전기영화에 더 가깝지 않나 싶을 정도로 프레디 머큐리에 초점이 맞춰져 있다. 퀸을 아주 좋아하는 편은 아니라 일일히 알지는 못하지만 몇 명의 사실왜곡이 좀 있다. 다큐아...\n",
      "42  :  퀸의 음악을 한마디로 표현하라고 한다면 난 '아름답다'고 말하겠다.락 음악에서 멋있다, 시끄럽다, 죽여준다 뭐 이러한 단어들이 칭송을 의미하는 단어라고 한다면, 같은 락 음악이지만 퀸의 음악은 기존 락에서는 느끼기 어려운 세련되...\n",
      "43  :  영화 보헤미안 랩소디 후기 프레디 머큐리 전설의 귀환오늘은 1973년 데뷔한 영국의 록 그룹 퀸의 일대기를 다룬 영화 보헤미안 랩소디를 소개할려고해요1986년생인 저는 솔직히 퀸의 시대에 태어난 사람이 아니라 정확히는 모르는면이 있...\n",
      "44  :  롯시월타 시사로 볼때도 노래마다 전율이 일고 눈물이 살짝 나긴 했는데 MX관에서 2차로 보니 라이브 에이드 공연에서 눈물이 나면서 엔딩 타이틀이 나올땐 눈물이 터져서 제대로 보지못하고 듣기만 했다 ㅠ그냥 무대 영상만 봤으면 이런...\n",
      "45  :  나는 스타가 되지 않을 것이다. 전설이 될 것이다내가 이 영화를 보지 못했더라면 영국의 전설적인 그룹 '퀸(Queen)'에 대해서 알 수 있었을까?영화의 자막이 다 끝나고도 나는 자리에서 일어나고 싶지 않았다. 좀 더 그의 노래를 듣고 싶...\n",
      "46  :  보헤미안 랩소디 감독 브라이언 싱어 출연 라미 말렉, 루시 보인턴, 귈림 리, 벤 하디, 조셉 마젤로 개봉 2018.10.31. 미국, 영국 평점 리뷰보기 퀸의 세대가 아닌 나에게 'QUEE...\n",
      "47  :  보헤미안 랩소디 감독 브라이언 싱어 출연 라미 말렉, 루시 보인턴, 귈림 리, 벤 하디, 조셉 마젤로 개봉 2018.10.31. 미국, 영국 평점 리뷰보기 드디어 보게 된 영화!예전에 ...\n",
      "48  :  보헤미안 랩소디 감독 브라이언 싱어 출연 라미 말렉, 루시 보인턴, 귈림 리, 벤 하디, 조셉 마젤로 개봉 2018.10.31. 미국, 영국 평점 리뷰보기 특별히 눈에 띄는 스토리도 갈등...\n",
      "49  :  보헤미안 랩소디 감독 브라이언 싱어 출연 라미 말렉, 루시 보인턴, 귈림 리, 벤 하디, 조셉 마젤로 개봉 2018.10.31. 미국, 영국 평점 리뷰보기 11월 23일 cgv울산삼산 디지털일...\n",
      "50  :  '퀸', 위대한 남성그룹 전 세계를 휩쓴 노래들과 그들의 엄청난 매력이 담겨있죠. < 보헤미안 랩소디 > 상영하기 한참 전 예고편이 공개되었을때 사람들에게 엄청난 관심과 엄청난 예고편 조회수를 자랑했죠. 그리고 그렇게 상영이 ...\n",
      "51  :  보헤미안 랩소디 감독 브라이언 싱어 출연 라미 말렉, 조셉 마젤로, 마이크 마이어스, 루시 보인턴 개봉 2018.10.31. 미국, 영국 평점 리뷰보기 80년대 영국을 넘어 세계적인 ...\n",
      "52  :  보헤미안 랩소디 감독 브라이언 싱어 출연 라미 말렉, 루시 보인턴, 귈림 리, 벤 하디, 조셉 마젤로 개봉 2018.10.31. 미국, 영국 평점 리뷰보기 퀸..1985년에 고1이었던 나에게...\n",
      "53  :  영화가 개봉되길 기다렸다. 전설적인 영국 록그룹 퀸 (QUEEN)의 영화「보헤미안 랩소디 (Bohemian Rapsody)」. 로저 테일러(Roger Taylor, 드럼), 브라이언 메이(Brian May, 기타), 존 디콘(John Deacon, 베이스)과 천재적인 작곡가 ...\n",
      "54  :  보헤미안 랩소디 감독 브라이언 싱어 출연 라미 말렉, 루시 보인턴, 귈림 리, 벤 하디, 조셉 마젤로 개봉 2018.10.31. 미국, 영국 리뷰보기 음악영화로서는 이례적으로 관객수가 600만을 넘은 <보...\n",
      "55  :  드뎌 봤다영화《 보헤미안 랩소디 》시대를 앞서가는 독창적인 음악과 화려한 퍼포먼스로 관중들을 사로잡는 락밴드 퀸의 이야기다감독 : 브라이언 싱어보컬 :프레리 머큐리기타 사운드 : 브라이언 메이드럼머 : 로저 테일러베이스 : 존 ...\n",
      "56  :  [2018. 11. 27 영화 리뷰]개봉 이후부터 쭉 보고 싶었던영화였는데 기회가 되서 봤습니다!퀸과 프레디 머큐리의 삶을 담은 영화<보헤미안 랩소디>사실 저는 퀸이나 프레디 머큐리에 대해자세히 알지 못하는데음악 영화를 좋아해서 ...\n",
      "57  :  [뮤아] 이렇게까지 열광하는 이유는 과연 무엇일까?! 한 사람의 인생으로 알아보는 영화 <보헤미안 랩소디> 안녕하세요 : )영화를 좋아하는 뮤아입니다!오늘은 문화뮤! 모드 ON! 이지요^^많은 이웃님들이저에게 꼭 보라고 추천한영...\n",
      "58  :  보헤미안 랩소디 감독 브라이언 싱어 출연 라미 말렉, 조셉 마젤로, 루시 보인턴, 벤 하디, ... 개봉 2018.10... 리뷰보기 아이들이 먼저 재미있게 보고 온 이 영화를 주말 마지막 남편과...\n",
      "59  :  호진시네마의 No.1424번째 영화 <보헤미안 랩소디>. 10월 31일 개봉하여, 박스오피스 1위는 물론 현재까지 367만 관객을 동원하며 흥행에 성공한 작품.나는 밴드 '퀸'을 몰랐고, '프레디 머큐리'도 잘 몰랐기에,미루다가 워낙 평이 ...\n",
      "60  :  보헤미안 랩소디 감독 브라이언 싱어 출연 라미 말렉, 루시 보인턴, 귈림 리, 벤 하디, 조셉... 개봉 2018.10.... 리뷰보기 <이 글은 의식의 흐름대로 작성되어 독해하기 어려...\n",
      "61  :  록은 좋아하지만 사실 시대는 한참 지나서 접해서 시류를 타보지는못했던지라 퀸도 곡들만 들어본 상태에서 봤습니다. 처음 인지하고접했던게 학창시절 너바나를 좋아하는 친구때문에 얼터너티브 록이니이미 메탈이나 정통락에서는 지난 ...\n",
      "62  :  보헤미안 랩소디정말 재미있다.지금껏 내가 본 실존 인물의 일대기를 그린 영화중 단연 으뜸이라 말 할 정도다.실존 인물의 일대기 영화를 딱히 재미있게 본 적이 별로 없어서 안보려고 했는데 어쩌다 보니 극장까지 가서 보게 되었음. 그...\n",
      "63  :  보헤미안 랩소디 프레디 머큐리의 삶에 집중! 보헤미안 랩소디 감독 브라이언 싱어 출연 라미 말렉, 루시 보인턴, 귈림 리, 벤 하디, 조셉 마젤로 개봉 2018.10.31. 미국, 영국 리뷰보기 장안의 화제...\n",
      "64  :  (이미지 출처=네이버 영화)[영화추천]영화 보헤미안 랩소디, 전설이 아닌 레전드(살짝 스포)\"음, 참 뭐라고 표현하기 힘든 전율이랄까?\"참고로 나는 퀸 세대는 아니다. 다만, 퀸의 노래는 어렸을 적부터 많이 들어왔기에 아는 것일 뿐.DJ...\n",
      "65  :  보헤미안 랩소디 감독 브라이언 싱어 출연 라미 말렉, 루시 보인턴, 귈림 리, 벤 하디, 조셉 마젤로 개봉 2018.10.31. 미국, 영국 평점 리뷰보기 커밍아웃이 등장한 영화중 이...\n",
      "66  :  보헤미안 랩소디 감독 브라이언 싱어 출연 라미 말렉, 루시 보인턴, 귈림 리, 벤 하디, 조셉 마젤로 개봉 2018.10.31. 미국, 영국 리뷰보기 [2018-209] 보헤미안 랩소디(스크린엑스버전) 2018년 12월 ...\n",
      "67  :  프레디 머큐리의 인생과 이야기를 볼 수 있는 영화보헤미안 랩소디요즘 극장가에서 하반기 가장 뜨거운 영화가 어떤거냐고 물어본다면당연코 많은 사람들이 입맞추어 말할 영화'보헤미안 랩소디'보헤미안 랩소디는 퀸의 이야기와 프레디 ...\n",
      "68  :  올해 최고의 화제작이라 꼽힐만한 보헤미안 랩소디를 거의 끝물에 드디어 관람 완료우.이 영화를 본 주변 사람들이 너나 없이 추천을 했다. 100%의 추천 확률은 아마 이 영화가 살면서 처음이지 않나 싶다. 그리고 그 찬사들은 진한 여운...\n",
      "69  :  보헤미안 랩소디 감독 브라이언 싱어 출연 라미 말렉, 루시 보인턴, 귈림 리, 벤 하디, 조셉 마젤로 개봉 2018.10.31. 미국, 영국 리뷰보기 2018년 대한민국 을 퀸의 음악세계 로 초대 하고...\n",
      "70  :  다른건 몰라....그냥 퀸은 내가 아는한도내에서는 아직까지 라이브의 끝판왕은 얘들임....개인적으로 퀸의 노래를 엄청 좋아하거나 최고의 가수로 꼽거나 하지는 않는다..다만 그들이 전설이 었다는데는 이견이 없다...작사작곡....이런...\n",
      "71  :  꼭 봐야할 아티스트의 음악가의 전기영화는 개인적으로,라비앙 로즈, 드림걸즈, 레이, 휘트니, 아마데우스, 불멸의 연인이다.모두가 인물의 전설스러운 신화가 다가오지만 줄거리와 구성이 탄탄하여 몰입도가 높다. (불멸의 연인은 단지 ...\n",
      "72  :  용산 아이파크 cgv screen x 보헤미안 랩소디 11월 2일 10시 45분 F열 3번, 4번좌석 앉은 검은 모자 쓴 남자 새끼들아 봐라. 늦게 들어와서 카톡하는 거 그거까지는 참을 수 있어 근데 새끼들아 옆자리 앉은 사람이 조용히 하라는데 주인...\n",
      "73  :  진실을 마주하는 사람이 되는 것은 힘들다.자기 자신을 있는 그대로 받아들일 수 있는 사람이 된다는 것은 힘들다.사람은 나약해서 혼자 우뚝 서있을 수가 없다.가족, 친구는 나의 존재가 있게 해준다. 죽음 앞에 서야 그 사실을 깨닫게 ...\n",
      "74  :  나는 76년생이다.퀸이라는 그룹에 대해 알게 된건 80년대 말, 90년대 초반 쯤인것 같다.그리고, 92년, 93년에 프레디 머큐리 추모공연을 학교 컴퓨터실에서 작은 TV에 비디오로 봤다. 그때의 전율이 아직도 잊히지 않는다.영화의 내용은 ...\n",
      "75  :  저녁은 부엉이돈가스 먹엇는데 여길 꼭 가봐야햇던 것은 아니고 이전부터 눈에 계속 걸렸고 내가 좋아하는 코바코의 적셔먹는 돈가스 같은 메뉴가 잇을 것만 같은 착각을 해서.. 영화 보헤미안 랩소디 보고 나와서 들럿는데 퀸 노래를 검...\n",
      "76  :  영화 자막이 다 올라갈때까지 자리를 뜰수 없었다.많은 사람들이 끝까지 자리를 지키고 있었다, 다들 무슨 생각을 하고 있는지.자리에서 일어나는데 다리가 후들거리네, 나오는 한숨뿐.사실 마지막부분에서는 눈물도 살짝, 펑펑 울고 싶...\n",
      "77  :  와 이 노래가 다 이 가수들이 부른거였어?하게끔 만드는 영화.몰입감 100% 집중력 극대화 되는 영화였다. 2시간이 그리 길게 느껴지지 않을 만큼 말이다.영화 보면서 화장실을 가는 사람이 단 한사람도 없었을 만큼 명작이었다.마지막 라...\n",
      "78  :  [ 라이브 에이드(Live Aid)는 1985년 7월 13일에 개최된 대규모 공연으로 '밥 겔도프(Bob Geldof)'와 '밋지 유르(Midge Ure)'가 에티오피아 난민의 기아문제를 해결하기 위한 자금 마련을 목적으로 기획하였다. 일명 '범지구적 주크박스'...\n",
      "79  :  혹시 퀀을 안좋아 하더라도 꼭 추천하고 싶은 영화!갠적으로 소장하고 싶을 정도로 좋았네요.음악 영화 별로 안좋아하는데(맘마미아를 지겹게 본 1인) 이건 아주 좋았네요.콘서트를 간것같은 느낌이랄까...스토리 있는 영화와 콘서트 두 ...\n",
      "80  :  영화 리뷰 - 보헤미안 랩소디 10월 31일.10월의 마지막 날이자 할로윈 데이 그리고 10월의 문화의 날.이날 영화를 보러갔고 마침 이날이 보헤미안 랩소디라는 영화의 개봉날이었습니다.무슨 영화인지도 잘 모른채 (그저 락 밴드에 관한 ...\n",
      "81  :  보헤미안 랩소디 감독 브라이언 싱어 출연 라미 말렉, 조셉 마젤로, 마이크 마이어스, 루시 보인턴 개봉 2018.10.31. 미국, 영국 평점 리뷰보기 안녕하세요 카오스입니다...\n",
      "82  :  보헤미안 랩소디 감독 브라이언 싱어 출연 라미 말렉, 조셉 마젤로, 마이크 마이어스, 루시 보인턴 개봉 2018.10.31. 미국, 영국 평점 리뷰보기 영국의 두 번째 여왕이라 불리는 전설적인 록 밴드 ‘...\n",
      "83  :  토요일 남은 업무 마무리하고 새벽에 혼자 영화관 갔다. 담주부터는 일정이 너무 가득차있어서 뭘 하고싶어도 할 수 없을게 분명할 것 같아서 일단 꼭 봐야지 생각했던 보헤미안 랩소디 영화를 무작정 예매하고 갔는데 너무 피곤하더라. ...\n",
      "84  :  가장 섬세했던 입술. 목에 핏대. 눈깜빡임. 3가지 만으로도, 연기를 완성 한것 같다. 복싱 결승전을 본것처럼, 손발에 땀이 나는 영화. 시작부터 재밌겠네~ 예상된 영화. (사실 어떤 영화인지 모르고, 평점이 9.6대라서 예매함) 마지막엔...\n",
      "85  :  보헤미안 랩소디 감독 브라이언 싱어 출연 라미 말렉, 조셉 마젤로, 마이크 마이어스, 루시 보인턴 개봉 2018.10.31. 미국, 영국 평점 리뷰보기 안녕하세요 라임펭귄입니다.오늘 ...\n",
      "86  :  감동...감동3번 보고 오늘 한번 더 보러갑니다. 주연배우에 너무 몰입해서 진짜 프레디를 보니 오히려 어색해버리는 아이러니 ㅋㅋ 넘 좋아요..꼭 보세요~~마지막 공연은 하루종일 보고싶은 장면이네여. 대신 컴으로 하루종일 퀸 음악 듣...\n",
      "87  :  [보헤미안 랩소디 IMAX] 퀸 노래로 소름 돋는 134분Bohemian Rhapsody, 2018 보헤미안 랩소디 감독 브라이언 싱어 출연 라미 말렉, 조셉 마젤로, 마이크 마이어스, 루시 보인턴 개봉 2018.10.31. 미국, 영국 ...\n",
      "88  :  우리 세대(50대 초반)는 퀸이 아주 익숙해서 정말 몰입해서 본 영화예요. 쇼쌩크 탈출 이후 내인생 두번 째 감동작 입니다.부들부들 떨면서 본 영화 입니다. 특히 마지막 공연은 실제 공연장에서 보는 듯한 착각을 하면서 보았습니다. 나...\n",
      "89  :  음알못퀸알못근데 노래는 아는게나와요시절을 그대로 보여주고그 세계의 가치관을 다보여줌.영화보시고 유투브에서 퀸을 검색해보면 정말 싱크로율 대박수준이아니라 그냥 그때그시절이에요.2018년에 1980년을 느낄수 있었어요.억지로 여...\n",
      "90  :  보헤미안 랩소디 감독 브라이언 싱어 출연 라미 말렉, 조셉 마젤로, 마이크 마이어스, 루시 보인턴 개봉 2018.10.31. 미국, 영국 평점 리뷰보기 올해 가장 기대했던 영화 보헤...\n",
      "91  :  영화를 본 시간은 2시간이었지만,영화의 기분은 2주이상 갈 것 같은 영화.어린 시절 밴드음악을 정말 좋아하던 시절이 있었다.그 때 퀸의 음악을 들었고, 퀸의 음악에 빠졌었다.하지만 그게 끝이었다.보헤미안 랩소디 라는 영화가 재밌다...\n",
      "92  :  처음 아이맥스로 혼자 영화를 보러 가서 푹 반하고가족들이랑 스크린x로 다시 보고 왔습니다.노래 한곡 나올때마다 온몸에 소름이 쫙 돋고, 정말 정말 정말 말이 안나올정도로 감탄만 나오고 넋나가는 영화에요.온몸이 들썩들썩 신나게 영...\n",
      "93  :  영화 보헤미안 랩소디전설적인 영국밴드 QUEEN퀸의 탄생과 레전드 공연 보헤미안 랩소디 감독 브라이언 싱어 출연 라미 말렉, 조셉 마젤로, 마이크 마이어스, 루시 보인턴 개봉 2018.10.31. 미국, 영국 평점 ...\n",
      "94  :  Queen.프레디 머큐리.오로지 수능 성적만이 지상 최대 과제였던 그 당시 나는 가사조차 제대로 알아듣지 못하는 퀸의 ‘보헤미안 랩소디’를 셀 수도 없을 만큼 반복해서 들었고 꽤나 긴 시간동안 매일 밤 잠들기 전 그 노래를 들으며 잠...\n",
      "95  :  퀸을 처음 알게된 것은 중학교 때였다.당시 신해철의 고스트네이션을 즐겨 들었는데, 너무 늦은 새벽시간에 하는지라듣는 날 보다는 못 듣는 날이 훨씬 많았다.하루는 신해철이 보헤미안 랩소디를 들려주면서,그 당시에 이 노래를 만드는 ...\n",
      "96  :  백만년만에 두서없는 영화리뷰 한번 ...?보헤미안 랩소디 이제서야봤다....하하...개인적으로 다큐식의 영화는 그렇게 좋아하는편은 아니어서 스킵했는데평이 너무 좋아서... 퀸 잘 모르는데.. 그래도 마지막에서 다들 너무 좋다고 얼마나...\n",
      "97  :  같은 세대, 같은 시대에 태어나지 않았지만, 오늘날 그들의 무대를 '영상으로나마' 볼 수 있다는 것은 큰 행운이지만, '영상으로 밖에' 볼 수 없다는 것은 불행이기도 할 것이다. '전설'이라 불리는 이들, 마이클 잭슨, 밥 딜런, 엘비스 ...\n",
      "98  :  보헤미안 랩소디 감독 브라이언 싱어 출연 라미 말렉, 조셉 마젤로, 마이크 마이어스, 루시 보인턴 개봉 2018.10.31. 미국, 영국 평점 리뷰보기 개봉일인 오늘만을 손꼽아 기다렸...\n",
      "99  :  젊은 시절 락밴드 퀸을 모르고 지난간 학창시절이 후회됩니다.이영화는 흐르는 음악을 듣는 것 만으로도 평점 8은 줄수 있겠네요.거기에 주인공 프레디머큐리의 드라마 같은 인생다큐를 더해서 평점 10입니다.기억을 더듬어 생각나는 장면...\n",
      "100  :  특별히 눈에 띄는 스토리도 갈등도 클라이막스도 없는 스토리만 보면 잔잔한 영화. 퀸을 잘 모르는 사람(퀸은 몰라도 퀸의 노래는 누구나 한번쯤 다 들어봤을것이다.)이나 퀸을 싫어하는 사람(좋아하거나 열광하지는 않아도 퀸을 싫어하는...\n"
     ]
    }
   ],
   "source": [
    "for i in range(len(result_list)):\n",
    "    print(i+1, \" : \", result_list[i])"
   ]
  },
  {
   "cell_type": "code",
   "execution_count": null,
   "metadata": {},
   "outputs": [],
   "source": []
  },
  {
   "cell_type": "code",
   "execution_count": null,
   "metadata": {},
   "outputs": [],
   "source": []
  },
  {
   "cell_type": "markdown",
   "metadata": {},
   "source": [
    "# 위메프\n",
    "\n",
    "- http://www.wemakeprice.com/best\n",
    "- 1위~100위"
   ]
  },
  {
   "cell_type": "code",
   "execution_count": 71,
   "metadata": {},
   "outputs": [],
   "source": [
    "#  chromedriver의 경로 지정\n",
    "driver = webdriver.Chrome('driver/chromedriver')\n",
    "# 웹 자원 로드를 위한 시간 설정\n",
    "driver.implicitly_wait(3) \n",
    "# url 에 접근 \n",
    "driver.get('http://www.wemakeprice.com/best')"
   ]
  },
  {
   "cell_type": "code",
   "execution_count": 74,
   "metadata": {},
   "outputs": [
    {
     "data": {
      "text/plain": [
       "100"
      ]
     },
     "execution_count": 74,
     "metadata": {},
     "output_type": "execute_result"
    }
   ],
   "source": [
    "# 랭킹의 상품 제목 \n",
    "#wrap_main_best > li:nth-child(1) > span > a > span.box_desc > strong\n",
    "target = '#wrap_main_best > li > span > a > span.box_desc > strong'\n",
    "result = driver.find_elements_by_css_selector(target)\n",
    "type(result)\n",
    "# result\n",
    "len(result)"
   ]
  },
  {
   "cell_type": "markdown",
   "metadata": {},
   "source": [
    "### 1~10위"
   ]
  },
  {
   "cell_type": "code",
   "execution_count": 75,
   "metadata": {},
   "outputs": [
    {
     "name": "stdout",
     "output_type": "stream",
     "text": [
      "1위 - 달달한 탑텐 선물~ 클리어런스/신상품 총집합 +25%쿠폰\n",
      "2위 - 마지막 물량 2/4~출고! KF80 마스크 대형소형 5매입/10매입\n",
      "3위 - 마트 인기 과자 990원 1+1 골라담기 초특가SALE\n",
      "4위 - 한정수량 1300개 내외 갓 수확한 대추 방울 토마토 5kg 3-4번\n",
      "5위 - KF94 마스크 10매 (5매입*2개 구성) #긴급공수한정1000세트 #오후4시주문당일출고 황사마스크 우한폐렴 코로나 바이러스\n",
      "6위 - [긴급공수] 일회용 마스크 1박스 50개입 한정물량\n",
      "7위 - 1만개 한정수량! 휴대용 손소독젤 50ml 1+1+1(총3개) 7900원 초특가! 손소독제 손세정제 에탄올62%함유\n",
      "8위 - 탑텐 사는날! 역대급 할인가/최저가+추가 25%쿠폰할인\n",
      "9위 - 지금은 식단관리할때!! 10+1 다즐샵 도시락 골라담기 15종! 전자렌지 OK 맛있게 관리하세요!\n",
      "10위 - ★21%+3천원할인★하기스 기저귀 밴드/팬티 전라인 1박스 구성 (매직 컴포트/맥스드라이/네이처메이드/보송보송)\n"
     ]
    }
   ],
   "source": [
    "for i in range(0,10):\n",
    "    print(str(i+1) + '위 - ' + result[i].text)"
   ]
  },
  {
   "cell_type": "markdown",
   "metadata": {},
   "source": [
    "### 하이퍼링크 주소 추출\n",
    "\n",
    "```\n",
    "http://www.wemakeprice.com/best \n",
    "베스트 상품의 하이퍼링크 주소 \n",
    "```\n",
    "\n",
    "- get_attribute(속성)"
   ]
  },
  {
   "cell_type": "code",
   "execution_count": 77,
   "metadata": {},
   "outputs": [
    {
     "data": {
      "text/plain": [
       "'http://www.wemakeprice.com/best#gnb'"
      ]
     },
     "execution_count": 77,
     "metadata": {},
     "output_type": "execute_result"
    }
   ],
   "source": [
    "## 첫번째 하이퍼링크 태그의 href 속성값 추출하기 \n",
    "\n",
    "result_a = driver.find_element_by_tag_name('a')\n",
    "result_a \n",
    "result_a.get_attribute('href')"
   ]
  },
  {
   "cell_type": "markdown",
   "metadata": {},
   "source": [
    "## 여러개의 하이퍼링크 주소 추출"
   ]
  },
  {
   "cell_type": "code",
   "execution_count": 78,
   "metadata": {},
   "outputs": [
    {
     "data": {
      "text/plain": [
       "list"
      ]
     },
     "execution_count": 78,
     "metadata": {},
     "output_type": "execute_result"
    }
   ],
   "source": [
    "target_a = '#wrap_main_best > li > span > a'\n",
    "result_aList = driver.find_elements_by_css_selector(target_a)\n",
    "type(result_aList)"
   ]
  },
  {
   "cell_type": "code",
   "execution_count": 79,
   "metadata": {},
   "outputs": [
    {
     "name": "stdout",
     "output_type": "stream",
     "text": [
      "1위 - https://front.wemakeprice.com/deal/603080715\n",
      "2위 - https://front.wemakeprice.com/deal/603083632\n",
      "3위 - https://front.wemakeprice.com/deal/603075482\n",
      "4위 - https://front.wemakeprice.com/deal/603084002\n",
      "5위 - https://front.wemakeprice.com/deal/603086096\n",
      "6위 - https://front.wemakeprice.com/deal/603083637\n",
      "7위 - https://front.wemakeprice.com/deal/603085076\n",
      "8위 - https://front.wemakeprice.com/deal/603077554\n",
      "9위 - https://front.wemakeprice.com/deal/602984260\n",
      "10위 - https://front.wemakeprice.com/deal/603075465\n"
     ]
    }
   ],
   "source": [
    "for i in range(0,10):\n",
    "    print(str(i+1) + '위 - ' + result_aList[i].get_attribute('href'))"
   ]
  },
  {
   "cell_type": "code",
   "execution_count": null,
   "metadata": {},
   "outputs": [],
   "source": []
  },
  {
   "cell_type": "markdown",
   "metadata": {},
   "source": [
    "### 이미지 처리하기 "
   ]
  },
  {
   "cell_type": "code",
   "execution_count": 80,
   "metadata": {},
   "outputs": [
    {
     "data": {
      "text/plain": [
       "list"
      ]
     },
     "execution_count": 80,
     "metadata": {},
     "output_type": "execute_result"
    }
   ],
   "source": [
    "# #wrap_main_best > li > span > a > span.box_thumb > img\n",
    "\n",
    "target_img = '#wrap_main_best > li > span > a > span.box_thumb > img'\n",
    "img_list = driver.find_elements_by_css_selector(target_img)\n",
    "type(img_list)"
   ]
  },
  {
   "cell_type": "code",
   "execution_count": 81,
   "metadata": {},
   "outputs": [
    {
     "data": {
      "text/plain": [
       "100"
      ]
     },
     "execution_count": 81,
     "metadata": {},
     "output_type": "execute_result"
    }
   ],
   "source": [
    "len(img_list)"
   ]
  },
  {
   "cell_type": "markdown",
   "metadata": {},
   "source": [
    "### 이미지주소 1~10위"
   ]
  },
  {
   "cell_type": "code",
   "execution_count": 82,
   "metadata": {},
   "outputs": [
    {
     "name": "stdout",
     "output_type": "stream",
     "text": [
      "https://view01.wemep.co.kr/wmp-deal/5/071/603080715/603080715_large.jpg?1580809157\n",
      "https://view01.wemep.co.kr/wmp-deal/2/363/603083632/603083632_large.jpg?1580778138\n",
      "https://view01.wemep.co.kr/wmp-deal/2/548/603075482/603075482_large.jpg?1580452095\n",
      "https://view01.wemep.co.kr/wmp-deal/2/400/603084002/603084002_large.jpg?1580806299\n",
      "https://view01.wemep.co.kr/wmp-deal/6/609/603086096/603086096_large.jpg?1580804459\n",
      "https://view01.wemep.co.kr/wmp-deal/7/363/603083637/603083637_large.jpg?1580821084\n",
      "https://view01.wemep.co.kr/wmp-deal/6/507/603085076/603085076_large.jpg?1580797668\n",
      "https://view01.wemep.co.kr/wmp-deal/4/755/603077554/603077554_large.jpg?1580459357\n",
      "https://view01.wemep.co.kr/wmp-deal/0/426/602984260/602984260_large.jpg?1580796321\n",
      "https://view01.wemep.co.kr/wmp-deal/5/546/603075465/603075465_large.jpg?1580808834\n"
     ]
    }
   ],
   "source": [
    "for i in range(0,10):\n",
    "    print(img_list[i].get_attribute('src'))"
   ]
  },
  {
   "cell_type": "markdown",
   "metadata": {},
   "source": [
    "### 주피터노트북에서 이미지 표시하기 "
   ]
  },
  {
   "cell_type": "code",
   "execution_count": 83,
   "metadata": {},
   "outputs": [],
   "source": [
    "from IPython.display import HTML"
   ]
  },
  {
   "cell_type": "code",
   "execution_count": 84,
   "metadata": {},
   "outputs": [
    {
     "data": {
      "text/html": [
       "<img src='https://view01.wemep.co.kr/wmp-deal/5/071/603080715/603080715_large.jpg?1580809157'>"
      ],
      "text/plain": [
       "<IPython.core.display.HTML object>"
      ]
     },
     "execution_count": 84,
     "metadata": {},
     "output_type": "execute_result"
    }
   ],
   "source": [
    "HTML(\"<img src=\\'\"+img_list[0].get_attribute('src')+\"\\'>\")"
   ]
  },
  {
   "cell_type": "markdown",
   "metadata": {},
   "source": [
    "## 웹 이미지 저장하기 \n",
    "\n",
    "- import urllib.request\n",
    "- urllib.request.urlretrieve(이미지주소경로, '저장이미지파일경로')"
   ]
  },
  {
   "cell_type": "code",
   "execution_count": 85,
   "metadata": {},
   "outputs": [],
   "source": [
    "import urllib.request"
   ]
  },
  {
   "cell_type": "code",
   "execution_count": 86,
   "metadata": {},
   "outputs": [
    {
     "data": {
      "text/plain": [
       "('output/위메프1.png', <http.client.HTTPMessage at 0x255bd0aab70>)"
      ]
     },
     "execution_count": 86,
     "metadata": {},
     "output_type": "execute_result"
    }
   ],
   "source": [
    "urllib.request.urlretrieve(img_list[0].get_attribute('src'), 'output/위메프1.png')"
   ]
  },
  {
   "cell_type": "code",
   "execution_count": 87,
   "metadata": {},
   "outputs": [
    {
     "data": {
      "text/plain": [
       "['001.png',\n",
       " 'bar.png',\n",
       " 'df.csv',\n",
       " 'df.pickle',\n",
       " 'df.tsv',\n",
       " 'df.xls',\n",
       " 'df.xlsx',\n",
       " 'dramamovie.csv',\n",
       " 'graph.png',\n",
       " 'graph2.png',\n",
       " 'graph2.svg',\n",
       " 'movie2000.csv',\n",
       " 'movie_anim.xls',\n",
       " 'Name.pickle',\n",
       " 'pop_seoul.csv',\n",
       " '위메프1.png']"
      ]
     },
     "execution_count": 87,
     "metadata": {},
     "output_type": "execute_result"
    }
   ],
   "source": [
    "import os\n",
    "os.listdir('output')"
   ]
  },
  {
   "cell_type": "markdown",
   "metadata": {},
   "source": [
    "### 여러장"
   ]
  },
  {
   "cell_type": "code",
   "execution_count": 90,
   "metadata": {},
   "outputs": [
    {
     "name": "stdout",
     "output_type": "stream",
     "text": [
      "0 번 이미지가 저장되었습니다.\n",
      "1 번 이미지가 저장되었습니다.\n",
      "2 번 이미지가 저장되었습니다.\n",
      "3 번 이미지가 저장되었습니다.\n",
      "4 번 이미지가 저장되었습니다.\n",
      "5 번 이미지가 저장되었습니다.\n",
      "6 번 이미지가 저장되었습니다.\n",
      "7 번 이미지가 저장되었습니다.\n",
      "8 번 이미지가 저장되었습니다.\n",
      "9 번 이미지가 저장되었습니다.\n",
      "10 번 이미지가 저장되었습니다.\n"
     ]
    }
   ],
   "source": [
    "for i in range(0,11):\n",
    "    saveImg = 'output/result'+ str(i) + '.png'\n",
    "    urllib.request.urlretrieve(img_list[i].get_attribute('src'), saveImg)\n",
    "    print('%d 번 이미지가 저장되었습니다.' % i)"
   ]
  },
  {
   "cell_type": "code",
   "execution_count": null,
   "metadata": {},
   "outputs": [],
   "source": []
  },
  {
   "cell_type": "markdown",
   "metadata": {},
   "source": [
    "# 서울의 산과 공원: 페이지 연결 크롤링"
   ]
  },
  {
   "cell_type": "code",
   "execution_count": null,
   "metadata": {},
   "outputs": [],
   "source": [
    "http://parks.seoul.go.kr/main.do"
   ]
  },
  {
   "cell_type": "code",
   "execution_count": 95,
   "metadata": {},
   "outputs": [],
   "source": [
    "#  chromedriver의 경로 지정\n",
    "driver = webdriver.Chrome('driver/chromedriver')\n",
    "# 웹 자원 로드를 위한 시간 설정\n",
    "driver.implicitly_wait(3) "
   ]
  },
  {
   "cell_type": "code",
   "execution_count": 96,
   "metadata": {},
   "outputs": [],
   "source": [
    "# url 에 접근 \n",
    "driver.get('http://parks.seoul.go.kr/main.do#')"
   ]
  },
  {
   "cell_type": "code",
   "execution_count": 100,
   "metadata": {},
   "outputs": [
    {
     "data": {
      "text/plain": [
       "[<selenium.webdriver.remote.webelement.WebElement (session=\"df8f025d77b4a4e3afdfbe4ffeda61e4\", element=\"b199532a-f928-4055-8d62-c9716391400e\")>,\n",
       " <selenium.webdriver.remote.webelement.WebElement (session=\"df8f025d77b4a4e3afdfbe4ffeda61e4\", element=\"9d5eaea8-1986-4091-9bd2-5742edd94299\")>,\n",
       " <selenium.webdriver.remote.webelement.WebElement (session=\"df8f025d77b4a4e3afdfbe4ffeda61e4\", element=\"be91af33-c805-4368-9a34-cd8c59a367fe\")>,\n",
       " <selenium.webdriver.remote.webelement.WebElement (session=\"df8f025d77b4a4e3afdfbe4ffeda61e4\", element=\"a8602cd6-955e-49f7-8e51-b5303d106d3c\")>]"
      ]
     },
     "execution_count": 100,
     "metadata": {},
     "output_type": "execute_result"
    }
   ],
   "source": [
    "# 서울의 산과공원 메뉴 클릭 \n",
    "#gnb > li:nth-child(1) > a\n",
    "target = '#gnb > li > a'\n",
    "result = driver.find_elements_by_css_selector(target)\n",
    "result"
   ]
  },
  {
   "cell_type": "code",
   "execution_count": 101,
   "metadata": {},
   "outputs": [
    {
     "data": {
      "text/plain": [
       "'서울의 산과 공원'"
      ]
     },
     "execution_count": 101,
     "metadata": {},
     "output_type": "execute_result"
    }
   ],
   "source": [
    "result[0].text"
   ]
  },
  {
   "cell_type": "code",
   "execution_count": 102,
   "metadata": {},
   "outputs": [],
   "source": [
    "result[0].click()"
   ]
  },
  {
   "cell_type": "code",
   "execution_count": null,
   "metadata": {},
   "outputs": [],
   "source": [
    "#all_seoul_region1"
   ]
  },
  {
   "cell_type": "code",
   "execution_count": 103,
   "metadata": {},
   "outputs": [],
   "source": [
    "driver.find_element_by_id('all_seoul_region1').send_keys('구로구')\n",
    "driver.find_element_by_id('all_seoul_region1').submit()"
   ]
  },
  {
   "cell_type": "code",
   "execution_count": 104,
   "metadata": {},
   "outputs": [
    {
     "data": {
      "text/plain": [
       "[<selenium.webdriver.remote.webelement.WebElement (session=\"df8f025d77b4a4e3afdfbe4ffeda61e4\", element=\"92b8a867-bdbc-4da4-94d9-a2260807dd0a\")>,\n",
       " <selenium.webdriver.remote.webelement.WebElement (session=\"df8f025d77b4a4e3afdfbe4ffeda61e4\", element=\"8166ac97-3348-4ecd-bffd-f938462536c2\")>,\n",
       " <selenium.webdriver.remote.webelement.WebElement (session=\"df8f025d77b4a4e3afdfbe4ffeda61e4\", element=\"f9dd22ef-1b3c-4373-aef5-516655e2e887\")>,\n",
       " <selenium.webdriver.remote.webelement.WebElement (session=\"df8f025d77b4a4e3afdfbe4ffeda61e4\", element=\"763e6b79-fa14-44bd-a8fe-c6dccd0f3b24\")>]"
      ]
     },
     "execution_count": 104,
     "metadata": {},
     "output_type": "execute_result"
    }
   ],
   "source": [
    "# #dataList > li:nth-child(1) > div > div.pageTit > a > span\n",
    "target = '#dataList > li > div > div.pageTit > a > span'\n",
    "gu1_title_list = driver.find_elements_by_css_selector(target)\n",
    "gu1_title_list"
   ]
  },
  {
   "cell_type": "code",
   "execution_count": 106,
   "metadata": {},
   "outputs": [
    {
     "name": "stdout",
     "output_type": "stream",
     "text": [
      "개웅산근린공원\n",
      "고척근린공원\n",
      "온수도시자연공원\n",
      "푸른수목원\n"
     ]
    }
   ],
   "source": [
    "for i in gu1_title_list:\n",
    "    print(i.text)"
   ]
  },
  {
   "cell_type": "markdown",
   "metadata": {},
   "source": [
    "# 반복문 이용"
   ]
  },
  {
   "cell_type": "code",
   "execution_count": null,
   "metadata": {},
   "outputs": [],
   "source": [
    "gu_list = ['구로구', '영등포구', '종로구', '서초구', '강남구', '노원구', '서대문구']"
   ]
  },
  {
   "cell_type": "code",
   "execution_count": 109,
   "metadata": {},
   "outputs": [],
   "source": [
    "# 함수로 선언 \n",
    "def get_m(guName):\n",
    "    temp_list = []\n",
    "    # url 에 접근후 검색 페이지로 이동 \n",
    "    driver.get('http://parks.seoul.go.kr/main.do#')\n",
    "    target = '#gnb > li > a'\n",
    "    result = driver.find_elements_by_css_selector(target)\n",
    "    result[0].click()\n",
    "\n",
    "    driver.find_element_by_id('all_seoul_region1').send_keys(guName)\n",
    "    driver.find_element_by_id('all_seoul_region1').submit()\n",
    "    target = '#dataList > li > div > div.pageTit > a > span'\n",
    "    gu1_title_list = driver.find_elements_by_css_selector(target)\n",
    "    gu1_title_list\n",
    "    for i in gu1_title_list:\n",
    "#         print(i.text)\n",
    "        temp_list.append(i.text)\n",
    "    return temp_list\n",
    "\n",
    "gu_mountin_list1 = get_m('영등포구')"
   ]
  },
  {
   "cell_type": "code",
   "execution_count": 110,
   "metadata": {
    "scrolled": true
   },
   "outputs": [
    {
     "data": {
      "text/plain": [
       "['선유도공원', '여의도공원', '영등포근린공원', '자매근린공원', '중마루근린공원']"
      ]
     },
     "execution_count": 110,
     "metadata": {},
     "output_type": "execute_result"
    }
   ],
   "source": [
    "gu_mountin_list1"
   ]
  },
  {
   "cell_type": "code",
   "execution_count": 119,
   "metadata": {
    "scrolled": true
   },
   "outputs": [],
   "source": [
    "gu_list = ['구로구', '영등포구', '종로구', '서초구', '강남구', '노원구', '서대문구']\n",
    "count=1\n",
    "totList=[]\n",
    "for guName in gu_list:\n",
    "    tempList=[]\n",
    "    tempList = get_m(guName)\n",
    "    totList.append(tempList)"
   ]
  },
  {
   "cell_type": "code",
   "execution_count": 120,
   "metadata": {},
   "outputs": [
    {
     "name": "stdout",
     "output_type": "stream",
     "text": [
      "[['개웅산근린공원', '고척근린공원', '온수도시자연공원', '푸른수목원'], ['선유도공원', '여의도공원', '영등포근린공원', '자매근린공원', '중마루근린공원'], ['경희궁', '광화문시민열린마당', '낙산공원', '마로니에공원', '북악산도시자연공원', '사직근린공원', '삼청근린공원', '세종로공원', '숭인근린공원', '와룡근린공원'], ['구룡산', '문화예술공원', '양재시민의숲', '우면산도시자연공원', '인능산도시자연공원', '청계산도시자연공원'], ['광평근린공원', '대모산도시자연공원', '도곡근린공원', '도산근린공원', '봉은공원', '율현공원', '청담근린공원'], ['불암산도시자연공원', '수락산도시자연공원'], ['궁동근린공원', '독립공원', '백련근린공원', '안산도시자연공원']]\n"
     ]
    }
   ],
   "source": [
    "print(totList)"
   ]
  },
  {
   "cell_type": "code",
   "execution_count": 126,
   "metadata": {
    "scrolled": true
   },
   "outputs": [],
   "source": [
    "import pandas as pd\n",
    "df = pd.DataFrame(totList, index=gu_list)"
   ]
  },
  {
   "cell_type": "code",
   "execution_count": 127,
   "metadata": {},
   "outputs": [
    {
     "data": {
      "text/html": [
       "<div>\n",
       "<style scoped>\n",
       "    .dataframe tbody tr th:only-of-type {\n",
       "        vertical-align: middle;\n",
       "    }\n",
       "\n",
       "    .dataframe tbody tr th {\n",
       "        vertical-align: top;\n",
       "    }\n",
       "\n",
       "    .dataframe thead th {\n",
       "        text-align: right;\n",
       "    }\n",
       "</style>\n",
       "<table border=\"1\" class=\"dataframe\">\n",
       "  <thead>\n",
       "    <tr style=\"text-align: right;\">\n",
       "      <th></th>\n",
       "      <th>0</th>\n",
       "      <th>1</th>\n",
       "      <th>2</th>\n",
       "      <th>3</th>\n",
       "      <th>4</th>\n",
       "      <th>5</th>\n",
       "      <th>6</th>\n",
       "      <th>7</th>\n",
       "      <th>8</th>\n",
       "      <th>9</th>\n",
       "    </tr>\n",
       "  </thead>\n",
       "  <tbody>\n",
       "    <tr>\n",
       "      <th>구로구</th>\n",
       "      <td>개웅산근린공원</td>\n",
       "      <td>고척근린공원</td>\n",
       "      <td>온수도시자연공원</td>\n",
       "      <td>푸른수목원</td>\n",
       "      <td>None</td>\n",
       "      <td>None</td>\n",
       "      <td>None</td>\n",
       "      <td>None</td>\n",
       "      <td>None</td>\n",
       "      <td>None</td>\n",
       "    </tr>\n",
       "    <tr>\n",
       "      <th>영등포구</th>\n",
       "      <td>선유도공원</td>\n",
       "      <td>여의도공원</td>\n",
       "      <td>영등포근린공원</td>\n",
       "      <td>자매근린공원</td>\n",
       "      <td>중마루근린공원</td>\n",
       "      <td>None</td>\n",
       "      <td>None</td>\n",
       "      <td>None</td>\n",
       "      <td>None</td>\n",
       "      <td>None</td>\n",
       "    </tr>\n",
       "    <tr>\n",
       "      <th>종로구</th>\n",
       "      <td>경희궁</td>\n",
       "      <td>광화문시민열린마당</td>\n",
       "      <td>낙산공원</td>\n",
       "      <td>마로니에공원</td>\n",
       "      <td>북악산도시자연공원</td>\n",
       "      <td>사직근린공원</td>\n",
       "      <td>삼청근린공원</td>\n",
       "      <td>세종로공원</td>\n",
       "      <td>숭인근린공원</td>\n",
       "      <td>와룡근린공원</td>\n",
       "    </tr>\n",
       "    <tr>\n",
       "      <th>서초구</th>\n",
       "      <td>구룡산</td>\n",
       "      <td>문화예술공원</td>\n",
       "      <td>양재시민의숲</td>\n",
       "      <td>우면산도시자연공원</td>\n",
       "      <td>인능산도시자연공원</td>\n",
       "      <td>청계산도시자연공원</td>\n",
       "      <td>None</td>\n",
       "      <td>None</td>\n",
       "      <td>None</td>\n",
       "      <td>None</td>\n",
       "    </tr>\n",
       "    <tr>\n",
       "      <th>강남구</th>\n",
       "      <td>광평근린공원</td>\n",
       "      <td>대모산도시자연공원</td>\n",
       "      <td>도곡근린공원</td>\n",
       "      <td>도산근린공원</td>\n",
       "      <td>봉은공원</td>\n",
       "      <td>율현공원</td>\n",
       "      <td>청담근린공원</td>\n",
       "      <td>None</td>\n",
       "      <td>None</td>\n",
       "      <td>None</td>\n",
       "    </tr>\n",
       "    <tr>\n",
       "      <th>노원구</th>\n",
       "      <td>불암산도시자연공원</td>\n",
       "      <td>수락산도시자연공원</td>\n",
       "      <td>None</td>\n",
       "      <td>None</td>\n",
       "      <td>None</td>\n",
       "      <td>None</td>\n",
       "      <td>None</td>\n",
       "      <td>None</td>\n",
       "      <td>None</td>\n",
       "      <td>None</td>\n",
       "    </tr>\n",
       "    <tr>\n",
       "      <th>서대문구</th>\n",
       "      <td>궁동근린공원</td>\n",
       "      <td>독립공원</td>\n",
       "      <td>백련근린공원</td>\n",
       "      <td>안산도시자연공원</td>\n",
       "      <td>None</td>\n",
       "      <td>None</td>\n",
       "      <td>None</td>\n",
       "      <td>None</td>\n",
       "      <td>None</td>\n",
       "      <td>None</td>\n",
       "    </tr>\n",
       "  </tbody>\n",
       "</table>\n",
       "</div>"
      ],
      "text/plain": [
       "              0          1         2          3          4          5       6  \\\n",
       "구로구     개웅산근린공원     고척근린공원  온수도시자연공원      푸른수목원       None       None    None   \n",
       "영등포구      선유도공원      여의도공원   영등포근린공원     자매근린공원    중마루근린공원       None    None   \n",
       "종로구         경희궁  광화문시민열린마당      낙산공원     마로니에공원  북악산도시자연공원     사직근린공원  삼청근린공원   \n",
       "서초구         구룡산     문화예술공원    양재시민의숲  우면산도시자연공원  인능산도시자연공원  청계산도시자연공원    None   \n",
       "강남구      광평근린공원  대모산도시자연공원    도곡근린공원     도산근린공원       봉은공원       율현공원  청담근린공원   \n",
       "노원구   불암산도시자연공원  수락산도시자연공원      None       None       None       None    None   \n",
       "서대문구     궁동근린공원       독립공원    백련근린공원   안산도시자연공원       None       None    None   \n",
       "\n",
       "          7       8       9  \n",
       "구로구    None    None    None  \n",
       "영등포구   None    None    None  \n",
       "종로구   세종로공원  숭인근린공원  와룡근린공원  \n",
       "서초구    None    None    None  \n",
       "강남구    None    None    None  \n",
       "노원구    None    None    None  \n",
       "서대문구   None    None    None  "
      ]
     },
     "execution_count": 127,
     "metadata": {},
     "output_type": "execute_result"
    }
   ],
   "source": [
    "df"
   ]
  },
  {
   "cell_type": "code",
   "execution_count": 118,
   "metadata": {},
   "outputs": [
    {
     "data": {
      "text/plain": [
       "[[0, 0, 0], [0, 0, 0], [0, 0, 0]]"
      ]
     },
     "execution_count": 118,
     "metadata": {},
     "output_type": "execute_result"
    }
   ],
   "source": [
    "array = [[0]*3]*3\n",
    "array"
   ]
  },
  {
   "cell_type": "code",
   "execution_count": null,
   "metadata": {},
   "outputs": [],
   "source": []
  },
  {
   "cell_type": "code",
   "execution_count": null,
   "metadata": {},
   "outputs": [],
   "source": []
  },
  {
   "cell_type": "code",
   "execution_count": null,
   "metadata": {},
   "outputs": [],
   "source": []
  },
  {
   "cell_type": "code",
   "execution_count": null,
   "metadata": {},
   "outputs": [],
   "source": []
  },
  {
   "cell_type": "markdown",
   "metadata": {
    "collapsed": true
   },
   "source": [
    "## 4-2 서울시 구별 주유소 가격 정보 얻기"
   ]
  },
  {
   "cell_type": "code",
   "execution_count": 16,
   "metadata": {},
   "outputs": [],
   "source": [
    "driver = webdriver.Chrome('chromedriver')\n",
    "driver.get(\"http://www.opinet.co.kr/searRgSelect.do\")"
   ]
  },
  {
   "cell_type": "markdown",
   "metadata": {},
   "source": [
    "* Opinet은 사용자가 접속한 지역에 따라 지역을 잡아주는 기능이 있습니다.\n",
    "* 이 기능을 배려하지 않고 코드가 짜여졌습니다.\n",
    "\n",
    "<img src=\"../img/001.JPG\"></img>\n",
    "\n",
    "* 지역에 **서울**이라고 나타나지 않으면 크롬 드라이버에서 손으로 **서울**로 잡아주세요."
   ]
  },
  {
   "cell_type": "markdown",
   "metadata": {},
   "source": [
    "### http://www.opinet.co.kr/searRgSelect.do#"
   ]
  },
  {
   "cell_type": "code",
   "execution_count": 18,
   "metadata": {},
   "outputs": [],
   "source": [
    "gu_list_raw = driver.find_element_by_xpath(\"\"\"//*[@id=\"SIGUNGU_NM0\"]\"\"\")\n",
    "gu_list = gu_list_raw.find_elements_by_tag_name(\"option\")"
   ]
  },
  {
   "cell_type": "code",
   "execution_count": 19,
   "metadata": {
    "scrolled": true
   },
   "outputs": [
    {
     "data": {
      "text/plain": [
       "['강남구',\n",
       " '강동구',\n",
       " '강북구',\n",
       " '강서구',\n",
       " '관악구',\n",
       " '광진구',\n",
       " '구로구',\n",
       " '금천구',\n",
       " '노원구',\n",
       " '도봉구',\n",
       " '동대문구',\n",
       " '동작구',\n",
       " '마포구',\n",
       " '서대문구',\n",
       " '서초구',\n",
       " '성동구',\n",
       " '성북구',\n",
       " '송파구',\n",
       " '양천구',\n",
       " '영등포구',\n",
       " '용산구',\n",
       " '은평구',\n",
       " '종로구',\n",
       " '중구',\n",
       " '중랑구']"
      ]
     },
     "execution_count": 19,
     "metadata": {},
     "output_type": "execute_result"
    }
   ],
   "source": [
    "gu_names = [option.get_attribute(\"value\") for option in gu_list]\n",
    "gu_names.remove('')\n",
    "gu_names"
   ]
  },
  {
   "cell_type": "code",
   "execution_count": 20,
   "metadata": {},
   "outputs": [],
   "source": [
    "element = driver.find_element_by_id(\"SIGUNGU_NM0\")\n",
    "element.send_keys(gu_names[0])"
   ]
  },
  {
   "cell_type": "code",
   "execution_count": 21,
   "metadata": {},
   "outputs": [],
   "source": [
    "xpath = \"\"\"//*[@id=\"searRgSelect\"]\"\"\"\n",
    "element_sel_gu = driver.find_element_by_xpath(xpath).click()"
   ]
  },
  {
   "cell_type": "code",
   "execution_count": 22,
   "metadata": {},
   "outputs": [],
   "source": [
    "xpath = \"\"\"//*[@id=\"glopopd_excel\"]\"\"\"\n",
    "element_get_excel = driver.find_element_by_xpath(xpath).click()"
   ]
  },
  {
   "cell_type": "code",
   "execution_count": 23,
   "metadata": {},
   "outputs": [
    {
     "data": {
      "application/vnd.jupyter.widget-view+json": {
       "model_id": "f3a985a692324af7bddc619aefcbd1f8",
       "version_major": 2,
       "version_minor": 0
      },
      "text/plain": [
       "HBox(children=(IntProgress(value=0, max=25), HTML(value='')))"
      ]
     },
     "metadata": {},
     "output_type": "display_data"
    },
    {
     "name": "stdout",
     "output_type": "stream",
     "text": [
      "\n"
     ]
    }
   ],
   "source": [
    "import time\n",
    "from tqdm import tqdm_notebook\n",
    "\n",
    "for gu in tqdm_notebook(gu_names):\n",
    "    element = driver.find_element_by_id(\"SIGUNGU_NM0\")\n",
    "    element.send_keys(gu)\n",
    "    \n",
    "    time.sleep(2)\n",
    "    \n",
    "    xpath = \"\"\"//*[@id=\"searRgSelect\"]\"\"\"\n",
    "    element_sel_gu = driver.find_element_by_xpath(xpath).click()\n",
    "    \n",
    "    time.sleep(1)\n",
    "    \n",
    "    xpath = \"\"\"//*[@id=\"glopopd_excel\"]\"\"\"\n",
    "    element_get_excel = driver.find_element_by_xpath(xpath).click()\n",
    "    \n",
    "    time.sleep(1)"
   ]
  },
  {
   "cell_type": "code",
   "execution_count": 24,
   "metadata": {},
   "outputs": [],
   "source": [
    "driver.close()"
   ]
  },
  {
   "cell_type": "markdown",
   "metadata": {
    "collapsed": true
   },
   "source": [
    "## 4-5. 구별 주유 가격에 대한 데이터의 정리"
   ]
  },
  {
   "cell_type": "code",
   "execution_count": 42,
   "metadata": {},
   "outputs": [],
   "source": [
    "import pandas as pd\n",
    "from glob import glob"
   ]
  },
  {
   "cell_type": "code",
   "execution_count": 43,
   "metadata": {
    "scrolled": false
   },
   "outputs": [
    {
     "data": {
      "text/plain": [
       "[]"
      ]
     },
     "execution_count": 43,
     "metadata": {},
     "output_type": "execute_result"
    }
   ],
   "source": [
    "glob('data/지역_위치별*xls')"
   ]
  },
  {
   "cell_type": "code",
   "execution_count": 40,
   "metadata": {
    "scrolled": true
   },
   "outputs": [
    {
     "data": {
      "text/plain": [
       "[]"
      ]
     },
     "execution_count": 40,
     "metadata": {},
     "output_type": "execute_result"
    }
   ],
   "source": [
    "stations_files = glob('../data/지역_위치별*xls')\n",
    "stations_files"
   ]
  },
  {
   "cell_type": "code",
   "execution_count": 41,
   "metadata": {},
   "outputs": [
    {
     "ename": "ValueError",
     "evalue": "No objects to concatenate",
     "output_type": "error",
     "traceback": [
      "\u001b[1;31m---------------------------------------------------------------------------\u001b[0m",
      "\u001b[1;31mValueError\u001b[0m                                Traceback (most recent call last)",
      "\u001b[1;32m<ipython-input-41-3b71e38beff2>\u001b[0m in \u001b[0;36m<module>\u001b[1;34m\u001b[0m\n\u001b[0;32m      5\u001b[0m     \u001b[0mtmp_raw\u001b[0m\u001b[1;33m.\u001b[0m\u001b[0mappend\u001b[0m\u001b[1;33m(\u001b[0m\u001b[0mtmp\u001b[0m\u001b[1;33m)\u001b[0m\u001b[1;33m\u001b[0m\u001b[1;33m\u001b[0m\u001b[0m\n\u001b[0;32m      6\u001b[0m \u001b[1;33m\u001b[0m\u001b[0m\n\u001b[1;32m----> 7\u001b[1;33m \u001b[0mstation_raw\u001b[0m \u001b[1;33m=\u001b[0m \u001b[0mpd\u001b[0m\u001b[1;33m.\u001b[0m\u001b[0mconcat\u001b[0m\u001b[1;33m(\u001b[0m\u001b[0mtmp_raw\u001b[0m\u001b[1;33m)\u001b[0m\u001b[1;33m\u001b[0m\u001b[1;33m\u001b[0m\u001b[0m\n\u001b[0m",
      "\u001b[1;32mC:\\Anaconda3\\lib\\site-packages\\pandas\\core\\reshape\\concat.py\u001b[0m in \u001b[0;36mconcat\u001b[1;34m(objs, axis, join, join_axes, ignore_index, keys, levels, names, verify_integrity, sort, copy)\u001b[0m\n\u001b[0;32m    226\u001b[0m                        \u001b[0mkeys\u001b[0m\u001b[1;33m=\u001b[0m\u001b[0mkeys\u001b[0m\u001b[1;33m,\u001b[0m \u001b[0mlevels\u001b[0m\u001b[1;33m=\u001b[0m\u001b[0mlevels\u001b[0m\u001b[1;33m,\u001b[0m \u001b[0mnames\u001b[0m\u001b[1;33m=\u001b[0m\u001b[0mnames\u001b[0m\u001b[1;33m,\u001b[0m\u001b[1;33m\u001b[0m\u001b[1;33m\u001b[0m\u001b[0m\n\u001b[0;32m    227\u001b[0m                        \u001b[0mverify_integrity\u001b[0m\u001b[1;33m=\u001b[0m\u001b[0mverify_integrity\u001b[0m\u001b[1;33m,\u001b[0m\u001b[1;33m\u001b[0m\u001b[1;33m\u001b[0m\u001b[0m\n\u001b[1;32m--> 228\u001b[1;33m                        copy=copy, sort=sort)\n\u001b[0m\u001b[0;32m    229\u001b[0m     \u001b[1;32mreturn\u001b[0m \u001b[0mop\u001b[0m\u001b[1;33m.\u001b[0m\u001b[0mget_result\u001b[0m\u001b[1;33m(\u001b[0m\u001b[1;33m)\u001b[0m\u001b[1;33m\u001b[0m\u001b[1;33m\u001b[0m\u001b[0m\n\u001b[0;32m    230\u001b[0m \u001b[1;33m\u001b[0m\u001b[0m\n",
      "\u001b[1;32mC:\\Anaconda3\\lib\\site-packages\\pandas\\core\\reshape\\concat.py\u001b[0m in \u001b[0;36m__init__\u001b[1;34m(self, objs, axis, join, join_axes, keys, levels, names, ignore_index, verify_integrity, copy, sort)\u001b[0m\n\u001b[0;32m    260\u001b[0m \u001b[1;33m\u001b[0m\u001b[0m\n\u001b[0;32m    261\u001b[0m         \u001b[1;32mif\u001b[0m \u001b[0mlen\u001b[0m\u001b[1;33m(\u001b[0m\u001b[0mobjs\u001b[0m\u001b[1;33m)\u001b[0m \u001b[1;33m==\u001b[0m \u001b[1;36m0\u001b[0m\u001b[1;33m:\u001b[0m\u001b[1;33m\u001b[0m\u001b[1;33m\u001b[0m\u001b[0m\n\u001b[1;32m--> 262\u001b[1;33m             \u001b[1;32mraise\u001b[0m \u001b[0mValueError\u001b[0m\u001b[1;33m(\u001b[0m\u001b[1;34m'No objects to concatenate'\u001b[0m\u001b[1;33m)\u001b[0m\u001b[1;33m\u001b[0m\u001b[1;33m\u001b[0m\u001b[0m\n\u001b[0m\u001b[0;32m    263\u001b[0m \u001b[1;33m\u001b[0m\u001b[0m\n\u001b[0;32m    264\u001b[0m         \u001b[1;32mif\u001b[0m \u001b[0mkeys\u001b[0m \u001b[1;32mis\u001b[0m \u001b[1;32mNone\u001b[0m\u001b[1;33m:\u001b[0m\u001b[1;33m\u001b[0m\u001b[1;33m\u001b[0m\u001b[0m\n",
      "\u001b[1;31mValueError\u001b[0m: No objects to concatenate"
     ]
    }
   ],
   "source": [
    "tmp_raw = []\n",
    "\n",
    "for file_name in stations_files:\n",
    "    tmp = pd.read_excel(file_name, header=2)\n",
    "    tmp_raw.append(tmp)\n",
    "    \n",
    "station_raw = pd.concat(tmp_raw)"
   ]
  },
  {
   "cell_type": "code",
   "execution_count": 33,
   "metadata": {},
   "outputs": [
    {
     "ename": "NameError",
     "evalue": "name 'station_raw' is not defined",
     "output_type": "error",
     "traceback": [
      "\u001b[1;31m---------------------------------------------------------------------------\u001b[0m",
      "\u001b[1;31mNameError\u001b[0m                                 Traceback (most recent call last)",
      "\u001b[1;32m<ipython-input-33-60152116f03f>\u001b[0m in \u001b[0;36m<module>\u001b[1;34m\u001b[0m\n\u001b[1;32m----> 1\u001b[1;33m \u001b[0mstation_raw\u001b[0m\u001b[1;33m.\u001b[0m\u001b[0minfo\u001b[0m\u001b[1;33m(\u001b[0m\u001b[1;33m)\u001b[0m\u001b[1;33m\u001b[0m\u001b[1;33m\u001b[0m\u001b[0m\n\u001b[0m",
      "\u001b[1;31mNameError\u001b[0m: name 'station_raw' is not defined"
     ]
    }
   ],
   "source": [
    "station_raw.info()"
   ]
  },
  {
   "cell_type": "code",
   "execution_count": 8,
   "metadata": {},
   "outputs": [
    {
     "data": {
      "text/html": [
       "<div>\n",
       "<style scoped>\n",
       "    .dataframe tbody tr th:only-of-type {\n",
       "        vertical-align: middle;\n",
       "    }\n",
       "\n",
       "    .dataframe tbody tr th {\n",
       "        vertical-align: top;\n",
       "    }\n",
       "\n",
       "    .dataframe thead th {\n",
       "        text-align: right;\n",
       "    }\n",
       "</style>\n",
       "<table border=\"1\" class=\"dataframe\">\n",
       "  <thead>\n",
       "    <tr style=\"text-align: right;\">\n",
       "      <th></th>\n",
       "      <th>지역</th>\n",
       "      <th>상호</th>\n",
       "      <th>주소</th>\n",
       "      <th>상표</th>\n",
       "      <th>전화번호</th>\n",
       "      <th>셀프여부</th>\n",
       "      <th>고급휘발유</th>\n",
       "      <th>휘발유</th>\n",
       "      <th>경유</th>\n",
       "      <th>실내등유</th>\n",
       "    </tr>\n",
       "  </thead>\n",
       "  <tbody>\n",
       "    <tr>\n",
       "      <th>0</th>\n",
       "      <td>서울특별시</td>\n",
       "      <td>오렌지주유소</td>\n",
       "      <td>서울 강동구 성안로 102 (성내동)</td>\n",
       "      <td>SK에너지</td>\n",
       "      <td>02-484-6165</td>\n",
       "      <td>N</td>\n",
       "      <td>-</td>\n",
       "      <td>1554</td>\n",
       "      <td>1354</td>\n",
       "      <td>997</td>\n",
       "    </tr>\n",
       "    <tr>\n",
       "      <th>1</th>\n",
       "      <td>서울특별시</td>\n",
       "      <td>구천면주유소</td>\n",
       "      <td>서울 강동구 구천면로 357 (암사동)</td>\n",
       "      <td>현대오일뱅크</td>\n",
       "      <td>02-441-0536</td>\n",
       "      <td>N</td>\n",
       "      <td>-</td>\n",
       "      <td>1556</td>\n",
       "      <td>1355</td>\n",
       "      <td>-</td>\n",
       "    </tr>\n",
       "    <tr>\n",
       "      <th>2</th>\n",
       "      <td>서울특별시</td>\n",
       "      <td>GS칼텍스㈜직영 신월주유소</td>\n",
       "      <td>서울 강동구 양재대로 1323 (성내동)</td>\n",
       "      <td>GS칼텍스</td>\n",
       "      <td>02-475-2600</td>\n",
       "      <td>N</td>\n",
       "      <td>1855</td>\n",
       "      <td>1559</td>\n",
       "      <td>1349</td>\n",
       "      <td>1000</td>\n",
       "    </tr>\n",
       "    <tr>\n",
       "      <th>3</th>\n",
       "      <td>서울특별시</td>\n",
       "      <td>광성주유소</td>\n",
       "      <td>서울 강동구 올림픽로 673 (천호동)</td>\n",
       "      <td>S-OIL</td>\n",
       "      <td>02-470-5133</td>\n",
       "      <td>N</td>\n",
       "      <td>-</td>\n",
       "      <td>1578</td>\n",
       "      <td>1388</td>\n",
       "      <td>1100</td>\n",
       "    </tr>\n",
       "    <tr>\n",
       "      <th>4</th>\n",
       "      <td>서울특별시</td>\n",
       "      <td>(주)소모에너지엔테크놀러지성내주유소</td>\n",
       "      <td>서울 강동구 올림픽로 578 (성내동)</td>\n",
       "      <td>GS칼텍스</td>\n",
       "      <td>02-479-3838</td>\n",
       "      <td>Y</td>\n",
       "      <td>-</td>\n",
       "      <td>1588</td>\n",
       "      <td>1388</td>\n",
       "      <td>-</td>\n",
       "    </tr>\n",
       "  </tbody>\n",
       "</table>\n",
       "</div>"
      ],
      "text/plain": [
       "      지역                   상호                      주소      상표         전화번호  \\\n",
       "0  서울특별시               오렌지주유소    서울 강동구 성안로 102 (성내동)   SK에너지  02-484-6165   \n",
       "1  서울특별시               구천면주유소   서울 강동구 구천면로 357 (암사동)  현대오일뱅크  02-441-0536   \n",
       "2  서울특별시       GS칼텍스㈜직영 신월주유소  서울 강동구 양재대로 1323 (성내동)   GS칼텍스  02-475-2600   \n",
       "3  서울특별시                광성주유소   서울 강동구 올림픽로 673 (천호동)   S-OIL  02-470-5133   \n",
       "4  서울특별시  (주)소모에너지엔테크놀러지성내주유소   서울 강동구 올림픽로 578 (성내동)   GS칼텍스  02-479-3838   \n",
       "\n",
       "  셀프여부 고급휘발유   휘발유    경유  실내등유  \n",
       "0    N     -  1554  1354   997  \n",
       "1    N     -  1556  1355     -  \n",
       "2    N  1855  1559  1349  1000  \n",
       "3    N     -  1578  1388  1100  \n",
       "4    Y     -  1588  1388     -  "
      ]
     },
     "execution_count": 8,
     "metadata": {},
     "output_type": "execute_result"
    }
   ],
   "source": [
    "station_raw.head()"
   ]
  },
  {
   "cell_type": "code",
   "execution_count": 9,
   "metadata": {},
   "outputs": [
    {
     "data": {
      "text/html": [
       "<div>\n",
       "<style scoped>\n",
       "    .dataframe tbody tr th:only-of-type {\n",
       "        vertical-align: middle;\n",
       "    }\n",
       "\n",
       "    .dataframe tbody tr th {\n",
       "        vertical-align: top;\n",
       "    }\n",
       "\n",
       "    .dataframe thead th {\n",
       "        text-align: right;\n",
       "    }\n",
       "</style>\n",
       "<table border=\"1\" class=\"dataframe\">\n",
       "  <thead>\n",
       "    <tr style=\"text-align: right;\">\n",
       "      <th></th>\n",
       "      <th>Oil_store</th>\n",
       "      <th>가격</th>\n",
       "      <th>상표</th>\n",
       "      <th>셀프</th>\n",
       "      <th>주소</th>\n",
       "    </tr>\n",
       "  </thead>\n",
       "  <tbody>\n",
       "    <tr>\n",
       "      <th>0</th>\n",
       "      <td>오렌지주유소</td>\n",
       "      <td>1554</td>\n",
       "      <td>SK에너지</td>\n",
       "      <td>N</td>\n",
       "      <td>서울 강동구 성안로 102 (성내동)</td>\n",
       "    </tr>\n",
       "    <tr>\n",
       "      <th>1</th>\n",
       "      <td>구천면주유소</td>\n",
       "      <td>1556</td>\n",
       "      <td>현대오일뱅크</td>\n",
       "      <td>N</td>\n",
       "      <td>서울 강동구 구천면로 357 (암사동)</td>\n",
       "    </tr>\n",
       "    <tr>\n",
       "      <th>2</th>\n",
       "      <td>GS칼텍스㈜직영 신월주유소</td>\n",
       "      <td>1559</td>\n",
       "      <td>GS칼텍스</td>\n",
       "      <td>N</td>\n",
       "      <td>서울 강동구 양재대로 1323 (성내동)</td>\n",
       "    </tr>\n",
       "    <tr>\n",
       "      <th>3</th>\n",
       "      <td>광성주유소</td>\n",
       "      <td>1578</td>\n",
       "      <td>S-OIL</td>\n",
       "      <td>N</td>\n",
       "      <td>서울 강동구 올림픽로 673 (천호동)</td>\n",
       "    </tr>\n",
       "    <tr>\n",
       "      <th>4</th>\n",
       "      <td>(주)소모에너지엔테크놀러지성내주유소</td>\n",
       "      <td>1588</td>\n",
       "      <td>GS칼텍스</td>\n",
       "      <td>Y</td>\n",
       "      <td>서울 강동구 올림픽로 578 (성내동)</td>\n",
       "    </tr>\n",
       "  </tbody>\n",
       "</table>\n",
       "</div>"
      ],
      "text/plain": [
       "             Oil_store    가격      상표 셀프                      주소\n",
       "0               오렌지주유소  1554   SK에너지  N    서울 강동구 성안로 102 (성내동)\n",
       "1               구천면주유소  1556  현대오일뱅크  N   서울 강동구 구천면로 357 (암사동)\n",
       "2       GS칼텍스㈜직영 신월주유소  1559   GS칼텍스  N  서울 강동구 양재대로 1323 (성내동)\n",
       "3                광성주유소  1578   S-OIL  N   서울 강동구 올림픽로 673 (천호동)\n",
       "4  (주)소모에너지엔테크놀러지성내주유소  1588   GS칼텍스  Y   서울 강동구 올림픽로 578 (성내동)"
      ]
     },
     "execution_count": 9,
     "metadata": {},
     "output_type": "execute_result"
    }
   ],
   "source": [
    "stations = pd.DataFrame({'Oil_store':station_raw['상호'], \n",
    "                                       '주소':station_raw['주소'],\n",
    "                                       '가격':station_raw['휘발유'],\n",
    "                                       '셀프':station_raw['셀프여부'],\n",
    "                                       '상표':station_raw['상표']  })\n",
    "stations.head()"
   ]
  },
  {
   "cell_type": "code",
   "execution_count": 10,
   "metadata": {},
   "outputs": [
    {
     "data": {
      "text/html": [
       "<div>\n",
       "<style scoped>\n",
       "    .dataframe tbody tr th:only-of-type {\n",
       "        vertical-align: middle;\n",
       "    }\n",
       "\n",
       "    .dataframe tbody tr th {\n",
       "        vertical-align: top;\n",
       "    }\n",
       "\n",
       "    .dataframe thead th {\n",
       "        text-align: right;\n",
       "    }\n",
       "</style>\n",
       "<table border=\"1\" class=\"dataframe\">\n",
       "  <thead>\n",
       "    <tr style=\"text-align: right;\">\n",
       "      <th></th>\n",
       "      <th>Oil_store</th>\n",
       "      <th>가격</th>\n",
       "      <th>상표</th>\n",
       "      <th>셀프</th>\n",
       "      <th>주소</th>\n",
       "      <th>구</th>\n",
       "    </tr>\n",
       "  </thead>\n",
       "  <tbody>\n",
       "    <tr>\n",
       "      <th>0</th>\n",
       "      <td>오렌지주유소</td>\n",
       "      <td>1554</td>\n",
       "      <td>SK에너지</td>\n",
       "      <td>N</td>\n",
       "      <td>서울 강동구 성안로 102 (성내동)</td>\n",
       "      <td>강동구</td>\n",
       "    </tr>\n",
       "    <tr>\n",
       "      <th>1</th>\n",
       "      <td>구천면주유소</td>\n",
       "      <td>1556</td>\n",
       "      <td>현대오일뱅크</td>\n",
       "      <td>N</td>\n",
       "      <td>서울 강동구 구천면로 357 (암사동)</td>\n",
       "      <td>강동구</td>\n",
       "    </tr>\n",
       "    <tr>\n",
       "      <th>2</th>\n",
       "      <td>GS칼텍스㈜직영 신월주유소</td>\n",
       "      <td>1559</td>\n",
       "      <td>GS칼텍스</td>\n",
       "      <td>N</td>\n",
       "      <td>서울 강동구 양재대로 1323 (성내동)</td>\n",
       "      <td>강동구</td>\n",
       "    </tr>\n",
       "    <tr>\n",
       "      <th>3</th>\n",
       "      <td>광성주유소</td>\n",
       "      <td>1578</td>\n",
       "      <td>S-OIL</td>\n",
       "      <td>N</td>\n",
       "      <td>서울 강동구 올림픽로 673 (천호동)</td>\n",
       "      <td>강동구</td>\n",
       "    </tr>\n",
       "    <tr>\n",
       "      <th>4</th>\n",
       "      <td>(주)소모에너지엔테크놀러지성내주유소</td>\n",
       "      <td>1588</td>\n",
       "      <td>GS칼텍스</td>\n",
       "      <td>Y</td>\n",
       "      <td>서울 강동구 올림픽로 578 (성내동)</td>\n",
       "      <td>강동구</td>\n",
       "    </tr>\n",
       "  </tbody>\n",
       "</table>\n",
       "</div>"
      ],
      "text/plain": [
       "             Oil_store    가격      상표 셀프                      주소    구\n",
       "0               오렌지주유소  1554   SK에너지  N    서울 강동구 성안로 102 (성내동)  강동구\n",
       "1               구천면주유소  1556  현대오일뱅크  N   서울 강동구 구천면로 357 (암사동)  강동구\n",
       "2       GS칼텍스㈜직영 신월주유소  1559   GS칼텍스  N  서울 강동구 양재대로 1323 (성내동)  강동구\n",
       "3                광성주유소  1578   S-OIL  N   서울 강동구 올림픽로 673 (천호동)  강동구\n",
       "4  (주)소모에너지엔테크놀러지성내주유소  1588   GS칼텍스  Y   서울 강동구 올림픽로 578 (성내동)  강동구"
      ]
     },
     "execution_count": 10,
     "metadata": {},
     "output_type": "execute_result"
    }
   ],
   "source": [
    "stations['구'] = [eachAddress.split()[1] for eachAddress in stations['주소']]\n",
    "stations.head()"
   ]
  },
  {
   "cell_type": "code",
   "execution_count": 11,
   "metadata": {},
   "outputs": [
    {
     "data": {
      "text/plain": [
       "array(['강동구', '동대문구', '동작구', '마포구', '서대문구', '서초구', '성동구', '서울특별시', '성북구',\n",
       "       '송파구', '양천구', '영등포구', '강북구', '용산구', '은평구', '종로구', '중구', '중랑구',\n",
       "       '강서구', '관악구', '광진구', '구로구', '금천구', '노원구', '도봉구', '특별시', '강남구'],\n",
       "      dtype=object)"
      ]
     },
     "execution_count": 11,
     "metadata": {},
     "output_type": "execute_result"
    }
   ],
   "source": [
    "stations['구'].unique()"
   ]
  },
  {
   "cell_type": "code",
   "execution_count": 12,
   "metadata": {},
   "outputs": [
    {
     "data": {
      "text/html": [
       "<div>\n",
       "<style scoped>\n",
       "    .dataframe tbody tr th:only-of-type {\n",
       "        vertical-align: middle;\n",
       "    }\n",
       "\n",
       "    .dataframe tbody tr th {\n",
       "        vertical-align: top;\n",
       "    }\n",
       "\n",
       "    .dataframe thead th {\n",
       "        text-align: right;\n",
       "    }\n",
       "</style>\n",
       "<table border=\"1\" class=\"dataframe\">\n",
       "  <thead>\n",
       "    <tr style=\"text-align: right;\">\n",
       "      <th></th>\n",
       "      <th>Oil_store</th>\n",
       "      <th>가격</th>\n",
       "      <th>상표</th>\n",
       "      <th>셀프</th>\n",
       "      <th>주소</th>\n",
       "      <th>구</th>\n",
       "    </tr>\n",
       "  </thead>\n",
       "  <tbody>\n",
       "    <tr>\n",
       "      <th>12</th>\n",
       "      <td>SK네트웍스(주)효진주유소</td>\n",
       "      <td>1654</td>\n",
       "      <td>SK에너지</td>\n",
       "      <td>N</td>\n",
       "      <td>1 서울특별시 성동구 동일로 129 (성수동2가)</td>\n",
       "      <td>서울특별시</td>\n",
       "    </tr>\n",
       "  </tbody>\n",
       "</table>\n",
       "</div>"
      ],
      "text/plain": [
       "         Oil_store    가격     상표 셀프                           주소      구\n",
       "12  SK네트웍스(주)효진주유소  1654  SK에너지  N  1 서울특별시 성동구 동일로 129 (성수동2가)  서울특별시"
      ]
     },
     "execution_count": 12,
     "metadata": {},
     "output_type": "execute_result"
    }
   ],
   "source": [
    "stations[stations['구']=='서울특별시']"
   ]
  },
  {
   "cell_type": "code",
   "execution_count": 13,
   "metadata": {},
   "outputs": [
    {
     "data": {
      "text/plain": [
       "array(['강동구', '동대문구', '동작구', '마포구', '서대문구', '서초구', '성동구', '성북구', '송파구',\n",
       "       '양천구', '영등포구', '강북구', '용산구', '은평구', '종로구', '중구', '중랑구', '강서구',\n",
       "       '관악구', '광진구', '구로구', '금천구', '노원구', '도봉구', '특별시', '강남구'],\n",
       "      dtype=object)"
      ]
     },
     "execution_count": 13,
     "metadata": {},
     "output_type": "execute_result"
    }
   ],
   "source": [
    "stations.loc[stations['구']=='서울특별시', '구'] = '성동구'\n",
    "stations['구'].unique()"
   ]
  },
  {
   "cell_type": "code",
   "execution_count": 14,
   "metadata": {},
   "outputs": [
    {
     "data": {
      "text/html": [
       "<div>\n",
       "<style scoped>\n",
       "    .dataframe tbody tr th:only-of-type {\n",
       "        vertical-align: middle;\n",
       "    }\n",
       "\n",
       "    .dataframe tbody tr th {\n",
       "        vertical-align: top;\n",
       "    }\n",
       "\n",
       "    .dataframe thead th {\n",
       "        text-align: right;\n",
       "    }\n",
       "</style>\n",
       "<table border=\"1\" class=\"dataframe\">\n",
       "  <thead>\n",
       "    <tr style=\"text-align: right;\">\n",
       "      <th></th>\n",
       "      <th>Oil_store</th>\n",
       "      <th>가격</th>\n",
       "      <th>상표</th>\n",
       "      <th>셀프</th>\n",
       "      <th>주소</th>\n",
       "      <th>구</th>\n",
       "    </tr>\n",
       "  </thead>\n",
       "  <tbody>\n",
       "    <tr>\n",
       "      <th>10</th>\n",
       "      <td>서현주유소</td>\n",
       "      <td>1524</td>\n",
       "      <td>S-OIL</td>\n",
       "      <td>Y</td>\n",
       "      <td>서울 특별시 도봉구 방학로 142 (방학동)</td>\n",
       "      <td>특별시</td>\n",
       "    </tr>\n",
       "  </tbody>\n",
       "</table>\n",
       "</div>"
      ],
      "text/plain": [
       "   Oil_store    가격     상표 셀프                        주소    구\n",
       "10     서현주유소  1524  S-OIL  Y  서울 특별시 도봉구 방학로 142 (방학동)  특별시"
      ]
     },
     "execution_count": 14,
     "metadata": {},
     "output_type": "execute_result"
    }
   ],
   "source": [
    "stations[stations['구']=='특별시']"
   ]
  },
  {
   "cell_type": "code",
   "execution_count": 15,
   "metadata": {},
   "outputs": [
    {
     "data": {
      "text/plain": [
       "array(['강동구', '동대문구', '동작구', '마포구', '서대문구', '서초구', '성동구', '성북구', '송파구',\n",
       "       '양천구', '영등포구', '강북구', '용산구', '은평구', '종로구', '중구', '중랑구', '강서구',\n",
       "       '관악구', '광진구', '구로구', '금천구', '노원구', '도봉구', '강남구'], dtype=object)"
      ]
     },
     "execution_count": 15,
     "metadata": {},
     "output_type": "execute_result"
    }
   ],
   "source": [
    "stations.loc[stations['구']=='특별시', '구'] = '도봉구'\n",
    "stations['구'].unique()"
   ]
  },
  {
   "cell_type": "code",
   "execution_count": 16,
   "metadata": {},
   "outputs": [
    {
     "data": {
      "text/html": [
       "<div>\n",
       "<style scoped>\n",
       "    .dataframe tbody tr th:only-of-type {\n",
       "        vertical-align: middle;\n",
       "    }\n",
       "\n",
       "    .dataframe tbody tr th {\n",
       "        vertical-align: top;\n",
       "    }\n",
       "\n",
       "    .dataframe thead th {\n",
       "        text-align: right;\n",
       "    }\n",
       "</style>\n",
       "<table border=\"1\" class=\"dataframe\">\n",
       "  <thead>\n",
       "    <tr style=\"text-align: right;\">\n",
       "      <th></th>\n",
       "      <th>Oil_store</th>\n",
       "      <th>가격</th>\n",
       "      <th>상표</th>\n",
       "      <th>셀프</th>\n",
       "      <th>주소</th>\n",
       "      <th>구</th>\n",
       "    </tr>\n",
       "  </thead>\n",
       "  <tbody>\n",
       "    <tr>\n",
       "      <th>18</th>\n",
       "      <td>명진석유(주)동서울주유소</td>\n",
       "      <td>-</td>\n",
       "      <td>GS칼텍스</td>\n",
       "      <td>Y</td>\n",
       "      <td>서울특별시 강동구  천호대로 1456 (상일동)</td>\n",
       "      <td>강동구</td>\n",
       "    </tr>\n",
       "    <tr>\n",
       "      <th>33</th>\n",
       "      <td>하나주유소</td>\n",
       "      <td>-</td>\n",
       "      <td>S-OIL</td>\n",
       "      <td>N</td>\n",
       "      <td>서울특별시 영등포구  도림로 236 (신길동)</td>\n",
       "      <td>영등포구</td>\n",
       "    </tr>\n",
       "    <tr>\n",
       "      <th>12</th>\n",
       "      <td>(주)에이앤이청담주유소</td>\n",
       "      <td>-</td>\n",
       "      <td>SK에너지</td>\n",
       "      <td>Y</td>\n",
       "      <td>서울특별시 강북구 도봉로 155  (미아동)</td>\n",
       "      <td>강북구</td>\n",
       "    </tr>\n",
       "    <tr>\n",
       "      <th>13</th>\n",
       "      <td>송정주유소</td>\n",
       "      <td>-</td>\n",
       "      <td>자가상표</td>\n",
       "      <td>N</td>\n",
       "      <td>서울특별시 강북구 인수봉로 185 (수유동)</td>\n",
       "      <td>강북구</td>\n",
       "    </tr>\n",
       "  </tbody>\n",
       "</table>\n",
       "</div>"
      ],
      "text/plain": [
       "        Oil_store 가격     상표 셀프                          주소     구\n",
       "18  명진석유(주)동서울주유소  -  GS칼텍스  Y  서울특별시 강동구  천호대로 1456 (상일동)   강동구\n",
       "33          하나주유소  -  S-OIL  N   서울특별시 영등포구  도림로 236 (신길동)  영등포구\n",
       "12   (주)에이앤이청담주유소  -  SK에너지  Y    서울특별시 강북구 도봉로 155  (미아동)   강북구\n",
       "13          송정주유소  -   자가상표  N    서울특별시 강북구 인수봉로 185 (수유동)   강북구"
      ]
     },
     "execution_count": 16,
     "metadata": {},
     "output_type": "execute_result"
    }
   ],
   "source": [
    "stations[stations['가격']=='-']"
   ]
  },
  {
   "cell_type": "code",
   "execution_count": 17,
   "metadata": {},
   "outputs": [
    {
     "data": {
      "text/html": [
       "<div>\n",
       "<style scoped>\n",
       "    .dataframe tbody tr th:only-of-type {\n",
       "        vertical-align: middle;\n",
       "    }\n",
       "\n",
       "    .dataframe tbody tr th {\n",
       "        vertical-align: top;\n",
       "    }\n",
       "\n",
       "    .dataframe thead th {\n",
       "        text-align: right;\n",
       "    }\n",
       "</style>\n",
       "<table border=\"1\" class=\"dataframe\">\n",
       "  <thead>\n",
       "    <tr style=\"text-align: right;\">\n",
       "      <th></th>\n",
       "      <th>Oil_store</th>\n",
       "      <th>가격</th>\n",
       "      <th>상표</th>\n",
       "      <th>셀프</th>\n",
       "      <th>주소</th>\n",
       "      <th>구</th>\n",
       "    </tr>\n",
       "  </thead>\n",
       "  <tbody>\n",
       "    <tr>\n",
       "      <th>0</th>\n",
       "      <td>오렌지주유소</td>\n",
       "      <td>1554</td>\n",
       "      <td>SK에너지</td>\n",
       "      <td>N</td>\n",
       "      <td>서울 강동구 성안로 102 (성내동)</td>\n",
       "      <td>강동구</td>\n",
       "    </tr>\n",
       "    <tr>\n",
       "      <th>1</th>\n",
       "      <td>구천면주유소</td>\n",
       "      <td>1556</td>\n",
       "      <td>현대오일뱅크</td>\n",
       "      <td>N</td>\n",
       "      <td>서울 강동구 구천면로 357 (암사동)</td>\n",
       "      <td>강동구</td>\n",
       "    </tr>\n",
       "    <tr>\n",
       "      <th>2</th>\n",
       "      <td>GS칼텍스㈜직영 신월주유소</td>\n",
       "      <td>1559</td>\n",
       "      <td>GS칼텍스</td>\n",
       "      <td>N</td>\n",
       "      <td>서울 강동구 양재대로 1323 (성내동)</td>\n",
       "      <td>강동구</td>\n",
       "    </tr>\n",
       "    <tr>\n",
       "      <th>3</th>\n",
       "      <td>광성주유소</td>\n",
       "      <td>1578</td>\n",
       "      <td>S-OIL</td>\n",
       "      <td>N</td>\n",
       "      <td>서울 강동구 올림픽로 673 (천호동)</td>\n",
       "      <td>강동구</td>\n",
       "    </tr>\n",
       "    <tr>\n",
       "      <th>4</th>\n",
       "      <td>(주)소모에너지엔테크놀러지성내주유소</td>\n",
       "      <td>1588</td>\n",
       "      <td>GS칼텍스</td>\n",
       "      <td>Y</td>\n",
       "      <td>서울 강동구 올림픽로 578 (성내동)</td>\n",
       "      <td>강동구</td>\n",
       "    </tr>\n",
       "  </tbody>\n",
       "</table>\n",
       "</div>"
      ],
      "text/plain": [
       "             Oil_store    가격      상표 셀프                      주소    구\n",
       "0               오렌지주유소  1554   SK에너지  N    서울 강동구 성안로 102 (성내동)  강동구\n",
       "1               구천면주유소  1556  현대오일뱅크  N   서울 강동구 구천면로 357 (암사동)  강동구\n",
       "2       GS칼텍스㈜직영 신월주유소  1559   GS칼텍스  N  서울 강동구 양재대로 1323 (성내동)  강동구\n",
       "3                광성주유소  1578   S-OIL  N   서울 강동구 올림픽로 673 (천호동)  강동구\n",
       "4  (주)소모에너지엔테크놀러지성내주유소  1588   GS칼텍스  Y   서울 강동구 올림픽로 578 (성내동)  강동구"
      ]
     },
     "execution_count": 17,
     "metadata": {},
     "output_type": "execute_result"
    }
   ],
   "source": [
    "stations = stations[stations['가격'] != '-']\n",
    "stations.head()"
   ]
  },
  {
   "cell_type": "code",
   "execution_count": 18,
   "metadata": {},
   "outputs": [],
   "source": [
    "stations['가격'] = [float(value) for value in stations['가격']]"
   ]
  },
  {
   "cell_type": "code",
   "execution_count": 19,
   "metadata": {},
   "outputs": [],
   "source": [
    "stations.reset_index(inplace=True)\n",
    "del stations['index']"
   ]
  },
  {
   "cell_type": "code",
   "execution_count": 20,
   "metadata": {},
   "outputs": [
    {
     "name": "stdout",
     "output_type": "stream",
     "text": [
      "<class 'pandas.core.frame.DataFrame'>\n",
      "RangeIndex: 533 entries, 0 to 532\n",
      "Data columns (total 6 columns):\n",
      "Oil_store    533 non-null object\n",
      "가격           533 non-null float64\n",
      "상표           533 non-null object\n",
      "셀프           533 non-null object\n",
      "주소           533 non-null object\n",
      "구            533 non-null object\n",
      "dtypes: float64(1), object(5)\n",
      "memory usage: 25.1+ KB\n"
     ]
    }
   ],
   "source": [
    "stations.info()"
   ]
  },
  {
   "cell_type": "code",
   "execution_count": 21,
   "metadata": {},
   "outputs": [
    {
     "data": {
      "text/html": [
       "<div>\n",
       "<style scoped>\n",
       "    .dataframe tbody tr th:only-of-type {\n",
       "        vertical-align: middle;\n",
       "    }\n",
       "\n",
       "    .dataframe tbody tr th {\n",
       "        vertical-align: top;\n",
       "    }\n",
       "\n",
       "    .dataframe thead th {\n",
       "        text-align: right;\n",
       "    }\n",
       "</style>\n",
       "<table border=\"1\" class=\"dataframe\">\n",
       "  <thead>\n",
       "    <tr style=\"text-align: right;\">\n",
       "      <th></th>\n",
       "      <th>Oil_store</th>\n",
       "      <th>가격</th>\n",
       "      <th>상표</th>\n",
       "      <th>셀프</th>\n",
       "      <th>주소</th>\n",
       "      <th>구</th>\n",
       "    </tr>\n",
       "  </thead>\n",
       "  <tbody>\n",
       "    <tr>\n",
       "      <th>0</th>\n",
       "      <td>오렌지주유소</td>\n",
       "      <td>1554.0</td>\n",
       "      <td>SK에너지</td>\n",
       "      <td>N</td>\n",
       "      <td>서울 강동구 성안로 102 (성내동)</td>\n",
       "      <td>강동구</td>\n",
       "    </tr>\n",
       "    <tr>\n",
       "      <th>1</th>\n",
       "      <td>구천면주유소</td>\n",
       "      <td>1556.0</td>\n",
       "      <td>현대오일뱅크</td>\n",
       "      <td>N</td>\n",
       "      <td>서울 강동구 구천면로 357 (암사동)</td>\n",
       "      <td>강동구</td>\n",
       "    </tr>\n",
       "    <tr>\n",
       "      <th>2</th>\n",
       "      <td>GS칼텍스㈜직영 신월주유소</td>\n",
       "      <td>1559.0</td>\n",
       "      <td>GS칼텍스</td>\n",
       "      <td>N</td>\n",
       "      <td>서울 강동구 양재대로 1323 (성내동)</td>\n",
       "      <td>강동구</td>\n",
       "    </tr>\n",
       "    <tr>\n",
       "      <th>3</th>\n",
       "      <td>광성주유소</td>\n",
       "      <td>1578.0</td>\n",
       "      <td>S-OIL</td>\n",
       "      <td>N</td>\n",
       "      <td>서울 강동구 올림픽로 673 (천호동)</td>\n",
       "      <td>강동구</td>\n",
       "    </tr>\n",
       "    <tr>\n",
       "      <th>4</th>\n",
       "      <td>(주)소모에너지엔테크놀러지성내주유소</td>\n",
       "      <td>1588.0</td>\n",
       "      <td>GS칼텍스</td>\n",
       "      <td>Y</td>\n",
       "      <td>서울 강동구 올림픽로 578 (성내동)</td>\n",
       "      <td>강동구</td>\n",
       "    </tr>\n",
       "  </tbody>\n",
       "</table>\n",
       "</div>"
      ],
      "text/plain": [
       "             Oil_store      가격      상표 셀프                      주소    구\n",
       "0               오렌지주유소  1554.0   SK에너지  N    서울 강동구 성안로 102 (성내동)  강동구\n",
       "1               구천면주유소  1556.0  현대오일뱅크  N   서울 강동구 구천면로 357 (암사동)  강동구\n",
       "2       GS칼텍스㈜직영 신월주유소  1559.0   GS칼텍스  N  서울 강동구 양재대로 1323 (성내동)  강동구\n",
       "3                광성주유소  1578.0   S-OIL  N   서울 강동구 올림픽로 673 (천호동)  강동구\n",
       "4  (주)소모에너지엔테크놀러지성내주유소  1588.0   GS칼텍스  Y   서울 강동구 올림픽로 578 (성내동)  강동구"
      ]
     },
     "execution_count": 21,
     "metadata": {},
     "output_type": "execute_result"
    }
   ],
   "source": [
    "stations.head()"
   ]
  },
  {
   "cell_type": "markdown",
   "metadata": {
    "collapsed": true
   },
   "source": [
    "## 4-4 셀프 주유소는 정말 저렴한지 boxplot으로 확인하기"
   ]
  },
  {
   "cell_type": "code",
   "execution_count": 22,
   "metadata": {},
   "outputs": [],
   "source": [
    "import matplotlib.pyplot as plt\n",
    "import seaborn as sns\n",
    "%matplotlib inline\n",
    "\n",
    "import platform\n",
    "\n",
    "path = \"c:/Windows/Fonts/malgun.ttf\"\n",
    "from matplotlib import font_manager, rc\n",
    "if platform.system() == 'Darwin':\n",
    "    rc('font', family='AppleGothic')\n",
    "elif platform.system() == 'Windows':\n",
    "    font_name = font_manager.FontProperties(fname=path).get_name()\n",
    "    rc('font', family=font_name)\n",
    "else:\n",
    "    print('Unknown system... sorry~~~~') "
   ]
  },
  {
   "cell_type": "code",
   "execution_count": 23,
   "metadata": {},
   "outputs": [
    {
     "data": {
      "image/png": "[encoded data removed]",
      "text/plain": [
       "<matplotlib.figure.Figure at 0x10c7c69e8>"
      ]
     },
     "metadata": {},
     "output_type": "display_data"
    }
   ],
   "source": [
    "stations.boxplot(column='가격', by='셀프', figsize=(12,8));"
   ]
  },
  {
   "cell_type": "code",
   "execution_count": 24,
   "metadata": {},
   "outputs": [
    {
     "data": {
      "image/png": "[encoded data removed]",
      "text/plain": [
       "<matplotlib.figure.Figure at 0x10e9d8080>"
      ]
     },
     "metadata": {},
     "output_type": "display_data"
    }
   ],
   "source": [
    "plt.figure(figsize=(12,8))\n",
    "sns.boxplot(x=\"상표\", y=\"가격\", hue=\"셀프\", data=stations, palette=\"Set3\")\n",
    "plt.show()"
   ]
  },
  {
   "cell_type": "code",
   "execution_count": 25,
   "metadata": {},
   "outputs": [
    {
     "data": {
      "image/png": "[encoded data removed]",
      "text/plain": [
       "<matplotlib.figure.Figure at 0x110e04668>"
      ]
     },
     "metadata": {},
     "output_type": "display_data"
    }
   ],
   "source": [
    "plt.figure(figsize=(12,8))\n",
    "sns.boxplot(x=\"상표\", y=\"가격\", data=stations, palette=\"Set3\")\n",
    "sns.swarmplot(x=\"상표\", y=\"가격\", data=stations, color=\".6\")\n",
    "plt.show()"
   ]
  },
  {
   "cell_type": "markdown",
   "metadata": {
    "collapsed": true
   },
   "source": [
    "## 4-5 서울시 구별 주유 가격 확인하기"
   ]
  },
  {
   "cell_type": "code",
   "execution_count": 26,
   "metadata": {},
   "outputs": [],
   "source": [
    "import json\n",
    "import folium\n",
    "import googlemaps\n",
    "import warnings\n",
    "warnings.simplefilter(action = \"ignore\", category = FutureWarning)"
   ]
  },
  {
   "cell_type": "code",
   "execution_count": 27,
   "metadata": {},
   "outputs": [
    {
     "data": {
      "text/html": [
       "<div>\n",
       "<style scoped>\n",
       "    .dataframe tbody tr th:only-of-type {\n",
       "        vertical-align: middle;\n",
       "    }\n",
       "\n",
       "    .dataframe tbody tr th {\n",
       "        vertical-align: top;\n",
       "    }\n",
       "\n",
       "    .dataframe thead th {\n",
       "        text-align: right;\n",
       "    }\n",
       "</style>\n",
       "<table border=\"1\" class=\"dataframe\">\n",
       "  <thead>\n",
       "    <tr style=\"text-align: right;\">\n",
       "      <th></th>\n",
       "      <th>Oil_store</th>\n",
       "      <th>가격</th>\n",
       "      <th>상표</th>\n",
       "      <th>셀프</th>\n",
       "      <th>주소</th>\n",
       "      <th>구</th>\n",
       "    </tr>\n",
       "  </thead>\n",
       "  <tbody>\n",
       "    <tr>\n",
       "      <th>325</th>\n",
       "      <td>서남주유소</td>\n",
       "      <td>2132.0</td>\n",
       "      <td>SK에너지</td>\n",
       "      <td>N</td>\n",
       "      <td>서울 중구 통일로 30 (봉래동1가)</td>\n",
       "      <td>중구</td>\n",
       "    </tr>\n",
       "    <tr>\n",
       "      <th>324</th>\n",
       "      <td>장충주유소</td>\n",
       "      <td>2130.0</td>\n",
       "      <td>SK에너지</td>\n",
       "      <td>N</td>\n",
       "      <td>서울 중구 장충단로 202 (장충동1가)</td>\n",
       "      <td>중구</td>\n",
       "    </tr>\n",
       "    <tr>\n",
       "      <th>124</th>\n",
       "      <td>양재주유소</td>\n",
       "      <td>2128.0</td>\n",
       "      <td>SK에너지</td>\n",
       "      <td>N</td>\n",
       "      <td>서울 서초구 바우뫼로 178 (양재동)</td>\n",
       "      <td>서초구</td>\n",
       "    </tr>\n",
       "    <tr>\n",
       "      <th>532</th>\n",
       "      <td>뉴서울(강남)</td>\n",
       "      <td>2120.0</td>\n",
       "      <td>SK에너지</td>\n",
       "      <td>N</td>\n",
       "      <td>서울 강남구 언주로 716 (논현동)</td>\n",
       "      <td>강남구</td>\n",
       "    </tr>\n",
       "    <tr>\n",
       "      <th>531</th>\n",
       "      <td>오천주유소</td>\n",
       "      <td>2107.0</td>\n",
       "      <td>SK에너지</td>\n",
       "      <td>N</td>\n",
       "      <td>서울 강남구 봉은사로 503 (삼성동)</td>\n",
       "      <td>강남구</td>\n",
       "    </tr>\n",
       "    <tr>\n",
       "      <th>313</th>\n",
       "      <td>재동주유소</td>\n",
       "      <td>2106.0</td>\n",
       "      <td>SK에너지</td>\n",
       "      <td>N</td>\n",
       "      <td>서울특별시 종로구  율곡로 58 (경운동)</td>\n",
       "      <td>종로구</td>\n",
       "    </tr>\n",
       "    <tr>\n",
       "      <th>285</th>\n",
       "      <td>청파주유소</td>\n",
       "      <td>2106.0</td>\n",
       "      <td>SK에너지</td>\n",
       "      <td>N</td>\n",
       "      <td>서울특별시 용산구  청파로 311 (청파동1가)</td>\n",
       "      <td>용산구</td>\n",
       "    </tr>\n",
       "    <tr>\n",
       "      <th>284</th>\n",
       "      <td>갈월동주유소</td>\n",
       "      <td>2106.0</td>\n",
       "      <td>SK에너지</td>\n",
       "      <td>N</td>\n",
       "      <td>서울특별시 용산구  한강대로 322 (갈월동)</td>\n",
       "      <td>용산구</td>\n",
       "    </tr>\n",
       "    <tr>\n",
       "      <th>283</th>\n",
       "      <td>강변주유소</td>\n",
       "      <td>2106.0</td>\n",
       "      <td>SK에너지</td>\n",
       "      <td>N</td>\n",
       "      <td>서울특별시 용산구  원효로 9 (청암동)</td>\n",
       "      <td>용산구</td>\n",
       "    </tr>\n",
       "    <tr>\n",
       "      <th>323</th>\n",
       "      <td>통일주유소</td>\n",
       "      <td>2106.0</td>\n",
       "      <td>SK에너지</td>\n",
       "      <td>N</td>\n",
       "      <td>서울 중구 동호로 296 (장충동2가)</td>\n",
       "      <td>중구</td>\n",
       "    </tr>\n",
       "  </tbody>\n",
       "</table>\n",
       "</div>"
      ],
      "text/plain": [
       "    Oil_store      가격     상표 셀프                          주소    구\n",
       "325     서남주유소  2132.0  SK에너지  N        서울 중구 통일로 30 (봉래동1가)   중구\n",
       "324     장충주유소  2130.0  SK에너지  N      서울 중구 장충단로 202 (장충동1가)   중구\n",
       "124     양재주유소  2128.0  SK에너지  N       서울 서초구 바우뫼로 178 (양재동)  서초구\n",
       "532   뉴서울(강남)  2120.0  SK에너지  N        서울 강남구 언주로 716 (논현동)  강남구\n",
       "531     오천주유소  2107.0  SK에너지  N       서울 강남구 봉은사로 503 (삼성동)  강남구\n",
       "313     재동주유소  2106.0  SK에너지  N     서울특별시 종로구  율곡로 58 (경운동)  종로구\n",
       "285     청파주유소  2106.0  SK에너지  N  서울특별시 용산구  청파로 311 (청파동1가)  용산구\n",
       "284    갈월동주유소  2106.0  SK에너지  N   서울특별시 용산구  한강대로 322 (갈월동)  용산구\n",
       "283     강변주유소  2106.0  SK에너지  N      서울특별시 용산구  원효로 9 (청암동)  용산구\n",
       "323     통일주유소  2106.0  SK에너지  N       서울 중구 동호로 296 (장충동2가)   중구"
      ]
     },
     "execution_count": 27,
     "metadata": {},
     "output_type": "execute_result"
    }
   ],
   "source": [
    "stations.sort_values(by='가격', ascending=False).head(10)"
   ]
  },
  {
   "cell_type": "code",
   "execution_count": 28,
   "metadata": {},
   "outputs": [
    {
     "data": {
      "text/html": [
       "<div>\n",
       "<style scoped>\n",
       "    .dataframe tbody tr th:only-of-type {\n",
       "        vertical-align: middle;\n",
       "    }\n",
       "\n",
       "    .dataframe tbody tr th {\n",
       "        vertical-align: top;\n",
       "    }\n",
       "\n",
       "    .dataframe thead th {\n",
       "        text-align: right;\n",
       "    }\n",
       "</style>\n",
       "<table border=\"1\" class=\"dataframe\">\n",
       "  <thead>\n",
       "    <tr style=\"text-align: right;\">\n",
       "      <th></th>\n",
       "      <th>Oil_store</th>\n",
       "      <th>가격</th>\n",
       "      <th>상표</th>\n",
       "      <th>셀프</th>\n",
       "      <th>주소</th>\n",
       "      <th>구</th>\n",
       "    </tr>\n",
       "  </thead>\n",
       "  <tbody>\n",
       "    <tr>\n",
       "      <th>83</th>\n",
       "      <td>만남의광장주유소</td>\n",
       "      <td>1490.0</td>\n",
       "      <td>알뜰(ex)</td>\n",
       "      <td>N</td>\n",
       "      <td>서울 서초구 양재대로12길 73-71 (원지동)</td>\n",
       "      <td>서초구</td>\n",
       "    </tr>\n",
       "    <tr>\n",
       "      <th>344</th>\n",
       "      <td>강서오곡셀프주유소</td>\n",
       "      <td>1497.0</td>\n",
       "      <td>SK에너지</td>\n",
       "      <td>Y</td>\n",
       "      <td>서울특별시 강서구 벌말로 254 (오곡동)</td>\n",
       "      <td>강서구</td>\n",
       "    </tr>\n",
       "    <tr>\n",
       "      <th>451</th>\n",
       "      <td>태릉솔밭주유소</td>\n",
       "      <td>1497.0</td>\n",
       "      <td>S-OIL</td>\n",
       "      <td>Y</td>\n",
       "      <td>서울특별시 노원구 노원로 49 (공릉동)</td>\n",
       "      <td>노원구</td>\n",
       "    </tr>\n",
       "    <tr>\n",
       "      <th>258</th>\n",
       "      <td>수유동주유소</td>\n",
       "      <td>1498.0</td>\n",
       "      <td>GS칼텍스</td>\n",
       "      <td>Y</td>\n",
       "      <td>서울특별시 강북구  도봉로 395 (수유동)</td>\n",
       "      <td>강북구</td>\n",
       "    </tr>\n",
       "    <tr>\n",
       "      <th>227</th>\n",
       "      <td>(주)강서오일</td>\n",
       "      <td>1499.0</td>\n",
       "      <td>현대오일뱅크</td>\n",
       "      <td>N</td>\n",
       "      <td>서울 영등포구 도신로 151 (도림동)</td>\n",
       "      <td>영등포구</td>\n",
       "    </tr>\n",
       "    <tr>\n",
       "      <th>225</th>\n",
       "      <td>도림주유소</td>\n",
       "      <td>1499.0</td>\n",
       "      <td>알뜰주유소</td>\n",
       "      <td>Y</td>\n",
       "      <td>서울 영등포구 도림로 343 (도림동)</td>\n",
       "      <td>영등포구</td>\n",
       "    </tr>\n",
       "    <tr>\n",
       "      <th>226</th>\n",
       "      <td>(주)대청에너지 대청주유소</td>\n",
       "      <td>1499.0</td>\n",
       "      <td>GS칼텍스</td>\n",
       "      <td>N</td>\n",
       "      <td>서울 영등포구 가마산로 328 (대림동)</td>\n",
       "      <td>영등포구</td>\n",
       "    </tr>\n",
       "    <tr>\n",
       "      <th>415</th>\n",
       "      <td>풀페이주유소</td>\n",
       "      <td>1499.0</td>\n",
       "      <td>SK에너지</td>\n",
       "      <td>N</td>\n",
       "      <td>서울특별시 구로구 경인로 41 (온수동)</td>\n",
       "      <td>구로구</td>\n",
       "    </tr>\n",
       "    <tr>\n",
       "      <th>326</th>\n",
       "      <td>신일셀프주유소</td>\n",
       "      <td>1499.0</td>\n",
       "      <td>SK에너지</td>\n",
       "      <td>Y</td>\n",
       "      <td>서울 중랑구 상봉로 58 (망우동)</td>\n",
       "      <td>중랑구</td>\n",
       "    </tr>\n",
       "    <tr>\n",
       "      <th>40</th>\n",
       "      <td>서경주유소</td>\n",
       "      <td>1499.0</td>\n",
       "      <td>현대오일뱅크</td>\n",
       "      <td>N</td>\n",
       "      <td>서울 동작구 대림로 46 (신대방동)</td>\n",
       "      <td>동작구</td>\n",
       "    </tr>\n",
       "  </tbody>\n",
       "</table>\n",
       "</div>"
      ],
      "text/plain": [
       "          Oil_store      가격      상표 셀프                          주소     구\n",
       "83         만남의광장주유소  1490.0  알뜰(ex)  N  서울 서초구 양재대로12길 73-71 (원지동)   서초구\n",
       "344       강서오곡셀프주유소  1497.0   SK에너지  Y     서울특별시 강서구 벌말로 254 (오곡동)   강서구\n",
       "451         태릉솔밭주유소  1497.0   S-OIL  Y      서울특별시 노원구 노원로 49 (공릉동)   노원구\n",
       "258          수유동주유소  1498.0   GS칼텍스  Y    서울특별시 강북구  도봉로 395 (수유동)   강북구\n",
       "227         (주)강서오일  1499.0  현대오일뱅크  N       서울 영등포구 도신로 151 (도림동)  영등포구\n",
       "225           도림주유소  1499.0   알뜰주유소  Y       서울 영등포구 도림로 343 (도림동)  영등포구\n",
       "226  (주)대청에너지 대청주유소  1499.0   GS칼텍스  N      서울 영등포구 가마산로 328 (대림동)  영등포구\n",
       "415          풀페이주유소  1499.0   SK에너지  N      서울특별시 구로구 경인로 41 (온수동)   구로구\n",
       "326         신일셀프주유소  1499.0   SK에너지  Y         서울 중랑구 상봉로 58 (망우동)   중랑구\n",
       "40            서경주유소  1499.0  현대오일뱅크  N        서울 동작구 대림로 46 (신대방동)   동작구"
      ]
     },
     "execution_count": 28,
     "metadata": {},
     "output_type": "execute_result"
    }
   ],
   "source": [
    "stations.sort_values(by='가격', ascending=True).head(10)"
   ]
  },
  {
   "cell_type": "code",
   "execution_count": 29,
   "metadata": {},
   "outputs": [
    {
     "data": {
      "text/html": [
       "<div>\n",
       "<style scoped>\n",
       "    .dataframe tbody tr th:only-of-type {\n",
       "        vertical-align: middle;\n",
       "    }\n",
       "\n",
       "    .dataframe tbody tr th {\n",
       "        vertical-align: top;\n",
       "    }\n",
       "\n",
       "    .dataframe thead th {\n",
       "        text-align: right;\n",
       "    }\n",
       "</style>\n",
       "<table border=\"1\" class=\"dataframe\">\n",
       "  <thead>\n",
       "    <tr style=\"text-align: right;\">\n",
       "      <th></th>\n",
       "      <th>가격</th>\n",
       "    </tr>\n",
       "    <tr>\n",
       "      <th>구</th>\n",
       "      <th></th>\n",
       "    </tr>\n",
       "  </thead>\n",
       "  <tbody>\n",
       "    <tr>\n",
       "      <th>강남구</th>\n",
       "      <td>1791.000000</td>\n",
       "    </tr>\n",
       "    <tr>\n",
       "      <th>강동구</th>\n",
       "      <td>1656.722222</td>\n",
       "    </tr>\n",
       "    <tr>\n",
       "      <th>강북구</th>\n",
       "      <td>1534.333333</td>\n",
       "    </tr>\n",
       "    <tr>\n",
       "      <th>강서구</th>\n",
       "      <td>1576.428571</td>\n",
       "    </tr>\n",
       "    <tr>\n",
       "      <th>관악구</th>\n",
       "      <td>1603.055556</td>\n",
       "    </tr>\n",
       "  </tbody>\n",
       "</table>\n",
       "</div>"
      ],
      "text/plain": [
       "              가격\n",
       "구               \n",
       "강남구  1791.000000\n",
       "강동구  1656.722222\n",
       "강북구  1534.333333\n",
       "강서구  1576.428571\n",
       "관악구  1603.055556"
      ]
     },
     "execution_count": 29,
     "metadata": {},
     "output_type": "execute_result"
    }
   ],
   "source": [
    "import numpy as np\n",
    "\n",
    "gu_data = pd.pivot_table(stations, index=[\"구\"], values=[\"가격\"], \n",
    "                         aggfunc=np.mean)\n",
    "gu_data.head()"
   ]
  },
  {
   "cell_type": "code",
   "execution_count": 30,
   "metadata": {},
   "outputs": [
    {
     "data": {
      "text/html": [
       "<div style=\"width:100%;\"><div style=\"position:relative;width:100%;height:0;padding-bottom:60%;\"><iframe src=\"data:text/html;charset=utf-8;base64,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\" style=\"position:absolute;width:100%;height:100%;left:0;top:0;border:none !important;\" allowfullscreen webkitallowfullscreen mozallowfullscreen></iframe></div></div>"
      ],
      "text/plain": [
       "<folium.folium.Map at 0x1a18cfd5c0>"
      ]
     },
     "execution_count": 30,
     "metadata": {},
     "output_type": "execute_result"
    }
   ],
   "source": [
    "geo_path = '../data/02. skorea_municipalities_geo_simple.json'\n",
    "geo_str = json.load(open(geo_path, encoding='utf-8'))\n",
    "\n",
    "map = folium.Map(location=[37.5502, 126.982], zoom_start=10.5, \n",
    "                 tiles='Stamen Toner')\n",
    "\n",
    "map.choropleth(geo_data = geo_str,\n",
    "               data = gu_data,\n",
    "               columns=[gu_data.index, '가격'],\n",
    "               fill_color='PuRd', #PuRd, YlGnBu\n",
    "               key_on='feature.id')\n",
    "map"
   ]
  },
  {
   "cell_type": "markdown",
   "metadata": {},
   "source": [
    "## 4-6 서울시 주유 가격 상하위 10개 주유소 지도에 표기하기"
   ]
  },
  {
   "cell_type": "code",
   "execution_count": 31,
   "metadata": {},
   "outputs": [
    {
     "data": {
      "text/html": [
       "<div>\n",
       "<style scoped>\n",
       "    .dataframe tbody tr th:only-of-type {\n",
       "        vertical-align: middle;\n",
       "    }\n",
       "\n",
       "    .dataframe tbody tr th {\n",
       "        vertical-align: top;\n",
       "    }\n",
       "\n",
       "    .dataframe thead th {\n",
       "        text-align: right;\n",
       "    }\n",
       "</style>\n",
       "<table border=\"1\" class=\"dataframe\">\n",
       "  <thead>\n",
       "    <tr style=\"text-align: right;\">\n",
       "      <th></th>\n",
       "      <th>Oil_store</th>\n",
       "      <th>가격</th>\n",
       "      <th>상표</th>\n",
       "      <th>셀프</th>\n",
       "      <th>주소</th>\n",
       "      <th>구</th>\n",
       "    </tr>\n",
       "  </thead>\n",
       "  <tbody>\n",
       "    <tr>\n",
       "      <th>325</th>\n",
       "      <td>서남주유소</td>\n",
       "      <td>2132.0</td>\n",
       "      <td>SK에너지</td>\n",
       "      <td>N</td>\n",
       "      <td>서울 중구 통일로 30 (봉래동1가)</td>\n",
       "      <td>중구</td>\n",
       "    </tr>\n",
       "    <tr>\n",
       "      <th>324</th>\n",
       "      <td>장충주유소</td>\n",
       "      <td>2130.0</td>\n",
       "      <td>SK에너지</td>\n",
       "      <td>N</td>\n",
       "      <td>서울 중구 장충단로 202 (장충동1가)</td>\n",
       "      <td>중구</td>\n",
       "    </tr>\n",
       "    <tr>\n",
       "      <th>124</th>\n",
       "      <td>양재주유소</td>\n",
       "      <td>2128.0</td>\n",
       "      <td>SK에너지</td>\n",
       "      <td>N</td>\n",
       "      <td>서울 서초구 바우뫼로 178 (양재동)</td>\n",
       "      <td>서초구</td>\n",
       "    </tr>\n",
       "    <tr>\n",
       "      <th>532</th>\n",
       "      <td>뉴서울(강남)</td>\n",
       "      <td>2120.0</td>\n",
       "      <td>SK에너지</td>\n",
       "      <td>N</td>\n",
       "      <td>서울 강남구 언주로 716 (논현동)</td>\n",
       "      <td>강남구</td>\n",
       "    </tr>\n",
       "    <tr>\n",
       "      <th>531</th>\n",
       "      <td>오천주유소</td>\n",
       "      <td>2107.0</td>\n",
       "      <td>SK에너지</td>\n",
       "      <td>N</td>\n",
       "      <td>서울 강남구 봉은사로 503 (삼성동)</td>\n",
       "      <td>강남구</td>\n",
       "    </tr>\n",
       "    <tr>\n",
       "      <th>313</th>\n",
       "      <td>재동주유소</td>\n",
       "      <td>2106.0</td>\n",
       "      <td>SK에너지</td>\n",
       "      <td>N</td>\n",
       "      <td>서울특별시 종로구  율곡로 58 (경운동)</td>\n",
       "      <td>종로구</td>\n",
       "    </tr>\n",
       "    <tr>\n",
       "      <th>285</th>\n",
       "      <td>청파주유소</td>\n",
       "      <td>2106.0</td>\n",
       "      <td>SK에너지</td>\n",
       "      <td>N</td>\n",
       "      <td>서울특별시 용산구  청파로 311 (청파동1가)</td>\n",
       "      <td>용산구</td>\n",
       "    </tr>\n",
       "    <tr>\n",
       "      <th>284</th>\n",
       "      <td>갈월동주유소</td>\n",
       "      <td>2106.0</td>\n",
       "      <td>SK에너지</td>\n",
       "      <td>N</td>\n",
       "      <td>서울특별시 용산구  한강대로 322 (갈월동)</td>\n",
       "      <td>용산구</td>\n",
       "    </tr>\n",
       "    <tr>\n",
       "      <th>283</th>\n",
       "      <td>강변주유소</td>\n",
       "      <td>2106.0</td>\n",
       "      <td>SK에너지</td>\n",
       "      <td>N</td>\n",
       "      <td>서울특별시 용산구  원효로 9 (청암동)</td>\n",
       "      <td>용산구</td>\n",
       "    </tr>\n",
       "    <tr>\n",
       "      <th>323</th>\n",
       "      <td>통일주유소</td>\n",
       "      <td>2106.0</td>\n",
       "      <td>SK에너지</td>\n",
       "      <td>N</td>\n",
       "      <td>서울 중구 동호로 296 (장충동2가)</td>\n",
       "      <td>중구</td>\n",
       "    </tr>\n",
       "  </tbody>\n",
       "</table>\n",
       "</div>"
      ],
      "text/plain": [
       "    Oil_store      가격     상표 셀프                          주소    구\n",
       "325     서남주유소  2132.0  SK에너지  N        서울 중구 통일로 30 (봉래동1가)   중구\n",
       "324     장충주유소  2130.0  SK에너지  N      서울 중구 장충단로 202 (장충동1가)   중구\n",
       "124     양재주유소  2128.0  SK에너지  N       서울 서초구 바우뫼로 178 (양재동)  서초구\n",
       "532   뉴서울(강남)  2120.0  SK에너지  N        서울 강남구 언주로 716 (논현동)  강남구\n",
       "531     오천주유소  2107.0  SK에너지  N       서울 강남구 봉은사로 503 (삼성동)  강남구\n",
       "313     재동주유소  2106.0  SK에너지  N     서울특별시 종로구  율곡로 58 (경운동)  종로구\n",
       "285     청파주유소  2106.0  SK에너지  N  서울특별시 용산구  청파로 311 (청파동1가)  용산구\n",
       "284    갈월동주유소  2106.0  SK에너지  N   서울특별시 용산구  한강대로 322 (갈월동)  용산구\n",
       "283     강변주유소  2106.0  SK에너지  N      서울특별시 용산구  원효로 9 (청암동)  용산구\n",
       "323     통일주유소  2106.0  SK에너지  N       서울 중구 동호로 296 (장충동2가)   중구"
      ]
     },
     "execution_count": 31,
     "metadata": {},
     "output_type": "execute_result"
    }
   ],
   "source": [
    "oil_price_top10 = stations.sort_values(by='가격', ascending=False).head(10)\n",
    "oil_price_top10"
   ]
  },
  {
   "cell_type": "code",
   "execution_count": 32,
   "metadata": {},
   "outputs": [
    {
     "data": {
      "text/html": [
       "<div>\n",
       "<style scoped>\n",
       "    .dataframe tbody tr th:only-of-type {\n",
       "        vertical-align: middle;\n",
       "    }\n",
       "\n",
       "    .dataframe tbody tr th {\n",
       "        vertical-align: top;\n",
       "    }\n",
       "\n",
       "    .dataframe thead th {\n",
       "        text-align: right;\n",
       "    }\n",
       "</style>\n",
       "<table border=\"1\" class=\"dataframe\">\n",
       "  <thead>\n",
       "    <tr style=\"text-align: right;\">\n",
       "      <th></th>\n",
       "      <th>Oil_store</th>\n",
       "      <th>가격</th>\n",
       "      <th>상표</th>\n",
       "      <th>셀프</th>\n",
       "      <th>주소</th>\n",
       "      <th>구</th>\n",
       "    </tr>\n",
       "  </thead>\n",
       "  <tbody>\n",
       "    <tr>\n",
       "      <th>83</th>\n",
       "      <td>만남의광장주유소</td>\n",
       "      <td>1490.0</td>\n",
       "      <td>알뜰(ex)</td>\n",
       "      <td>N</td>\n",
       "      <td>서울 서초구 양재대로12길 73-71 (원지동)</td>\n",
       "      <td>서초구</td>\n",
       "    </tr>\n",
       "    <tr>\n",
       "      <th>344</th>\n",
       "      <td>강서오곡셀프주유소</td>\n",
       "      <td>1497.0</td>\n",
       "      <td>SK에너지</td>\n",
       "      <td>Y</td>\n",
       "      <td>서울특별시 강서구 벌말로 254 (오곡동)</td>\n",
       "      <td>강서구</td>\n",
       "    </tr>\n",
       "    <tr>\n",
       "      <th>451</th>\n",
       "      <td>태릉솔밭주유소</td>\n",
       "      <td>1497.0</td>\n",
       "      <td>S-OIL</td>\n",
       "      <td>Y</td>\n",
       "      <td>서울특별시 노원구 노원로 49 (공릉동)</td>\n",
       "      <td>노원구</td>\n",
       "    </tr>\n",
       "    <tr>\n",
       "      <th>258</th>\n",
       "      <td>수유동주유소</td>\n",
       "      <td>1498.0</td>\n",
       "      <td>GS칼텍스</td>\n",
       "      <td>Y</td>\n",
       "      <td>서울특별시 강북구  도봉로 395 (수유동)</td>\n",
       "      <td>강북구</td>\n",
       "    </tr>\n",
       "    <tr>\n",
       "      <th>227</th>\n",
       "      <td>(주)강서오일</td>\n",
       "      <td>1499.0</td>\n",
       "      <td>현대오일뱅크</td>\n",
       "      <td>N</td>\n",
       "      <td>서울 영등포구 도신로 151 (도림동)</td>\n",
       "      <td>영등포구</td>\n",
       "    </tr>\n",
       "    <tr>\n",
       "      <th>225</th>\n",
       "      <td>도림주유소</td>\n",
       "      <td>1499.0</td>\n",
       "      <td>알뜰주유소</td>\n",
       "      <td>Y</td>\n",
       "      <td>서울 영등포구 도림로 343 (도림동)</td>\n",
       "      <td>영등포구</td>\n",
       "    </tr>\n",
       "    <tr>\n",
       "      <th>226</th>\n",
       "      <td>(주)대청에너지 대청주유소</td>\n",
       "      <td>1499.0</td>\n",
       "      <td>GS칼텍스</td>\n",
       "      <td>N</td>\n",
       "      <td>서울 영등포구 가마산로 328 (대림동)</td>\n",
       "      <td>영등포구</td>\n",
       "    </tr>\n",
       "    <tr>\n",
       "      <th>415</th>\n",
       "      <td>풀페이주유소</td>\n",
       "      <td>1499.0</td>\n",
       "      <td>SK에너지</td>\n",
       "      <td>N</td>\n",
       "      <td>서울특별시 구로구 경인로 41 (온수동)</td>\n",
       "      <td>구로구</td>\n",
       "    </tr>\n",
       "    <tr>\n",
       "      <th>326</th>\n",
       "      <td>신일셀프주유소</td>\n",
       "      <td>1499.0</td>\n",
       "      <td>SK에너지</td>\n",
       "      <td>Y</td>\n",
       "      <td>서울 중랑구 상봉로 58 (망우동)</td>\n",
       "      <td>중랑구</td>\n",
       "    </tr>\n",
       "    <tr>\n",
       "      <th>40</th>\n",
       "      <td>서경주유소</td>\n",
       "      <td>1499.0</td>\n",
       "      <td>현대오일뱅크</td>\n",
       "      <td>N</td>\n",
       "      <td>서울 동작구 대림로 46 (신대방동)</td>\n",
       "      <td>동작구</td>\n",
       "    </tr>\n",
       "  </tbody>\n",
       "</table>\n",
       "</div>"
      ],
      "text/plain": [
       "          Oil_store      가격      상표 셀프                          주소     구\n",
       "83         만남의광장주유소  1490.0  알뜰(ex)  N  서울 서초구 양재대로12길 73-71 (원지동)   서초구\n",
       "344       강서오곡셀프주유소  1497.0   SK에너지  Y     서울특별시 강서구 벌말로 254 (오곡동)   강서구\n",
       "451         태릉솔밭주유소  1497.0   S-OIL  Y      서울특별시 노원구 노원로 49 (공릉동)   노원구\n",
       "258          수유동주유소  1498.0   GS칼텍스  Y    서울특별시 강북구  도봉로 395 (수유동)   강북구\n",
       "227         (주)강서오일  1499.0  현대오일뱅크  N       서울 영등포구 도신로 151 (도림동)  영등포구\n",
       "225           도림주유소  1499.0   알뜰주유소  Y       서울 영등포구 도림로 343 (도림동)  영등포구\n",
       "226  (주)대청에너지 대청주유소  1499.0   GS칼텍스  N      서울 영등포구 가마산로 328 (대림동)  영등포구\n",
       "415          풀페이주유소  1499.0   SK에너지  N      서울특별시 구로구 경인로 41 (온수동)   구로구\n",
       "326         신일셀프주유소  1499.0   SK에너지  Y         서울 중랑구 상봉로 58 (망우동)   중랑구\n",
       "40            서경주유소  1499.0  현대오일뱅크  N        서울 동작구 대림로 46 (신대방동)   동작구"
      ]
     },
     "execution_count": 32,
     "metadata": {},
     "output_type": "execute_result"
    }
   ],
   "source": [
    "oil_price_bottom10 = stations.sort_values(by='가격', ascending=True).head(10)\n",
    "oil_price_bottom10"
   ]
  },
  {
   "cell_type": "code",
   "execution_count": 35,
   "metadata": {},
   "outputs": [],
   "source": [
    "gmap_key = \"***************************************\" # 2장에서 구한 자신의 key를 입력\n",
    "gmaps = googlemaps.Client(key=gmap_key)"
   ]
  },
  {
   "cell_type": "code",
   "execution_count": 36,
   "metadata": {},
   "outputs": [
    {
     "data": {
      "application/vnd.jupyter.widget-view+json": {
       "model_id": "689905dd3f3640dd8b5ddcf58c2986ff",
       "version_major": 2,
       "version_minor": 0
      },
      "text/html": [
       "<p>Failed to display Jupyter Widget of type <code>HBox</code>.</p>\n",
       "<p>\n",
       "  If you're reading this message in the Jupyter Notebook or JupyterLab Notebook, it may mean\n",
       "  that the widgets JavaScript is still loading. If this message persists, it\n",
       "  likely means that the widgets JavaScript library is either not installed or\n",
       "  not enabled. See the <a href=\"https://ipywidgets.readthedocs.io/en/stable/user_install.html\">Jupyter\n",
       "  Widgets Documentation</a> for setup instructions.\n",
       "</p>\n",
       "<p>\n",
       "  If you're reading this message in another frontend (for example, a static\n",
       "  rendering on GitHub or <a href=\"https://nbviewer.jupyter.org/\">NBViewer</a>),\n",
       "  it may mean that your frontend doesn't currently support widgets.\n",
       "</p>\n"
      ],
      "text/plain": [
       "HBox(children=(IntProgress(value=0, max=10), HTML(value='')))"
      ]
     },
     "metadata": {},
     "output_type": "display_data"
    },
    {
     "name": "stdout",
     "output_type": "stream",
     "text": [
      "\n"
     ]
    },
    {
     "data": {
      "text/html": [
       "<div>\n",
       "<style scoped>\n",
       "    .dataframe tbody tr th:only-of-type {\n",
       "        vertical-align: middle;\n",
       "    }\n",
       "\n",
       "    .dataframe tbody tr th {\n",
       "        vertical-align: top;\n",
       "    }\n",
       "\n",
       "    .dataframe thead th {\n",
       "        text-align: right;\n",
       "    }\n",
       "</style>\n",
       "<table border=\"1\" class=\"dataframe\">\n",
       "  <thead>\n",
       "    <tr style=\"text-align: right;\">\n",
       "      <th></th>\n",
       "      <th>Oil_store</th>\n",
       "      <th>가격</th>\n",
       "      <th>상표</th>\n",
       "      <th>셀프</th>\n",
       "      <th>주소</th>\n",
       "      <th>구</th>\n",
       "      <th>lat</th>\n",
       "      <th>lng</th>\n",
       "    </tr>\n",
       "  </thead>\n",
       "  <tbody>\n",
       "    <tr>\n",
       "      <th>325</th>\n",
       "      <td>서남주유소</td>\n",
       "      <td>2132.0</td>\n",
       "      <td>SK에너지</td>\n",
       "      <td>N</td>\n",
       "      <td>서울 중구 통일로 30 (봉래동1가)</td>\n",
       "      <td>중구</td>\n",
       "      <td>37.558348</td>\n",
       "      <td>126.972090</td>\n",
       "    </tr>\n",
       "    <tr>\n",
       "      <th>324</th>\n",
       "      <td>장충주유소</td>\n",
       "      <td>2130.0</td>\n",
       "      <td>SK에너지</td>\n",
       "      <td>N</td>\n",
       "      <td>서울 중구 장충단로 202 (장충동1가)</td>\n",
       "      <td>중구</td>\n",
       "      <td>37.562719</td>\n",
       "      <td>127.007010</td>\n",
       "    </tr>\n",
       "    <tr>\n",
       "      <th>124</th>\n",
       "      <td>양재주유소</td>\n",
       "      <td>2128.0</td>\n",
       "      <td>SK에너지</td>\n",
       "      <td>N</td>\n",
       "      <td>서울 서초구 바우뫼로 178 (양재동)</td>\n",
       "      <td>서초구</td>\n",
       "      <td>37.478071</td>\n",
       "      <td>127.039610</td>\n",
       "    </tr>\n",
       "    <tr>\n",
       "      <th>532</th>\n",
       "      <td>뉴서울(강남)</td>\n",
       "      <td>2120.0</td>\n",
       "      <td>SK에너지</td>\n",
       "      <td>N</td>\n",
       "      <td>서울 강남구 언주로 716 (논현동)</td>\n",
       "      <td>강남구</td>\n",
       "      <td>37.517636</td>\n",
       "      <td>127.035756</td>\n",
       "    </tr>\n",
       "    <tr>\n",
       "      <th>531</th>\n",
       "      <td>오천주유소</td>\n",
       "      <td>2107.0</td>\n",
       "      <td>SK에너지</td>\n",
       "      <td>N</td>\n",
       "      <td>서울 강남구 봉은사로 503 (삼성동)</td>\n",
       "      <td>강남구</td>\n",
       "      <td>37.513458</td>\n",
       "      <td>127.053786</td>\n",
       "    </tr>\n",
       "    <tr>\n",
       "      <th>313</th>\n",
       "      <td>재동주유소</td>\n",
       "      <td>2106.0</td>\n",
       "      <td>SK에너지</td>\n",
       "      <td>N</td>\n",
       "      <td>서울특별시 종로구  율곡로 58 (경운동)</td>\n",
       "      <td>종로구</td>\n",
       "      <td>37.576388</td>\n",
       "      <td>126.985851</td>\n",
       "    </tr>\n",
       "    <tr>\n",
       "      <th>285</th>\n",
       "      <td>청파주유소</td>\n",
       "      <td>2106.0</td>\n",
       "      <td>SK에너지</td>\n",
       "      <td>N</td>\n",
       "      <td>서울특별시 용산구  청파로 311 (청파동1가)</td>\n",
       "      <td>용산구</td>\n",
       "      <td>37.547451</td>\n",
       "      <td>126.969904</td>\n",
       "    </tr>\n",
       "    <tr>\n",
       "      <th>284</th>\n",
       "      <td>갈월동주유소</td>\n",
       "      <td>2106.0</td>\n",
       "      <td>SK에너지</td>\n",
       "      <td>N</td>\n",
       "      <td>서울특별시 용산구  한강대로 322 (갈월동)</td>\n",
       "      <td>용산구</td>\n",
       "      <td>37.546955</td>\n",
       "      <td>126.972218</td>\n",
       "    </tr>\n",
       "    <tr>\n",
       "      <th>283</th>\n",
       "      <td>강변주유소</td>\n",
       "      <td>2106.0</td>\n",
       "      <td>SK에너지</td>\n",
       "      <td>N</td>\n",
       "      <td>서울특별시 용산구  원효로 9 (청암동)</td>\n",
       "      <td>용산구</td>\n",
       "      <td>37.534910</td>\n",
       "      <td>126.945869</td>\n",
       "    </tr>\n",
       "    <tr>\n",
       "      <th>323</th>\n",
       "      <td>통일주유소</td>\n",
       "      <td>2106.0</td>\n",
       "      <td>SK에너지</td>\n",
       "      <td>N</td>\n",
       "      <td>서울 중구 동호로 296 (장충동2가)</td>\n",
       "      <td>중구</td>\n",
       "      <td>37.560714</td>\n",
       "      <td>127.003177</td>\n",
       "    </tr>\n",
       "  </tbody>\n",
       "</table>\n",
       "</div>"
      ],
      "text/plain": [
       "    Oil_store      가격     상표 셀프                          주소    구        lat  \\\n",
       "325     서남주유소  2132.0  SK에너지  N        서울 중구 통일로 30 (봉래동1가)   중구  37.558348   \n",
       "324     장충주유소  2130.0  SK에너지  N      서울 중구 장충단로 202 (장충동1가)   중구  37.562719   \n",
       "124     양재주유소  2128.0  SK에너지  N       서울 서초구 바우뫼로 178 (양재동)  서초구  37.478071   \n",
       "532   뉴서울(강남)  2120.0  SK에너지  N        서울 강남구 언주로 716 (논현동)  강남구  37.517636   \n",
       "531     오천주유소  2107.0  SK에너지  N       서울 강남구 봉은사로 503 (삼성동)  강남구  37.513458   \n",
       "313     재동주유소  2106.0  SK에너지  N     서울특별시 종로구  율곡로 58 (경운동)  종로구  37.576388   \n",
       "285     청파주유소  2106.0  SK에너지  N  서울특별시 용산구  청파로 311 (청파동1가)  용산구  37.547451   \n",
       "284    갈월동주유소  2106.0  SK에너지  N   서울특별시 용산구  한강대로 322 (갈월동)  용산구  37.546955   \n",
       "283     강변주유소  2106.0  SK에너지  N      서울특별시 용산구  원효로 9 (청암동)  용산구  37.534910   \n",
       "323     통일주유소  2106.0  SK에너지  N       서울 중구 동호로 296 (장충동2가)   중구  37.560714   \n",
       "\n",
       "            lng  \n",
       "325  126.972090  \n",
       "324  127.007010  \n",
       "124  127.039610  \n",
       "532  127.035756  \n",
       "531  127.053786  \n",
       "313  126.985851  \n",
       "285  126.969904  \n",
       "284  126.972218  \n",
       "283  126.945869  \n",
       "323  127.003177  "
      ]
     },
     "execution_count": 36,
     "metadata": {},
     "output_type": "execute_result"
    }
   ],
   "source": [
    "from tqdm import tqdm_notebook\n",
    "\n",
    "lat = []\n",
    "lng = []\n",
    "\n",
    "for n in tqdm_notebook(oil_price_top10.index):\n",
    "    try:\n",
    "        tmp_add = str(oil_price_top10['주소'][n]).split('(')[0]\n",
    "        tmp_map = gmaps.geocode(tmp_add)\n",
    "\n",
    "        tmp_loc = tmp_map[0].get('geometry')\n",
    "        lat.append(tmp_loc['location']['lat'])\n",
    "        lng.append(tmp_loc['location']['lng'])\n",
    "        \n",
    "    except:\n",
    "        lat.append(np.nan)\n",
    "        lng.append(np.nan)\n",
    "        print(\"Here is nan !\")\n",
    "        \n",
    "oil_price_top10['lat'] = lat\n",
    "oil_price_top10['lng'] = lng\n",
    "oil_price_top10"
   ]
  },
  {
   "cell_type": "code",
   "execution_count": 37,
   "metadata": {},
   "outputs": [
    {
     "data": {
      "application/vnd.jupyter.widget-view+json": {
       "model_id": "6168da9154dd49829c7ab8fa53afd6fd",
       "version_major": 2,
       "version_minor": 0
      },
      "text/html": [
       "<p>Failed to display Jupyter Widget of type <code>HBox</code>.</p>\n",
       "<p>\n",
       "  If you're reading this message in the Jupyter Notebook or JupyterLab Notebook, it may mean\n",
       "  that the widgets JavaScript is still loading. If this message persists, it\n",
       "  likely means that the widgets JavaScript library is either not installed or\n",
       "  not enabled. See the <a href=\"https://ipywidgets.readthedocs.io/en/stable/user_install.html\">Jupyter\n",
       "  Widgets Documentation</a> for setup instructions.\n",
       "</p>\n",
       "<p>\n",
       "  If you're reading this message in another frontend (for example, a static\n",
       "  rendering on GitHub or <a href=\"https://nbviewer.jupyter.org/\">NBViewer</a>),\n",
       "  it may mean that your frontend doesn't currently support widgets.\n",
       "</p>\n"
      ],
      "text/plain": [
       "HBox(children=(IntProgress(value=0, max=10), HTML(value='')))"
      ]
     },
     "metadata": {},
     "output_type": "display_data"
    },
    {
     "name": "stdout",
     "output_type": "stream",
     "text": [
      "\n"
     ]
    },
    {
     "data": {
      "text/html": [
       "<div>\n",
       "<style scoped>\n",
       "    .dataframe tbody tr th:only-of-type {\n",
       "        vertical-align: middle;\n",
       "    }\n",
       "\n",
       "    .dataframe tbody tr th {\n",
       "        vertical-align: top;\n",
       "    }\n",
       "\n",
       "    .dataframe thead th {\n",
       "        text-align: right;\n",
       "    }\n",
       "</style>\n",
       "<table border=\"1\" class=\"dataframe\">\n",
       "  <thead>\n",
       "    <tr style=\"text-align: right;\">\n",
       "      <th></th>\n",
       "      <th>Oil_store</th>\n",
       "      <th>가격</th>\n",
       "      <th>상표</th>\n",
       "      <th>셀프</th>\n",
       "      <th>주소</th>\n",
       "      <th>구</th>\n",
       "      <th>lat</th>\n",
       "      <th>lng</th>\n",
       "    </tr>\n",
       "  </thead>\n",
       "  <tbody>\n",
       "    <tr>\n",
       "      <th>83</th>\n",
       "      <td>만남의광장주유소</td>\n",
       "      <td>1490.0</td>\n",
       "      <td>알뜰(ex)</td>\n",
       "      <td>N</td>\n",
       "      <td>서울 서초구 양재대로12길 73-71 (원지동)</td>\n",
       "      <td>서초구</td>\n",
       "      <td>37.459906</td>\n",
       "      <td>127.042060</td>\n",
       "    </tr>\n",
       "    <tr>\n",
       "      <th>344</th>\n",
       "      <td>강서오곡셀프주유소</td>\n",
       "      <td>1497.0</td>\n",
       "      <td>SK에너지</td>\n",
       "      <td>Y</td>\n",
       "      <td>서울특별시 강서구 벌말로 254 (오곡동)</td>\n",
       "      <td>강서구</td>\n",
       "      <td>37.555284</td>\n",
       "      <td>126.768567</td>\n",
       "    </tr>\n",
       "    <tr>\n",
       "      <th>451</th>\n",
       "      <td>태릉솔밭주유소</td>\n",
       "      <td>1497.0</td>\n",
       "      <td>S-OIL</td>\n",
       "      <td>Y</td>\n",
       "      <td>서울특별시 노원구 노원로 49 (공릉동)</td>\n",
       "      <td>노원구</td>\n",
       "      <td>37.625918</td>\n",
       "      <td>127.085533</td>\n",
       "    </tr>\n",
       "    <tr>\n",
       "      <th>258</th>\n",
       "      <td>수유동주유소</td>\n",
       "      <td>1498.0</td>\n",
       "      <td>GS칼텍스</td>\n",
       "      <td>Y</td>\n",
       "      <td>서울특별시 강북구  도봉로 395 (수유동)</td>\n",
       "      <td>강북구</td>\n",
       "      <td>37.642140</td>\n",
       "      <td>127.029568</td>\n",
       "    </tr>\n",
       "    <tr>\n",
       "      <th>227</th>\n",
       "      <td>(주)강서오일</td>\n",
       "      <td>1499.0</td>\n",
       "      <td>현대오일뱅크</td>\n",
       "      <td>N</td>\n",
       "      <td>서울 영등포구 도신로 151 (도림동)</td>\n",
       "      <td>영등포구</td>\n",
       "      <td>37.509969</td>\n",
       "      <td>126.908231</td>\n",
       "    </tr>\n",
       "    <tr>\n",
       "      <th>225</th>\n",
       "      <td>도림주유소</td>\n",
       "      <td>1499.0</td>\n",
       "      <td>알뜰주유소</td>\n",
       "      <td>Y</td>\n",
       "      <td>서울 영등포구 도림로 343 (도림동)</td>\n",
       "      <td>영등포구</td>\n",
       "      <td>37.507656</td>\n",
       "      <td>126.900191</td>\n",
       "    </tr>\n",
       "    <tr>\n",
       "      <th>226</th>\n",
       "      <td>(주)대청에너지 대청주유소</td>\n",
       "      <td>1499.0</td>\n",
       "      <td>GS칼텍스</td>\n",
       "      <td>N</td>\n",
       "      <td>서울 영등포구 가마산로 328 (대림동)</td>\n",
       "      <td>영등포구</td>\n",
       "      <td>37.498556</td>\n",
       "      <td>126.895791</td>\n",
       "    </tr>\n",
       "    <tr>\n",
       "      <th>415</th>\n",
       "      <td>풀페이주유소</td>\n",
       "      <td>1499.0</td>\n",
       "      <td>SK에너지</td>\n",
       "      <td>N</td>\n",
       "      <td>서울특별시 구로구 경인로 41 (온수동)</td>\n",
       "      <td>구로구</td>\n",
       "      <td>37.491009</td>\n",
       "      <td>126.826675</td>\n",
       "    </tr>\n",
       "    <tr>\n",
       "      <th>326</th>\n",
       "      <td>신일셀프주유소</td>\n",
       "      <td>1499.0</td>\n",
       "      <td>SK에너지</td>\n",
       "      <td>Y</td>\n",
       "      <td>서울 중랑구 상봉로 58 (망우동)</td>\n",
       "      <td>중랑구</td>\n",
       "      <td>37.590907</td>\n",
       "      <td>127.093834</td>\n",
       "    </tr>\n",
       "    <tr>\n",
       "      <th>40</th>\n",
       "      <td>서경주유소</td>\n",
       "      <td>1499.0</td>\n",
       "      <td>현대오일뱅크</td>\n",
       "      <td>N</td>\n",
       "      <td>서울 동작구 대림로 46 (신대방동)</td>\n",
       "      <td>동작구</td>\n",
       "      <td>37.487947</td>\n",
       "      <td>126.908240</td>\n",
       "    </tr>\n",
       "  </tbody>\n",
       "</table>\n",
       "</div>"
      ],
      "text/plain": [
       "          Oil_store      가격      상표 셀프                          주소     구  \\\n",
       "83         만남의광장주유소  1490.0  알뜰(ex)  N  서울 서초구 양재대로12길 73-71 (원지동)   서초구   \n",
       "344       강서오곡셀프주유소  1497.0   SK에너지  Y     서울특별시 강서구 벌말로 254 (오곡동)   강서구   \n",
       "451         태릉솔밭주유소  1497.0   S-OIL  Y      서울특별시 노원구 노원로 49 (공릉동)   노원구   \n",
       "258          수유동주유소  1498.0   GS칼텍스  Y    서울특별시 강북구  도봉로 395 (수유동)   강북구   \n",
       "227         (주)강서오일  1499.0  현대오일뱅크  N       서울 영등포구 도신로 151 (도림동)  영등포구   \n",
       "225           도림주유소  1499.0   알뜰주유소  Y       서울 영등포구 도림로 343 (도림동)  영등포구   \n",
       "226  (주)대청에너지 대청주유소  1499.0   GS칼텍스  N      서울 영등포구 가마산로 328 (대림동)  영등포구   \n",
       "415          풀페이주유소  1499.0   SK에너지  N      서울특별시 구로구 경인로 41 (온수동)   구로구   \n",
       "326         신일셀프주유소  1499.0   SK에너지  Y         서울 중랑구 상봉로 58 (망우동)   중랑구   \n",
       "40            서경주유소  1499.0  현대오일뱅크  N        서울 동작구 대림로 46 (신대방동)   동작구   \n",
       "\n",
       "           lat         lng  \n",
       "83   37.459906  127.042060  \n",
       "344  37.555284  126.768567  \n",
       "451  37.625918  127.085533  \n",
       "258  37.642140  127.029568  \n",
       "227  37.509969  126.908231  \n",
       "225  37.507656  126.900191  \n",
       "226  37.498556  126.895791  \n",
       "415  37.491009  126.826675  \n",
       "326  37.590907  127.093834  \n",
       "40   37.487947  126.908240  "
      ]
     },
     "execution_count": 37,
     "metadata": {},
     "output_type": "execute_result"
    }
   ],
   "source": [
    "lat = []\n",
    "lng = []\n",
    "\n",
    "for n in tqdm_notebook(oil_price_bottom10.index):\n",
    "    try:\n",
    "        tmp_add = oil_price_bottom10['주소'][n].split('(')[0]\n",
    "        tmp_map = gmaps.geocode(tmp_add)\n",
    "\n",
    "        tmp_loc = tmp_map[0]['geometry']\n",
    "        lat.append(tmp_loc['location']['lat'])\n",
    "        lng.append(tmp_loc['location']['lng'])\n",
    "        \n",
    "    except:\n",
    "        lat.append(np.nan)\n",
    "        lng.append(np.nan)\n",
    "        print(\"Here is nan !\")\n",
    "    \n",
    "oil_price_bottom10['lat'] = lat\n",
    "oil_price_bottom10['lng'] = lng\n",
    "oil_price_bottom10"
   ]
  },
  {
   "cell_type": "code",
   "execution_count": 38,
   "metadata": {},
   "outputs": [
    {
     "data": {
      "text/html": [
       "<div style=\"width:100%;\"><div style=\"position:relative;width:100%;height:0;padding-bottom:60%;\"><iframe src=\"data:text/html;charset=utf-8;base64,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\" style=\"position:absolute;width:100%;height:100%;left:0;top:0;border:none !important;\" allowfullscreen webkitallowfullscreen mozallowfullscreen></iframe></div></div>"
      ],
      "text/plain": [
       "<folium.folium.Map at 0x110e719b0>"
      ]
     },
     "execution_count": 38,
     "metadata": {},
     "output_type": "execute_result"
    }
   ],
   "source": [
    "map = folium.Map(location=[37.5202, 126.975], zoom_start=10.5)\n",
    "\n",
    "for n in oil_price_top10.index:\n",
    "    if pd.notnull(oil_price_top10['lat'][n]):\n",
    "        folium.CircleMarker([oil_price_top10['lat'][n], oil_price_top10['lng'][n]], \n",
    "                                  radius=15, color='#CD3181', \n",
    "                                  fill_color='#CD3181',\n",
    "                                  fill=True).add_to(map)\n",
    "    \n",
    "for n in oil_price_bottom10.index:\n",
    "    if pd.notnull(oil_price_bottom10['lat'][n]): \n",
    "        folium.CircleMarker([oil_price_bottom10['lat'][n], \n",
    "                                  oil_price_bottom10['lng'][n]], \n",
    "                                  radius=15, color='#3186cc', \n",
    "                                  fill_color='#3186cc',\n",
    "                                  fill=True).add_to(map)\n",
    "        \n",
    "map"
   ]
  },
  {
   "cell_type": "code",
   "execution_count": null,
   "metadata": {
    "collapsed": true
   },
   "outputs": [],
   "source": []
  }
 ],
 "metadata": {
  "kernelspec": {
   "display_name": "Python 3",
   "language": "python",
   "name": "python3"
  },
  "language_info": {
   "codemirror_mode": {
    "name": "ipython",
    "version": 3
   },
   "file_extension": ".py",
   "mimetype": "text/x-python",
   "name": "python",
   "nbconvert_exporter": "python",
   "pygments_lexer": "ipython3",
   "version": "3.7.4"
  }
 },
 "nbformat": 4,
 "nbformat_minor": 1
}
