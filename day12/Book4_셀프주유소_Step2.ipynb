{
 "cells": [
  {
   "cell_type": "markdown",
   "metadata": {},
   "source": [
    "## 크롬드라이버 받는곳 \n",
    "\n",
    "http://chromedriver.chromium.org/downloads "
   ]
  },
  {
   "cell_type": "markdown",
   "metadata": {
    "collapsed": true
   },
   "source": [
    "## 서울시 구별 주유소 가격 정보 얻기"
   ]
  },
  {
   "cell_type": "code",
   "execution_count": 7,
   "metadata": {},
   "outputs": [],
   "source": [
    "from selenium import webdriver"
   ]
  },
  {
   "cell_type": "code",
   "execution_count": 9,
   "metadata": {},
   "outputs": [],
   "source": [
    "driver = webdriver.Chrome('../driver/chromedriver')\n",
    "driver.get(\"http://www.opinet.co.kr/searRgSelect.do\")"
   ]
  },
  {
   "cell_type": "markdown",
   "metadata": {},
   "source": [
    "- 상단메뉴에서 [주유소/충전소 찾기]-[지역별] 에서 서울 입력 "
   ]
  },
  {
   "cell_type": "markdown",
   "metadata": {},
   "source": [
    "### http://www.opinet.co.kr/searRgSelect.do#"
   ]
  },
  {
   "cell_type": "markdown",
   "metadata": {},
   "source": [
    "### xpath 이용하기 \n",
    "\n",
    "- html에서 [Copy]-[Copy xPAth]\n",
    "- 변수 = driver.find_element_by_xpath(\"\"\"xPath\"\"\")\n",
    "- 변수.find_elements_by_tag_name(\"태그명\")"
   ]
  },
  {
   "cell_type": "code",
   "execution_count": 12,
   "metadata": {},
   "outputs": [
    {
     "data": {
      "text/plain": [
       "26"
      ]
     },
     "execution_count": 12,
     "metadata": {},
     "output_type": "execute_result"
    }
   ],
   "source": [
    "# 구 옵션메뉴 클릭 \n",
    "# [F12] 소스 편집창에서 [Copy]-[Xpath]\n",
    "# //*[@id=\"SIGUNGU_NM0\"]\n",
    "# //*[@id=\"SIGUNGU_NM0\"]\n",
    "\n",
    "gu_list_raw = driver.find_element_by_xpath(\"\"\"//*[@id=\"SIGUNGU_NM0\"]\"\"\")\n",
    "# gu_list_raw\n",
    "gu_list = gu_list_raw.find_elements_by_tag_name(\"option\")\n",
    "len(gu_list)"
   ]
  },
  {
   "cell_type": "markdown",
   "metadata": {},
   "source": [
    "### \"value\" 값으로 구이름 추출하기 \n",
    "\n",
    "- get_attribute('속성') => 속성값 추출"
   ]
  },
  {
   "cell_type": "code",
   "execution_count": 14,
   "metadata": {
    "scrolled": true
   },
   "outputs": [
    {
     "data": {
      "text/plain": [
       "['강남구',\n",
       " '강동구',\n",
       " '강북구',\n",
       " '강서구',\n",
       " '관악구',\n",
       " '광진구',\n",
       " '구로구',\n",
       " '금천구',\n",
       " '노원구',\n",
       " '도봉구',\n",
       " '동대문구',\n",
       " '동작구',\n",
       " '마포구',\n",
       " '서대문구',\n",
       " '서초구',\n",
       " '성동구',\n",
       " '성북구',\n",
       " '송파구',\n",
       " '양천구',\n",
       " '영등포구',\n",
       " '용산구',\n",
       " '은평구',\n",
       " '종로구',\n",
       " '중구',\n",
       " '중랑구']"
      ]
     },
     "execution_count": 14,
     "metadata": {},
     "output_type": "execute_result"
    }
   ],
   "source": [
    "gu_names = [option.get_attribute(\"value\") for option in gu_list]\n",
    "gu_names\n",
    "gu_names.remove('')\n",
    "gu_names"
   ]
  },
  {
   "cell_type": "markdown",
   "metadata": {},
   "source": [
    "### 강남구에 대한 주유소 지도 표시하기 "
   ]
  },
  {
   "cell_type": "code",
   "execution_count": 16,
   "metadata": {},
   "outputs": [
    {
     "data": {
      "text/plain": [
       "<selenium.webdriver.remote.webelement.WebElement (session=\"d9a7fb8866da55e0a9b34d9dcc3eab3e\", element=\"e5518c84-22f0-46ee-b847-923c04daa5d9\")>"
      ]
     },
     "execution_count": 16,
     "metadata": {},
     "output_type": "execute_result"
    }
   ],
   "source": [
    "# 강남구 지정하기 \n",
    "#  #SIGUNGU_NM0 는 2번째 옵션 [Copy]-[Copy Selector]\n",
    "#  #SIGUNGU_NM0\n",
    "element = driver.find_element_by_id(\"SIGUNGU_NM0\")\n",
    "element.send_keys(gu_names[0])\n",
    "element"
   ]
  },
  {
   "cell_type": "code",
   "execution_count": 17,
   "metadata": {},
   "outputs": [],
   "source": [
    "# [조회] a 태그의 xpath 조회한 후 클릭 \n",
    "# //*[@id=\"searRgSelect\"]\n",
    "\n",
    "xpath = \"\"\"//*[@id=\"searRgSelect\"]\"\"\"\n",
    "element_sel_gu = driver.find_element_by_xpath(xpath).click()"
   ]
  },
  {
   "cell_type": "code",
   "execution_count": 18,
   "metadata": {},
   "outputs": [],
   "source": [
    "# 강남구 주유소 검색 페이지가 표시 \n",
    "# 하단 [엑셀저장] 의 xpath 조회 \n",
    "# //*[@id=\"glopopd_excel\"]\n",
    "# //*[@id=\"glopopd_excel\"]\n",
    "\n",
    "xpath = \"\"\"//*[@id=\"glopopd_excel\"]\"\"\"\n",
    "element_get_excel = driver.find_element_by_xpath(xpath).click()"
   ]
  },
  {
   "cell_type": "markdown",
   "metadata": {},
   "source": [
    "## 서울 모든 구에 대한 주유소 엑셀 파일 저장하기 "
   ]
  },
  {
   "cell_type": "code",
   "execution_count": 19,
   "metadata": {},
   "outputs": [
    {
     "data": {
      "application/vnd.jupyter.widget-view+json": {
       "model_id": "e53bfec5fe954a6eb28b8a686ba0c890",
       "version_major": 2,
       "version_minor": 0
      },
      "text/plain": [
       "HBox(children=(IntProgress(value=0, max=25), HTML(value='')))"
      ]
     },
     "metadata": {},
     "output_type": "display_data"
    },
    {
     "name": "stdout",
     "output_type": "stream",
     "text": [
      "\n"
     ]
    }
   ],
   "source": [
    "import time\n",
    "from tqdm import tqdm_notebook\n",
    "\n",
    "for gu in tqdm_notebook(gu_names):\n",
    "    element = driver.find_element_by_id(\"SIGUNGU_NM0\")\n",
    "    element.send_keys(gu)\n",
    "    \n",
    "    time.sleep(2)\n",
    "    \n",
    "    xpath = \"\"\"//*[@id=\"searRgSelect\"]\"\"\"\n",
    "    element_sel_gu = driver.find_element_by_xpath(xpath).click()\n",
    "    \n",
    "    time.sleep(1)\n",
    "    \n",
    "    xpath = \"\"\"//*[@id=\"glopopd_excel\"]\"\"\"\n",
    "    element_get_excel = driver.find_element_by_xpath(xpath).click()\n",
    "    \n",
    "    time.sleep(1)"
   ]
  },
  {
   "cell_type": "code",
   "execution_count": null,
   "metadata": {},
   "outputs": [],
   "source": [
    "# 엑셀 파일이 다운로드 된다. \n",
    "# output_excel 폴더 생성후 다운로드한 파일 이동시키기 "
   ]
  },
  {
   "cell_type": "code",
   "execution_count": 20,
   "metadata": {},
   "outputs": [
    {
     "data": {
      "text/plain": [
       "26"
      ]
     },
     "execution_count": 20,
     "metadata": {},
     "output_type": "execute_result"
    }
   ],
   "source": [
    "import os\n",
    "os.listdir('output_excel')\n",
    "len(os.listdir('output_excel'))"
   ]
  },
  {
   "cell_type": "code",
   "execution_count": 21,
   "metadata": {},
   "outputs": [],
   "source": [
    "driver.close()"
   ]
  },
  {
   "cell_type": "code",
   "execution_count": null,
   "metadata": {},
   "outputs": [],
   "source": []
  },
  {
   "cell_type": "markdown",
   "metadata": {
    "collapsed": true
   },
   "source": [
    "## 구별 주유 가격에 대한 데이터의 정리"
   ]
  },
  {
   "cell_type": "markdown",
   "metadata": {},
   "source": [
    "### golb 모듈의 glob() 를 이용하여 특정 폴더안의 엑셀 파일 리스트 생성\n",
    "\n",
    "- 리스트변수 = glob.glob('폴더경로l/*.확장자')"
   ]
  },
  {
   "cell_type": "code",
   "execution_count": 22,
   "metadata": {},
   "outputs": [],
   "source": [
    "import pandas as pd\n",
    "import glob"
   ]
  },
  {
   "cell_type": "code",
   "execution_count": 23,
   "metadata": {
    "scrolled": false
   },
   "outputs": [
    {
     "data": {
      "text/plain": [
       "['output_excel\\\\지역_위치별(주유소) (49).xls',\n",
       " 'output_excel\\\\지역_위치별(주유소) (50).xls',\n",
       " 'output_excel\\\\지역_위치별(주유소) (51).xls',\n",
       " 'output_excel\\\\지역_위치별(주유소) (52).xls',\n",
       " 'output_excel\\\\지역_위치별(주유소) (53).xls',\n",
       " 'output_excel\\\\지역_위치별(주유소) (54).xls',\n",
       " 'output_excel\\\\지역_위치별(주유소) (55).xls',\n",
       " 'output_excel\\\\지역_위치별(주유소) (56).xls',\n",
       " 'output_excel\\\\지역_위치별(주유소) (57).xls',\n",
       " 'output_excel\\\\지역_위치별(주유소) (58).xls',\n",
       " 'output_excel\\\\지역_위치별(주유소) (59).xls',\n",
       " 'output_excel\\\\지역_위치별(주유소) (60).xls',\n",
       " 'output_excel\\\\지역_위치별(주유소) (61).xls',\n",
       " 'output_excel\\\\지역_위치별(주유소) (62).xls',\n",
       " 'output_excel\\\\지역_위치별(주유소) (63).xls',\n",
       " 'output_excel\\\\지역_위치별(주유소) (64).xls',\n",
       " 'output_excel\\\\지역_위치별(주유소) (65).xls',\n",
       " 'output_excel\\\\지역_위치별(주유소) (66).xls',\n",
       " 'output_excel\\\\지역_위치별(주유소) (67).xls',\n",
       " 'output_excel\\\\지역_위치별(주유소) (68).xls',\n",
       " 'output_excel\\\\지역_위치별(주유소) (69).xls',\n",
       " 'output_excel\\\\지역_위치별(주유소) (70).xls',\n",
       " 'output_excel\\\\지역_위치별(주유소) (71).xls',\n",
       " 'output_excel\\\\지역_위치별(주유소) (72).xls',\n",
       " 'output_excel\\\\지역_위치별(주유소) (73).xls',\n",
       " 'output_excel\\\\지역_위치별(주유소) (74).xls']"
      ]
     },
     "execution_count": 23,
     "metadata": {},
     "output_type": "execute_result"
    }
   ],
   "source": [
    "glob.glob('output_excel/*.xls')"
   ]
  },
  {
   "cell_type": "code",
   "execution_count": 25,
   "metadata": {
    "scrolled": true
   },
   "outputs": [
    {
     "data": {
      "text/plain": [
       "['output_excel\\\\지역_위치별(주유소) (49).xls',\n",
       " 'output_excel\\\\지역_위치별(주유소) (50).xls',\n",
       " 'output_excel\\\\지역_위치별(주유소) (51).xls',\n",
       " 'output_excel\\\\지역_위치별(주유소) (52).xls',\n",
       " 'output_excel\\\\지역_위치별(주유소) (53).xls',\n",
       " 'output_excel\\\\지역_위치별(주유소) (54).xls',\n",
       " 'output_excel\\\\지역_위치별(주유소) (55).xls',\n",
       " 'output_excel\\\\지역_위치별(주유소) (56).xls',\n",
       " 'output_excel\\\\지역_위치별(주유소) (57).xls',\n",
       " 'output_excel\\\\지역_위치별(주유소) (58).xls',\n",
       " 'output_excel\\\\지역_위치별(주유소) (59).xls',\n",
       " 'output_excel\\\\지역_위치별(주유소) (60).xls',\n",
       " 'output_excel\\\\지역_위치별(주유소) (61).xls',\n",
       " 'output_excel\\\\지역_위치별(주유소) (62).xls',\n",
       " 'output_excel\\\\지역_위치별(주유소) (63).xls',\n",
       " 'output_excel\\\\지역_위치별(주유소) (64).xls',\n",
       " 'output_excel\\\\지역_위치별(주유소) (65).xls',\n",
       " 'output_excel\\\\지역_위치별(주유소) (66).xls',\n",
       " 'output_excel\\\\지역_위치별(주유소) (67).xls',\n",
       " 'output_excel\\\\지역_위치별(주유소) (68).xls',\n",
       " 'output_excel\\\\지역_위치별(주유소) (69).xls',\n",
       " 'output_excel\\\\지역_위치별(주유소) (70).xls',\n",
       " 'output_excel\\\\지역_위치별(주유소) (71).xls',\n",
       " 'output_excel\\\\지역_위치별(주유소) (72).xls',\n",
       " 'output_excel\\\\지역_위치별(주유소) (73).xls',\n",
       " 'output_excel\\\\지역_위치별(주유소) (74).xls']"
      ]
     },
     "execution_count": 25,
     "metadata": {},
     "output_type": "execute_result"
    }
   ],
   "source": [
    "# 특정폴더에 있는 모든 엑셀파일을 리스트로 생성 \n",
    "stations_files = glob.glob('output_excel/*.xls')\n",
    "stations_files"
   ]
  },
  {
   "cell_type": "markdown",
   "metadata": {},
   "source": [
    "### 엑셀파일 모두 합치고 데이타프레임 생성 "
   ]
  },
  {
   "cell_type": "code",
   "execution_count": 26,
   "metadata": {},
   "outputs": [],
   "source": [
    "tmp_raw = []\n",
    "\n",
    "for file_name in stations_files:\n",
    "    tmp = pd.read_excel(file_name, header=2)\n",
    "    tmp_raw.append(tmp)\n",
    "    \n",
    "station_raw = pd.concat(tmp_raw)"
   ]
  },
  {
   "cell_type": "code",
   "execution_count": 27,
   "metadata": {},
   "outputs": [
    {
     "data": {
      "text/html": [
       "<div>\n",
       "<style scoped>\n",
       "    .dataframe tbody tr th:only-of-type {\n",
       "        vertical-align: middle;\n",
       "    }\n",
       "\n",
       "    .dataframe tbody tr th {\n",
       "        vertical-align: top;\n",
       "    }\n",
       "\n",
       "    .dataframe thead th {\n",
       "        text-align: right;\n",
       "    }\n",
       "</style>\n",
       "<table border=\"1\" class=\"dataframe\">\n",
       "  <thead>\n",
       "    <tr style=\"text-align: right;\">\n",
       "      <th></th>\n",
       "      <th>지역</th>\n",
       "      <th>상호</th>\n",
       "      <th>주소</th>\n",
       "      <th>상표</th>\n",
       "      <th>전화번호</th>\n",
       "      <th>셀프여부</th>\n",
       "      <th>고급휘발유</th>\n",
       "      <th>휘발유</th>\n",
       "      <th>경유</th>\n",
       "      <th>실내등유</th>\n",
       "    </tr>\n",
       "  </thead>\n",
       "  <tbody>\n",
       "    <tr>\n",
       "      <td>0</td>\n",
       "      <td>서울특별시</td>\n",
       "      <td>(주)보성 세곡주유소</td>\n",
       "      <td>서울특별시 강남구  헌릉로 731 (세곡동)</td>\n",
       "      <td>SK에너지</td>\n",
       "      <td>02-445-6870</td>\n",
       "      <td>Y</td>\n",
       "      <td>-</td>\n",
       "      <td>1545</td>\n",
       "      <td>1385</td>\n",
       "      <td>-</td>\n",
       "    </tr>\n",
       "    <tr>\n",
       "      <td>1</td>\n",
       "      <td>서울특별시</td>\n",
       "      <td>현대오일뱅크 도곡셀프주유소</td>\n",
       "      <td>서울 강남구  남부순환로 2718 (도곡2동)</td>\n",
       "      <td>현대오일뱅크</td>\n",
       "      <td>02-529-5101</td>\n",
       "      <td>Y</td>\n",
       "      <td>1733</td>\n",
       "      <td>1563</td>\n",
       "      <td>1404</td>\n",
       "      <td>-</td>\n",
       "    </tr>\n",
       "    <tr>\n",
       "      <td>2</td>\n",
       "      <td>서울특별시</td>\n",
       "      <td>GS칼텍스(주)직영 산성주유소</td>\n",
       "      <td>서울 강남구 헌릉로 730 (세곡동)</td>\n",
       "      <td>GS칼텍스</td>\n",
       "      <td>02-2226-4963</td>\n",
       "      <td>Y</td>\n",
       "      <td>-</td>\n",
       "      <td>1565</td>\n",
       "      <td>1399</td>\n",
       "      <td>-</td>\n",
       "    </tr>\n",
       "    <tr>\n",
       "      <td>3</td>\n",
       "      <td>서울특별시</td>\n",
       "      <td>방죽주유소</td>\n",
       "      <td>서울 강남구 밤고개로 215 (율현동)</td>\n",
       "      <td>S-OIL</td>\n",
       "      <td>02-459-3434</td>\n",
       "      <td>Y</td>\n",
       "      <td>-</td>\n",
       "      <td>1569</td>\n",
       "      <td>1409</td>\n",
       "      <td>-</td>\n",
       "    </tr>\n",
       "    <tr>\n",
       "      <td>4</td>\n",
       "      <td>서울특별시</td>\n",
       "      <td>현대오일뱅크(주) 유진주유소</td>\n",
       "      <td>서울 강남구 논현로 152 (도곡동)</td>\n",
       "      <td>현대오일뱅크</td>\n",
       "      <td>02-3462-5215</td>\n",
       "      <td>N</td>\n",
       "      <td>1749</td>\n",
       "      <td>1578</td>\n",
       "      <td>1419</td>\n",
       "      <td>1170</td>\n",
       "    </tr>\n",
       "  </tbody>\n",
       "</table>\n",
       "</div>"
      ],
      "text/plain": [
       "      지역                상호                         주소      상표          전화번호  \\\n",
       "0  서울특별시       (주)보성 세곡주유소   서울특별시 강남구  헌릉로 731 (세곡동)   SK에너지   02-445-6870   \n",
       "1  서울특별시    현대오일뱅크 도곡셀프주유소  서울 강남구  남부순환로 2718 (도곡2동)  현대오일뱅크   02-529-5101   \n",
       "2  서울특별시  GS칼텍스(주)직영 산성주유소       서울 강남구 헌릉로 730 (세곡동)   GS칼텍스  02-2226-4963   \n",
       "3  서울특별시             방죽주유소      서울 강남구 밤고개로 215 (율현동)   S-OIL   02-459-3434   \n",
       "4  서울특별시   현대오일뱅크(주) 유진주유소       서울 강남구 논현로 152 (도곡동)  현대오일뱅크  02-3462-5215   \n",
       "\n",
       "  셀프여부 고급휘발유   휘발유    경유  실내등유  \n",
       "0    Y     -  1545  1385     -  \n",
       "1    Y  1733  1563  1404     -  \n",
       "2    Y     -  1565  1399     -  \n",
       "3    Y     -  1569  1409     -  \n",
       "4    N  1749  1578  1419  1170  "
      ]
     },
     "execution_count": 27,
     "metadata": {},
     "output_type": "execute_result"
    }
   ],
   "source": [
    "station_raw.head()"
   ]
  },
  {
   "cell_type": "code",
   "execution_count": 28,
   "metadata": {},
   "outputs": [
    {
     "data": {
      "text/plain": [
       "(544, 10)"
      ]
     },
     "execution_count": 28,
     "metadata": {},
     "output_type": "execute_result"
    }
   ],
   "source": [
    "station_raw.shape"
   ]
  },
  {
   "cell_type": "code",
   "execution_count": 29,
   "metadata": {
    "scrolled": true
   },
   "outputs": [
    {
     "name": "stdout",
     "output_type": "stream",
     "text": [
      "<class 'pandas.core.frame.DataFrame'>\n",
      "Int64Index: 544 entries, 0 to 15\n",
      "Data columns (total 10 columns):\n",
      "지역       544 non-null object\n",
      "상호       544 non-null object\n",
      "주소       544 non-null object\n",
      "상표       544 non-null object\n",
      "전화번호     544 non-null object\n",
      "셀프여부     544 non-null object\n",
      "고급휘발유    544 non-null object\n",
      "휘발유      544 non-null object\n",
      "경유       544 non-null object\n",
      "실내등유     544 non-null object\n",
      "dtypes: object(10)\n",
      "memory usage: 46.8+ KB\n"
     ]
    }
   ],
   "source": [
    "station_raw.info()"
   ]
  },
  {
   "cell_type": "markdown",
   "metadata": {},
   "source": [
    "### 필요한 컬럼명만 추출하기 "
   ]
  },
  {
   "cell_type": "code",
   "execution_count": 30,
   "metadata": {},
   "outputs": [
    {
     "data": {
      "text/html": [
       "<div>\n",
       "<style scoped>\n",
       "    .dataframe tbody tr th:only-of-type {\n",
       "        vertical-align: middle;\n",
       "    }\n",
       "\n",
       "    .dataframe tbody tr th {\n",
       "        vertical-align: top;\n",
       "    }\n",
       "\n",
       "    .dataframe thead th {\n",
       "        text-align: right;\n",
       "    }\n",
       "</style>\n",
       "<table border=\"1\" class=\"dataframe\">\n",
       "  <thead>\n",
       "    <tr style=\"text-align: right;\">\n",
       "      <th></th>\n",
       "      <th>Oil_store</th>\n",
       "      <th>주소</th>\n",
       "      <th>가격</th>\n",
       "      <th>셀프</th>\n",
       "      <th>상표</th>\n",
       "    </tr>\n",
       "  </thead>\n",
       "  <tbody>\n",
       "    <tr>\n",
       "      <td>0</td>\n",
       "      <td>(주)보성 세곡주유소</td>\n",
       "      <td>서울특별시 강남구  헌릉로 731 (세곡동)</td>\n",
       "      <td>1545</td>\n",
       "      <td>Y</td>\n",
       "      <td>SK에너지</td>\n",
       "    </tr>\n",
       "    <tr>\n",
       "      <td>1</td>\n",
       "      <td>현대오일뱅크 도곡셀프주유소</td>\n",
       "      <td>서울 강남구  남부순환로 2718 (도곡2동)</td>\n",
       "      <td>1563</td>\n",
       "      <td>Y</td>\n",
       "      <td>현대오일뱅크</td>\n",
       "    </tr>\n",
       "    <tr>\n",
       "      <td>2</td>\n",
       "      <td>GS칼텍스(주)직영 산성주유소</td>\n",
       "      <td>서울 강남구 헌릉로 730 (세곡동)</td>\n",
       "      <td>1565</td>\n",
       "      <td>Y</td>\n",
       "      <td>GS칼텍스</td>\n",
       "    </tr>\n",
       "    <tr>\n",
       "      <td>3</td>\n",
       "      <td>방죽주유소</td>\n",
       "      <td>서울 강남구 밤고개로 215 (율현동)</td>\n",
       "      <td>1569</td>\n",
       "      <td>Y</td>\n",
       "      <td>S-OIL</td>\n",
       "    </tr>\n",
       "    <tr>\n",
       "      <td>4</td>\n",
       "      <td>현대오일뱅크(주) 유진주유소</td>\n",
       "      <td>서울 강남구 논현로 152 (도곡동)</td>\n",
       "      <td>1578</td>\n",
       "      <td>N</td>\n",
       "      <td>현대오일뱅크</td>\n",
       "    </tr>\n",
       "  </tbody>\n",
       "</table>\n",
       "</div>"
      ],
      "text/plain": [
       "          Oil_store                         주소    가격 셀프      상표\n",
       "0       (주)보성 세곡주유소   서울특별시 강남구  헌릉로 731 (세곡동)  1545  Y   SK에너지\n",
       "1    현대오일뱅크 도곡셀프주유소  서울 강남구  남부순환로 2718 (도곡2동)  1563  Y  현대오일뱅크\n",
       "2  GS칼텍스(주)직영 산성주유소       서울 강남구 헌릉로 730 (세곡동)  1565  Y   GS칼텍스\n",
       "3             방죽주유소      서울 강남구 밤고개로 215 (율현동)  1569  Y   S-OIL\n",
       "4   현대오일뱅크(주) 유진주유소       서울 강남구 논현로 152 (도곡동)  1578  N  현대오일뱅크"
      ]
     },
     "execution_count": 30,
     "metadata": {},
     "output_type": "execute_result"
    }
   ],
   "source": [
    "stations = pd.DataFrame({'Oil_store':station_raw['상호'], \n",
    "                                       '주소':station_raw['주소'],\n",
    "                                       '가격':station_raw['휘발유'],\n",
    "                                       '셀프':station_raw['셀프여부'],\n",
    "                                       '상표':station_raw['상표']  })\n",
    "stations.head()"
   ]
  },
  {
   "cell_type": "markdown",
   "metadata": {},
   "source": [
    "### 구별로 정리하기 \n",
    "\n",
    "- stations['구'] 컬럼추가하기 : stations['주소']문자열에서 2번째 있는 구부분 이용"
   ]
  },
  {
   "cell_type": "code",
   "execution_count": 31,
   "metadata": {
    "scrolled": true
   },
   "outputs": [
    {
     "data": {
      "text/html": [
       "<div>\n",
       "<style scoped>\n",
       "    .dataframe tbody tr th:only-of-type {\n",
       "        vertical-align: middle;\n",
       "    }\n",
       "\n",
       "    .dataframe tbody tr th {\n",
       "        vertical-align: top;\n",
       "    }\n",
       "\n",
       "    .dataframe thead th {\n",
       "        text-align: right;\n",
       "    }\n",
       "</style>\n",
       "<table border=\"1\" class=\"dataframe\">\n",
       "  <thead>\n",
       "    <tr style=\"text-align: right;\">\n",
       "      <th></th>\n",
       "      <th>Oil_store</th>\n",
       "      <th>주소</th>\n",
       "      <th>가격</th>\n",
       "      <th>셀프</th>\n",
       "      <th>상표</th>\n",
       "      <th>구</th>\n",
       "    </tr>\n",
       "  </thead>\n",
       "  <tbody>\n",
       "    <tr>\n",
       "      <td>0</td>\n",
       "      <td>(주)보성 세곡주유소</td>\n",
       "      <td>서울특별시 강남구  헌릉로 731 (세곡동)</td>\n",
       "      <td>1545</td>\n",
       "      <td>Y</td>\n",
       "      <td>SK에너지</td>\n",
       "      <td>강남구</td>\n",
       "    </tr>\n",
       "    <tr>\n",
       "      <td>1</td>\n",
       "      <td>현대오일뱅크 도곡셀프주유소</td>\n",
       "      <td>서울 강남구  남부순환로 2718 (도곡2동)</td>\n",
       "      <td>1563</td>\n",
       "      <td>Y</td>\n",
       "      <td>현대오일뱅크</td>\n",
       "      <td>강남구</td>\n",
       "    </tr>\n",
       "    <tr>\n",
       "      <td>2</td>\n",
       "      <td>GS칼텍스(주)직영 산성주유소</td>\n",
       "      <td>서울 강남구 헌릉로 730 (세곡동)</td>\n",
       "      <td>1565</td>\n",
       "      <td>Y</td>\n",
       "      <td>GS칼텍스</td>\n",
       "      <td>강남구</td>\n",
       "    </tr>\n",
       "    <tr>\n",
       "      <td>3</td>\n",
       "      <td>방죽주유소</td>\n",
       "      <td>서울 강남구 밤고개로 215 (율현동)</td>\n",
       "      <td>1569</td>\n",
       "      <td>Y</td>\n",
       "      <td>S-OIL</td>\n",
       "      <td>강남구</td>\n",
       "    </tr>\n",
       "    <tr>\n",
       "      <td>4</td>\n",
       "      <td>현대오일뱅크(주) 유진주유소</td>\n",
       "      <td>서울 강남구 논현로 152 (도곡동)</td>\n",
       "      <td>1578</td>\n",
       "      <td>N</td>\n",
       "      <td>현대오일뱅크</td>\n",
       "      <td>강남구</td>\n",
       "    </tr>\n",
       "  </tbody>\n",
       "</table>\n",
       "</div>"
      ],
      "text/plain": [
       "          Oil_store                         주소    가격 셀프      상표    구\n",
       "0       (주)보성 세곡주유소   서울특별시 강남구  헌릉로 731 (세곡동)  1545  Y   SK에너지  강남구\n",
       "1    현대오일뱅크 도곡셀프주유소  서울 강남구  남부순환로 2718 (도곡2동)  1563  Y  현대오일뱅크  강남구\n",
       "2  GS칼텍스(주)직영 산성주유소       서울 강남구 헌릉로 730 (세곡동)  1565  Y   GS칼텍스  강남구\n",
       "3             방죽주유소      서울 강남구 밤고개로 215 (율현동)  1569  Y   S-OIL  강남구\n",
       "4   현대오일뱅크(주) 유진주유소       서울 강남구 논현로 152 (도곡동)  1578  N  현대오일뱅크  강남구"
      ]
     },
     "execution_count": 31,
     "metadata": {},
     "output_type": "execute_result"
    }
   ],
   "source": [
    "stations['구'] = [eachAddress.split()[1] for eachAddress in stations['주소']]\n",
    "stations.head()"
   ]
  },
  {
   "cell_type": "code",
   "execution_count": 32,
   "metadata": {},
   "outputs": [
    {
     "data": {
      "text/plain": [
       "array(['강남구', '강동구', '강북구', '강서구', '관악구', '광진구', '구로구', '금천구', '노원구',\n",
       "       '도봉구', '동대문구', '동작구', '마포구', '서대문구', '서초구', '성동구', '성북구', '송파구',\n",
       "       '양천구', '영등포구', '용산구', '은평구', '종로구', '중구', '중랑구'], dtype=object)"
      ]
     },
     "execution_count": 32,
     "metadata": {},
     "output_type": "execute_result"
    }
   ],
   "source": [
    "stations['구'].unique()"
   ]
  },
  {
   "cell_type": "code",
   "execution_count": 33,
   "metadata": {},
   "outputs": [
    {
     "data": {
      "text/plain": [
       "25"
      ]
     },
     "execution_count": 33,
     "metadata": {},
     "output_type": "execute_result"
    }
   ],
   "source": [
    "len(stations['구'].unique())"
   ]
  },
  {
   "cell_type": "markdown",
   "metadata": {},
   "source": [
    "### 가격이 없는 경우 '-' 로 표시됨 "
   ]
  },
  {
   "cell_type": "code",
   "execution_count": 34,
   "metadata": {},
   "outputs": [
    {
     "data": {
      "text/html": [
       "<div>\n",
       "<style scoped>\n",
       "    .dataframe tbody tr th:only-of-type {\n",
       "        vertical-align: middle;\n",
       "    }\n",
       "\n",
       "    .dataframe tbody tr th {\n",
       "        vertical-align: top;\n",
       "    }\n",
       "\n",
       "    .dataframe thead th {\n",
       "        text-align: right;\n",
       "    }\n",
       "</style>\n",
       "<table border=\"1\" class=\"dataframe\">\n",
       "  <thead>\n",
       "    <tr style=\"text-align: right;\">\n",
       "      <th></th>\n",
       "      <th>Oil_store</th>\n",
       "      <th>주소</th>\n",
       "      <th>가격</th>\n",
       "      <th>셀프</th>\n",
       "      <th>상표</th>\n",
       "      <th>구</th>\n",
       "    </tr>\n",
       "  </thead>\n",
       "  <tbody>\n",
       "    <tr>\n",
       "      <td>40</td>\n",
       "      <td>동우주유소</td>\n",
       "      <td>서울특별시 강남구  봉은사로 311 (논현동)</td>\n",
       "      <td>-</td>\n",
       "      <td>N</td>\n",
       "      <td>SK에너지</td>\n",
       "      <td>강남구</td>\n",
       "    </tr>\n",
       "    <tr>\n",
       "      <td>41</td>\n",
       "      <td>삼성주유소</td>\n",
       "      <td>서울 강남구 삼성로 521 (삼성동)</td>\n",
       "      <td>-</td>\n",
       "      <td>N</td>\n",
       "      <td>SK에너지</td>\n",
       "      <td>강남구</td>\n",
       "    </tr>\n",
       "    <tr>\n",
       "      <td>40</td>\n",
       "      <td>동우주유소</td>\n",
       "      <td>서울특별시 강남구  봉은사로 311 (논현동)</td>\n",
       "      <td>-</td>\n",
       "      <td>N</td>\n",
       "      <td>SK에너지</td>\n",
       "      <td>강남구</td>\n",
       "    </tr>\n",
       "    <tr>\n",
       "      <td>41</td>\n",
       "      <td>삼성주유소</td>\n",
       "      <td>서울 강남구 삼성로 521 (삼성동)</td>\n",
       "      <td>-</td>\n",
       "      <td>N</td>\n",
       "      <td>SK에너지</td>\n",
       "      <td>강남구</td>\n",
       "    </tr>\n",
       "    <tr>\n",
       "      <td>21</td>\n",
       "      <td>(주)새서울석유 대원셀프주유소</td>\n",
       "      <td>서울 구로구 개봉로 7</td>\n",
       "      <td>-</td>\n",
       "      <td>Y</td>\n",
       "      <td>SK에너지</td>\n",
       "      <td>구로구</td>\n",
       "    </tr>\n",
       "    <tr>\n",
       "      <td>11</td>\n",
       "      <td>(주)승지 염리동주유소</td>\n",
       "      <td>서울 마포구 백범로 126 (염리동)</td>\n",
       "      <td>-</td>\n",
       "      <td>N</td>\n",
       "      <td>현대오일뱅크</td>\n",
       "      <td>마포구</td>\n",
       "    </tr>\n",
       "    <tr>\n",
       "      <td>12</td>\n",
       "      <td>서강주유소</td>\n",
       "      <td>서울 마포구 독막로 134 (창전동)</td>\n",
       "      <td>-</td>\n",
       "      <td>N</td>\n",
       "      <td>SK에너지</td>\n",
       "      <td>마포구</td>\n",
       "    </tr>\n",
       "    <tr>\n",
       "      <td>16</td>\n",
       "      <td>삼융주유소</td>\n",
       "      <td>서울 은평구 수색로 299 (수색동)</td>\n",
       "      <td>-</td>\n",
       "      <td>N</td>\n",
       "      <td>SK에너지</td>\n",
       "      <td>은평구</td>\n",
       "    </tr>\n",
       "  </tbody>\n",
       "</table>\n",
       "</div>"
      ],
      "text/plain": [
       "           Oil_store                         주소 가격 셀프      상표    구\n",
       "40             동우주유소  서울특별시 강남구  봉은사로 311 (논현동)  -  N   SK에너지  강남구\n",
       "41             삼성주유소       서울 강남구 삼성로 521 (삼성동)  -  N   SK에너지  강남구\n",
       "40             동우주유소  서울특별시 강남구  봉은사로 311 (논현동)  -  N   SK에너지  강남구\n",
       "41             삼성주유소       서울 강남구 삼성로 521 (삼성동)  -  N   SK에너지  강남구\n",
       "21  (주)새서울석유 대원셀프주유소               서울 구로구 개봉로 7  -  Y   SK에너지  구로구\n",
       "11      (주)승지 염리동주유소       서울 마포구 백범로 126 (염리동)  -  N  현대오일뱅크  마포구\n",
       "12             서강주유소       서울 마포구 독막로 134 (창전동)  -  N   SK에너지  마포구\n",
       "16             삼융주유소       서울 은평구 수색로 299 (수색동)  -  N   SK에너지  은평구"
      ]
     },
     "execution_count": 34,
     "metadata": {},
     "output_type": "execute_result"
    }
   ],
   "source": [
    "stations[stations['가격']=='-']"
   ]
  },
  {
   "cell_type": "code",
   "execution_count": 35,
   "metadata": {},
   "outputs": [
    {
     "data": {
      "text/plain": [
       "8"
      ]
     },
     "execution_count": 35,
     "metadata": {},
     "output_type": "execute_result"
    }
   ],
   "source": [
    "len(stations[stations['가격']=='-'])"
   ]
  },
  {
   "cell_type": "markdown",
   "metadata": {},
   "source": [
    "### 가격이 '-' 인 경우 데이타프레임에서 삭제 "
   ]
  },
  {
   "cell_type": "code",
   "execution_count": 36,
   "metadata": {
    "scrolled": true
   },
   "outputs": [
    {
     "data": {
      "text/html": [
       "<div>\n",
       "<style scoped>\n",
       "    .dataframe tbody tr th:only-of-type {\n",
       "        vertical-align: middle;\n",
       "    }\n",
       "\n",
       "    .dataframe tbody tr th {\n",
       "        vertical-align: top;\n",
       "    }\n",
       "\n",
       "    .dataframe thead th {\n",
       "        text-align: right;\n",
       "    }\n",
       "</style>\n",
       "<table border=\"1\" class=\"dataframe\">\n",
       "  <thead>\n",
       "    <tr style=\"text-align: right;\">\n",
       "      <th></th>\n",
       "      <th>Oil_store</th>\n",
       "      <th>주소</th>\n",
       "      <th>가격</th>\n",
       "      <th>셀프</th>\n",
       "      <th>상표</th>\n",
       "      <th>구</th>\n",
       "    </tr>\n",
       "  </thead>\n",
       "  <tbody>\n",
       "    <tr>\n",
       "      <td>0</td>\n",
       "      <td>(주)보성 세곡주유소</td>\n",
       "      <td>서울특별시 강남구  헌릉로 731 (세곡동)</td>\n",
       "      <td>1545</td>\n",
       "      <td>Y</td>\n",
       "      <td>SK에너지</td>\n",
       "      <td>강남구</td>\n",
       "    </tr>\n",
       "    <tr>\n",
       "      <td>1</td>\n",
       "      <td>현대오일뱅크 도곡셀프주유소</td>\n",
       "      <td>서울 강남구  남부순환로 2718 (도곡2동)</td>\n",
       "      <td>1563</td>\n",
       "      <td>Y</td>\n",
       "      <td>현대오일뱅크</td>\n",
       "      <td>강남구</td>\n",
       "    </tr>\n",
       "    <tr>\n",
       "      <td>2</td>\n",
       "      <td>GS칼텍스(주)직영 산성주유소</td>\n",
       "      <td>서울 강남구 헌릉로 730 (세곡동)</td>\n",
       "      <td>1565</td>\n",
       "      <td>Y</td>\n",
       "      <td>GS칼텍스</td>\n",
       "      <td>강남구</td>\n",
       "    </tr>\n",
       "    <tr>\n",
       "      <td>3</td>\n",
       "      <td>방죽주유소</td>\n",
       "      <td>서울 강남구 밤고개로 215 (율현동)</td>\n",
       "      <td>1569</td>\n",
       "      <td>Y</td>\n",
       "      <td>S-OIL</td>\n",
       "      <td>강남구</td>\n",
       "    </tr>\n",
       "    <tr>\n",
       "      <td>4</td>\n",
       "      <td>현대오일뱅크(주) 유진주유소</td>\n",
       "      <td>서울 강남구 논현로 152 (도곡동)</td>\n",
       "      <td>1578</td>\n",
       "      <td>N</td>\n",
       "      <td>현대오일뱅크</td>\n",
       "      <td>강남구</td>\n",
       "    </tr>\n",
       "  </tbody>\n",
       "</table>\n",
       "</div>"
      ],
      "text/plain": [
       "          Oil_store                         주소    가격 셀프      상표    구\n",
       "0       (주)보성 세곡주유소   서울특별시 강남구  헌릉로 731 (세곡동)  1545  Y   SK에너지  강남구\n",
       "1    현대오일뱅크 도곡셀프주유소  서울 강남구  남부순환로 2718 (도곡2동)  1563  Y  현대오일뱅크  강남구\n",
       "2  GS칼텍스(주)직영 산성주유소       서울 강남구 헌릉로 730 (세곡동)  1565  Y   GS칼텍스  강남구\n",
       "3             방죽주유소      서울 강남구 밤고개로 215 (율현동)  1569  Y   S-OIL  강남구\n",
       "4   현대오일뱅크(주) 유진주유소       서울 강남구 논현로 152 (도곡동)  1578  N  현대오일뱅크  강남구"
      ]
     },
     "execution_count": 36,
     "metadata": {},
     "output_type": "execute_result"
    }
   ],
   "source": [
    "stations = stations[stations['가격'] != '-']\n",
    "stations.head()"
   ]
  },
  {
   "cell_type": "code",
   "execution_count": 37,
   "metadata": {},
   "outputs": [
    {
     "data": {
      "text/plain": [
       "0"
      ]
     },
     "execution_count": 37,
     "metadata": {},
     "output_type": "execute_result"
    }
   ],
   "source": [
    "len(stations[stations['가격']=='-'])"
   ]
  },
  {
   "cell_type": "markdown",
   "metadata": {},
   "source": [
    "### '가격' 컬럼을 숫자형으로 변경하기 "
   ]
  },
  {
   "cell_type": "code",
   "execution_count": 38,
   "metadata": {},
   "outputs": [
    {
     "data": {
      "text/plain": [
       "dtype('O')"
      ]
     },
     "execution_count": 38,
     "metadata": {},
     "output_type": "execute_result"
    }
   ],
   "source": [
    "stations['가격'].dtype"
   ]
  },
  {
   "cell_type": "code",
   "execution_count": 39,
   "metadata": {},
   "outputs": [],
   "source": [
    "# stations['가격'] = [float(value) for value in stations['가격']]\n",
    "stations['가격'] = stations['가격'].astype(float)"
   ]
  },
  {
   "cell_type": "code",
   "execution_count": 40,
   "metadata": {},
   "outputs": [
    {
     "data": {
      "text/plain": [
       "dtype('float64')"
      ]
     },
     "execution_count": 40,
     "metadata": {},
     "output_type": "execute_result"
    }
   ],
   "source": [
    "stations['가격'].dtype"
   ]
  },
  {
   "cell_type": "markdown",
   "metadata": {},
   "source": [
    "### 인덱스 재정렬후 index 컬럼 삭제 "
   ]
  },
  {
   "cell_type": "code",
   "execution_count": 41,
   "metadata": {},
   "outputs": [
    {
     "data": {
      "text/html": [
       "<div>\n",
       "<style scoped>\n",
       "    .dataframe tbody tr th:only-of-type {\n",
       "        vertical-align: middle;\n",
       "    }\n",
       "\n",
       "    .dataframe tbody tr th {\n",
       "        vertical-align: top;\n",
       "    }\n",
       "\n",
       "    .dataframe thead th {\n",
       "        text-align: right;\n",
       "    }\n",
       "</style>\n",
       "<table border=\"1\" class=\"dataframe\">\n",
       "  <thead>\n",
       "    <tr style=\"text-align: right;\">\n",
       "      <th></th>\n",
       "      <th>Oil_store</th>\n",
       "      <th>주소</th>\n",
       "      <th>가격</th>\n",
       "      <th>셀프</th>\n",
       "      <th>상표</th>\n",
       "      <th>구</th>\n",
       "    </tr>\n",
       "  </thead>\n",
       "  <tbody>\n",
       "    <tr>\n",
       "      <td>0</td>\n",
       "      <td>(주)보성 세곡주유소</td>\n",
       "      <td>서울특별시 강남구  헌릉로 731 (세곡동)</td>\n",
       "      <td>1545.0</td>\n",
       "      <td>Y</td>\n",
       "      <td>SK에너지</td>\n",
       "      <td>강남구</td>\n",
       "    </tr>\n",
       "    <tr>\n",
       "      <td>1</td>\n",
       "      <td>현대오일뱅크 도곡셀프주유소</td>\n",
       "      <td>서울 강남구  남부순환로 2718 (도곡2동)</td>\n",
       "      <td>1563.0</td>\n",
       "      <td>Y</td>\n",
       "      <td>현대오일뱅크</td>\n",
       "      <td>강남구</td>\n",
       "    </tr>\n",
       "    <tr>\n",
       "      <td>2</td>\n",
       "      <td>GS칼텍스(주)직영 산성주유소</td>\n",
       "      <td>서울 강남구 헌릉로 730 (세곡동)</td>\n",
       "      <td>1565.0</td>\n",
       "      <td>Y</td>\n",
       "      <td>GS칼텍스</td>\n",
       "      <td>강남구</td>\n",
       "    </tr>\n",
       "    <tr>\n",
       "      <td>3</td>\n",
       "      <td>방죽주유소</td>\n",
       "      <td>서울 강남구 밤고개로 215 (율현동)</td>\n",
       "      <td>1569.0</td>\n",
       "      <td>Y</td>\n",
       "      <td>S-OIL</td>\n",
       "      <td>강남구</td>\n",
       "    </tr>\n",
       "    <tr>\n",
       "      <td>4</td>\n",
       "      <td>현대오일뱅크(주) 유진주유소</td>\n",
       "      <td>서울 강남구 논현로 152 (도곡동)</td>\n",
       "      <td>1578.0</td>\n",
       "      <td>N</td>\n",
       "      <td>현대오일뱅크</td>\n",
       "      <td>강남구</td>\n",
       "    </tr>\n",
       "  </tbody>\n",
       "</table>\n",
       "</div>"
      ],
      "text/plain": [
       "          Oil_store                         주소      가격 셀프      상표    구\n",
       "0       (주)보성 세곡주유소   서울특별시 강남구  헌릉로 731 (세곡동)  1545.0  Y   SK에너지  강남구\n",
       "1    현대오일뱅크 도곡셀프주유소  서울 강남구  남부순환로 2718 (도곡2동)  1563.0  Y  현대오일뱅크  강남구\n",
       "2  GS칼텍스(주)직영 산성주유소       서울 강남구 헌릉로 730 (세곡동)  1565.0  Y   GS칼텍스  강남구\n",
       "3             방죽주유소      서울 강남구 밤고개로 215 (율현동)  1569.0  Y   S-OIL  강남구\n",
       "4   현대오일뱅크(주) 유진주유소       서울 강남구 논현로 152 (도곡동)  1578.0  N  현대오일뱅크  강남구"
      ]
     },
     "execution_count": 41,
     "metadata": {},
     "output_type": "execute_result"
    }
   ],
   "source": [
    "stations.head()"
   ]
  },
  {
   "cell_type": "code",
   "execution_count": 43,
   "metadata": {},
   "outputs": [
    {
     "data": {
      "text/html": [
       "<div>\n",
       "<style scoped>\n",
       "    .dataframe tbody tr th:only-of-type {\n",
       "        vertical-align: middle;\n",
       "    }\n",
       "\n",
       "    .dataframe tbody tr th {\n",
       "        vertical-align: top;\n",
       "    }\n",
       "\n",
       "    .dataframe thead th {\n",
       "        text-align: right;\n",
       "    }\n",
       "</style>\n",
       "<table border=\"1\" class=\"dataframe\">\n",
       "  <thead>\n",
       "    <tr style=\"text-align: right;\">\n",
       "      <th></th>\n",
       "      <th>level_0</th>\n",
       "      <th>index</th>\n",
       "      <th>Oil_store</th>\n",
       "      <th>주소</th>\n",
       "      <th>가격</th>\n",
       "      <th>셀프</th>\n",
       "      <th>상표</th>\n",
       "      <th>구</th>\n",
       "    </tr>\n",
       "  </thead>\n",
       "  <tbody>\n",
       "    <tr>\n",
       "      <td>0</td>\n",
       "      <td>0</td>\n",
       "      <td>0</td>\n",
       "      <td>(주)보성 세곡주유소</td>\n",
       "      <td>서울특별시 강남구  헌릉로 731 (세곡동)</td>\n",
       "      <td>1545.0</td>\n",
       "      <td>Y</td>\n",
       "      <td>SK에너지</td>\n",
       "      <td>강남구</td>\n",
       "    </tr>\n",
       "    <tr>\n",
       "      <td>1</td>\n",
       "      <td>1</td>\n",
       "      <td>1</td>\n",
       "      <td>현대오일뱅크 도곡셀프주유소</td>\n",
       "      <td>서울 강남구  남부순환로 2718 (도곡2동)</td>\n",
       "      <td>1563.0</td>\n",
       "      <td>Y</td>\n",
       "      <td>현대오일뱅크</td>\n",
       "      <td>강남구</td>\n",
       "    </tr>\n",
       "    <tr>\n",
       "      <td>2</td>\n",
       "      <td>2</td>\n",
       "      <td>2</td>\n",
       "      <td>GS칼텍스(주)직영 산성주유소</td>\n",
       "      <td>서울 강남구 헌릉로 730 (세곡동)</td>\n",
       "      <td>1565.0</td>\n",
       "      <td>Y</td>\n",
       "      <td>GS칼텍스</td>\n",
       "      <td>강남구</td>\n",
       "    </tr>\n",
       "    <tr>\n",
       "      <td>3</td>\n",
       "      <td>3</td>\n",
       "      <td>3</td>\n",
       "      <td>방죽주유소</td>\n",
       "      <td>서울 강남구 밤고개로 215 (율현동)</td>\n",
       "      <td>1569.0</td>\n",
       "      <td>Y</td>\n",
       "      <td>S-OIL</td>\n",
       "      <td>강남구</td>\n",
       "    </tr>\n",
       "    <tr>\n",
       "      <td>4</td>\n",
       "      <td>4</td>\n",
       "      <td>4</td>\n",
       "      <td>현대오일뱅크(주) 유진주유소</td>\n",
       "      <td>서울 강남구 논현로 152 (도곡동)</td>\n",
       "      <td>1578.0</td>\n",
       "      <td>N</td>\n",
       "      <td>현대오일뱅크</td>\n",
       "      <td>강남구</td>\n",
       "    </tr>\n",
       "  </tbody>\n",
       "</table>\n",
       "</div>"
      ],
      "text/plain": [
       "   level_0  index         Oil_store                         주소      가격 셀프  \\\n",
       "0        0      0       (주)보성 세곡주유소   서울특별시 강남구  헌릉로 731 (세곡동)  1545.0  Y   \n",
       "1        1      1    현대오일뱅크 도곡셀프주유소  서울 강남구  남부순환로 2718 (도곡2동)  1563.0  Y   \n",
       "2        2      2  GS칼텍스(주)직영 산성주유소       서울 강남구 헌릉로 730 (세곡동)  1565.0  Y   \n",
       "3        3      3             방죽주유소      서울 강남구 밤고개로 215 (율현동)  1569.0  Y   \n",
       "4        4      4   현대오일뱅크(주) 유진주유소       서울 강남구 논현로 152 (도곡동)  1578.0  N   \n",
       "\n",
       "       상표    구  \n",
       "0   SK에너지  강남구  \n",
       "1  현대오일뱅크  강남구  \n",
       "2   GS칼텍스  강남구  \n",
       "3   S-OIL  강남구  \n",
       "4  현대오일뱅크  강남구  "
      ]
     },
     "execution_count": 43,
     "metadata": {},
     "output_type": "execute_result"
    }
   ],
   "source": [
    "stations.reset_index(inplace=True)\n",
    "stations.head()"
   ]
  },
  {
   "cell_type": "code",
   "execution_count": 44,
   "metadata": {},
   "outputs": [],
   "source": [
    "del stations['index']"
   ]
  },
  {
   "cell_type": "code",
   "execution_count": 45,
   "metadata": {},
   "outputs": [
    {
     "name": "stdout",
     "output_type": "stream",
     "text": [
      "<class 'pandas.core.frame.DataFrame'>\n",
      "RangeIndex: 536 entries, 0 to 535\n",
      "Data columns (total 7 columns):\n",
      "level_0      536 non-null int64\n",
      "Oil_store    536 non-null object\n",
      "주소           536 non-null object\n",
      "가격           536 non-null float64\n",
      "셀프           536 non-null object\n",
      "상표           536 non-null object\n",
      "구            536 non-null object\n",
      "dtypes: float64(1), int64(1), object(5)\n",
      "memory usage: 29.4+ KB\n"
     ]
    }
   ],
   "source": [
    "stations.info()"
   ]
  },
  {
   "cell_type": "code",
   "execution_count": 46,
   "metadata": {},
   "outputs": [
    {
     "data": {
      "text/html": [
       "<div>\n",
       "<style scoped>\n",
       "    .dataframe tbody tr th:only-of-type {\n",
       "        vertical-align: middle;\n",
       "    }\n",
       "\n",
       "    .dataframe tbody tr th {\n",
       "        vertical-align: top;\n",
       "    }\n",
       "\n",
       "    .dataframe thead th {\n",
       "        text-align: right;\n",
       "    }\n",
       "</style>\n",
       "<table border=\"1\" class=\"dataframe\">\n",
       "  <thead>\n",
       "    <tr style=\"text-align: right;\">\n",
       "      <th></th>\n",
       "      <th>level_0</th>\n",
       "      <th>Oil_store</th>\n",
       "      <th>주소</th>\n",
       "      <th>가격</th>\n",
       "      <th>셀프</th>\n",
       "      <th>상표</th>\n",
       "      <th>구</th>\n",
       "    </tr>\n",
       "  </thead>\n",
       "  <tbody>\n",
       "    <tr>\n",
       "      <td>0</td>\n",
       "      <td>0</td>\n",
       "      <td>(주)보성 세곡주유소</td>\n",
       "      <td>서울특별시 강남구  헌릉로 731 (세곡동)</td>\n",
       "      <td>1545.0</td>\n",
       "      <td>Y</td>\n",
       "      <td>SK에너지</td>\n",
       "      <td>강남구</td>\n",
       "    </tr>\n",
       "    <tr>\n",
       "      <td>1</td>\n",
       "      <td>1</td>\n",
       "      <td>현대오일뱅크 도곡셀프주유소</td>\n",
       "      <td>서울 강남구  남부순환로 2718 (도곡2동)</td>\n",
       "      <td>1563.0</td>\n",
       "      <td>Y</td>\n",
       "      <td>현대오일뱅크</td>\n",
       "      <td>강남구</td>\n",
       "    </tr>\n",
       "    <tr>\n",
       "      <td>2</td>\n",
       "      <td>2</td>\n",
       "      <td>GS칼텍스(주)직영 산성주유소</td>\n",
       "      <td>서울 강남구 헌릉로 730 (세곡동)</td>\n",
       "      <td>1565.0</td>\n",
       "      <td>Y</td>\n",
       "      <td>GS칼텍스</td>\n",
       "      <td>강남구</td>\n",
       "    </tr>\n",
       "    <tr>\n",
       "      <td>3</td>\n",
       "      <td>3</td>\n",
       "      <td>방죽주유소</td>\n",
       "      <td>서울 강남구 밤고개로 215 (율현동)</td>\n",
       "      <td>1569.0</td>\n",
       "      <td>Y</td>\n",
       "      <td>S-OIL</td>\n",
       "      <td>강남구</td>\n",
       "    </tr>\n",
       "    <tr>\n",
       "      <td>4</td>\n",
       "      <td>4</td>\n",
       "      <td>현대오일뱅크(주) 유진주유소</td>\n",
       "      <td>서울 강남구 논현로 152 (도곡동)</td>\n",
       "      <td>1578.0</td>\n",
       "      <td>N</td>\n",
       "      <td>현대오일뱅크</td>\n",
       "      <td>강남구</td>\n",
       "    </tr>\n",
       "  </tbody>\n",
       "</table>\n",
       "</div>"
      ],
      "text/plain": [
       "   level_0         Oil_store                         주소      가격 셀프      상표  \\\n",
       "0        0       (주)보성 세곡주유소   서울특별시 강남구  헌릉로 731 (세곡동)  1545.0  Y   SK에너지   \n",
       "1        1    현대오일뱅크 도곡셀프주유소  서울 강남구  남부순환로 2718 (도곡2동)  1563.0  Y  현대오일뱅크   \n",
       "2        2  GS칼텍스(주)직영 산성주유소       서울 강남구 헌릉로 730 (세곡동)  1565.0  Y   GS칼텍스   \n",
       "3        3             방죽주유소      서울 강남구 밤고개로 215 (율현동)  1569.0  Y   S-OIL   \n",
       "4        4   현대오일뱅크(주) 유진주유소       서울 강남구 논현로 152 (도곡동)  1578.0  N  현대오일뱅크   \n",
       "\n",
       "     구  \n",
       "0  강남구  \n",
       "1  강남구  \n",
       "2  강남구  \n",
       "3  강남구  \n",
       "4  강남구  "
      ]
     },
     "execution_count": 46,
     "metadata": {},
     "output_type": "execute_result"
    }
   ],
   "source": [
    "stations.head()"
   ]
  },
  {
   "cell_type": "code",
   "execution_count": 47,
   "metadata": {},
   "outputs": [
    {
     "data": {
      "text/html": [
       "<div>\n",
       "<style scoped>\n",
       "    .dataframe tbody tr th:only-of-type {\n",
       "        vertical-align: middle;\n",
       "    }\n",
       "\n",
       "    .dataframe tbody tr th {\n",
       "        vertical-align: top;\n",
       "    }\n",
       "\n",
       "    .dataframe thead th {\n",
       "        text-align: right;\n",
       "    }\n",
       "</style>\n",
       "<table border=\"1\" class=\"dataframe\">\n",
       "  <thead>\n",
       "    <tr style=\"text-align: right;\">\n",
       "      <th></th>\n",
       "      <th>level_0</th>\n",
       "      <th>가격</th>\n",
       "    </tr>\n",
       "  </thead>\n",
       "  <tbody>\n",
       "    <tr>\n",
       "      <td>count</td>\n",
       "      <td>536.000000</td>\n",
       "      <td>536.000000</td>\n",
       "    </tr>\n",
       "    <tr>\n",
       "      <td>mean</td>\n",
       "      <td>267.500000</td>\n",
       "      <td>1642.048507</td>\n",
       "    </tr>\n",
       "    <tr>\n",
       "      <td>std</td>\n",
       "      <td>154.874142</td>\n",
       "      <td>164.982156</td>\n",
       "    </tr>\n",
       "    <tr>\n",
       "      <td>min</td>\n",
       "      <td>0.000000</td>\n",
       "      <td>1482.000000</td>\n",
       "    </tr>\n",
       "    <tr>\n",
       "      <td>25%</td>\n",
       "      <td>133.750000</td>\n",
       "      <td>1544.000000</td>\n",
       "    </tr>\n",
       "    <tr>\n",
       "      <td>50%</td>\n",
       "      <td>267.500000</td>\n",
       "      <td>1579.000000</td>\n",
       "    </tr>\n",
       "    <tr>\n",
       "      <td>75%</td>\n",
       "      <td>401.250000</td>\n",
       "      <td>1647.250000</td>\n",
       "    </tr>\n",
       "    <tr>\n",
       "      <td>max</td>\n",
       "      <td>535.000000</td>\n",
       "      <td>2274.000000</td>\n",
       "    </tr>\n",
       "  </tbody>\n",
       "</table>\n",
       "</div>"
      ],
      "text/plain": [
       "          level_0           가격\n",
       "count  536.000000   536.000000\n",
       "mean   267.500000  1642.048507\n",
       "std    154.874142   164.982156\n",
       "min      0.000000  1482.000000\n",
       "25%    133.750000  1544.000000\n",
       "50%    267.500000  1579.000000\n",
       "75%    401.250000  1647.250000\n",
       "max    535.000000  2274.000000"
      ]
     },
     "execution_count": 47,
     "metadata": {},
     "output_type": "execute_result"
    }
   ],
   "source": [
    "stations.describe()"
   ]
  },
  {
   "cell_type": "markdown",
   "metadata": {},
   "source": [
    "### 서울에서 가장 가격이 저렴한 주유소 정보 출력하기 "
   ]
  },
  {
   "cell_type": "code",
   "execution_count": 48,
   "metadata": {},
   "outputs": [
    {
     "data": {
      "text/html": [
       "<div>\n",
       "<style scoped>\n",
       "    .dataframe tbody tr th:only-of-type {\n",
       "        vertical-align: middle;\n",
       "    }\n",
       "\n",
       "    .dataframe tbody tr th {\n",
       "        vertical-align: top;\n",
       "    }\n",
       "\n",
       "    .dataframe thead th {\n",
       "        text-align: right;\n",
       "    }\n",
       "</style>\n",
       "<table border=\"1\" class=\"dataframe\">\n",
       "  <thead>\n",
       "    <tr style=\"text-align: right;\">\n",
       "      <th></th>\n",
       "      <th>level_0</th>\n",
       "      <th>Oil_store</th>\n",
       "      <th>주소</th>\n",
       "      <th>가격</th>\n",
       "      <th>셀프</th>\n",
       "      <th>상표</th>\n",
       "      <th>구</th>\n",
       "    </tr>\n",
       "  </thead>\n",
       "  <tbody>\n",
       "    <tr>\n",
       "      <td>354</td>\n",
       "      <td>354</td>\n",
       "      <td>이케이에너지㈜ 강산주유소</td>\n",
       "      <td>서울 성북구 보문로 27 (보문동7가)</td>\n",
       "      <td>1482.0</td>\n",
       "      <td>Y</td>\n",
       "      <td>GS칼텍스</td>\n",
       "      <td>성북구</td>\n",
       "    </tr>\n",
       "    <tr>\n",
       "      <td>355</td>\n",
       "      <td>355</td>\n",
       "      <td>강산제2주유소</td>\n",
       "      <td>서울 성북구 보국문로 52</td>\n",
       "      <td>1482.0</td>\n",
       "      <td>Y</td>\n",
       "      <td>현대오일뱅크</td>\n",
       "      <td>성북구</td>\n",
       "    </tr>\n",
       "    <tr>\n",
       "      <td>356</td>\n",
       "      <td>356</td>\n",
       "      <td>(주)삼표에너지 정릉주유소</td>\n",
       "      <td>서울 성북구 보국문로 35 (정릉동)</td>\n",
       "      <td>1482.0</td>\n",
       "      <td>Y</td>\n",
       "      <td>GS칼텍스</td>\n",
       "      <td>성북구</td>\n",
       "    </tr>\n",
       "  </tbody>\n",
       "</table>\n",
       "</div>"
      ],
      "text/plain": [
       "     level_0       Oil_store                     주소      가격 셀프      상표    구\n",
       "354      354   이케이에너지㈜ 강산주유소  서울 성북구 보문로 27 (보문동7가)  1482.0  Y   GS칼텍스  성북구\n",
       "355      355         강산제2주유소         서울 성북구 보국문로 52  1482.0  Y  현대오일뱅크  성북구\n",
       "356      356  (주)삼표에너지 정릉주유소   서울 성북구 보국문로 35 (정릉동)  1482.0  Y   GS칼텍스  성북구"
      ]
     },
     "execution_count": 48,
     "metadata": {},
     "output_type": "execute_result"
    }
   ],
   "source": [
    "stations[stations['가격']==stations['가격'].min()]"
   ]
  },
  {
   "cell_type": "markdown",
   "metadata": {},
   "source": [
    "### 가장 가격이 비싼 주유소 레코드 표시 "
   ]
  },
  {
   "cell_type": "code",
   "execution_count": 49,
   "metadata": {},
   "outputs": [
    {
     "data": {
      "text/html": [
       "<div>\n",
       "<style scoped>\n",
       "    .dataframe tbody tr th:only-of-type {\n",
       "        vertical-align: middle;\n",
       "    }\n",
       "\n",
       "    .dataframe tbody tr th {\n",
       "        vertical-align: top;\n",
       "    }\n",
       "\n",
       "    .dataframe thead th {\n",
       "        text-align: right;\n",
       "    }\n",
       "</style>\n",
       "<table border=\"1\" class=\"dataframe\">\n",
       "  <thead>\n",
       "    <tr style=\"text-align: right;\">\n",
       "      <th></th>\n",
       "      <th>level_0</th>\n",
       "      <th>Oil_store</th>\n",
       "      <th>주소</th>\n",
       "      <th>가격</th>\n",
       "      <th>셀프</th>\n",
       "      <th>상표</th>\n",
       "      <th>구</th>\n",
       "    </tr>\n",
       "  </thead>\n",
       "  <tbody>\n",
       "    <tr>\n",
       "      <td>519</td>\n",
       "      <td>519</td>\n",
       "      <td>서남주유소</td>\n",
       "      <td>서울 중구 통일로 30</td>\n",
       "      <td>2274.0</td>\n",
       "      <td>N</td>\n",
       "      <td>SK에너지</td>\n",
       "      <td>중구</td>\n",
       "    </tr>\n",
       "  </tbody>\n",
       "</table>\n",
       "</div>"
      ],
      "text/plain": [
       "     level_0 Oil_store            주소      가격 셀프     상표   구\n",
       "519      519     서남주유소  서울 중구 통일로 30  2274.0  N  SK에너지  중구"
      ]
     },
     "execution_count": 49,
     "metadata": {},
     "output_type": "execute_result"
    }
   ],
   "source": [
    "stations[stations['가격']==stations['가격'].max()]"
   ]
  },
  {
   "cell_type": "markdown",
   "metadata": {
    "collapsed": true
   },
   "source": [
    "##  셀프 주유소  boxplot으로 확인하기"
   ]
  },
  {
   "cell_type": "code",
   "execution_count": 50,
   "metadata": {},
   "outputs": [
    {
     "name": "stdout",
     "output_type": "stream",
     "text": [
      "['Malgun Gothic']\n",
      "20.0\n"
     ]
    }
   ],
   "source": [
    "import matplotlib.pyplot as plt\n",
    "import seaborn as sns\n",
    "%matplotlib inline\n",
    "\n",
    "#  한글글꼴로 변경\n",
    "plt.rcParams['font.size'] = 20.0\n",
    "# plt.rcParams['font.family'] = 'batang'\n",
    "plt.rcParams['font.family'] = 'Malgun Gothic'\n",
    "print(plt.rcParams['font.family'])\n",
    "print(plt.rcParams['font.size'])"
   ]
  },
  {
   "cell_type": "code",
   "execution_count": 51,
   "metadata": {},
   "outputs": [
    {
     "data": {
      "image/png": "[encoded data removed]",
      "text/plain": [
       "<Figure size 864x576 with 1 Axes>"
      ]
     },
     "metadata": {
      "needs_background": "light"
     },
     "output_type": "display_data"
    }
   ],
   "source": [
    "stations.boxplot(column='가격', by='셀프', figsize=(12,8));"
   ]
  },
  {
   "cell_type": "code",
   "execution_count": 52,
   "metadata": {},
   "outputs": [
    {
     "data": {
      "image/png": "[encoded data removed]",
      "text/plain": [
       "<Figure size 864x576 with 1 Axes>"
      ]
     },
     "metadata": {
      "needs_background": "light"
     },
     "output_type": "display_data"
    }
   ],
   "source": [
    "plt.figure(figsize=(12,8))\n",
    "sns.boxplot(x=\"상표\", y=\"가격\", hue=\"셀프\", data=stations, palette=\"Set3\")\n",
    "plt.show()"
   ]
  },
  {
   "cell_type": "code",
   "execution_count": 53,
   "metadata": {},
   "outputs": [
    {
     "data": {
      "image/png": "[encoded data removed]",
      "text/plain": [
       "<Figure size 864x576 with 1 Axes>"
      ]
     },
     "metadata": {
      "needs_background": "light"
     },
     "output_type": "display_data"
    }
   ],
   "source": [
    "plt.figure(figsize=(12,8))\n",
    "sns.boxplot(x=\"상표\", y=\"가격\", data=stations, palette=\"Set3\")\n",
    "sns.swarmplot(x=\"상표\", y=\"가격\", data=stations, color=\".6\")\n",
    "plt.show()"
   ]
  },
  {
   "cell_type": "code",
   "execution_count": null,
   "metadata": {},
   "outputs": [],
   "source": []
  },
  {
   "cell_type": "markdown",
   "metadata": {
    "collapsed": true
   },
   "source": [
    "## 서울시 구별 주유 가격 확인하기"
   ]
  },
  {
   "cell_type": "code",
   "execution_count": 54,
   "metadata": {},
   "outputs": [],
   "source": [
    "import json\n",
    "import folium\n",
    "import googlemaps\n",
    "import warnings\n",
    "warnings.simplefilter(action = \"ignore\", category = FutureWarning)"
   ]
  },
  {
   "cell_type": "markdown",
   "metadata": {},
   "source": [
    "### 가격 값으로 역순 정렬"
   ]
  },
  {
   "cell_type": "code",
   "execution_count": 55,
   "metadata": {},
   "outputs": [
    {
     "data": {
      "text/html": [
       "<div>\n",
       "<style scoped>\n",
       "    .dataframe tbody tr th:only-of-type {\n",
       "        vertical-align: middle;\n",
       "    }\n",
       "\n",
       "    .dataframe tbody tr th {\n",
       "        vertical-align: top;\n",
       "    }\n",
       "\n",
       "    .dataframe thead th {\n",
       "        text-align: right;\n",
       "    }\n",
       "</style>\n",
       "<table border=\"1\" class=\"dataframe\">\n",
       "  <thead>\n",
       "    <tr style=\"text-align: right;\">\n",
       "      <th></th>\n",
       "      <th>level_0</th>\n",
       "      <th>Oil_store</th>\n",
       "      <th>주소</th>\n",
       "      <th>가격</th>\n",
       "      <th>셀프</th>\n",
       "      <th>상표</th>\n",
       "      <th>구</th>\n",
       "    </tr>\n",
       "  </thead>\n",
       "  <tbody>\n",
       "    <tr>\n",
       "      <td>519</td>\n",
       "      <td>519</td>\n",
       "      <td>서남주유소</td>\n",
       "      <td>서울 중구 통일로 30</td>\n",
       "      <td>2274.0</td>\n",
       "      <td>N</td>\n",
       "      <td>SK에너지</td>\n",
       "      <td>중구</td>\n",
       "    </tr>\n",
       "    <tr>\n",
       "      <td>518</td>\n",
       "      <td>518</td>\n",
       "      <td>SC(주) 역전주유소</td>\n",
       "      <td>서울 중구 퇴계로 15</td>\n",
       "      <td>2219.0</td>\n",
       "      <td>N</td>\n",
       "      <td>GS칼텍스</td>\n",
       "      <td>중구</td>\n",
       "    </tr>\n",
       "    <tr>\n",
       "      <td>39</td>\n",
       "      <td>39</td>\n",
       "      <td>뉴서울(강남)</td>\n",
       "      <td>서울 강남구 언주로 716 (논현동)</td>\n",
       "      <td>2218.0</td>\n",
       "      <td>N</td>\n",
       "      <td>SK에너지</td>\n",
       "      <td>강남구</td>\n",
       "    </tr>\n",
       "    <tr>\n",
       "      <td>79</td>\n",
       "      <td>79</td>\n",
       "      <td>뉴서울(강남)</td>\n",
       "      <td>서울 강남구 언주로 716 (논현동)</td>\n",
       "      <td>2218.0</td>\n",
       "      <td>N</td>\n",
       "      <td>SK에너지</td>\n",
       "      <td>강남구</td>\n",
       "    </tr>\n",
       "    <tr>\n",
       "      <td>517</td>\n",
       "      <td>517</td>\n",
       "      <td>SK에너지(주) 퇴계로주유소</td>\n",
       "      <td>서울 중구 퇴계로 228 (필동2가)</td>\n",
       "      <td>2198.0</td>\n",
       "      <td>N</td>\n",
       "      <td>SK에너지</td>\n",
       "      <td>중구</td>\n",
       "    </tr>\n",
       "    <tr>\n",
       "      <td>482</td>\n",
       "      <td>482</td>\n",
       "      <td>한남지점</td>\n",
       "      <td>서울 용산구 한남대로21길 4 (한남동)</td>\n",
       "      <td>2198.0</td>\n",
       "      <td>N</td>\n",
       "      <td>SK에너지</td>\n",
       "      <td>용산구</td>\n",
       "    </tr>\n",
       "    <tr>\n",
       "      <td>516</td>\n",
       "      <td>516</td>\n",
       "      <td>장충주유소</td>\n",
       "      <td>서울 중구 장충단로 202 (장충동1가)</td>\n",
       "      <td>2198.0</td>\n",
       "      <td>N</td>\n",
       "      <td>SK에너지</td>\n",
       "      <td>중구</td>\n",
       "    </tr>\n",
       "    <tr>\n",
       "      <td>506</td>\n",
       "      <td>506</td>\n",
       "      <td>(주)대양씨앤씨 사직주유소</td>\n",
       "      <td>서울 종로구 사직로 65 (사직동)</td>\n",
       "      <td>2198.0</td>\n",
       "      <td>N</td>\n",
       "      <td>GS칼텍스</td>\n",
       "      <td>종로구</td>\n",
       "    </tr>\n",
       "    <tr>\n",
       "      <td>507</td>\n",
       "      <td>507</td>\n",
       "      <td>(주)중앙에너비스 혜화주유소</td>\n",
       "      <td>서울 종로구 창경궁로35길 1</td>\n",
       "      <td>2198.0</td>\n",
       "      <td>N</td>\n",
       "      <td>SK에너지</td>\n",
       "      <td>종로구</td>\n",
       "    </tr>\n",
       "    <tr>\n",
       "      <td>481</td>\n",
       "      <td>481</td>\n",
       "      <td>에너비스</td>\n",
       "      <td>서울 용산구 한남대로 82 (한남동)</td>\n",
       "      <td>2198.0</td>\n",
       "      <td>N</td>\n",
       "      <td>SK에너지</td>\n",
       "      <td>용산구</td>\n",
       "    </tr>\n",
       "  </tbody>\n",
       "</table>\n",
       "</div>"
      ],
      "text/plain": [
       "     level_0        Oil_store                      주소      가격 셀프     상표    구\n",
       "519      519            서남주유소            서울 중구 통일로 30  2274.0  N  SK에너지   중구\n",
       "518      518      SC(주) 역전주유소            서울 중구 퇴계로 15  2219.0  N  GS칼텍스   중구\n",
       "39        39          뉴서울(강남)    서울 강남구 언주로 716 (논현동)  2218.0  N  SK에너지  강남구\n",
       "79        79          뉴서울(강남)    서울 강남구 언주로 716 (논현동)  2218.0  N  SK에너지  강남구\n",
       "517      517  SK에너지(주) 퇴계로주유소    서울 중구 퇴계로 228 (필동2가)  2198.0  N  SK에너지   중구\n",
       "482      482             한남지점  서울 용산구 한남대로21길 4 (한남동)  2198.0  N  SK에너지  용산구\n",
       "516      516            장충주유소  서울 중구 장충단로 202 (장충동1가)  2198.0  N  SK에너지   중구\n",
       "506      506   (주)대양씨앤씨 사직주유소     서울 종로구 사직로 65 (사직동)  2198.0  N  GS칼텍스  종로구\n",
       "507      507  (주)중앙에너비스 혜화주유소        서울 종로구 창경궁로35길 1  2198.0  N  SK에너지  종로구\n",
       "481      481             에너비스    서울 용산구 한남대로 82 (한남동)  2198.0  N  SK에너지  용산구"
      ]
     },
     "execution_count": 55,
     "metadata": {},
     "output_type": "execute_result"
    }
   ],
   "source": [
    "stations.sort_values(by='가격', ascending=False).head(10)"
   ]
  },
  {
   "cell_type": "code",
   "execution_count": 56,
   "metadata": {},
   "outputs": [
    {
     "data": {
      "text/html": [
       "<div>\n",
       "<style scoped>\n",
       "    .dataframe tbody tr th:only-of-type {\n",
       "        vertical-align: middle;\n",
       "    }\n",
       "\n",
       "    .dataframe tbody tr th {\n",
       "        vertical-align: top;\n",
       "    }\n",
       "\n",
       "    .dataframe thead th {\n",
       "        text-align: right;\n",
       "    }\n",
       "</style>\n",
       "<table border=\"1\" class=\"dataframe\">\n",
       "  <thead>\n",
       "    <tr style=\"text-align: right;\">\n",
       "      <th></th>\n",
       "      <th>level_0</th>\n",
       "      <th>Oil_store</th>\n",
       "      <th>주소</th>\n",
       "      <th>가격</th>\n",
       "      <th>셀프</th>\n",
       "      <th>상표</th>\n",
       "      <th>구</th>\n",
       "    </tr>\n",
       "  </thead>\n",
       "  <tbody>\n",
       "    <tr>\n",
       "      <td>354</td>\n",
       "      <td>354</td>\n",
       "      <td>이케이에너지㈜ 강산주유소</td>\n",
       "      <td>서울 성북구 보문로 27 (보문동7가)</td>\n",
       "      <td>1482.0</td>\n",
       "      <td>Y</td>\n",
       "      <td>GS칼텍스</td>\n",
       "      <td>성북구</td>\n",
       "    </tr>\n",
       "    <tr>\n",
       "      <td>355</td>\n",
       "      <td>355</td>\n",
       "      <td>강산제2주유소</td>\n",
       "      <td>서울 성북구 보국문로 52</td>\n",
       "      <td>1482.0</td>\n",
       "      <td>Y</td>\n",
       "      <td>현대오일뱅크</td>\n",
       "      <td>성북구</td>\n",
       "    </tr>\n",
       "    <tr>\n",
       "      <td>356</td>\n",
       "      <td>356</td>\n",
       "      <td>(주)삼표에너지 정릉주유소</td>\n",
       "      <td>서울 성북구 보국문로 35 (정릉동)</td>\n",
       "      <td>1482.0</td>\n",
       "      <td>Y</td>\n",
       "      <td>GS칼텍스</td>\n",
       "      <td>성북구</td>\n",
       "    </tr>\n",
       "    <tr>\n",
       "      <td>357</td>\n",
       "      <td>357</td>\n",
       "      <td>원천주유소</td>\n",
       "      <td>서울 성북구 돌곶이로 142 (장위동)</td>\n",
       "      <td>1488.0</td>\n",
       "      <td>N</td>\n",
       "      <td>알뜰주유소</td>\n",
       "      <td>성북구</td>\n",
       "    </tr>\n",
       "    <tr>\n",
       "      <td>96</td>\n",
       "      <td>96</td>\n",
       "      <td>수유동주유소</td>\n",
       "      <td>서울 강북구  도봉로 395 (수유동)</td>\n",
       "      <td>1489.0</td>\n",
       "      <td>Y</td>\n",
       "      <td>GS칼텍스</td>\n",
       "      <td>강북구</td>\n",
       "    </tr>\n",
       "    <tr>\n",
       "      <td>98</td>\n",
       "      <td>98</td>\n",
       "      <td>북서울고속주유소</td>\n",
       "      <td>서울 강북구 삼양로 410 (수유동)</td>\n",
       "      <td>1489.0</td>\n",
       "      <td>Y</td>\n",
       "      <td>S-OIL</td>\n",
       "      <td>강북구</td>\n",
       "    </tr>\n",
       "    <tr>\n",
       "      <td>225</td>\n",
       "      <td>225</td>\n",
       "      <td>SK네트웍스(주)도봉행복주유소</td>\n",
       "      <td>서울 도봉구  도봉로 941 (도봉동)</td>\n",
       "      <td>1489.0</td>\n",
       "      <td>Y</td>\n",
       "      <td>SK에너지</td>\n",
       "      <td>도봉구</td>\n",
       "    </tr>\n",
       "    <tr>\n",
       "      <td>97</td>\n",
       "      <td>97</td>\n",
       "      <td>(주)석산에너지</td>\n",
       "      <td>서울 강북구 삼양로 316 (수유동)</td>\n",
       "      <td>1489.0</td>\n",
       "      <td>N</td>\n",
       "      <td>현대오일뱅크</td>\n",
       "      <td>강북구</td>\n",
       "    </tr>\n",
       "    <tr>\n",
       "      <td>227</td>\n",
       "      <td>227</td>\n",
       "      <td>한이에너지(주)KLP제1주유소</td>\n",
       "      <td>서울 도봉구 도봉로 596 (창동)</td>\n",
       "      <td>1490.0</td>\n",
       "      <td>N</td>\n",
       "      <td>현대오일뱅크</td>\n",
       "      <td>도봉구</td>\n",
       "    </tr>\n",
       "    <tr>\n",
       "      <td>226</td>\n",
       "      <td>226</td>\n",
       "      <td>도봉제일주유소(주)송만에너지</td>\n",
       "      <td>서울특별시 도봉구  도봉로 783 (도봉동)</td>\n",
       "      <td>1490.0</td>\n",
       "      <td>N</td>\n",
       "      <td>현대오일뱅크</td>\n",
       "      <td>도봉구</td>\n",
       "    </tr>\n",
       "  </tbody>\n",
       "</table>\n",
       "</div>"
      ],
      "text/plain": [
       "     level_0         Oil_store                        주소      가격 셀프      상표  \\\n",
       "354      354     이케이에너지㈜ 강산주유소     서울 성북구 보문로 27 (보문동7가)  1482.0  Y   GS칼텍스   \n",
       "355      355           강산제2주유소            서울 성북구 보국문로 52  1482.0  Y  현대오일뱅크   \n",
       "356      356    (주)삼표에너지 정릉주유소      서울 성북구 보국문로 35 (정릉동)  1482.0  Y   GS칼텍스   \n",
       "357      357             원천주유소     서울 성북구 돌곶이로 142 (장위동)  1488.0  N   알뜰주유소   \n",
       "96        96            수유동주유소     서울 강북구  도봉로 395 (수유동)  1489.0  Y   GS칼텍스   \n",
       "98        98          북서울고속주유소      서울 강북구 삼양로 410 (수유동)  1489.0  Y   S-OIL   \n",
       "225      225  SK네트웍스(주)도봉행복주유소     서울 도봉구  도봉로 941 (도봉동)  1489.0  Y   SK에너지   \n",
       "97        97          (주)석산에너지      서울 강북구 삼양로 316 (수유동)  1489.0  N  현대오일뱅크   \n",
       "227      227  한이에너지(주)KLP제1주유소       서울 도봉구 도봉로 596 (창동)  1490.0  N  현대오일뱅크   \n",
       "226      226   도봉제일주유소(주)송만에너지  서울특별시 도봉구  도봉로 783 (도봉동)  1490.0  N  현대오일뱅크   \n",
       "\n",
       "       구  \n",
       "354  성북구  \n",
       "355  성북구  \n",
       "356  성북구  \n",
       "357  성북구  \n",
       "96   강북구  \n",
       "98   강북구  \n",
       "225  도봉구  \n",
       "97   강북구  \n",
       "227  도봉구  \n",
       "226  도봉구  "
      ]
     },
     "execution_count": 56,
     "metadata": {},
     "output_type": "execute_result"
    }
   ],
   "source": [
    "stations.sort_values(by='가격', ascending=True).head(10)"
   ]
  },
  {
   "cell_type": "markdown",
   "metadata": {},
   "source": [
    "### 피봇 테이블로 구별로 가격의 평균값으로  정리하기 "
   ]
  },
  {
   "cell_type": "code",
   "execution_count": 58,
   "metadata": {},
   "outputs": [
    {
     "data": {
      "text/html": [
       "<div>\n",
       "<style scoped>\n",
       "    .dataframe tbody tr th:only-of-type {\n",
       "        vertical-align: middle;\n",
       "    }\n",
       "\n",
       "    .dataframe tbody tr th {\n",
       "        vertical-align: top;\n",
       "    }\n",
       "\n",
       "    .dataframe thead th {\n",
       "        text-align: right;\n",
       "    }\n",
       "</style>\n",
       "<table border=\"1\" class=\"dataframe\">\n",
       "  <thead>\n",
       "    <tr style=\"text-align: right;\">\n",
       "      <th></th>\n",
       "      <th>가격</th>\n",
       "    </tr>\n",
       "    <tr>\n",
       "      <th>구</th>\n",
       "      <th></th>\n",
       "    </tr>\n",
       "  </thead>\n",
       "  <tbody>\n",
       "    <tr>\n",
       "      <td>강남구</td>\n",
       "      <td>1758.900000</td>\n",
       "    </tr>\n",
       "    <tr>\n",
       "      <td>강동구</td>\n",
       "      <td>1630.125000</td>\n",
       "    </tr>\n",
       "    <tr>\n",
       "      <td>강북구</td>\n",
       "      <td>1522.076923</td>\n",
       "    </tr>\n",
       "    <tr>\n",
       "      <td>강서구</td>\n",
       "      <td>1574.794118</td>\n",
       "    </tr>\n",
       "    <tr>\n",
       "      <td>관악구</td>\n",
       "      <td>1594.062500</td>\n",
       "    </tr>\n",
       "    <tr>\n",
       "      <td>광진구</td>\n",
       "      <td>1565.529412</td>\n",
       "    </tr>\n",
       "    <tr>\n",
       "      <td>구로구</td>\n",
       "      <td>1606.857143</td>\n",
       "    </tr>\n",
       "    <tr>\n",
       "      <td>금천구</td>\n",
       "      <td>1555.230769</td>\n",
       "    </tr>\n",
       "    <tr>\n",
       "      <td>노원구</td>\n",
       "      <td>1607.266667</td>\n",
       "    </tr>\n",
       "    <tr>\n",
       "      <td>도봉구</td>\n",
       "      <td>1545.277778</td>\n",
       "    </tr>\n",
       "    <tr>\n",
       "      <td>동대문구</td>\n",
       "      <td>1576.181818</td>\n",
       "    </tr>\n",
       "    <tr>\n",
       "      <td>동작구</td>\n",
       "      <td>1581.500000</td>\n",
       "    </tr>\n",
       "    <tr>\n",
       "      <td>마포구</td>\n",
       "      <td>1748.000000</td>\n",
       "    </tr>\n",
       "    <tr>\n",
       "      <td>서대문구</td>\n",
       "      <td>1596.933333</td>\n",
       "    </tr>\n",
       "    <tr>\n",
       "      <td>서초구</td>\n",
       "      <td>1643.805556</td>\n",
       "    </tr>\n",
       "    <tr>\n",
       "      <td>성동구</td>\n",
       "      <td>1654.588235</td>\n",
       "    </tr>\n",
       "    <tr>\n",
       "      <td>성북구</td>\n",
       "      <td>1526.625000</td>\n",
       "    </tr>\n",
       "    <tr>\n",
       "      <td>송파구</td>\n",
       "      <td>1579.484848</td>\n",
       "    </tr>\n",
       "    <tr>\n",
       "      <td>양천구</td>\n",
       "      <td>1579.769231</td>\n",
       "    </tr>\n",
       "    <tr>\n",
       "      <td>영등포구</td>\n",
       "      <td>1637.843750</td>\n",
       "    </tr>\n",
       "    <tr>\n",
       "      <td>용산구</td>\n",
       "      <td>1987.500000</td>\n",
       "    </tr>\n",
       "    <tr>\n",
       "      <td>은평구</td>\n",
       "      <td>1545.250000</td>\n",
       "    </tr>\n",
       "    <tr>\n",
       "      <td>종로구</td>\n",
       "      <td>1883.888889</td>\n",
       "    </tr>\n",
       "    <tr>\n",
       "      <td>중구</td>\n",
       "      <td>2055.250000</td>\n",
       "    </tr>\n",
       "    <tr>\n",
       "      <td>중랑구</td>\n",
       "      <td>1538.562500</td>\n",
       "    </tr>\n",
       "  </tbody>\n",
       "</table>\n",
       "</div>"
      ],
      "text/plain": [
       "               가격\n",
       "구                \n",
       "강남구   1758.900000\n",
       "강동구   1630.125000\n",
       "강북구   1522.076923\n",
       "강서구   1574.794118\n",
       "관악구   1594.062500\n",
       "광진구   1565.529412\n",
       "구로구   1606.857143\n",
       "금천구   1555.230769\n",
       "노원구   1607.266667\n",
       "도봉구   1545.277778\n",
       "동대문구  1576.181818\n",
       "동작구   1581.500000\n",
       "마포구   1748.000000\n",
       "서대문구  1596.933333\n",
       "서초구   1643.805556\n",
       "성동구   1654.588235\n",
       "성북구   1526.625000\n",
       "송파구   1579.484848\n",
       "양천구   1579.769231\n",
       "영등포구  1637.843750\n",
       "용산구   1987.500000\n",
       "은평구   1545.250000\n",
       "종로구   1883.888889\n",
       "중구    2055.250000\n",
       "중랑구   1538.562500"
      ]
     },
     "execution_count": 58,
     "metadata": {},
     "output_type": "execute_result"
    }
   ],
   "source": [
    "import numpy as np\n",
    "\n",
    "gu_data = pd.pivot_table(stations, index=[\"구\"], values=[\"가격\"], \n",
    "                         aggfunc=np.mean)\n",
    "gu_data"
   ]
  },
  {
   "cell_type": "markdown",
   "metadata": {},
   "source": [
    "## 가격별로 구 소팅하기 "
   ]
  },
  {
   "cell_type": "code",
   "execution_count": 61,
   "metadata": {},
   "outputs": [
    {
     "data": {
      "text/plain": [
       "pandas.core.frame.DataFrame"
      ]
     },
     "execution_count": 61,
     "metadata": {},
     "output_type": "execute_result"
    }
   ],
   "source": [
    "type(gu_data)"
   ]
  },
  {
   "cell_type": "code",
   "execution_count": 65,
   "metadata": {},
   "outputs": [
    {
     "data": {
      "text/html": [
       "<div>\n",
       "<style scoped>\n",
       "    .dataframe tbody tr th:only-of-type {\n",
       "        vertical-align: middle;\n",
       "    }\n",
       "\n",
       "    .dataframe tbody tr th {\n",
       "        vertical-align: top;\n",
       "    }\n",
       "\n",
       "    .dataframe thead th {\n",
       "        text-align: right;\n",
       "    }\n",
       "</style>\n",
       "<table border=\"1\" class=\"dataframe\">\n",
       "  <thead>\n",
       "    <tr style=\"text-align: right;\">\n",
       "      <th></th>\n",
       "      <th>가격</th>\n",
       "    </tr>\n",
       "    <tr>\n",
       "      <th>구</th>\n",
       "      <th></th>\n",
       "    </tr>\n",
       "  </thead>\n",
       "  <tbody>\n",
       "    <tr>\n",
       "      <td>중구</td>\n",
       "      <td>2055.250000</td>\n",
       "    </tr>\n",
       "    <tr>\n",
       "      <td>용산구</td>\n",
       "      <td>1987.500000</td>\n",
       "    </tr>\n",
       "    <tr>\n",
       "      <td>종로구</td>\n",
       "      <td>1883.888889</td>\n",
       "    </tr>\n",
       "    <tr>\n",
       "      <td>강남구</td>\n",
       "      <td>1758.900000</td>\n",
       "    </tr>\n",
       "    <tr>\n",
       "      <td>마포구</td>\n",
       "      <td>1748.000000</td>\n",
       "    </tr>\n",
       "    <tr>\n",
       "      <td>성동구</td>\n",
       "      <td>1654.588235</td>\n",
       "    </tr>\n",
       "    <tr>\n",
       "      <td>서초구</td>\n",
       "      <td>1643.805556</td>\n",
       "    </tr>\n",
       "    <tr>\n",
       "      <td>영등포구</td>\n",
       "      <td>1637.843750</td>\n",
       "    </tr>\n",
       "    <tr>\n",
       "      <td>강동구</td>\n",
       "      <td>1630.125000</td>\n",
       "    </tr>\n",
       "    <tr>\n",
       "      <td>노원구</td>\n",
       "      <td>1607.266667</td>\n",
       "    </tr>\n",
       "    <tr>\n",
       "      <td>구로구</td>\n",
       "      <td>1606.857143</td>\n",
       "    </tr>\n",
       "    <tr>\n",
       "      <td>서대문구</td>\n",
       "      <td>1596.933333</td>\n",
       "    </tr>\n",
       "    <tr>\n",
       "      <td>관악구</td>\n",
       "      <td>1594.062500</td>\n",
       "    </tr>\n",
       "    <tr>\n",
       "      <td>동작구</td>\n",
       "      <td>1581.500000</td>\n",
       "    </tr>\n",
       "    <tr>\n",
       "      <td>양천구</td>\n",
       "      <td>1579.769231</td>\n",
       "    </tr>\n",
       "    <tr>\n",
       "      <td>송파구</td>\n",
       "      <td>1579.484848</td>\n",
       "    </tr>\n",
       "    <tr>\n",
       "      <td>동대문구</td>\n",
       "      <td>1576.181818</td>\n",
       "    </tr>\n",
       "    <tr>\n",
       "      <td>강서구</td>\n",
       "      <td>1574.794118</td>\n",
       "    </tr>\n",
       "    <tr>\n",
       "      <td>광진구</td>\n",
       "      <td>1565.529412</td>\n",
       "    </tr>\n",
       "    <tr>\n",
       "      <td>금천구</td>\n",
       "      <td>1555.230769</td>\n",
       "    </tr>\n",
       "    <tr>\n",
       "      <td>도봉구</td>\n",
       "      <td>1545.277778</td>\n",
       "    </tr>\n",
       "    <tr>\n",
       "      <td>은평구</td>\n",
       "      <td>1545.250000</td>\n",
       "    </tr>\n",
       "    <tr>\n",
       "      <td>중랑구</td>\n",
       "      <td>1538.562500</td>\n",
       "    </tr>\n",
       "    <tr>\n",
       "      <td>성북구</td>\n",
       "      <td>1526.625000</td>\n",
       "    </tr>\n",
       "    <tr>\n",
       "      <td>강북구</td>\n",
       "      <td>1522.076923</td>\n",
       "    </tr>\n",
       "  </tbody>\n",
       "</table>\n",
       "</div>"
      ],
      "text/plain": [
       "               가격\n",
       "구                \n",
       "중구    2055.250000\n",
       "용산구   1987.500000\n",
       "종로구   1883.888889\n",
       "강남구   1758.900000\n",
       "마포구   1748.000000\n",
       "성동구   1654.588235\n",
       "서초구   1643.805556\n",
       "영등포구  1637.843750\n",
       "강동구   1630.125000\n",
       "노원구   1607.266667\n",
       "구로구   1606.857143\n",
       "서대문구  1596.933333\n",
       "관악구   1594.062500\n",
       "동작구   1581.500000\n",
       "양천구   1579.769231\n",
       "송파구   1579.484848\n",
       "동대문구  1576.181818\n",
       "강서구   1574.794118\n",
       "광진구   1565.529412\n",
       "금천구   1555.230769\n",
       "도봉구   1545.277778\n",
       "은평구   1545.250000\n",
       "중랑구   1538.562500\n",
       "성북구   1526.625000\n",
       "강북구   1522.076923"
      ]
     },
     "execution_count": 65,
     "metadata": {},
     "output_type": "execute_result"
    }
   ],
   "source": [
    "gu_data.sort_values(by='가격', ascending=False)"
   ]
  },
  {
   "cell_type": "markdown",
   "metadata": {},
   "source": [
    "### map.choropleth()를 이용한 지도 시각화 "
   ]
  },
  {
   "cell_type": "code",
   "execution_count": 60,
   "metadata": {},
   "outputs": [
    {
     "data": {
      "text/html": [
       "<div style=\"width:100%;\"><div style=\"position:relative;width:100%;height:0;padding-bottom:60%;\"><iframe src=\"data:text/html;charset=utf-8;base64,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\" style=\"position:absolute;width:100%;height:100%;left:0;top:0;border:none !important;\" allowfullscreen webkitallowfullscreen mozallowfullscreen></iframe></div></div>"
      ],
      "text/plain": [
       "<folium.folium.Map at 0x265e3f12ec8>"
      ]
     },
     "execution_count": 60,
     "metadata": {},
     "output_type": "execute_result"
    }
   ],
   "source": [
    "geo_path = '../../data/02. skorea_municipalities_geo_simple.json'\n",
    "geo_str = json.load(open(geo_path, encoding='utf-8'))\n",
    "\n",
    "map = folium.Map(location=[37.5502, 126.982], zoom_start=10.5, \n",
    "                 tiles='Stamen Toner')\n",
    "\n",
    "map.choropleth(geo_data = geo_str,\n",
    "               data = gu_data,\n",
    "               columns=[gu_data.index, '가격'],\n",
    "               fill_color='PuRd', #PuRd, YlGnBu\n",
    "               key_on='feature.id')\n",
    "map"
   ]
  },
  {
   "cell_type": "code",
   "execution_count": null,
   "metadata": {},
   "outputs": [],
   "source": []
  }
 ],
 "metadata": {
  "kernelspec": {
   "display_name": "Python 3",
   "language": "python",
   "name": "python3"
  },
  "language_info": {
   "codemirror_mode": {
    "name": "ipython",
    "version": 3
   },
   "file_extension": ".py",
   "mimetype": "text/x-python",
   "name": "python",
   "nbconvert_exporter": "python",
   "pygments_lexer": "ipython3",
   "version": "3.7.4"
  }
 },
 "nbformat": 4,
 "nbformat_minor": 1
}
