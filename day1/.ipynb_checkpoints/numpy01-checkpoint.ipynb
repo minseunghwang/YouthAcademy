{
 "cells": [
  {
   "cell_type": "code",
   "execution_count": 130,
   "metadata": {},
   "outputs": [
    {
     "name": "stdout",
     "output_type": "stream",
     "text": [
      "['1', '5', '9', '4', '6', '-1', '-2', '-12', '-16', '2', '3']\n",
      "<class 'list'>\n"
     ]
    },
    {
     "data": {
      "text/plain": [
       "'-16 9'"
      ]
     },
     "execution_count": 130,
     "metadata": {},
     "output_type": "execute_result"
    }
   ],
   "source": [
    "def solution(s):\n",
    "    answer = []\n",
    "    \n",
    "    s = s.split(' ')\n",
    "    s=list(map(int,s))\n",
    "    s.sort()\n",
    "    \n",
    "    return f'{s[0]} {s[-1]}'\n",
    "\n",
    "s =\"1 2 3 4\"\n",
    "# s =\"-1 -2 -3 -4\"\n",
    "s = \"-1 -1\"\n",
    "s= \"1 5 9 4 6 -1 -2 -12 -16 2 3\"\n",
    "solution(s)"
   ]
  },
  {
   "cell_type": "markdown",
   "metadata": {},
   "source": [
    "###\n",
    "하이\n",
    "# 하이\n",
    "'''\n",
    "이게주석? \n",
    "'''\n",
    "\n",
    "```\n",
    "여러줄주석\n",
    "여러줄주석\n",
    "여러줄주석\n",
    "```"
   ]
  },
  {
   "cell_type": "markdown",
   "metadata": {},
   "source": [
    "- Numpy = Numeric Python = 넘파이/늄파이\n",
    "- 수학 및 과학연산을 위한 파이썬 외부 라이브러리\n",
    "- 관련 사이트 - https://numpy.org/\n",
    "- 파이썬의 기본 데이타형중 리스트 비교\n",
    "```\n",
    "하나의 자료형만 지원 가능\n",
    "넘파이 배열로 생성\n",
    "```"
   ]
  },
  {
   "cell_type": "markdown",
   "metadata": {},
   "source": [
    "# 넘파이 모듈 임포트\n",
    "\n",
    "- import numpy as 별칭(np)"
   ]
  },
  {
   "cell_type": "code",
   "execution_count": 29,
   "metadata": {},
   "outputs": [],
   "source": [
    "import numpy as np"
   ]
  },
  {
   "cell_type": "code",
   "execution_count": 30,
   "metadata": {
    "scrolled": false
   },
   "outputs": [
    {
     "data": {
      "text/plain": [
       "'1.16.5'"
      ]
     },
     "execution_count": 30,
     "metadata": {},
     "output_type": "execute_result"
    }
   ],
   "source": [
    "### 넘파이 버전확인\n",
    "np.__version__"
   ]
  },
  {
   "cell_type": "markdown",
   "metadata": {},
   "source": [
    "### 넘파이 배열 생성\n",
    "- 리스트 변수 생성후 np.array(리스트명)\n",
    "- np.array([값1, 값2...])"
   ]
  },
  {
   "cell_type": "code",
   "execution_count": 71,
   "metadata": {},
   "outputs": [
    {
     "data": {
      "text/plain": [
       "[1, 2, 3, 4, 5]"
      ]
     },
     "execution_count": 71,
     "metadata": {},
     "output_type": "execute_result"
    }
   ],
   "source": [
    "myList = [1,2,3,4,5]\n",
    "myList"
   ]
  },
  {
   "cell_type": "code",
   "execution_count": 72,
   "metadata": {
    "scrolled": true
   },
   "outputs": [
    {
     "data": {
      "text/plain": [
       "list"
      ]
     },
     "execution_count": 72,
     "metadata": {},
     "output_type": "execute_result"
    }
   ],
   "source": [
    "type(myList)"
   ]
  },
  {
   "cell_type": "code",
   "execution_count": 73,
   "metadata": {},
   "outputs": [
    {
     "data": {
      "text/plain": [
       "array([1, 2, 3, 4, 5])"
      ]
     },
     "execution_count": 73,
     "metadata": {},
     "output_type": "execute_result"
    }
   ],
   "source": [
    "arr1 = np.array(myList)\n",
    "arr1"
   ]
  },
  {
   "cell_type": "code",
   "execution_count": 74,
   "metadata": {},
   "outputs": [
    {
     "data": {
      "text/plain": [
       "numpy.ndarray"
      ]
     },
     "execution_count": 74,
     "metadata": {},
     "output_type": "execute_result"
    }
   ],
   "source": [
    "type(arr1)"
   ]
  },
  {
   "cell_type": "code",
   "execution_count": 83,
   "metadata": {},
   "outputs": [
    {
     "name": "stdout",
     "output_type": "stream",
     "text": [
      "['도' '레' '미'], 데이터형=<class 'numpy.ndarray'>\n"
     ]
    }
   ],
   "source": [
    "arr2 = np.array(['도', '레', '미'])\n",
    "print(f'{arr2}, 데이터형={type(arr2)}')"
   ]
  },
  {
   "cell_type": "markdown",
   "metadata": {},
   "source": [
    "### 넘파이배열과 리스트의 차이점은?"
   ]
  },
  {
   "cell_type": "code",
   "execution_count": 91,
   "metadata": {},
   "outputs": [
    {
     "name": "stdout",
     "output_type": "stream",
     "text": [
      "myList2 =  ['파이썬', 100, True] \n",
      "데이터형은 ? <class 'list'>\n"
     ]
    }
   ],
   "source": [
    "# 데이터형이 다중인 경우 => 데이터형이 그대로 유지\n",
    "myList2 = ['파이썬', 100, True]\n",
    "print('myList2 = ', myList2, '\\n데이터형은 ?', type(myList2))"
   ]
  },
  {
   "cell_type": "code",
   "execution_count": 92,
   "metadata": {},
   "outputs": [
    {
     "data": {
      "text/plain": [
       "array(['파이썬', '100', 'True'], dtype='<U4')"
      ]
     },
     "execution_count": 92,
     "metadata": {},
     "output_type": "execute_result"
    }
   ],
   "source": [
    "# 넘파이 배열인 경우 하나의 데이터형만 유지 => 문자열로 모두 구성된 넘파이 배열\n",
    "np.array(myList2)"
   ]
  },
  {
   "cell_type": "markdown",
   "metadata": {},
   "source": [
    "### 넘파이배열의 구조 속성과 디자인 넘파이 배열화\n",
    "\n",
    "- 넘파이 배열명 .shape\n",
    "- np.array(2차원 리스트)\n",
    "\n",
    "### 1차원 넘파이 배열의 구조(형태) = (갯수,)"
   ]
  },
  {
   "cell_type": "code",
   "execution_count": 98,
   "metadata": {},
   "outputs": [
    {
     "name": "stdout",
     "output_type": "stream",
     "text": [
      "arr3 =  ['트와이스' 'BTS' '엑소'] shape =  (3,)\n"
     ]
    }
   ],
   "source": [
    "arr3 = np.array(['트와이스', 'BTS', '엑소'])\n",
    "print('arr3 = ', arr3, 'shape = ', arr3.shape)"
   ]
  },
  {
   "cell_type": "code",
   "execution_count": 110,
   "metadata": {},
   "outputs": [
    {
     "data": {
      "text/plain": [
       "tuple"
      ]
     },
     "execution_count": 110,
     "metadata": {},
     "output_type": "execute_result"
    }
   ],
   "source": [
    "type(arr3.shape)"
   ]
  },
  {
   "cell_type": "markdown",
   "metadata": {},
   "source": [
    "### 2차원 넘파이 배열의 구조(형태) = (행수,열수) = tuple 구조"
   ]
  },
  {
   "cell_type": "code",
   "execution_count": 123,
   "metadata": {},
   "outputs": [
    {
     "name": "stdout",
     "output_type": "stream",
     "text": [
      "[['red', 'green', 'blue'], ['빨강', '초록', '파랑'], ['white', 'black', 'gray']] <class 'list'> 3\n"
     ]
    }
   ],
   "source": [
    "# 3행 3열의 리스트 생성\n",
    "colorList = [['red', 'green', 'blue'],\n",
    "             ['빨강', '초록', '파랑'],\n",
    "            ['white', 'black', 'gray']]\n",
    "print(colorList, type(colorList), len(colorList))\n"
   ]
  },
  {
   "cell_type": "code",
   "execution_count": 120,
   "metadata": {},
   "outputs": [
    {
     "name": "stdout",
     "output_type": "stream",
     "text": [
      "[['red' 'green' 'blue']\n",
      " ['빨강' '초록' '파랑']\n",
      " ['white' 'black' 'gray']] <class 'numpy.ndarray'> 3\n"
     ]
    }
   ],
   "source": [
    "# 3행 3열의 리스트 생성\n",
    "colorNp = np.array(colorList)\n",
    "print(colorNp, type(colorNp), len(colorNp))"
   ]
  },
  {
   "cell_type": "code",
   "execution_count": 121,
   "metadata": {},
   "outputs": [
    {
     "data": {
      "text/plain": [
       "(3, 3)"
      ]
     },
     "execution_count": 121,
     "metadata": {},
     "output_type": "execute_result"
    }
   ],
   "source": [
    "# 넘파이 배열명.shpae = (행수, 열수)\n",
    "colorNp.shape"
   ]
  },
  {
   "cell_type": "code",
   "execution_count": 125,
   "metadata": {},
   "outputs": [
    {
     "data": {
      "text/plain": [
       "3"
      ]
     },
     "execution_count": 125,
     "metadata": {},
     "output_type": "execute_result"
    }
   ],
   "source": [
    "colorNp.shape[0]"
   ]
  },
  {
   "cell_type": "code",
   "execution_count": 129,
   "metadata": {},
   "outputs": [
    {
     "name": "stdout",
     "output_type": "stream",
     "text": [
      "행수는 : 3\n"
     ]
    }
   ],
   "source": [
    "print(f'행수는 : {colorNp.shape[0]}')"
   ]
  }
 ],
 "metadata": {
  "kernelspec": {
   "display_name": "Python 3",
   "language": "python",
   "name": "python3"
  },
  "language_info": {
   "codemirror_mode": {
    "name": "ipython",
    "version": 3
   },
   "file_extension": ".py",
   "mimetype": "text/x-python",
   "name": "python",
   "nbconvert_exporter": "python",
   "pygments_lexer": "ipython3",
   "version": "3.7.4"
  }
 },
 "nbformat": 4,
 "nbformat_minor": 2
}
