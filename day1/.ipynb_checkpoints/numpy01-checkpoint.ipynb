{
 "cells": [
  {
   "cell_type": "code",
   "execution_count": 130,
   "metadata": {},
   "outputs": [
    {
     "name": "stdout",
     "output_type": "stream",
     "text": [
      "['1', '5', '9', '4', '6', '-1', '-2', '-12', '-16', '2', '3']\n",
      "<class 'list'>\n"
     ]
    },
    {
     "data": {
      "text/plain": [
       "'-16 9'"
      ]
     },
     "execution_count": 130,
     "metadata": {},
     "output_type": "execute_result"
    }
   ],
   "source": [
    "def solution(s):\n",
    "    answer = []\n",
    "    \n",
    "    s = s.split(' ')\n",
    "    s=list(map(int,s))\n",
    "    s.sort()\n",
    "    \n",
    "    return f'{s[0]} {s[-1]}'\n",
    "\n",
    "s =\"1 2 3 4\"\n",
    "# s =\"-1 -2 -3 -4\"\n",
    "s = \"-1 -1\"\n",
    "s= \"1 5 9 4 6 -1 -2 -12 -16 2 3\"\n",
    "solution(s)"
   ]
  },
  {
   "cell_type": "markdown",
   "metadata": {},
   "source": [
    "###\n",
    "하이\n",
    "# 하이\n",
    "'''\n",
    "이게주석? \n",
    "'''\n",
    "\n",
    "```\n",
    "여러줄주석\n",
    "여러줄주석\n",
    "여러줄주석\n",
    "```"
   ]
  },
  {
   "cell_type": "markdown",
   "metadata": {},
   "source": [
    "- Numpy = Numeric Python = 넘파이/늄파이\n",
    "- 수학 및 과학연산을 위한 파이썬 외부 라이브러리\n",
    "- 관련 사이트 - https://numpy.org/\n",
    "- 파이썬의 기본 데이타형중 리스트 비교\n",
    "```\n",
    "하나의 자료형만 지원 가능\n",
    "넘파이 배열로 생성\n",
    "```"
   ]
  },
  {
   "cell_type": "markdown",
   "metadata": {},
   "source": [
    "# 넘파이 모듈 임포트\n",
    "\n",
    "- import numpy as 별칭(np)"
   ]
  },
  {
   "cell_type": "code",
   "execution_count": 29,
   "metadata": {},
   "outputs": [],
   "source": [
    "import numpy as np"
   ]
  },
  {
   "cell_type": "code",
   "execution_count": 30,
   "metadata": {
    "scrolled": false
   },
   "outputs": [
    {
     "data": {
      "text/plain": [
       "'1.16.5'"
      ]
     },
     "execution_count": 30,
     "metadata": {},
     "output_type": "execute_result"
    }
   ],
   "source": [
    "### 넘파이 버전확인\n",
    "np.__version__"
   ]
  },
  {
   "cell_type": "markdown",
   "metadata": {},
   "source": [
    "### 넘파이 배열 생성\n",
    "- 리스트 변수 생성후 np.array(리스트명)\n",
    "- np.array([값1, 값2...])"
   ]
  },
  {
   "cell_type": "code",
   "execution_count": 71,
   "metadata": {},
   "outputs": [
    {
     "data": {
      "text/plain": [
       "[1, 2, 3, 4, 5]"
      ]
     },
     "execution_count": 71,
     "metadata": {},
     "output_type": "execute_result"
    }
   ],
   "source": [
    "myList = [1,2,3,4,5]\n",
    "myList"
   ]
  },
  {
   "cell_type": "code",
   "execution_count": 72,
   "metadata": {
    "scrolled": true
   },
   "outputs": [
    {
     "data": {
      "text/plain": [
       "list"
      ]
     },
     "execution_count": 72,
     "metadata": {},
     "output_type": "execute_result"
    }
   ],
   "source": [
    "type(myList)"
   ]
  },
  {
   "cell_type": "code",
   "execution_count": 73,
   "metadata": {},
   "outputs": [
    {
     "data": {
      "text/plain": [
       "array([1, 2, 3, 4, 5])"
      ]
     },
     "execution_count": 73,
     "metadata": {},
     "output_type": "execute_result"
    }
   ],
   "source": [
    "arr1 = np.array(myList)\n",
    "arr1"
   ]
  },
  {
   "cell_type": "code",
   "execution_count": 74,
   "metadata": {},
   "outputs": [
    {
     "data": {
      "text/plain": [
       "numpy.ndarray"
      ]
     },
     "execution_count": 74,
     "metadata": {},
     "output_type": "execute_result"
    }
   ],
   "source": [
    "type(arr1)"
   ]
  },
  {
   "cell_type": "code",
   "execution_count": 83,
   "metadata": {},
   "outputs": [
    {
     "name": "stdout",
     "output_type": "stream",
     "text": [
      "['도' '레' '미'], 데이터형=<class 'numpy.ndarray'>\n"
     ]
    }
   ],
   "source": [
    "arr2 = np.array(['도', '레', '미'])\n",
    "print(f'{arr2}, 데이터형={type(arr2)}')"
   ]
  },
  {
   "cell_type": "markdown",
   "metadata": {},
   "source": [
    "### 넘파이배열과 리스트의 차이점은?"
   ]
  },
  {
   "cell_type": "code",
   "execution_count": 91,
   "metadata": {},
   "outputs": [
    {
     "name": "stdout",
     "output_type": "stream",
     "text": [
      "myList2 =  ['파이썬', 100, True] \n",
      "데이터형은 ? <class 'list'>\n"
     ]
    }
   ],
   "source": [
    "# 데이터형이 다중인 경우 => 데이터형이 그대로 유지\n",
    "myList2 = ['파이썬', 100, True]\n",
    "print('myList2 = ', myList2, '\\n데이터형은 ?', type(myList2))"
   ]
  },
  {
   "cell_type": "code",
   "execution_count": 92,
   "metadata": {},
   "outputs": [
    {
     "data": {
      "text/plain": [
       "array(['파이썬', '100', 'True'], dtype='<U4')"
      ]
     },
     "execution_count": 92,
     "metadata": {},
     "output_type": "execute_result"
    }
   ],
   "source": [
    "# 넘파이 배열인 경우 하나의 데이터형만 유지 => 문자열로 모두 구성된 넘파이 배열\n",
    "np.array(myList2)"
   ]
  },
  {
   "cell_type": "markdown",
   "metadata": {},
   "source": [
    "### 넘파이배열의 구조 속성과 디자인 넘파이 배열화\n",
    "\n",
    "- 넘파이 배열명 .shape\n",
    "- np.array(2차원 리스트)\n",
    "\n",
    "### 1차원 넘파이 배열의 구조(형태) = (갯수,)"
   ]
  },
  {
   "cell_type": "code",
   "execution_count": 98,
   "metadata": {},
   "outputs": [
    {
     "name": "stdout",
     "output_type": "stream",
     "text": [
      "arr3 =  ['트와이스' 'BTS' '엑소'] shape =  (3,)\n"
     ]
    }
   ],
   "source": [
    "arr3 = np.array(['트와이스', 'BTS', '엑소'])\n",
    "print('arr3 = ', arr3, 'shape = ', arr3.shape)"
   ]
  },
  {
   "cell_type": "code",
   "execution_count": 110,
   "metadata": {},
   "outputs": [
    {
     "data": {
      "text/plain": [
       "tuple"
      ]
     },
     "execution_count": 110,
     "metadata": {},
     "output_type": "execute_result"
    }
   ],
   "source": [
    "type(arr3.shape)"
   ]
  },
  {
   "cell_type": "markdown",
   "metadata": {},
   "source": [
    "### 2차원 넘파이 배열의 구조(형태) = (행수,열수) = tuple 구조"
   ]
  },
  {
   "cell_type": "code",
   "execution_count": 123,
   "metadata": {},
   "outputs": [
    {
     "name": "stdout",
     "output_type": "stream",
     "text": [
      "[['red', 'green', 'blue'], ['빨강', '초록', '파랑'], ['white', 'black', 'gray']] <class 'list'> 3\n"
     ]
    }
   ],
   "source": [
    "# 3행 3열의 리스트 생성\n",
    "colorList = [['red', 'green', 'blue'],\n",
    "             ['빨강', '초록', '파랑'],\n",
    "            ['white', 'black', 'gray']]\n",
    "print(colorList, type(colorList), len(colorList))\n"
   ]
  },
  {
   "cell_type": "code",
   "execution_count": 120,
   "metadata": {},
   "outputs": [
    {
     "name": "stdout",
     "output_type": "stream",
     "text": [
      "[['red' 'green' 'blue']\n",
      " ['빨강' '초록' '파랑']\n",
      " ['white' 'black' 'gray']] <class 'numpy.ndarray'> 3\n"
     ]
    }
   ],
   "source": [
    "# 3행 3열의 리스트 생성\n",
    "colorNp = np.array(colorList)\n",
    "print(colorNp, type(colorNp), len(colorNp))"
   ]
  },
  {
   "cell_type": "code",
   "execution_count": 121,
   "metadata": {},
   "outputs": [
    {
     "data": {
      "text/plain": [
       "(3, 3)"
      ]
     },
     "execution_count": 121,
     "metadata": {},
     "output_type": "execute_result"
    }
   ],
   "source": [
    "# 넘파이 배열명.shpae = (행수, 열수)\n",
    "colorNp.shape"
   ]
  },
  {
   "cell_type": "code",
   "execution_count": 125,
   "metadata": {},
   "outputs": [
    {
     "data": {
      "text/plain": [
       "3"
      ]
     },
     "execution_count": 125,
     "metadata": {},
     "output_type": "execute_result"
    }
   ],
   "source": [
    "colorNp.shape[0]"
   ]
  },
  {
   "cell_type": "code",
   "execution_count": 133,
   "metadata": {},
   "outputs": [
    {
     "name": "stdout",
     "output_type": "stream",
     "text": [
      "행수는 : 3\n",
      "행수는 : 3\n"
     ]
    }
   ],
   "source": [
    "print(f'행수는 : {colorNp.shape[0]}')\n",
    "print(f'행수는 : {colorNp.shape[1]}')"
   ]
  },
  {
   "cell_type": "markdown",
   "metadata": {},
   "source": [
    "### 차원이 다른 넘파이 배열의 구조는 ?"
   ]
  },
  {
   "cell_type": "code",
   "execution_count": 139,
   "metadata": {},
   "outputs": [
    {
     "data": {
      "text/plain": [
       "array([list([100, 200]), list([300, 400, 500])], dtype=object)"
      ]
     },
     "execution_count": 139,
     "metadata": {},
     "output_type": "execute_result"
    }
   ],
   "source": [
    "# npArr = np.array([100,200], [300, 400, 500]) => 에러\n",
    "npArr = np.array([[100,200], [300, 400, 500]])\n",
    "npArr"
   ]
  },
  {
   "cell_type": "code",
   "execution_count": 140,
   "metadata": {},
   "outputs": [
    {
     "data": {
      "text/plain": [
       "(2,)"
      ]
     },
     "execution_count": 140,
     "metadata": {},
     "output_type": "execute_result"
    }
   ],
   "source": [
    "npArr.shape"
   ]
  },
  {
   "cell_type": "markdown",
   "metadata": {},
   "source": [
    "### 넘파이 배열의 차원과 전체 사이즈\n",
    "- 넘파이배열.ndim\n",
    "- 넘파이배열.size"
   ]
  },
  {
   "cell_type": "code",
   "execution_count": 146,
   "metadata": {},
   "outputs": [
    {
     "name": "stdout",
     "output_type": "stream",
     "text": [
      "npArr2 = [3.4 5.5 0.7 3.9], ndim=1,        size = 4\n"
     ]
    }
   ],
   "source": [
    "npArr2 = np.array([3.4, 5.5, 0.7, 3.9])\n",
    "print(f'npArr2 = {npArr2}, ndim={npArr2.ndim},\\\n",
    "        size = {npArr2.size}')"
   ]
  },
  {
   "cell_type": "code",
   "execution_count": 149,
   "metadata": {},
   "outputs": [
    {
     "name": "stdout",
     "output_type": "stream",
     "text": [
      "npArr3 = [[1 2 3 4]\n",
      " [5 6 7 8]], ndim=2,        size = 8\n"
     ]
    }
   ],
   "source": [
    "npArr3 = np.array([[1,2,3,4],[5,6,7,8]])\n",
    "print(f'npArr3 = {npArr3}, ndim={npArr3.ndim},\\\n",
    "        size = {npArr3.size}')"
   ]
  },
  {
   "cell_type": "code",
   "execution_count": null,
   "metadata": {},
   "outputs": [],
   "source": []
  },
  {
   "cell_type": "markdown",
   "metadata": {},
   "source": [
    "### 퀴즈 : 캐스팅\n",
    "```\n",
    "1) 일반자료형 변경 : 숫자(100) => 문자열('100')\n",
    "2) 일반자료형 변경 : 문자열('0') => 실수형숫자(0.)\n",
    "3) 일반자료형 리스트(['사과','포도']) = 문자열(사과/포도)\n",
    "4) 일반자료형(숫자리스트) => 넘파이배열(문자형넘파이배열)\n",
    "        [1, 100, 4]      => ...\n",
    "5) 넘파이배열(실수형) => 넘파이배열(문자형)\n",
    "```"
   ]
  },
  {
   "cell_type": "code",
   "execution_count": 160,
   "metadata": {},
   "outputs": [
    {
     "data": {
      "text/plain": [
       "'100'"
      ]
     },
     "execution_count": 160,
     "metadata": {},
     "output_type": "execute_result"
    }
   ],
   "source": [
    "# 1) 일반자료형 변경 : 숫자(100) => 문자열('100')\n",
    "a=100\n",
    "str(a)"
   ]
  },
  {
   "cell_type": "code",
   "execution_count": 162,
   "metadata": {},
   "outputs": [
    {
     "data": {
      "text/plain": [
       "0.0"
      ]
     },
     "execution_count": 162,
     "metadata": {},
     "output_type": "execute_result"
    }
   ],
   "source": [
    "# 2) 일반자료형 변경 : 문자열('0') => 실수형숫자(0.)\n",
    "b = '0'\n",
    "float(b)"
   ]
  },
  {
   "cell_type": "code",
   "execution_count": 157,
   "metadata": {},
   "outputs": [
    {
     "data": {
      "text/plain": [
       "\"['사과', '포도']\""
      ]
     },
     "execution_count": 157,
     "metadata": {},
     "output_type": "execute_result"
    }
   ],
   "source": [
    "# 3) 일반자료형 리스트(['사과','포도']) = 문자열(사과/포도)\n",
    "str(['사과','포도'])"
   ]
  },
  {
   "cell_type": "code",
   "execution_count": 163,
   "metadata": {},
   "outputs": [
    {
     "ename": "SyntaxError",
     "evalue": "invalid syntax (<ipython-input-163-4eb6ec30162d>, line 1)",
     "output_type": "error",
     "traceback": [
      "\u001b[1;36m  File \u001b[1;32m\"<ipython-input-163-4eb6ec30162d>\"\u001b[1;36m, line \u001b[1;32m1\u001b[0m\n\u001b[1;33m    4) 일반자료형(숫자리스트) => 넘파이배열(문자형넘파이배열)\u001b[0m\n\u001b[1;37m     ^\u001b[0m\n\u001b[1;31mSyntaxError\u001b[0m\u001b[1;31m:\u001b[0m invalid syntax\n"
     ]
    }
   ],
   "source": [
    "# 4) 일반자료형(숫자리스트) => 넘파이배열(문자형넘파이배열)\n",
    "np.array([1.100,4])"
   ]
  },
  {
   "cell_type": "code",
   "execution_count": 168,
   "metadata": {},
   "outputs": [
    {
     "name": "stdout",
     "output_type": "stream",
     "text": [
      "[ 5.6  7.1 -9. ] ['5.' '7.' '-9']\n"
     ]
    }
   ],
   "source": [
    "# 5) 넘파이배열(실수형) => 넘파이배열(문자형)\n",
    "e = np.array([5.6, 7.1, -9.0])\n",
    "ee = e.astype('<U2')\n",
    "print(e,ee)"
   ]
  },
  {
   "cell_type": "markdown",
   "metadata": {},
   "source": [
    "## 넘파이 배열의 구조 변경\n",
    "- 1차원 => 2차원 / 2차원 => 1차원\n",
    "- 넘파이배열명.reshape(행수, 열수) : 1차원 =>2차원, 2차원 => 1차원\n",
    "- 넘파이배열명.flatten() : 2차원 => 1차원\n",
    "- 넘파이배열명.reshape(-1,?) : 전체요소(size)기준 2차원"
   ]
  },
  {
   "cell_type": "code",
   "execution_count": 175,
   "metadata": {},
   "outputs": [
    {
     "name": "stdout",
     "output_type": "stream",
     "text": [
      "npArr1 = [100 300 500   1   2], 차원 = 1, 구조 = (5,)\n",
      "\n",
      "npArr2 = [[100]\n",
      " [300]\n",
      " [500]\n",
      " [  1]\n",
      " [  2]], 차원 = 2, 구조 = (5, 1)\n"
     ]
    }
   ],
   "source": [
    "# 1차원 => 2차원\n",
    "npArr1 = np.array([100,300,500,1,2])\n",
    "print(f'npArr1 = {npArr1}, 차원 = {npArr1.ndim}, 구조 = {npArr1.shape}')\n",
    "npArr2 = npArr1.reshape(5,1)\n",
    "print(f'\\nnpArr2 = {npArr2}, 차원 = {npArr2.ndim}, 구조 = {npArr2.shape}')"
   ]
  },
  {
   "cell_type": "code",
   "execution_count": 178,
   "metadata": {},
   "outputs": [
    {
     "name": "stdout",
     "output_type": "stream",
     "text": [
      "npArr3 = [['a' 'b' 'c' 'd' 'e']\n",
      " ['1' '2' '3' '4' '5']], 차원 = 2, 구조 = (2, 5)\n",
      "\n",
      "npArr4 = [['a' 'b']\n",
      " ['c' 'd']\n",
      " ['e' '1']\n",
      " ['2' '3']\n",
      " ['4' '5']], 차원 = 2, 구조 = (5, 2)\n"
     ]
    }
   ],
   "source": [
    "# 2차원 => 2차원\n",
    "npArr3 = np.array([['a','b','c','d','e'], ['1','2','3','4','5']])\n",
    "print(f'npArr3 = {npArr3}, 차원 = {npArr3.ndim}, 구조 = {npArr3.shape}')\n",
    "npArr4 = npArr3.reshape(5,2)\n",
    "print(f'\\nnpArr4 = {npArr4}, 차원 = {npArr4.ndim}, 구조 = {npArr4.shape}')"
   ]
  },
  {
   "cell_type": "code",
   "execution_count": 187,
   "metadata": {},
   "outputs": [
    {
     "name": "stdout",
     "output_type": "stream",
     "text": [
      "npArr5 = [['a' 'b' 'c' 'd' 'e']\n",
      " ['1' '2' '3' '4' '5']], 차원 = 2, 구조 = (2, 5)\n",
      "\n",
      "npArr6 = [['a' 'b' 'c' 'd' 'e' '1' '2' '3' '4' '5']], 차원 = 2, 구조 = (1, 10)\n",
      "\n",
      "npArr7 = ['a' 'b' 'c' 'd' 'e' '1' '2' '3' '4' '5'], 차원 = 1, 구조 = (10,)\n"
     ]
    }
   ],
   "source": [
    "# 2차원(2행5열) => 1차원(1행 10열)\n",
    "# 2차원(2행5열) => 1차원(10) : 배열명.flatten()\n",
    "npArr5 = np.array([['a','b','c','d','e'], ['1','2','3','4','5']])\n",
    "print(f'npArr5 = {npArr5}, 차원 = {npArr5.ndim}, 구조 = {npArr5.shape}')\n",
    "npArr6 = npArr5.reshape(1,10)\n",
    "print(f'\\nnpArr6 = {npArr6}, 차원 = {npArr6.ndim}, 구조 = {npArr6.shape}')\n",
    "npArr7 = npArr5.flatten()\n",
    "print(f'\\nnpArr7 = {npArr7}, 차원 = {npArr7.ndim}, 구조 = {npArr7.shape}')"
   ]
  },
  {
   "cell_type": "markdown",
   "metadata": {},
   "source": [
    "### 넘파이배열명.reshape(-1,컬럼갯수) : 전체요소(size)기준 2차원"
   ]
  },
  {
   "cell_type": "code",
   "execution_count": 189,
   "metadata": {},
   "outputs": [
    {
     "name": "stdout",
     "output_type": "stream",
     "text": [
      "\n",
      " npArr8=[ 30  80 100  79  80 100], \n",
      "차원 = 1.        구조=(6,), 총갯수=6\n"
     ]
    }
   ],
   "source": [
    "npArr8 = np.array([30,80,100,79,80,100])\n",
    "print(f'\\n npArr8={npArr8}, \\n차원 = {npArr8.ndim}.\\\n",
    "        구조={npArr8.shape}, 총갯수={npArr8.size}')"
   ]
  },
  {
   "cell_type": "code",
   "execution_count": 195,
   "metadata": {},
   "outputs": [
    {
     "name": "stdout",
     "output_type": "stream",
     "text": [
      "\n",
      " npArr9=[[ 30  80]\n",
      " [100  79]\n",
      " [ 80 100]], \n",
      "차원 = 2.        \n",
      "구조=(3, 2), \n",
      "총갯수=6\n"
     ]
    }
   ],
   "source": [
    "# 1행 6열 = > ?행 2열    (몇행인지는 모르겠지만 뒤에있는 열 수 에 맞춰라)\n",
    "npArr9=npArr8.reshape(-1,2)\n",
    "print(f'\\n npArr9={npArr9}, \\n차원 = {npArr9.ndim}.\\\n",
    "        \\n구조={npArr9.shape}, \\n총갯수={npArr9.size}')"
   ]
  }
 ],
 "metadata": {
  "kernelspec": {
   "display_name": "Python 3",
   "language": "python",
   "name": "python3"
  },
  "language_info": {
   "codemirror_mode": {
    "name": "ipython",
    "version": 3
   },
   "file_extension": ".py",
   "mimetype": "text/x-python",
   "name": "python",
   "nbconvert_exporter": "python",
   "pygments_lexer": "ipython3",
   "version": "3.7.4"
  }
 },
 "nbformat": 4,
 "nbformat_minor": 2
}
