{
 "cells": [
  {
   "cell_type": "markdown",
   "metadata": {},
   "source": [
    "# 넘파이03\n",
    "- 넘파이배열의 연산\n",
    "- 넘파이배열의 인덱싱 / 슬라이싱\n",
    "- 넘파이 배열의 소수점 표시"
   ]
  },
  {
   "cell_type": "markdown",
   "metadata": {},
   "source": [
    "## 넘파이배열의 연산\n",
    "\n",
    "- 넘파이배열간의 사칙연산"
   ]
  },
  {
   "cell_type": "code",
   "execution_count": 4,
   "metadata": {},
   "outputs": [
    {
     "name": "stdout",
     "output_type": "stream",
     "text": [
      "arr1=[ 10  30  50 100], arr2=[ 2  3  5 10]\n"
     ]
    }
   ],
   "source": [
    "import numpy as np\n",
    "arr1 = np.array([10,30,50,100])\n",
    "arr2 = np.array([2,3,5,10])\n",
    "print(f'arr1={arr1}, arr2={arr2}')"
   ]
  },
  {
   "cell_type": "code",
   "execution_count": 5,
   "metadata": {},
   "outputs": [
    {
     "name": "stdout",
     "output_type": "stream",
     "text": [
      "[ 12  33  55 110]\n",
      "[ 8 27 45 90]\n",
      "[  20   90  250 1000]\n",
      "[ 5. 10. 10. 10.]\n"
     ]
    }
   ],
   "source": [
    "# 배열간의 사칙연산?\n",
    "print(arr1+arr2)\n",
    "print(arr1-arr2)\n",
    "print(arr1*arr2)\n",
    "print(arr1/arr2)"
   ]
  },
  {
   "cell_type": "code",
   "execution_count": 6,
   "metadata": {},
   "outputs": [
    {
     "name": "stdout",
     "output_type": "stream",
     "text": [
      "[  100   900  2500 10000]\n",
      "[ 40 120 200 400]\n",
      "[2 2 2 0]\n",
      "[ 20  40  60 110]\n"
     ]
    }
   ],
   "source": [
    "# 배열 연산\n",
    "print(arr1**2)\n",
    "print(arr1*4)\n",
    "print(arr1%4)\n",
    "print(arr1+10)"
   ]
  },
  {
   "cell_type": "markdown",
   "metadata": {},
   "source": [
    "### 넘파이 배열의 소수점 표시\n",
    "- np.set_printoptions(precision=소수점자리수)"
   ]
  },
  {
   "cell_type": "code",
   "execution_count": 12,
   "metadata": {},
   "outputs": [
    {
     "data": {
      "text/plain": [
       "array([3.1234, 5.1235, 1.    ])"
      ]
     },
     "execution_count": 12,
     "metadata": {},
     "output_type": "execute_result"
    }
   ],
   "source": [
    "arr3 = np.array([3.1234, 5.12345, 1])\n",
    "arr3"
   ]
  },
  {
   "cell_type": "code",
   "execution_count": 13,
   "metadata": {},
   "outputs": [
    {
     "data": {
      "text/plain": [
       "array([3.1234, 5.1235, 1.    ])"
      ]
     },
     "execution_count": 13,
     "metadata": {},
     "output_type": "execute_result"
    }
   ],
   "source": [
    "# 소수점 자리수 지정\n",
    "np.set_printoptions(precision=4)\n",
    "arr3"
   ]
  },
  {
   "cell_type": "markdown",
   "metadata": {},
   "source": [
    "### 넘파이 배열의 인덱싱\n",
    "- 리스트 인덱싱과 비슷\n",
    "- 1차원인 경우 - 넘파이배열이름[위치인덱스값]\n",
    "- 2차원인 경우 - 넘파이배열이름[행,열] =  넘파이배열이름[행][열]"
   ]
  },
  {
   "cell_type": "code",
   "execution_count": 16,
   "metadata": {},
   "outputs": [
    {
     "data": {
      "text/plain": [
       "array(['가', '나', '다', '라', '마'], dtype='<U1')"
      ]
     },
     "execution_count": 16,
     "metadata": {},
     "output_type": "execute_result"
    }
   ],
   "source": [
    "arr4 = np.array(['가','나','다','라','마'])\n",
    "arr4"
   ]
  },
  {
   "cell_type": "code",
   "execution_count": 18,
   "metadata": {},
   "outputs": [
    {
     "name": "stdout",
     "output_type": "stream",
     "text": [
      "arr4[0] : 가\n",
      "arr4[2] : 다\n",
      "arr4[4] : 마\n",
      "arr4[-1] : 마\n"
     ]
    }
   ],
   "source": [
    "print(f'arr4[0] : {arr4[0]}')\n",
    "print(f'arr4[2] : {arr4[2]}')\n",
    "print(f'arr4[4] : {arr4[4]}')\n",
    "print(f'arr4[-1] : {arr4[-1]}')"
   ]
  },
  {
   "cell_type": "markdown",
   "metadata": {},
   "source": [
    "### 넘파이배열의 슬라이싱\n",
    "- 리스트슬리아싱과 비슷\n",
    "- 1차원인 경우\n",
    "```\n",
    "넘파이배열이름[start:end]\n",
    "넘파이배열이름[start:]\n",
    "넘파이배열이름[:end]\n",
    "넘파이배열이름[:]\n",
    "넘파이배열이름[start:end:step]\n",
    "넘파이배열이름[start::step]\n",
    "넘파이배열이름[:end:step]\n",
    "넘파이배열이름[::]\n",
    "```\n",
    "- 2차원인 경우\n",
    "```\n",
    "넘파이배열이름[start1:end1, start2:end2]\n",
    "넘파이배열이름[start1: start2:]\n",
    "넘파이배열이름[:, :] = 넘파이배열이름[::,::]\n",
    "넘파이배열이름[start1:end1:step1, start2:end2:step2]\n",
    "넘파이배열이름[start1::step1, start2::step2]\n",
    "```"
   ]
  },
  {
   "cell_type": "code",
   "execution_count": 21,
   "metadata": {},
   "outputs": [
    {
     "data": {
      "text/plain": [
       "array([ 1,  2,  3,  4,  5,  6,  7,  8,  9, 10, 11, 12, 13, 14, 15])"
      ]
     },
     "execution_count": 21,
     "metadata": {},
     "output_type": "execute_result"
    }
   ],
   "source": [
    "arr5 = np.arange(1,16)\n",
    "arr5"
   ]
  },
  {
   "cell_type": "code",
   "execution_count": 26,
   "metadata": {},
   "outputs": [
    {
     "name": "stdout",
     "output_type": "stream",
     "text": [
      "arr5[2:]=[ 3  4  5  6  7  8  9 10 11 12 13 14 15]\n",
      "arr5[:3]=[1 2 3]\n",
      "arr5[5:10]=[ 6  7  8  9 10]\n",
      "arr5[:]=[ 1  2  3  4  5  6  7  8  9 10 11 12 13 14 15]\n",
      "arr5[::]=[ 1  2  3  4  5  6  7  8  9 10 11 12 13 14 15]\n",
      "arr5[0:8:2]=[1 3 5 7]\n",
      "arr5[0::2]=[ 1  3  5  7  9 11 13 15]\n",
      "arr5[:8:2]=[1 3 5 7]\n"
     ]
    }
   ],
   "source": [
    "print(f'arr5[2:]={arr5[2:]}')\n",
    "print(f'arr5[:3]={arr5[:3]}')\n",
    "print(f'arr5[5:10]={arr5[5:10]}')\n",
    "print(f'arr5[:]={arr5[:]}')\n",
    "print(f'arr5[::]={arr5[::]}')\n",
    "\n",
    "print(f'arr5[0:8:2]={arr5[0:8:2]}')\n",
    "print(f'arr5[0::2]={arr5[0::2]}')\n",
    "print(f'arr5[:8:2]={arr5[:8:2]}')"
   ]
  },
  {
   "cell_type": "markdown",
   "metadata": {},
   "source": [
    "### 2차원 인덱싱"
   ]
  },
  {
   "cell_type": "code",
   "execution_count": 42,
   "metadata": {},
   "outputs": [
    {
     "name": "stdout",
     "output_type": "stream",
     "text": [
      "listA = [[100, 200, 300], [1, 2, 3]]\n"
     ]
    }
   ],
   "source": [
    "listA = [[100,200,300], [1,2,3]]\n",
    "print(f'listA = {listA}')"
   ]
  },
  {
   "cell_type": "code",
   "execution_count": 46,
   "metadata": {},
   "outputs": [
    {
     "name": "stdout",
     "output_type": "stream",
     "text": [
      "listA[0][0] = 100\n",
      "listA[-1][-1] = 3\n"
     ]
    }
   ],
   "source": [
    "print(f'listA[0][0] = {listA[0][0]}')\n",
    "print(f'listA[-1][-1] = {listA[-1][-1]}')"
   ]
  },
  {
   "cell_type": "code",
   "execution_count": 57,
   "metadata": {},
   "outputs": [
    {
     "name": "stdout",
     "output_type": "stream",
     "text": [
      "npA = [[100 200 300]\n",
      " [  1   2   3]]\n",
      "npA[0][0] = 100\n",
      "npA[0,0] = 100\n",
      "npA[-1][-1] = 3\n"
     ]
    },
    {
     "data": {
      "text/plain": [
       "2"
      ]
     },
     "execution_count": 57,
     "metadata": {},
     "output_type": "execute_result"
    }
   ],
   "source": [
    "# 넘파이 배열의 인덱싱\n",
    "npA = np.array(listA)\n",
    "print(f'npA = {npA}')\n",
    "print(f'npA[0][0] = {npA[0][0]}')\n",
    "print(f'npA[0,0] = {npA[0,0]}')\n",
    "print(f'npA[-1][-1] = {npA[-1][-1]}')\n",
    "npA.ndim"
   ]
  },
  {
   "cell_type": "markdown",
   "metadata": {},
   "source": [
    "### 2차원 넘파이배열의 슬라이싱"
   ]
  },
  {
   "cell_type": "code",
   "execution_count": 89,
   "metadata": {},
   "outputs": [
    {
     "name": "stdout",
     "output_type": "stream",
     "text": [
      "listB=[[100, 200, 300, 400], [1, 2, 3, 4], [5, 6, 7, 8], [500, 600, 700, 800]]\n",
      "listB=[[100, 200, 300, 400], [5, 6, 7, 8]]\n",
      "listB=[[100, 200, 300, 400], [1, 2, 3, 4], [5, 6, 7, 8], [500, 600, 700, 800]]\n",
      "listB=[[1, 2, 3, 4], [5, 6, 7, 8], [500, 600, 700, 800]]\n",
      "[[100, 200, 300, 400], [5, 6, 7, 8]]\n",
      "[[100, 200, 300, 400], [5, 6, 7, 8]]\n"
     ]
    }
   ],
   "source": [
    "# 파이선 일반 리스트의 슬라이싱\n",
    "listB = [[100,200,300,400], [1,2,3,4],[5,6,7,8],[500,600,700,800]]\n",
    "print(f'listB={listB}')\n",
    "print(f'listB={listB[::][::2]}')\n",
    "print(f'listB={listB[::][::]}')\n",
    "print(f'listB={listB[1:][:]}')\n",
    "print(listB[::][::2])\n",
    "print(listB[::2][::])"
   ]
  },
  {
   "cell_type": "code",
   "execution_count": 90,
   "metadata": {},
   "outputs": [
    {
     "name": "stdout",
     "output_type": "stream",
     "text": [
      "[[100, 200, 300, 400], [1, 2, 3, 4], [5, 6, 7, 8], [500, 600, 700, 800]]\n",
      "[[100 200 300 400]\n",
      " [  1   2   3   4]\n",
      " [  5   6   7   8]\n",
      " [500 600 700 800]]\n"
     ]
    }
   ],
   "source": [
    "# 넘파이 2차원 배열의 인덱싱\n",
    "print(listB)\n",
    "npB = np.array(listB)\n",
    "print(npB)"
   ]
  },
  {
   "cell_type": "code",
   "execution_count": 92,
   "metadata": {},
   "outputs": [
    {
     "data": {
      "text/plain": [
       "array([[100, 200, 300, 400],\n",
       "       [  1,   2,   3,   4],\n",
       "       [  5,   6,   7,   8],\n",
       "       [500, 600, 700, 800]])"
      ]
     },
     "execution_count": 92,
     "metadata": {},
     "output_type": "execute_result"
    }
   ],
   "source": [
    "# npB[::][::] = npB[::,::] = 전체\n",
    "npB[::,::]"
   ]
  },
  {
   "cell_type": "code",
   "execution_count": 93,
   "metadata": {},
   "outputs": [
    {
     "data": {
      "text/plain": [
       "array([[  5,   6,   7,   8],\n",
       "       [500, 600, 700, 800]])"
      ]
     },
     "execution_count": 93,
     "metadata": {},
     "output_type": "execute_result"
    }
   ],
   "source": [
    "# 3,4행 출력\n",
    "npB[2::,::]"
   ]
  },
  {
   "cell_type": "code",
   "execution_count": 87,
   "metadata": {},
   "outputs": [
    {
     "data": {
      "text/plain": [
       "array([[100, 200, 300, 400],\n",
       "       [  5,   6,   7,   8]])"
      ]
     },
     "execution_count": 87,
     "metadata": {},
     "output_type": "execute_result"
    }
   ],
   "source": [
    "# 1,3행 출력\n",
    "npB[::2,::]"
   ]
  },
  {
   "cell_type": "code",
   "execution_count": 94,
   "metadata": {},
   "outputs": [
    {
     "data": {
      "text/plain": [
       "array([[  1,   2,   3,   4],\n",
       "       [500, 600, 700, 800]])"
      ]
     },
     "execution_count": 94,
     "metadata": {},
     "output_type": "execute_result"
    }
   ],
   "source": [
    "# 2,4행 출력\n",
    "npB[1::2,::]"
   ]
  },
  {
   "cell_type": "code",
   "execution_count": 95,
   "metadata": {},
   "outputs": [
    {
     "data": {
      "text/plain": [
       "array([[100, 200, 300, 400],\n",
       "       [  1,   2,   3,   4],\n",
       "       [  5,   6,   7,   8],\n",
       "       [500, 600, 700, 800]])"
      ]
     },
     "execution_count": 95,
     "metadata": {},
     "output_type": "execute_result"
    }
   ],
   "source": [
    "npB"
   ]
  },
  {
   "cell_type": "code",
   "execution_count": 96,
   "metadata": {},
   "outputs": [
    {
     "data": {
      "text/plain": [
       "array([[300, 400],\n",
       "       [  3,   4],\n",
       "       [  7,   8],\n",
       "       [700, 800]])"
      ]
     },
     "execution_count": 96,
     "metadata": {},
     "output_type": "execute_result"
    }
   ],
   "source": [
    "# 3,4 컬럼 출력\n",
    "npB[::, 2::]"
   ]
  },
  {
   "cell_type": "code",
   "execution_count": 99,
   "metadata": {},
   "outputs": [
    {
     "data": {
      "text/plain": [
       "array([[100, 300],\n",
       "       [  1,   3],\n",
       "       [  5,   7],\n",
       "       [500, 700]])"
      ]
     },
     "execution_count": 99,
     "metadata": {},
     "output_type": "execute_result"
    }
   ],
   "source": [
    "# 컬럼 출력\n",
    "npB[::, ::2]"
   ]
  },
  {
   "cell_type": "code",
   "execution_count": 100,
   "metadata": {},
   "outputs": [
    {
     "data": {
      "text/plain": [
       "array([[200, 400],\n",
       "       [  2,   4],\n",
       "       [  6,   8],\n",
       "       [600, 800]])"
      ]
     },
     "execution_count": 100,
     "metadata": {},
     "output_type": "execute_result"
    }
   ],
   "source": [
    "# 2,4 컬럼 출력\n",
    "npB[::,1::2]"
   ]
  },
  {
   "cell_type": "code",
   "execution_count": 103,
   "metadata": {},
   "outputs": [
    {
     "data": {
      "text/plain": [
       "array([[  6,   8],\n",
       "       [600, 800]])"
      ]
     },
     "execution_count": 103,
     "metadata": {},
     "output_type": "execute_result"
    }
   ],
   "source": [
    "# 출력 - 3,4 행에서 2,4 컬럼만 출력\n",
    "npB[2::,1::2]"
   ]
  },
  {
   "cell_type": "code",
   "execution_count": 106,
   "metadata": {},
   "outputs": [
    {
     "data": {
      "text/plain": [
       "array([[100, 300],\n",
       "       [  5,   7]])"
      ]
     },
     "execution_count": 106,
     "metadata": {},
     "output_type": "execute_result"
    }
   ],
   "source": [
    "# 출력 - 홀수번째 행에서 홀수번째 컬럼 출력\n",
    "npB[::2,::2]"
   ]
  },
  {
   "cell_type": "markdown",
   "metadata": {},
   "source": [
    "## 퀴즈\n",
    "```\n",
    "1) 1~15 구성된 넘파이 배열을 3행 5열로 구성하고 1,3,5 열만 출력하여라\n",
    "2) 1~15 구성된 넘파이 배열을 3행 5열로 구성하고 1행1열, 1행4열, 3행1열, 3행4열만 출력하여라\n",
    "3) 1~15 구성된 넘파이 배열을 3행 5열로 구성하고 홀수번째 행만 출력하여라\n",
    "```"
   ]
  },
  {
   "cell_type": "code",
   "execution_count": 129,
   "metadata": {},
   "outputs": [
    {
     "data": {
      "text/plain": [
       "array([[ 1,  2,  3,  4,  5],\n",
       "       [ 6,  7,  8,  9, 10],\n",
       "       [11, 12, 13, 14, 15]])"
      ]
     },
     "execution_count": 129,
     "metadata": {},
     "output_type": "execute_result"
    }
   ],
   "source": [
    "arrms = np.array(np.arange(1,16).reshape(3,5))\n",
    "arrms"
   ]
  },
  {
   "cell_type": "code",
   "execution_count": 130,
   "metadata": {},
   "outputs": [
    {
     "data": {
      "text/plain": [
       "array([[ 1,  3,  5],\n",
       "       [ 6,  8, 10],\n",
       "       [11, 13, 15]])"
      ]
     },
     "execution_count": 130,
     "metadata": {},
     "output_type": "execute_result"
    }
   ],
   "source": [
    "arrms[:,::2]"
   ]
  },
  {
   "cell_type": "code",
   "execution_count": 131,
   "metadata": {},
   "outputs": [
    {
     "data": {
      "text/plain": [
       "array([[ 1,  4],\n",
       "       [11, 14]])"
      ]
     },
     "execution_count": 131,
     "metadata": {},
     "output_type": "execute_result"
    }
   ],
   "source": [
    "arrms[::2,::3]"
   ]
  },
  {
   "cell_type": "code",
   "execution_count": 133,
   "metadata": {},
   "outputs": [
    {
     "data": {
      "text/plain": [
       "array([[ 1,  2,  3,  4,  5],\n",
       "       [11, 12, 13, 14, 15]])"
      ]
     },
     "execution_count": 133,
     "metadata": {},
     "output_type": "execute_result"
    }
   ],
   "source": [
    "arrms[::2,::]"
   ]
  }
 ],
 "metadata": {
  "kernelspec": {
   "display_name": "Python 3",
   "language": "python",
   "name": "python3"
  },
  "language_info": {
   "codemirror_mode": {
    "name": "ipython",
    "version": 3
   },
   "file_extension": ".py",
   "mimetype": "text/x-python",
   "name": "python",
   "nbconvert_exporter": "python",
   "pygments_lexer": "ipython3",
   "version": "3.7.4"
  }
 },
 "nbformat": 4,
 "nbformat_minor": 2
}
