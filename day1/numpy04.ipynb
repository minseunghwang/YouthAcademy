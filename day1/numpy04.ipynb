{
 "cells": [
  {
   "cell_type": "markdown",
   "metadata": {},
   "source": [
    "# numpy04\n",
    "\n",
    "- 일반 난수\n",
    "- 넘파이 난수 배열"
   ]
  },
  {
   "cell_type": "code",
   "execution_count": 1,
   "metadata": {},
   "outputs": [],
   "source": [
    "import numpy as np"
   ]
  },
  {
   "cell_type": "markdown",
   "metadata": {},
   "source": [
    "## 일반난수\n",
    "- 내장모듈 임포트 import random\n",
    "- random.random() : 0 ~ 1 난수\n",
    "- random.randint()\n",
    "- random.randomrange()\n",
    "- random.randomchoice()"
   ]
  },
  {
   "cell_type": "code",
   "execution_count": 2,
   "metadata": {},
   "outputs": [],
   "source": [
    "import random"
   ]
  },
  {
   "cell_type": "code",
   "execution_count": 17,
   "metadata": {},
   "outputs": [
    {
     "name": "stdout",
     "output_type": "stream",
     "text": [
      "0.8621660401484215\n",
      "0.21080050330776412\n"
     ]
    }
   ],
   "source": [
    "print(random.random())\n",
    "print(random.random())"
   ]
  },
  {
   "cell_type": "code",
   "execution_count": 92,
   "metadata": {},
   "outputs": [
    {
     "name": "stdout",
     "output_type": "stream",
     "text": [
      "10\n",
      "2\n"
     ]
    }
   ],
   "source": [
    "# 1~10 정수\n",
    "print(random.randint(1,10))\n",
    "print(random.randint(1,10))"
   ]
  },
  {
   "cell_type": "code",
   "execution_count": 87,
   "metadata": {},
   "outputs": [
    {
     "name": "stdout",
     "output_type": "stream",
     "text": [
      "1\n",
      "27\n",
      "48\n"
     ]
    }
   ],
   "source": [
    "# !~100 홀수\n",
    "print(random.randrange(1,100,2)) \n",
    "print(random.randrange(1,100,2))"
   ]
  },
  {
   "cell_type": "code",
   "execution_count": 106,
   "metadata": {},
   "outputs": [
    {
     "name": "stdout",
     "output_type": "stream",
     "text": [
      "54\n",
      "90\n"
     ]
    }
   ],
   "source": [
    "# 0~100 짝수\n",
    "print(random.randrange(0,100,2)) \n",
    "print(random.randrange(0,100,2)) "
   ]
  },
  {
   "cell_type": "code",
   "execution_count": 117,
   "metadata": {},
   "outputs": [
    {
     "name": "stdout",
     "output_type": "stream",
     "text": [
      "7.343013330148839\n",
      "1.766303758255734\n"
     ]
    }
   ],
   "source": [
    "# 범위를 지정해서 난수 실수 발생\n",
    "print(random.uniform(1,10))\n",
    "print(random.uniform(1,10))"
   ]
  },
  {
   "cell_type": "markdown",
   "metadata": {},
   "source": [
    "## 리스트에서 임의의 인덱스 뽑기 => 리스트 난수\n",
    "- 내장모듈 임포트 import random\n",
    "- random.choice(리스트변수나 리스트) : 1개 출력\n",
    "- random.sample(리스트변수나 리스트, n) : n 만큼 출력"
   ]
  },
  {
   "cell_type": "code",
   "execution_count": 118,
   "metadata": {},
   "outputs": [
    {
     "data": {
      "text/plain": [
       "['사과', '수박', '배', '체리', '자두', '멜론', '귤']"
      ]
     },
     "execution_count": 118,
     "metadata": {},
     "output_type": "execute_result"
    }
   ],
   "source": [
    "fruitList = ['사과','수박','배','체리','자두','멜론','귤']\n",
    "fruitList"
   ]
  },
  {
   "cell_type": "code",
   "execution_count": 123,
   "metadata": {},
   "outputs": [
    {
     "name": "stdout",
     "output_type": "stream",
     "text": [
      "멜론\n",
      "멜론\n"
     ]
    }
   ],
   "source": [
    "print(random.choice(fruitList))\n",
    "print(random.choice(fruitList))"
   ]
  },
  {
   "cell_type": "code",
   "execution_count": 127,
   "metadata": {},
   "outputs": [
    {
     "name": "stdout",
     "output_type": "stream",
     "text": [
      "['수박', '귤', '배', '체리', '사과']\n"
     ]
    }
   ],
   "source": [
    "print(random.sample(fruitList, 5))"
   ]
  },
  {
   "cell_type": "markdown",
   "metadata": {},
   "source": [
    "# 넘파이배열의 난수\n",
    "- 외장 모듈 임포트 import numpy as np\n",
    "\n",
    "## 실수(0~1)\n",
    "- 외장모듈 임포트 import numpy as np\n",
    "- np.random.rand(갯수) : 갯수만큼 생성되는 넘파이 배열 => 실수\n",
    "- np.random.randn(갯수) : 갯수만큼 생성되는 넘파이 배열 => 실수\n",
    "- np.random.rand(행수,열수) : n차원 넘파이 배열 => 실수\n",
    "- np.random.randn(행수,열수) : n차원 넘파이 배열 => 실수\n",
    "\n",
    "## 양의 정수(0~)\n",
    "- np.random.randint(start,end,size=갯수)\n",
    "- np.random.randint(srart,end,size=(행수,열수))\n",
    "\n",
    "## 음의 정수(0~)\n",
    "- np.random.randint(start,end,size=갯수)\n",
    "- np.random.randint(srart,end,size=(행수,열수))\n",
    "\n",
    "## 숫자중에서 갯수만큼 뽑는다. (중복가능/중복불가능)\n",
    "- np.random.choice(숫자, size=갯수, replace=True/False) \n",
    "\n",
    "## 리스트에서 개수만큼 뽑는다. (중복가능/중복불가능)\n",
    "- np.random.choice(리스트, size=개수, replace=True/False)\n",
    "\n",
    "## 확률을 지정해서 숫자중에서 뽑는다.\n",
    "- np.random.choice(숫자, 개수, p=확률배열)\n",
    "\n",
    "## 넘파이배열의 순서를 섞는다.\n",
    "- np.random.shuffle(리스트/튜플/넘파이배열...)"
   ]
  },
  {
   "cell_type": "code",
   "execution_count": 128,
   "metadata": {},
   "outputs": [
    {
     "data": {
      "text/plain": [
       "array([0.37382193, 0.23482609, 0.17496038])"
      ]
     },
     "execution_count": 128,
     "metadata": {},
     "output_type": "execute_result"
    }
   ],
   "source": [
    "np.random.rand(3)"
   ]
  },
  {
   "cell_type": "code",
   "execution_count": 129,
   "metadata": {},
   "outputs": [
    {
     "data": {
      "text/plain": [
       "array([0.93592724, 0.66115142, 0.67460703, 0.69656586, 0.90536923])"
      ]
     },
     "execution_count": 129,
     "metadata": {},
     "output_type": "execute_result"
    }
   ],
   "source": [
    "np.random.rand(5)"
   ]
  },
  {
   "cell_type": "code",
   "execution_count": 130,
   "metadata": {},
   "outputs": [
    {
     "data": {
      "text/plain": [
       "array([[0.53850728, 0.48282553, 0.68068591],\n",
       "       [0.5025693 , 0.25738196, 0.48004441]])"
      ]
     },
     "execution_count": 130,
     "metadata": {},
     "output_type": "execute_result"
    }
   ],
   "source": [
    "np.random.rand(2,3)"
   ]
  },
  {
   "cell_type": "code",
   "execution_count": 131,
   "metadata": {},
   "outputs": [
    {
     "data": {
      "text/plain": [
       "52"
      ]
     },
     "execution_count": 131,
     "metadata": {},
     "output_type": "execute_result"
    }
   ],
   "source": [
    "np.random.randint(100)"
   ]
  },
  {
   "cell_type": "code",
   "execution_count": 132,
   "metadata": {},
   "outputs": [
    {
     "data": {
      "text/plain": [
       "array([110, 165, 134, 134, 142])"
      ]
     },
     "execution_count": 132,
     "metadata": {},
     "output_type": "execute_result"
    }
   ],
   "source": [
    "np.random.randint(100,200,size=5)"
   ]
  },
  {
   "cell_type": "code",
   "execution_count": 133,
   "metadata": {},
   "outputs": [
    {
     "data": {
      "text/plain": [
       "array([[170, 187],\n",
       "       [141, 170]])"
      ]
     },
     "execution_count": 133,
     "metadata": {},
     "output_type": "execute_result"
    }
   ],
   "source": [
    "np.random.randint(100,200,size=(2,2))"
   ]
  },
  {
   "cell_type": "code",
   "execution_count": 134,
   "metadata": {},
   "outputs": [
    {
     "data": {
      "text/plain": [
       "array([-13, -20, -19, -12, -11])"
      ]
     },
     "execution_count": 134,
     "metadata": {},
     "output_type": "execute_result"
    }
   ],
   "source": [
    "np.random.randint(-20,-10,size=5)"
   ]
  },
  {
   "cell_type": "code",
   "execution_count": 135,
   "metadata": {},
   "outputs": [
    {
     "data": {
      "text/plain": [
       "array([[-14, -28, -99],\n",
       "       [-90, -11, -40],\n",
       "       [-14, -49, -53]])"
      ]
     },
     "execution_count": 135,
     "metadata": {},
     "output_type": "execute_result"
    }
   ],
   "source": [
    "np.random.randint(-100,-10,size=(3,3))"
   ]
  },
  {
   "cell_type": "code",
   "execution_count": 136,
   "metadata": {},
   "outputs": [
    {
     "data": {
      "text/plain": [
       "array([2, 2, 6])"
      ]
     },
     "execution_count": 136,
     "metadata": {},
     "output_type": "execute_result"
    }
   ],
   "source": [
    "# 0~9까지에서 3개뽑기, 중복허용\n",
    "np.random.choice(10, size=3, replace=True)"
   ]
  },
  {
   "cell_type": "code",
   "execution_count": 137,
   "metadata": {},
   "outputs": [
    {
     "data": {
      "text/plain": [
       "array([9, 7, 3])"
      ]
     },
     "execution_count": 137,
     "metadata": {},
     "output_type": "execute_result"
    }
   ],
   "source": [
    "# 0~9까지에서 3개뽑기, 중복 불가능\n",
    "np.random.choice([0,1,2,3,4,5,6,7,8,9], size=3, replace=False)"
   ]
  },
  {
   "cell_type": "code",
   "execution_count": 144,
   "metadata": {},
   "outputs": [
    {
     "data": {
      "text/plain": [
       "array(['꽝', '디지털피아노'], dtype='<U12')"
      ]
     },
     "execution_count": 144,
     "metadata": {},
     "output_type": "execute_result"
    }
   ],
   "source": [
    "# 리스트에서 개수 정해뽑기\n",
    "np.random.choice(['꽝','스타벅스10만원권','디지털피아노','이마트상품권 20만원권'], size=2, replace=False)"
   ]
  },
  {
   "cell_type": "code",
   "execution_count": 159,
   "metadata": {},
   "outputs": [
    {
     "data": {
      "text/plain": [
       "array(['디지털피아노'], dtype='<U12')"
      ]
     },
     "execution_count": 159,
     "metadata": {},
     "output_type": "execute_result"
    }
   ],
   "source": [
    "# 확률을 지정해서 랜덤 뽑기\n",
    "# 확률 배율 합계는 1\n",
    "plist =['꽝','스타벅스10만원권','디지털피아노','이마트상품권 20만원권','베스킨라빈스 파인트', '범블비']\n",
    "np.random.choice(plist, 1, p=[0.5, 0.1,0.1,0.1,0.1,0.1 ]) # 각각의 확률"
   ]
  },
  {
   "cell_type": "code",
   "execution_count": 168,
   "metadata": {},
   "outputs": [
    {
     "data": {
      "text/plain": [
       "[40, 30, 50, 10, 20]"
      ]
     },
     "execution_count": 168,
     "metadata": {},
     "output_type": "execute_result"
    }
   ],
   "source": [
    "# 구성요소의 순서를 섞는다. => 원본집합형자료(리스트, numpy배열)의 순서가 변경된다.\n",
    "result1 = [10,20,30,40,50]\n",
    "np.random.shuffle(result1)\n",
    "result1"
   ]
  },
  {
   "cell_type": "code",
   "execution_count": 180,
   "metadata": {},
   "outputs": [
    {
     "data": {
      "text/plain": [
       "array([200, 100, 400, 300])"
      ]
     },
     "execution_count": 180,
     "metadata": {},
     "output_type": "execute_result"
    }
   ],
   "source": [
    "result2 = np.array([100,200,300,400])\n",
    "np.random.shuffle(result2)\n",
    "result2"
   ]
  },
  {
   "cell_type": "code",
   "execution_count": 186,
   "metadata": {},
   "outputs": [
    {
     "data": {
      "text/plain": [
       "array(['100', '300', '200', '400'], dtype='<U3')"
      ]
     },
     "execution_count": 186,
     "metadata": {},
     "output_type": "execute_result"
    }
   ],
   "source": [
    "# 문자열도 셔플 된다\n",
    "result3 = np.array(['100','200','300','400'])\n",
    "np.random.shuffle(result3)\n",
    "result3"
   ]
  },
  {
   "cell_type": "markdown",
   "metadata": {},
   "source": [
    "## np.seed()\n",
    "- 난수 기억\n",
    "- 순서\n",
    "```\n",
    "np.seed(숫자) # 시드 설정 = 난수 발생 1\n",
    "난수발생1\n",
    "난수발생 2\n",
    "np.seed(숫자) # 설정된 시드의 난수\n",
    "난수 발생1\n",
    "```"
   ]
  },
  {
   "cell_type": "code",
   "execution_count": 249,
   "metadata": {},
   "outputs": [
    {
     "name": "stdout",
     "output_type": "stream",
     "text": [
      "0.8691851258630294\n",
      "0.852735345752473\n"
     ]
    }
   ],
   "source": [
    "print(np.random.rand())\n",
    "print(np.random.rand())"
   ]
  },
  {
   "cell_type": "code",
   "execution_count": 282,
   "metadata": {},
   "outputs": [
    {
     "name": "stdout",
     "output_type": "stream",
     "text": [
      "0.771320643266746\n",
      "0.0207519493594015\n"
     ]
    }
   ],
   "source": [
    "# 10으로 seed 지정 \n",
    "np.random.seed(10)\n",
    "print(np.random.rand())\n",
    "print(np.random.rand())"
   ]
  },
  {
   "cell_type": "code",
   "execution_count": 289,
   "metadata": {},
   "outputs": [
    {
     "name": "stdout",
     "output_type": "stream",
     "text": [
      "0.771320643266746\n"
     ]
    }
   ],
   "source": [
    "np.random.seed(10)\n",
    "print(np.random.rand())"
   ]
  }
 ],
 "metadata": {
  "kernelspec": {
   "display_name": "Python 3",
   "language": "python",
   "name": "python3"
  },
  "language_info": {
   "codemirror_mode": {
    "name": "ipython",
    "version": 3
   },
   "file_extension": ".py",
   "mimetype": "text/x-python",
   "name": "python",
   "nbconvert_exporter": "python",
   "pygments_lexer": "ipython3",
   "version": "3.7.4"
  }
 },
 "nbformat": 4,
 "nbformat_minor": 2
}
