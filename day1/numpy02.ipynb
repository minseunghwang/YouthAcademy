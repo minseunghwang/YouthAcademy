{
 "cells": [
  {
   "cell_type": "code",
   "execution_count": 1,
   "metadata": {},
   "outputs": [],
   "source": [
    "import numpy as np"
   ]
  },
  {
   "cell_type": "markdown",
   "metadata": {},
   "source": [
    "### 넘파이의 초기값 지정\n",
    "- np.zeros(갯수)\n",
    "- np.zeros([행수,열수])\n",
    "- np.ones(갯수)\n",
    "- np.ones([행수,열수])\n",
    "- np.empty(갯수)\n",
    "np.empty([행수,열수])"
   ]
  },
  {
   "cell_type": "code",
   "execution_count": 2,
   "metadata": {},
   "outputs": [
    {
     "name": "stdout",
     "output_type": "stream",
     "text": [
      "1차원 = [0. 0. 0. 0. 0. 0. 0. 0. 0. 0.]\n",
      "2차원 = [[0. 0. 0.]\n",
      " [0. 0. 0.]]\n"
     ]
    }
   ],
   "source": [
    "# 0으로 초기값 지정 \n",
    "arr1 = np.zeros(10)\n",
    "arr2 = np.zeros([2,3])\n",
    "print(f'1차원 = {arr1}' )\n",
    "print(f'2차원 = {arr2}' )"
   ]
  },
  {
   "cell_type": "code",
   "execution_count": 4,
   "metadata": {},
   "outputs": [
    {
     "name": "stdout",
     "output_type": "stream",
     "text": [
      "1차원 = [1. 1. 1. 1. 1. 1. 1. 1. 1. 1.]\n",
      "2차원 = [[1. 1. 1.]\n",
      " [1. 1. 1.]]\n"
     ]
    }
   ],
   "source": [
    "# 1로 초기값 지정 \n",
    "arr3 = np.ones(10)\n",
    "arr4 = np.ones([2,3])\n",
    "print(f'1차원 = {arr3}' )\n",
    "print(f'2차원 = {arr4}' )"
   ]
  },
  {
   "cell_type": "code",
   "execution_count": 5,
   "metadata": {},
   "outputs": [
    {
     "name": "stdout",
     "output_type": "stream",
     "text": [
      "1차원 = [1. 1. 1. 1. 1. 1. 1. 1. 1. 1.]\n",
      "2차원 = [[1. 1. 1.]\n",
      " [1. 1. 1.]]\n"
     ]
    }
   ],
   "source": [
    "# empty 초기값 지정 \n",
    "arr5 = np.empty(10)\n",
    "arr6 = np.empty([2,3])\n",
    "print(f'1차원 = {arr5}' )\n",
    "print(f'2차원 = {arr6}' )"
   ]
  },
  {
   "cell_type": "markdown",
   "metadata": {},
   "source": [
    "### 지정한 숫자만큼 값이 증하는 np배열\n",
    "- np.arange(start,end,step) => 넘파이배열. end-1 까지만 생성\n",
    "- np.arange(end) => 넘파이배열. 0~ end-1 까지만 생성\n",
    "- range(start,end,step)와 비슷 => 리스트. end-1 까지만 생성"
   ]
  },
  {
   "cell_type": "code",
   "execution_count": 6,
   "metadata": {},
   "outputs": [
    {
     "name": "stdout",
     "output_type": "stream",
     "text": [
      "range(0, 10) <class 'range'>\n",
      "[0, 1, 2, 3, 4, 5, 6, 7, 8, 9] <class 'list'>\n",
      "range(0, 10, 2)\n",
      "[0, 2, 4, 6, 8]\n"
     ]
    }
   ],
   "source": [
    "# range 객체 => 리스트화\n",
    "print(range(0,10), type(range(0,10)))\n",
    "print(list(range(0,10)), type(list(range(0,10))) )\n",
    "print(range(0,10,2))\n",
    "print(list(range(0,10,2)))"
   ]
  },
  {
   "cell_type": "code",
   "execution_count": 7,
   "metadata": {},
   "outputs": [
    {
     "name": "stdout",
     "output_type": "stream",
     "text": [
      "[0 1 2 3 4 5 6 7 8 9] <class 'numpy.ndarray'>\n",
      "[0 2 4 6 8]\n"
     ]
    }
   ],
   "source": [
    "# np.arange() => 넘파이 배열 \n",
    "print(np.arange(0,10), type(np.arange(0,10)))\n",
    "print(np.arange(0,10, 2))"
   ]
  },
  {
   "cell_type": "code",
   "execution_count": 8,
   "metadata": {},
   "outputs": [
    {
     "name": "stdout",
     "output_type": "stream",
     "text": [
      "[ 0  1  2  3  4  5  6  7  8  9 10 11 12 13 14 15 16 17 18 19] <class 'numpy.ndarray'>\n"
     ]
    }
   ],
   "source": [
    "print(np.arange(20), type(np.arange(20)))"
   ]
  },
  {
   "cell_type": "markdown",
   "metadata": {},
   "source": [
    "### 넘파이구성요소의 자료형\n",
    "- type(변수/값) => 전체객체의 자료형\n",
    "- 넘파이배열.dtype : int32, <U2 , float64\n",
    "- 넘파이배열생성시 자료형함께 지정하기\n",
    "-    np.array(리스트, dtype=자료형)"
   ]
  },
  {
   "cell_type": "code",
   "execution_count": 10,
   "metadata": {},
   "outputs": [
    {
     "data": {
      "text/plain": [
       "array([ 0, 20, 40, 60, 80])"
      ]
     },
     "execution_count": 10,
     "metadata": {},
     "output_type": "execute_result"
    }
   ],
   "source": [
    "arr7 = np.arange(0,100,20)\n",
    "arr7"
   ]
  },
  {
   "cell_type": "code",
   "execution_count": 11,
   "metadata": {},
   "outputs": [
    {
     "data": {
      "text/plain": [
       "dtype('int32')"
      ]
     },
     "execution_count": 11,
     "metadata": {},
     "output_type": "execute_result"
    }
   ],
   "source": [
    "arr7.dtype"
   ]
  },
  {
   "cell_type": "code",
   "execution_count": 12,
   "metadata": {},
   "outputs": [
    {
     "data": {
      "text/plain": [
       "dtype('<U2')"
      ]
     },
     "execution_count": 12,
     "metadata": {},
     "output_type": "execute_result"
    }
   ],
   "source": [
    "arr8 = np.array(['사과','수박','포도'])\n",
    "arr8.dtype"
   ]
  },
  {
   "cell_type": "code",
   "execution_count": 13,
   "metadata": {},
   "outputs": [
    {
     "data": {
      "text/plain": [
       "dtype('float64')"
      ]
     },
     "execution_count": 13,
     "metadata": {},
     "output_type": "execute_result"
    }
   ],
   "source": [
    "arr9 = np.array([1.1, -8.9, 2.5])\n",
    "arr9.dtype"
   ]
  },
  {
   "cell_type": "code",
   "execution_count": 14,
   "metadata": {},
   "outputs": [
    {
     "data": {
      "text/plain": [
       "array(['1', '2', '3'], dtype='<U2')"
      ]
     },
     "execution_count": 14,
     "metadata": {},
     "output_type": "execute_result"
    }
   ],
   "source": [
    "# 1,2,3 => 문자열로 지정해서 넘파이 배열로 생성 \n",
    "arr10 = np.array([1,2,3], dtype='<U2')\n",
    "arr10"
   ]
  },
  {
   "cell_type": "code",
   "execution_count": 15,
   "metadata": {},
   "outputs": [
    {
     "data": {
      "text/plain": [
       "array([1., 2., 3.])"
      ]
     },
     "execution_count": 15,
     "metadata": {},
     "output_type": "execute_result"
    }
   ],
   "source": [
    "# 1,2,3 => 실수형으로 지정해서 넘파이 배열로 생성 \n",
    "arr11 = np.array([1,2,3], dtype='float64')\n",
    "arr11"
   ]
  },
  {
   "cell_type": "code",
   "execution_count": 16,
   "metadata": {},
   "outputs": [
    {
     "data": {
      "text/plain": [
       "dtype('float64')"
      ]
     },
     "execution_count": 16,
     "metadata": {},
     "output_type": "execute_result"
    }
   ],
   "source": [
    "arr11.dtype"
   ]
  },
  {
   "cell_type": "markdown",
   "metadata": {},
   "source": [
    "### 넘파이배열의 캐스팅 - 자료형변환\n",
    "- 넘파이배열.astype(자료형)\n",
    "- 자료형은 int32, <U2 , float64"
   ]
  },
  {
   "cell_type": "code",
   "execution_count": 17,
   "metadata": {},
   "outputs": [
    {
     "name": "stdout",
     "output_type": "stream",
     "text": [
      "arr12=[100  34  55], 데이타형은? int32\n"
     ]
    }
   ],
   "source": [
    "# 정수형 넘파이배열 => 문자열 넘파이배열 \n",
    "arr12 = np.array([100, 34, 55])\n",
    "print(f'arr12={arr12}, 데이타형은? {arr12.dtype}')"
   ]
  },
  {
   "cell_type": "code",
   "execution_count": 18,
   "metadata": {},
   "outputs": [
    {
     "name": "stdout",
     "output_type": "stream",
     "text": [
      "arr13=['10' '34' '55'], 데이타형은? <U2\n"
     ]
    }
   ],
   "source": [
    "arr13 = arr12.astype('<U2')\n",
    "print(f'arr13={arr13}, 데이타형은? {arr13.dtype}')"
   ]
  },
  {
   "cell_type": "markdown",
   "metadata": {},
   "source": [
    "### 일반 자료형 변형은? int() / float() / str()\n",
    "- 퀴즈 : 캐스팅\n",
    "- 1) 일반자료형 변경 : 숫자(100) => 문자열('100')\n",
    "- 2) 일반자료형 변경 : 문자열('0') => 실수형숫자(0.)\n",
    "- 3) 일반자료형 리스트(['사과','포도']) = 문자열(사과/포도) \n",
    "- 4) 일반자료형(숫자리스트) => 넘파이배열(문자형넘파이배열) \n",
    "-    [1, 100, 4]           => ...\n",
    "- 5) 넘파이배열(실수형) => 넘파이배열(문자형)"
   ]
  },
  {
   "cell_type": "code",
   "execution_count": 20,
   "metadata": {},
   "outputs": [
    {
     "name": "stdout",
     "output_type": "stream",
     "text": [
      "100 <class 'int'> 100 <class 'str'>\n"
     ]
    }
   ],
   "source": [
    "# 1) 일반자료형 변경 : 숫자(100) => 문자열('100')\n",
    "a = 100\n",
    "aa = str(a)\n",
    "print(a, type(a), aa, type(aa))"
   ]
  },
  {
   "cell_type": "code",
   "execution_count": 21,
   "metadata": {},
   "outputs": [
    {
     "name": "stdout",
     "output_type": "stream",
     "text": [
      "0 <class 'str'> 0.0 <class 'float'>\n"
     ]
    }
   ],
   "source": [
    "# 2) 일반자료형 변경 : 문자열('0') => 실수형숫자(0.)\n",
    "b = '0'\n",
    "bb = float(b)\n",
    "print(b, type(b), bb, type(bb))"
   ]
  },
  {
   "cell_type": "code",
   "execution_count": 23,
   "metadata": {},
   "outputs": [
    {
     "name": "stdout",
     "output_type": "stream",
     "text": [
      "['사과', '포도'] <class 'list'> 사과/포도 <class 'str'>\n"
     ]
    }
   ],
   "source": [
    "# 3) 일반자료형 리스트(['사과','포도']) = 문자열(사과/포도) \n",
    "c = ['사과','포도']\n",
    "cc = '/'.join(c)\n",
    "print(c, type(c), cc, type(cc))"
   ]
  },
  {
   "cell_type": "code",
   "execution_count": 24,
   "metadata": {},
   "outputs": [
    {
     "name": "stdout",
     "output_type": "stream",
     "text": [
      "[1, 100, 4] <class 'list'> ['1' '10' '4'] <U2\n"
     ]
    }
   ],
   "source": [
    "# 4) 일반자료형(숫자리스트) => 넘파이배열(문자형넘파이배열) \n",
    "#     [1, 100, 4]           => ...\n",
    "\n",
    "d = [1, 100, 4]\n",
    "dd = np.array(d, dtype='<U2')\n",
    "print(d, type(d), dd, dd.dtype)"
   ]
  },
  {
   "cell_type": "code",
   "execution_count": 25,
   "metadata": {},
   "outputs": [
    {
     "name": "stdout",
     "output_type": "stream",
     "text": [
      "[ 5.6  7.1 -9. ] float64 ['5.' '7.' '-9'] <U2\n"
     ]
    }
   ],
   "source": [
    "# 5) 넘파이배열(실수형) => 넘파이배열(문자형) \n",
    "e = np.array([5.6, 7.1, -9.0])\n",
    "ee = e.astype('<U2')\n",
    "print(e, e.dtype, ee, ee.dtype)"
   ]
  },
  {
   "cell_type": "markdown",
   "metadata": {},
   "source": [
    "### 넘파이배열의 구조 변경\n",
    "- 1차원 => 2차원 / 2차원=>1차원\n",
    "- 넘파이배열명.reshape(행수,열수) : 1차원=>2차원, 2차원=>2차원\n",
    "- 넘파이배열명.flatten() : 2차원 => 1차원\n",
    "- 넘파이배열명.reshape(-1,?) : 전체요소(size)기준. 2차원"
   ]
  },
  {
   "cell_type": "code",
   "execution_count": 26,
   "metadata": {},
   "outputs": [
    {
     "name": "stdout",
     "output_type": "stream",
     "text": [
      "npArr1=[100 300 500   1   2], 차원=1, 구조=(5,)\n",
      "\n",
      "\n",
      " npArr2=[[100]\n",
      " [300]\n",
      " [500]\n",
      " [  1]\n",
      " [  2]], \n",
      "차원=2, 구조=(5, 1)\n"
     ]
    }
   ],
   "source": [
    "#  1차원 => 2차원\n",
    "npArr1 = np.array([100, 300, 500, 1, 2])\n",
    "print(f'npArr1={npArr1}, 차원={npArr1.ndim}, 구조={npArr1.shape}')\n",
    "npArr2 = npArr1.reshape(5,1)\n",
    "print(f'\\n\\n npArr2={npArr2}, \\n차원={npArr2.ndim}, 구조={npArr2.shape}')"
   ]
  },
  {
   "cell_type": "code",
   "execution_count": 27,
   "metadata": {},
   "outputs": [
    {
     "name": "stdout",
     "output_type": "stream",
     "text": [
      "npArr3=[['a' 'b' 'c' 'd' 'e']\n",
      " ['a' 'b' 'c' 'd' 'e']], 차원=2, 구조=(2, 5)\n",
      "\n",
      "\n",
      " npArr4=[['a' 'b']\n",
      " ['c' 'd']\n",
      " ['e' 'a']\n",
      " ['b' 'c']\n",
      " ['d' 'e']], \n",
      "차원=2, 구조=(5, 2)\n"
     ]
    }
   ],
   "source": [
    "# 2차원(2행5열) => 2차원(5행2열) \n",
    "npArr3 = np.array([['a','b','c','d','e'],['a','b','c','d','e']])\n",
    "print(f'npArr3={npArr3}, 차원={npArr3.ndim}, 구조={npArr3.shape}')\n",
    "npArr4 = npArr3.reshape(5,2)\n",
    "print(f'\\n\\n npArr4={npArr4}, \\n차원={npArr4.ndim}, 구조={npArr4.shape}')"
   ]
  },
  {
   "cell_type": "code",
   "execution_count": 28,
   "metadata": {},
   "outputs": [
    {
     "name": "stdout",
     "output_type": "stream",
     "text": [
      "npArr5=[['a' 'b' 'c' 'd' 'e']\n",
      " ['a' 'b' 'c' 'd' 'e']], 차원=2, 구조=(2, 5)\n",
      "\n",
      "\n",
      " npArr6=[['a' 'b' 'c' 'd' 'e' 'a' 'b' 'c' 'd' 'e']], \n",
      "차원=2, 구조=(1, 10)\n",
      "\n",
      "\n",
      " npArr7=['a' 'b' 'c' 'd' 'e' 'a' 'b' 'c' 'd' 'e'], \n",
      "차원=1, 구조=(10,)\n"
     ]
    }
   ],
   "source": [
    "# 2차원(2행5열) => 2차원(1행10열) \n",
    "# 2차원(2행5열) => 1차원(10) : 배열명.flatten()\n",
    "npArr5 = np.array([['a','b','c','d','e'],['a','b','c','d','e']])\n",
    "print(f'npArr5={npArr5}, 차원={npArr5.ndim}, 구조={npArr5.shape}')\n",
    "npArr6 = npArr5.reshape(1,10)\n",
    "print(f'\\n\\n npArr6={npArr6}, \\n차원={npArr6.ndim}, 구조={npArr6.shape}')\n",
    "npArr7 = npArr5.flatten()\n",
    "print(f'\\n\\n npArr7={npArr7}, \\n차원={npArr7.ndim}, 구조={npArr7.shape}')"
   ]
  },
  {
   "cell_type": "markdown",
   "metadata": {},
   "source": [
    "### 넘파이배열명.reshape(-1,컬럼갯수) : 전체요소(size)기준. 2차원"
   ]
  },
  {
   "cell_type": "code",
   "execution_count": 29,
   "metadata": {},
   "outputs": [
    {
     "name": "stdout",
     "output_type": "stream",
     "text": [
      "\n",
      "\n",
      " npArr8=[ 30  80 100  79  80 100], \n",
      "차원=1,      \n",
      "구조=(6,),  \n",
      "총갯수=6\n"
     ]
    }
   ],
   "source": [
    "npArr8=np.array([30, 80, 100, 79, 80, 100])\n",
    "print(f'\\n\\n npArr8={npArr8}, \\n차원={npArr8.ndim},\\\n",
    "      \\n구조={npArr8.shape},  \\n총갯수={npArr8.size}')"
   ]
  },
  {
   "cell_type": "code",
   "execution_count": 30,
   "metadata": {},
   "outputs": [
    {
     "name": "stdout",
     "output_type": "stream",
     "text": [
      "\n",
      "\n",
      " npArr9=[[ 30  80]\n",
      " [100  79]\n",
      " [ 80 100]], \n",
      "차원=2,      \n",
      "구조=(3, 2),  \n",
      "총갯수=6\n"
     ]
    }
   ],
   "source": [
    "# 1행6열 =>  ?행2열\n",
    "npArr9=npArr8.reshape(-1,2)\n",
    "print(f'\\n\\n npArr9={npArr9}, \\n차원={npArr9.ndim},\\\n",
    "      \\n구조={npArr9.shape},  \\n총갯수={npArr9.size}')"
   ]
  },
  {
   "cell_type": "code",
   "execution_count": 31,
   "metadata": {},
   "outputs": [
    {
     "name": "stdout",
     "output_type": "stream",
     "text": [
      "\n",
      "\n",
      " npArr10=[[ 30  80 100]\n",
      " [ 79  80 100]], \n",
      "차원=2,      \n",
      "구조=(2, 3),  \n",
      "총갯수=6\n"
     ]
    }
   ],
   "source": [
    "# 1행6열 =>  ?행3열\n",
    "npArr10=npArr8.reshape(-1,3)\n",
    "print(f'\\n\\n npArr10={npArr10}, \\n차원={npArr10.ndim},\\\n",
    "      \\n구조={npArr10.shape},  \\n총갯수={npArr10.size}')"
   ]
  }
 ],
 "metadata": {
  "kernelspec": {
   "display_name": "Python 3",
   "language": "python",
   "name": "python3"
  },
  "language_info": {
   "codemirror_mode": {
    "name": "ipython",
    "version": 3
   },
   "file_extension": ".py",
   "mimetype": "text/x-python",
   "name": "python",
   "nbconvert_exporter": "python",
   "pygments_lexer": "ipython3",
   "version": "3.7.4"
  }
 },
 "nbformat": 4,
 "nbformat_minor": 2
}
