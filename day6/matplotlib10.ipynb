{
 "cells": [
  {
   "cell_type": "markdown",
   "metadata": {},
   "source": [
    "# Matplotlib 시각화 - 데이터프레임 적용\n",
    "- 데이터 시각화를 위한 파이썬 라이브러리\n",
    "- https://matplotlib.org/"
   ]
  },
  {
   "cell_type": "code",
   "execution_count": 2,
   "metadata": {},
   "outputs": [],
   "source": [
    "import numpy as np\n",
    "import pandas as pd"
   ]
  },
  {
   "cell_type": "code",
   "execution_count": 7,
   "metadata": {},
   "outputs": [
    {
     "name": "stdout",
     "output_type": "stream",
     "text": [
      "['batang']\n",
      "20.0\n"
     ]
    }
   ],
   "source": [
    "import matplotlib\n",
    "import matplotlib.pyplot as plt\n",
    "%matplotlib inline\n",
    "\n",
    "import matplotlib.font_manager as fm\n",
    "\n",
    "#  한글글꼴로 변경\n",
    "plt.rcParams['font.size'] = 20.0\n",
    "plt.rcParams['font.family'] = 'batang'\n",
    "# plt.rcParams['font.family'] = 'Malgun Gothic'\n",
    "print(plt.rcParams['font.family'])\n",
    "print(plt.rcParams['font.size'])"
   ]
  },
  {
   "cell_type": "markdown",
   "metadata": {},
   "source": [
    "## Bar plot - 시리즈 이용\n",
    "\n",
    "- 시리즈 생성 : pd.Series(데이터값, index=인덱스값)\n",
    "- 세로 막대 그래프 생성 : 시리즈변수.plot(kind='bar')\n",
    "- 가로 막대 그래프 생성 : 시리즈변수.plot(kind='barh')"
   ]
  },
  {
   "cell_type": "code",
   "execution_count": 324,
   "metadata": {},
   "outputs": [
    {
     "data": {
      "text/plain": [
       "<matplotlib.axes._subplots.AxesSubplot at 0x1b98a4884c8>"
      ]
     },
     "execution_count": 324,
     "metadata": {},
     "output_type": "execute_result"
    },
    {
     "data": {
      "image/png": "[encoded data removed]",
      "text/plain": [
       "<Figure size 432x288 with 1 Axes>"
      ]
     },
     "metadata": {
      "needs_background": "light"
     },
     "output_type": "display_data"
    }
   ],
   "source": [
    "s1 = pd.Series(np.random.rand(16),index=list('abcdefghizwlmnop'))\n",
    "s1.plot(kind='bar', color=['red','blue'], title='시리즈 세로막대 샘플')"
   ]
  },
  {
   "cell_type": "markdown",
   "metadata": {},
   "source": [
    "## Bar plot - 데이터프레임 이용\n",
    "\n",
    "- 세로 막대 그래프 생성 : 시리즈변수.plot(kind='bar')\n",
    "- 가로 막대 그래프 생성 : 시리즈변수.plot(kind='barh')\n",
    "- 스택형 세로 막ㄷ ㅐ그래프 생성 : 데이터프레임변수.plot(kind='bar/barh',stacked=True)"
   ]
  },
  {
   "cell_type": "code",
   "execution_count": 333,
   "metadata": {},
   "outputs": [
    {
     "name": "stdout",
     "output_type": "stream",
     "text": [
      "Genus         A         B         C         D\n",
      "one    0.017056  0.970694  0.358879  0.701488\n",
      "two    0.993564  0.002477  0.433283  0.349363\n",
      "three  0.699262  0.250565  0.364383  0.908860\n",
      "four   0.065119  0.209812  0.954468  0.832532\n",
      "five   0.081010  0.636192  0.630475  0.057981\n",
      "six    0.929167  0.079794  0.256616  0.357750\n"
     ]
    },
    {
     "data": {
      "text/plain": [
       "<Figure size 600x400 with 0 Axes>"
      ]
     },
     "metadata": {},
     "output_type": "display_data"
    },
    {
     "data": {
      "image/png": "[encoded data removed]",
      "text/plain": [
       "<Figure size 432x288 with 1 Axes>"
      ]
     },
     "metadata": {
      "needs_background": "light"
     },
     "output_type": "display_data"
    }
   ],
   "source": [
    "# name = 'Genus'는 범례 제목\n",
    "df2=pd.DataFrame(np.random.rand(6,4), index=['one','two','three','four','five','six'], columns=pd.Index(['A','B','C','D'], name='Genus'))\n",
    "\n",
    "print(df2)\n",
    "\n",
    "fig = plt.figure(dpi=100)\n",
    "df2.plot(kind='bar')\n",
    "\n",
    "fig.savefig('../output/bar.svg')\n",
    "plt.show()"
   ]
  },
  {
   "cell_type": "markdown",
   "metadata": {},
   "source": [
    "# Histogram - 시리즈 이용\n",
    "- 정규분포를 따르는 난수 200개 생성 : np.random.normal(0,1,size=200)\n",
    "- 시리즈 생성 : pd.Series(np.random.normal(0,1,size=개수))\n",
    "- 히스토그램 : 시리즈변수.hist() : 시리즈변수.hist(bins=x축 개수)"
   ]
  },
  {
   "cell_type": "code",
   "execution_count": 341,
   "metadata": {},
   "outputs": [
    {
     "data": {
      "text/plain": [
       "0     -0.184588\n",
       "1      0.106245\n",
       "2      1.178472\n",
       "3     -1.533033\n",
       "4     -0.202080\n",
       "         ...   \n",
       "195   -0.163730\n",
       "196   -1.446793\n",
       "197   -0.090614\n",
       "198   -3.080619\n",
       "199   -0.067671\n",
       "Length: 200, dtype: float64"
      ]
     },
     "execution_count": 341,
     "metadata": {},
     "output_type": "execute_result"
    }
   ],
   "source": [
    "# 정규분포를 따르는 난수 값을 가지는 시리즈 생성\n",
    "s3 = pd.Series(np.random.normal(0,1,size=200))\n",
    "s3"
   ]
  },
  {
   "cell_type": "code",
   "execution_count": 347,
   "metadata": {},
   "outputs": [
    {
     "data": {
      "text/plain": [
       "<matplotlib.axes._subplots.AxesSubplot at 0x1b98d8939c8>"
      ]
     },
     "execution_count": 347,
     "metadata": {},
     "output_type": "execute_result"
    },
    {
     "data": {
      "image/png": "[encoded data removed]",
      "text/plain": [
       "<Figure size 432x288 with 1 Axes>"
      ]
     },
     "metadata": {
      "needs_background": "light"
     },
     "output_type": "display_data"
    }
   ],
   "source": [
    "s3.hist()\n",
    "s3.hist(bins=50)"
   ]
  },
  {
   "cell_type": "markdown",
   "metadata": {},
   "source": [
    "# Pie Chart 시리즈 이용"
   ]
  },
  {
   "cell_type": "code",
   "execution_count": 350,
   "metadata": {},
   "outputs": [
    {
     "data": {
      "text/plain": [
       "<matplotlib.axes._subplots.AxesSubplot at 0x1b98d9e8f08>"
      ]
     },
     "execution_count": 350,
     "metadata": {},
     "output_type": "execute_result"
    },
    {
     "data": {
      "image/png": "[encoded data removed]",
      "text/plain": [
       "<Figure size 360x360 with 1 Axes>"
      ]
     },
     "metadata": {},
     "output_type": "display_data"
    }
   ],
   "source": [
    "labels='Frogs','Hogs','Dogs','Logs'\n",
    "sizes = [15,30,45,10]\n",
    "explode = (0, 0.1, 0, 0)\n",
    "s = pd.Series(sizes, index=labels)\n",
    "s.plot(kind='pie', title='Pie Plot', figsize=(5,5), legend=True)"
   ]
  }
 ],
 "metadata": {
  "kernelspec": {
   "display_name": "Python 3",
   "language": "python",
   "name": "python3"
  },
  "language_info": {
   "codemirror_mode": {
    "name": "ipython",
    "version": 3
   },
   "file_extension": ".py",
   "mimetype": "text/x-python",
   "name": "python",
   "nbconvert_exporter": "python",
   "pygments_lexer": "ipython3",
   "version": "3.7.4"
  }
 },
 "nbformat": 4,
 "nbformat_minor": 2
}
