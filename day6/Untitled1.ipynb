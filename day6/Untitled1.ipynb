{
 "cells": [
  {
   "cell_type": "code",
   "execution_count": null,
   "metadata": {},
   "outputs": [],
   "source": [
    "import sys\n",
    "\n",
    "sys.stdin = open('../algo/input.txt')\n",
    "\n",
    "trash = input()\n",
    "for i in range(100):\n",
    "    a = list(map(int,input().split()))\n",
    "\n",
    "\n",
    "\n",
    "def solution(input_list):\n",
    "    answer = 0\n",
    "    l = len(input_list)\n",
    "    for x in range(l):\n",
    "        flag = 0\n",
    "        for y in range(l):\n",
    "            if input_list[y][x] == 1:\n",
    "                flag = 1\n",
    "            elif flag and input_list[y][x] == 2:\n",
    "                flag = 0\n",
    "                answer += 1\n",
    "    return answer\n",
    "\n",
    "\n",
    "def main():\n",
    "    for test_case in range(10):\n",
    "        input()\n",
    "        input_list = []\n",
    "        for _ in range(100):\n",
    "            input_list.append(list(map(int, input().split())))\n",
    "        print(f'#{test_case+1} {solution(input_list)}')\n",
    "# print(main())"
   ]
  },
  {
   "cell_type": "code",
   "execution_count": null,
   "metadata": {},
   "outputs": [],
   "source": [
    "import sys\n",
    "\n",
    "sys.stdin = open('../algo/input.txt')\n",
    "\n",
    "\n",
    "def solution(input_list):\n",
    "    answer = 0\n",
    "    l = len(input_list)\n",
    "    for x in range(l):\n",
    "        flag = 0\n",
    "        for y in range(l):\n",
    "            if input_list[y][x] == 1:\n",
    "                flag = 1\n",
    "            elif flag and input_list[y][x] == 2:\n",
    "                flag = 0\n",
    "                answer += 1\n",
    "    return answer\n",
    "\n",
    "\n",
    "def main():\n",
    "    for test_case in range(10):\n",
    "        input()\n",
    "        input_list = []\n",
    "        for _ in range(100):\n",
    "            input_list.append(list(map(int, input().split())))\n",
    "        print(f'#{test_case+1} {solution(input_list)}')\n",
    "\n",
    "\n",
    "if __name__ == '__main__':\n",
    "    main()"
   ]
  },
  {
   "cell_type": "code",
   "execution_count": 34,
   "metadata": {},
   "outputs": [
    {
     "name": "stdout",
     "output_type": "stream",
     "text": [
      "['3\\n', '3 17 1 39 8 41 2 32 99 2\\n', '22 8 5 123 7 2 63 7 3 46\\n', '6 63 2 3 58 76 21 33 8 1\\n']\n",
      "3\n",
      "\n"
     ]
    }
   ],
   "source": [
    "import sys\n",
    "\n",
    "sys.stdin = open(\"../algo/input2.txt\", \"r\")\n",
    "temp = []\n",
    "for i in sys.stdin.readlines():\n",
    "    temp.append(i)\n",
    "print(temp)\n",
    "print(temp[0])\n",
    "    \n",
    "    \n",
    "    \n",
    "\n",
    "# T = int(input())\n",
    "# for i in range(1,T+1):\n",
    "#     print(i)\n",
    "\n"
   ]
  }
 ],
 "metadata": {
  "kernelspec": {
   "display_name": "Python 3",
   "language": "python",
   "name": "python3"
  },
  "language_info": {
   "codemirror_mode": {
    "name": "ipython",
    "version": 3
   },
   "file_extension": ".py",
   "mimetype": "text/x-python",
   "name": "python",
   "nbconvert_exporter": "python",
   "pygments_lexer": "ipython3",
   "version": "3.7.4"
  }
 },
 "nbformat": 4,
 "nbformat_minor": 2
}
