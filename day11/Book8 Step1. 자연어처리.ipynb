{
 "cells": [
  {
   "cell_type": "markdown",
   "metadata": {},
   "source": [
    "# 자연어 처리 시작하기\n"
   ]
  },
  {
   "cell_type": "markdown",
   "metadata": {},
   "source": [
    "##  한글 자연어 처리 기초 - KoNLPy 및 필요 모듈의 설치\n",
    "\n",
    "* KoNLPy(코엔알파이) : **pip install konlpy**\n",
    "* JPype1 : **conda install -c conda-forge jpype1** \n",
    "    * 이후 Jupyter Notebook 재실행 필요\n",
    "* JDK 설치 : Java JDK로 검색해서 OS에 맞춰 설치\n",
    "    * JAVA_HOME 설정 : https://java.com/ko/download/windows-64bit.jsp"
   ]
  },
  {
   "cell_type": "code",
   "execution_count": null,
   "metadata": {
    "scrolled": true
   },
   "outputs": [],
   "source": [
    "# pip install konlpy"
   ]
  },
  {
   "cell_type": "code",
   "execution_count": null,
   "metadata": {},
   "outputs": [],
   "source": [
    "# conda install -c conda-forge jpype1"
   ]
  },
  {
   "cell_type": "code",
   "execution_count": null,
   "metadata": {},
   "outputs": [],
   "source": [
    "# conda update -n base -c defaults conda"
   ]
  },
  {
   "cell_type": "code",
   "execution_count": null,
   "metadata": {},
   "outputs": [],
   "source": [
    "# conda install -c conda-forge jpype1"
   ]
  },
  {
   "cell_type": "markdown",
   "metadata": {
    "collapsed": true
   },
   "source": [
    "## Step2. 한글 자연어 처리 기초"
   ]
  },
  {
   "cell_type": "markdown",
   "metadata": {
    "collapsed": true
   },
   "source": [
    "### 꼬꼬마말뭉치\n",
    "    * http://kkma.snu.ac.kr/documents/\n",
    "    \n",
    "- Kkma 메소드 \n",
    "```\n",
    "    kkma객체.sentences() : 문장 분석 \n",
    "    kkma객체.pos() : 형태소 분석 \n",
    "    kkma객체.nouns() : 단어 분석 \n",
    "```"
   ]
  },
  {
   "cell_type": "code",
   "execution_count": null,
   "metadata": {},
   "outputs": [],
   "source": [
    "# konlpy 에서 Kkma 모듈 불러오기 \n",
    "from konlpy.tag import Kkma"
   ]
  },
  {
   "cell_type": "code",
   "execution_count": null,
   "metadata": {},
   "outputs": [],
   "source": [
    "# kkma 객체 만들기 \n",
    "kkma = Kkma()"
   ]
  },
  {
   "cell_type": "code",
   "execution_count": null,
   "metadata": {},
   "outputs": [],
   "source": [
    "# 문장 분석\n",
    "kkma.sentences('한국어 분석을 시작합니다 재미있어요~~')"
   ]
  },
  {
   "cell_type": "code",
   "execution_count": null,
   "metadata": {},
   "outputs": [],
   "source": [
    "# 단어 분석\n",
    "kkma.nouns('한국어 분석을 시작합니다 재미있어요~~')"
   ]
  },
  {
   "cell_type": "markdown",
   "metadata": {},
   "source": [
    "### 형태소분석표 \n",
    "http://kkma.snu.ac.kr/documents/index.jsp?doc=postag"
   ]
  },
  {
   "cell_type": "code",
   "execution_count": null,
   "metadata": {
    "scrolled": true
   },
   "outputs": [],
   "source": [
    "# 형태소 분석\n",
    "kkma.pos('한국어 분석을 시작합니다 재미있어요~~')"
   ]
  },
  {
   "cell_type": "code",
   "execution_count": null,
   "metadata": {},
   "outputs": [],
   "source": [
    "kkma.pos('오늘도 좋은 하루')"
   ]
  },
  {
   "cell_type": "markdown",
   "metadata": {},
   "source": [
    "### 한나눔\n",
    "    * https://konlpy-ko.readthedocs.io/ko/v0.4.3/api/konlpy.tag/\n",
    "    \n",
    "- hannanum 메소드 \n",
    "```\n",
    "    hannanum객체.nouns() : 단어 분석 \n",
    "    hannanum.morphs : 형태소를 리스트로 반환 \n",
    "    hannanum.pos : 형태소 분석 \n",
    "```"
   ]
  },
  {
   "cell_type": "code",
   "execution_count": null,
   "metadata": {},
   "outputs": [],
   "source": [
    "# 모듈 임포트\n",
    "from konlpy.tag import Hannanum\n"
   ]
  },
  {
   "cell_type": "code",
   "execution_count": null,
   "metadata": {},
   "outputs": [],
   "source": [
    "# 객체 생성 \n",
    "hannanum = Hannanum()"
   ]
  },
  {
   "cell_type": "code",
   "execution_count": null,
   "metadata": {},
   "outputs": [],
   "source": [
    "# 단어 분석\n",
    "hannanum.nouns('한국어 분석을 시작합니다 재미있어요~~')"
   ]
  },
  {
   "cell_type": "code",
   "execution_count": null,
   "metadata": {},
   "outputs": [],
   "source": [
    "hannanum.morphs('한국어 분석을 시작합니다 재미있어요~~')"
   ]
  },
  {
   "cell_type": "code",
   "execution_count": null,
   "metadata": {},
   "outputs": [],
   "source": [
    "hannanum.pos('한국어 분석을 시작합니다 재미있어요~~')"
   ]
  },
  {
   "cell_type": "markdown",
   "metadata": {},
   "source": [
    "### 트위터 분석기 \n",
    "    * https://github.com/twitter/twitter-korean-text\n",
    "    \n",
    "- 트위터 분석기 메소드 \n",
    "```\n",
    "    트위터객체.nouns() : 단어 분석 \n",
    "    트위터객체.morphs : 형태소를 리스트로 반환 \n",
    "    트위터객체.pos : 형태소 분석 \n",
    "```"
   ]
  },
  {
   "cell_type": "code",
   "execution_count": null,
   "metadata": {},
   "outputs": [],
   "source": [
    "# 모듈 임포트\n",
    "from konlpy.tag import Okt\n"
   ]
  },
  {
   "cell_type": "code",
   "execution_count": null,
   "metadata": {},
   "outputs": [],
   "source": [
    "# 객체 생성\n",
    "t = Okt()"
   ]
  },
  {
   "cell_type": "code",
   "execution_count": null,
   "metadata": {},
   "outputs": [],
   "source": [
    "# 단어 분석\n",
    "t.nouns('한국어 분석을 시작합니다 재미있어요~~')"
   ]
  },
  {
   "cell_type": "code",
   "execution_count": null,
   "metadata": {},
   "outputs": [],
   "source": [
    "t.morphs('한국어 분석을 시작합니다 재미있어요~~')"
   ]
  },
  {
   "cell_type": "code",
   "execution_count": null,
   "metadata": {},
   "outputs": [],
   "source": [
    "t.pos('한국어 분석을 시작합니다 재미있어요~~')"
   ]
  },
  {
   "cell_type": "code",
   "execution_count": null,
   "metadata": {},
   "outputs": [],
   "source": []
  },
  {
   "cell_type": "markdown",
   "metadata": {},
   "source": [
    "##  워드 클라우드\n",
    "\n",
    "* WordCloud 설치 : **pip install wordcloud**"
   ]
  },
  {
   "cell_type": "code",
   "execution_count": null,
   "metadata": {},
   "outputs": [],
   "source": [
    "# pip install wordcloud"
   ]
  },
  {
   "cell_type": "code",
   "execution_count": null,
   "metadata": {},
   "outputs": [],
   "source": [
    "from wordcloud import WordCloud, STOPWORDS\n",
    "\n",
    "import numpy as np\n",
    "from PIL import Image"
   ]
  },
  {
   "cell_type": "markdown",
   "metadata": {},
   "source": [
    "### 텍스트파일을 이용한 워드클라우드 생성"
   ]
  },
  {
   "cell_type": "code",
   "execution_count": null,
   "metadata": {},
   "outputs": [],
   "source": [
    "text = open('../data/09. alice.txt').read()\n",
    "# text"
   ]
  },
  {
   "cell_type": "code",
   "execution_count": null,
   "metadata": {},
   "outputs": [],
   "source": [
    "# 엘리스그림 마스킹 객체 생성 \n",
    "alice_mask = np.array(Image.open('../data/09. alice_mask.png'))\n",
    "\n",
    "stopwords = set(STOPWORDS)\n",
    "stopwords.add(\"said\")"
   ]
  },
  {
   "cell_type": "code",
   "execution_count": null,
   "metadata": {},
   "outputs": [],
   "source": [
    "import matplotlib\n",
    "import matplotlib.pyplot as plt\n",
    "%matplotlib inline\n",
    "\n",
    "import matplotlib.font_manager as fm\n",
    "\n",
    "#  한글글꼴로 변경\n",
    "plt.rcParams['font.size'] = 20.0\n",
    "plt.rcParams['font.family'] = 'batang'\n",
    "# plt.rcParams['font.family'] = 'Malgun Gothic'"
   ]
  },
  {
   "cell_type": "code",
   "execution_count": null,
   "metadata": {
    "scrolled": false
   },
   "outputs": [],
   "source": [
    "plt.figure(figsize=(8,8))\n",
    "plt.imshow(alice_mask, cmap=plt.cm.gray, interpolation='bilinear')\n",
    "plt.axis('off')\n",
    "plt.show()"
   ]
  },
  {
   "cell_type": "code",
   "execution_count": null,
   "metadata": {
    "scrolled": true
   },
   "outputs": [],
   "source": [
    "wc = WordCloud(background_color='white', max_words=2000, mask=alice_mask,\n",
    "              stopwords = stopwords)\n",
    "wc = wc.generate(text)\n",
    "wc.words_"
   ]
  },
  {
   "cell_type": "code",
   "execution_count": null,
   "metadata": {},
   "outputs": [],
   "source": [
    "plt.figure(figsize=(12,12))\n",
    "plt.imshow(wc, interpolation='bilinear')\n",
    "plt.axis('off')\n",
    "plt.show()"
   ]
  },
  {
   "cell_type": "markdown",
   "metadata": {},
   "source": [
    "## 스타워즈 마스크"
   ]
  },
  {
   "cell_type": "code",
   "execution_count": null,
   "metadata": {},
   "outputs": [],
   "source": [
    "text = open('../data/09. a_new_hope.txt').read()\n",
    "\n",
    "text = text.replace('HAN', 'Han')\n",
    "text = text.replace(\"LUKE'S\", 'Luke')\n",
    "\n",
    "mask = np.array(Image.open('../data/09. stormtrooper_mask.png'))"
   ]
  },
  {
   "cell_type": "code",
   "execution_count": null,
   "metadata": {},
   "outputs": [],
   "source": [
    "stopwords = set(STOPWORDS)\n",
    "stopwords.add(\"int\")\n",
    "stopwords.add(\"ext\")"
   ]
  },
  {
   "cell_type": "code",
   "execution_count": null,
   "metadata": {},
   "outputs": [],
   "source": [
    "wc = WordCloud(max_words=1000, mask=mask, stopwords=stopwords, \n",
    "               margin=10, random_state=1).generate(text)\n",
    "\n",
    "default_colors = wc.to_array()"
   ]
  },
  {
   "cell_type": "code",
   "execution_count": null,
   "metadata": {},
   "outputs": [],
   "source": [
    "import random\n",
    "def grey_color_func(word, font_size, position, orientation, \n",
    "                    random_state=None, **kwargs):\n",
    "    return 'hsl(0, 0%%, %d%%)' % random.randint(60,100)"
   ]
  },
  {
   "cell_type": "code",
   "execution_count": null,
   "metadata": {},
   "outputs": [],
   "source": [
    "plt.figure(figsize=(12,12))\n",
    "plt.imshow(wc.recolor(color_func=grey_color_func, random_state=3),\n",
    "          interpolation='bilinear')\n",
    "plt.axis('off')\n",
    "plt.show()"
   ]
  },
  {
   "cell_type": "code",
   "execution_count": null,
   "metadata": {},
   "outputs": [],
   "source": []
  }
 ],
 "metadata": {
  "kernelspec": {
   "display_name": "Python 3",
   "language": "python",
   "name": "python3"
  },
  "language_info": {
   "codemirror_mode": {
    "name": "ipython",
    "version": 3
   },
   "file_extension": ".py",
   "mimetype": "text/x-python",
   "name": "python",
   "nbconvert_exporter": "python",
   "pygments_lexer": "ipython3",
   "version": "3.7.3"
  }
 },
 "nbformat": 4,
 "nbformat_minor": 2
}
