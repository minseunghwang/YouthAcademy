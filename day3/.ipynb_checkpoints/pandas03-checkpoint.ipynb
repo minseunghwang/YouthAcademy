{
 "cells": [
  {
   "cell_type": "code",
   "execution_count": 1,
   "metadata": {},
   "outputs": [],
   "source": [
    "import numpy as np\n",
    "import pandas as pd"
   ]
  },
  {
   "cell_type": "markdown",
   "metadata": {},
   "source": [
    "# pandas03\n",
    "\n",
    "- 인덱싱:특정 셀을 조회하는 기능\n",
    "- 행 인덱싱\n",
    "- loc메소드\n",
    "- iloc 메소드"
   ]
  },
  {
   "cell_type": "markdown",
   "metadata": {},
   "source": [
    "# 컬럼 인덱싱\n",
    "\n",
    "- 데이터프레임[컬럼명]\n",
    "- 데이터프레임.컬럼명\n",
    "- 데이터프레임[[컬럼명1, 컬럼명2 ...]]"
   ]
  },
  {
   "cell_type": "code",
   "execution_count": 52,
   "metadata": {},
   "outputs": [
    {
     "name": "stdout",
     "output_type": "stream",
     "text": [
      "user1    40\n",
      "user2    55\n",
      "user3    66\n",
      "Name: kor, dtype: int64\n",
      "**************************************************\n",
      "user1    40\n",
      "user2    55\n",
      "user3    66\n",
      "Name: kor, dtype: int64\n",
      "**************************************************\n",
      "       kor  math\n",
      "user1   40    70\n",
      "user2   55    80\n",
      "user3   66    90\n"
     ]
    }
   ],
   "source": [
    "# 데이터 정의(딕셔너리 리스트 방식)\n",
    "data = {'kor':[40,55,66],\n",
    "        'math':[70,80,90],\n",
    "        'eng':[17,16,98]\n",
    "       }\n",
    "df1 = pd.DataFrame(data, index=['user1','user2','user3'])\n",
    "print(df1['kor'])\n",
    "print('*'*50)\n",
    "print(df1.kor)\n",
    "print('*'*50)\n",
    "print(df1[['kor','math']])"
   ]
  },
  {
   "cell_type": "markdown",
   "metadata": {},
   "source": [
    "## 컬럼추가\n",
    "- 데이터프레임[컬럼명] = [값1, 값2....]\n",
    "- 데이터프레임[컬럼명] = pd.Series([값1, 값2...])"
   ]
  },
  {
   "cell_type": "code",
   "execution_count": 14,
   "metadata": {},
   "outputs": [
    {
     "data": {
      "text/html": [
       "<div>\n",
       "<style scoped>\n",
       "    .dataframe tbody tr th:only-of-type {\n",
       "        vertical-align: middle;\n",
       "    }\n",
       "\n",
       "    .dataframe tbody tr th {\n",
       "        vertical-align: top;\n",
       "    }\n",
       "\n",
       "    .dataframe thead th {\n",
       "        text-align: right;\n",
       "    }\n",
       "</style>\n",
       "<table border=\"1\" class=\"dataframe\">\n",
       "  <thead>\n",
       "    <tr style=\"text-align: right;\">\n",
       "      <th></th>\n",
       "      <th>kor</th>\n",
       "      <th>math</th>\n",
       "      <th>eng</th>\n",
       "      <th>sci</th>\n",
       "    </tr>\n",
       "  </thead>\n",
       "  <tbody>\n",
       "    <tr>\n",
       "      <td>user1</td>\n",
       "      <td>40</td>\n",
       "      <td>70</td>\n",
       "      <td>17</td>\n",
       "      <td>100</td>\n",
       "    </tr>\n",
       "    <tr>\n",
       "      <td>user2</td>\n",
       "      <td>55</td>\n",
       "      <td>80</td>\n",
       "      <td>16</td>\n",
       "      <td>50</td>\n",
       "    </tr>\n",
       "    <tr>\n",
       "      <td>user3</td>\n",
       "      <td>66</td>\n",
       "      <td>90</td>\n",
       "      <td>98</td>\n",
       "      <td>80</td>\n",
       "    </tr>\n",
       "  </tbody>\n",
       "</table>\n",
       "</div>"
      ],
      "text/plain": [
       "       kor  math  eng  sci\n",
       "user1   40    70   17  100\n",
       "user2   55    80   16   50\n",
       "user3   66    90   98   80"
      ]
     },
     "execution_count": 14,
     "metadata": {},
     "output_type": "execute_result"
    }
   ],
   "source": [
    "df1['sci'] = [100,50,80]\n",
    "df1"
   ]
  },
  {
   "cell_type": "code",
   "execution_count": 29,
   "metadata": {},
   "outputs": [
    {
     "name": "stdout",
     "output_type": "stream",
     "text": [
      "0    90\n",
      "1    80\n",
      "2    60\n",
      "dtype: int64\n",
      "<class 'pandas.core.series.Series'>\n"
     ]
    }
   ],
   "source": [
    "python = pd.Series([90,80,60,])\n",
    "print(python)\n",
    "print(type(python))"
   ]
  },
  {
   "cell_type": "code",
   "execution_count": 67,
   "metadata": {},
   "outputs": [
    {
     "name": "stdout",
     "output_type": "stream",
     "text": [
      "       kor  math  eng  python  test\n",
      "user1   40    70   17      90    10\n",
      "user2   55    80   16      60    15\n",
      "user3   66    90   98      70    20\n",
      "**************************************************\n",
      "user1    10\n",
      "user2    15\n",
      "user3    20\n",
      "dtype: int64\n",
      "**************************************************\n"
     ]
    },
    {
     "data": {
      "text/html": [
       "<div>\n",
       "<style scoped>\n",
       "    .dataframe tbody tr th:only-of-type {\n",
       "        vertical-align: middle;\n",
       "    }\n",
       "\n",
       "    .dataframe tbody tr th {\n",
       "        vertical-align: top;\n",
       "    }\n",
       "\n",
       "    .dataframe thead th {\n",
       "        text-align: right;\n",
       "    }\n",
       "</style>\n",
       "<table border=\"1\" class=\"dataframe\">\n",
       "  <thead>\n",
       "    <tr style=\"text-align: right;\">\n",
       "      <th></th>\n",
       "      <th>kor</th>\n",
       "      <th>math</th>\n",
       "      <th>eng</th>\n",
       "      <th>python</th>\n",
       "      <th>test</th>\n",
       "    </tr>\n",
       "  </thead>\n",
       "  <tbody>\n",
       "    <tr>\n",
       "      <td>user1</td>\n",
       "      <td>40</td>\n",
       "      <td>70</td>\n",
       "      <td>17</td>\n",
       "      <td>90</td>\n",
       "      <td>10</td>\n",
       "    </tr>\n",
       "    <tr>\n",
       "      <td>user2</td>\n",
       "      <td>55</td>\n",
       "      <td>80</td>\n",
       "      <td>16</td>\n",
       "      <td>60</td>\n",
       "      <td>15</td>\n",
       "    </tr>\n",
       "    <tr>\n",
       "      <td>user3</td>\n",
       "      <td>66</td>\n",
       "      <td>90</td>\n",
       "      <td>98</td>\n",
       "      <td>70</td>\n",
       "      <td>20</td>\n",
       "    </tr>\n",
       "  </tbody>\n",
       "</table>\n",
       "</div>"
      ],
      "text/plain": [
       "       kor  math  eng  python  test\n",
       "user1   40    70   17      90    10\n",
       "user2   55    80   16      60    15\n",
       "user3   66    90   98      70    20"
      ]
     },
     "execution_count": 67,
     "metadata": {},
     "output_type": "execute_result"
    }
   ],
   "source": [
    "df1['python'] = [90,60,70]\n",
    "print(df1)\n",
    "print('*'*50)\n",
    "test = pd.Series([10,15,20], index=['user1', 'user2', 'user3'])\n",
    "print(test)\n",
    "print('*'*50)\n",
    "df1['test'] = test\n",
    "df1"
   ]
  },
  {
   "cell_type": "markdown",
   "metadata": {},
   "source": [
    "# 데이터형 확인\n",
    "\n",
    "- 데이터프레임.info()\n",
    "- 데이터프레임.dtypes"
   ]
  },
  {
   "cell_type": "code",
   "execution_count": 23,
   "metadata": {
    "scrolled": true
   },
   "outputs": [
    {
     "name": "stdout",
     "output_type": "stream",
     "text": [
      "<class 'pandas.core.frame.DataFrame'>\n",
      "Index: 3 entries, user1 to user3\n",
      "Data columns (total 5 columns):\n",
      "kor       3 non-null int64\n",
      "math      3 non-null int64\n",
      "eng       3 non-null int64\n",
      "sci       3 non-null int64\n",
      "python    3 non-null int64\n",
      "dtypes: int64(5)\n",
      "memory usage: 144.0+ bytes\n",
      "None\n",
      "**************************************************\n",
      "kor       int64\n",
      "math      int64\n",
      "eng       int64\n",
      "sci       int64\n",
      "python    int64\n",
      "dtype: object\n"
     ]
    }
   ],
   "source": [
    "print(df1.info())\n",
    "print('*'*50)\n",
    "print(df1.dtypes)"
   ]
  },
  {
   "cell_type": "markdown",
   "metadata": {},
   "source": [
    "## 컬럼 삭제\n",
    "\n",
    "- 데이터프레임[컬럼명\n",
    "- 데이터프레임 = 데이터프레임.drop([컬럼명1, 컬럼명2], axis=1)\n",
    "        axis가 0이면 행이 삭제된다는데..."
   ]
  },
  {
   "cell_type": "code",
   "execution_count": 35,
   "metadata": {},
   "outputs": [
    {
     "name": "stdout",
     "output_type": "stream",
     "text": [
      "       kor  math  eng  sci  python\n",
      "user1   40    70   17  100      90\n",
      "user2   55    80   16   50      60\n",
      "user3   66    90   98   80      70\n",
      "**************************************************\n",
      "       kor  math  eng  sci\n",
      "user1   40    70   17  100\n",
      "user2   55    80   16   50\n",
      "user3   66    90   98   80\n"
     ]
    }
   ],
   "source": [
    "print(df1)\n",
    "print('*'*50)\n",
    "del df1['python']\n",
    "print(df1)"
   ]
  },
  {
   "cell_type": "markdown",
   "metadata": {},
   "source": [
    "# 컬럼의 집계함수\n",
    "\n",
    "- 데이터프레임[컬럼명].집계함수\n",
    "- mean() / max() / min() / sum() / std() / median()"
   ]
  },
  {
   "cell_type": "code",
   "execution_count": 41,
   "metadata": {},
   "outputs": [
    {
     "name": "stdout",
     "output_type": "stream",
     "text": [
      "53.666666666666664\n",
      "66\n",
      "40\n",
      "13.051181300301261\n",
      "161\n",
      "55.0\n"
     ]
    }
   ],
   "source": [
    "print(df1['kor'].mean())\n",
    "print(df1['kor'].max())\n",
    "print(df1['kor'].min())\n",
    "print(df1['kor'].std()) # 표준편차\n",
    "print(df1['kor'].sum())\n",
    "print(df1['kor'].median())"
   ]
  },
  {
   "cell_type": "markdown",
   "metadata": {},
   "source": [
    "# boolean 인덱싱\n",
    "\n",
    "- 결과값이 True / False\n",
    "- 조건식\n",
    "- 데이터프레임[조건식]"
   ]
  },
  {
   "cell_type": "code",
   "execution_count": 45,
   "metadata": {},
   "outputs": [
    {
     "name": "stdout",
     "output_type": "stream",
     "text": [
      "user1    False\n",
      "user2     True\n",
      "user3     True\n",
      "Name: kor, dtype: bool\n"
     ]
    },
    {
     "data": {
      "text/plain": [
       "user2    55\n",
       "user3    66\n",
       "Name: kor, dtype: int64"
      ]
     },
     "execution_count": 45,
     "metadata": {},
     "output_type": "execute_result"
    }
   ],
   "source": [
    "print(df1['kor'] > 50)\n",
    "\n",
    "# kor 컬럼에서 50점이 넘는 데이터 추출\n",
    "df1['kor'][df1['kor']>50]"
   ]
  },
  {
   "cell_type": "code",
   "execution_count": 62,
   "metadata": {},
   "outputs": [
    {
     "data": {
      "text/plain": [
       "44"
      ]
     },
     "execution_count": 62,
     "metadata": {},
     "output_type": "execute_result"
    }
   ],
   "source": [
    "# math 컬럼이 55점인 학생의 전체 데이터\n",
    "df1['math'] ==  70\n",
    "df1[df1['math']==70]\n",
    "\n",
    "import math\n",
    "math.ceil(df1['eng'].mean())"
   ]
  },
  {
   "cell_type": "code",
   "execution_count": 60,
   "metadata": {},
   "outputs": [
    {
     "data": {
      "text/html": [
       "<div>\n",
       "<style scoped>\n",
       "    .dataframe tbody tr th:only-of-type {\n",
       "        vertical-align: middle;\n",
       "    }\n",
       "\n",
       "    .dataframe tbody tr th {\n",
       "        vertical-align: top;\n",
       "    }\n",
       "\n",
       "    .dataframe thead th {\n",
       "        text-align: right;\n",
       "    }\n",
       "</style>\n",
       "<table border=\"1\" class=\"dataframe\">\n",
       "  <thead>\n",
       "    <tr style=\"text-align: right;\">\n",
       "      <th></th>\n",
       "      <th>kor</th>\n",
       "      <th>math</th>\n",
       "      <th>eng</th>\n",
       "    </tr>\n",
       "  </thead>\n",
       "  <tbody>\n",
       "    <tr>\n",
       "      <td>user3</td>\n",
       "      <td>66</td>\n",
       "      <td>90</td>\n",
       "      <td>98</td>\n",
       "    </tr>\n",
       "  </tbody>\n",
       "</table>\n",
       "</div>"
      ],
      "text/plain": [
       "       kor  math  eng\n",
       "user3   66    90   98"
      ]
     },
     "execution_count": 60,
     "metadata": {},
     "output_type": "execute_result"
    }
   ],
   "source": [
    "# 퀴즈 : eng 과목의 평균점수보다 큰 데이터 출력\n",
    "\n",
    "df1[df1['eng'] > df1['eng'].mean()]"
   ]
  }
 ],
 "metadata": {
  "kernelspec": {
   "display_name": "Python 3",
   "language": "python",
   "name": "python3"
  },
  "language_info": {
   "codemirror_mode": {
    "name": "ipython",
    "version": 3
   },
   "file_extension": ".py",
   "mimetype": "text/x-python",
   "name": "python",
   "nbconvert_exporter": "python",
   "pygments_lexer": "ipython3",
   "version": "3.7.4"
  }
 },
 "nbformat": 4,
 "nbformat_minor": 2
}
