{
 "cells": [
  {
   "cell_type": "markdown",
   "metadata": {},
   "source": [
    "##  Selenium 사용하기 2\n",
    "\n",
    "- 구글 크롬웹드라이버 설치하기 \n",
    "    - 주의사항:현재 사용하고 있는 크롬웹브라우저와 버전이 같아야한다. \n",
    "       예) 버전 80.0.3987.87(공식 빌드) (64비트) (64비트)\n",
    "       \n",
    "    - http://chromedriver.chromium.org/downloads 에서 윈도우용 32비트 저장 \n",
    "    - 작업폴더 기준으로 driver/chromedriver.exe 붙여넣기 \n",
    "    \n",
    "- 셀레니움 설치 \n",
    "    - pip install selenium"
   ]
  },
  {
   "cell_type": "code",
   "execution_count": 1,
   "metadata": {},
   "outputs": [],
   "source": [
    "from selenium import webdriver"
   ]
  },
  {
   "cell_type": "markdown",
   "metadata": {},
   "source": [
    "# 위메프\n",
    "\n",
    "- http://www.wemakeprice.com/best\n",
    "- 1위~100위"
   ]
  },
  {
   "cell_type": "code",
   "execution_count": 2,
   "metadata": {},
   "outputs": [],
   "source": [
    "#  chromedriver의 경로 지정\n",
    "driver = webdriver.Chrome('driver/chromedriver')\n",
    "# 웹 자원 로드를 위한 시간 설정\n",
    "driver.implicitly_wait(3) \n",
    "# url 에 접근 \n",
    "driver.get('http://www.wemakeprice.com/best')"
   ]
  },
  {
   "cell_type": "code",
   "execution_count": 3,
   "metadata": {},
   "outputs": [
    {
     "data": {
      "text/plain": [
       "100"
      ]
     },
     "execution_count": 3,
     "metadata": {},
     "output_type": "execute_result"
    }
   ],
   "source": [
    "# 랭킹의 상품 제목 \n",
    "#wrap_main_best > li:nth-child(1) > span > a > span.box_desc > strong\n",
    "target = '#wrap_main_best > li > span > a > span.box_desc > strong'\n",
    "result = driver.find_elements_by_css_selector(target)\n",
    "type(result)\n",
    "# result\n",
    "len(result)"
   ]
  },
  {
   "cell_type": "markdown",
   "metadata": {},
   "source": [
    "### 1~10위"
   ]
  },
  {
   "cell_type": "code",
   "execution_count": 4,
   "metadata": {},
   "outputs": [
    {
     "name": "stdout",
     "output_type": "stream",
     "text": [
      "1위 - [프로모션] 해피머니 온라인상품권\n",
      "2위 - 마지막! 자정까지 추가할인+선착순1000명 벌집껍데기990원+갈비막창 신메뉴 출시! 소곱창/돼지꼬리/초벌소막창 外\n",
      "3위 - 동원 살코기참치150g 10개\n",
      "4위 - 마트 인기 과자 990원 1+1 골라담기 초특가SALE\n",
      "5위 - 제이엘프/역대급40%/무조건25%즉시할인+15%중복무한쿠폰\n",
      "6위 - 지리산물하나 생수 500ml 40펫 외 초특가SALE\n",
      "7위 - 총 45% 할인 / 쿠폰 모두받기 누르세요! ADIDAS KOREA 본사 성인/키즈 정품! 병행수입X / 매장A/S 가능\n",
      "8위 - 온더리버 오늘밤까지!!선착순!무제한쿠폰♥25%+15%중복♥최대55%=자체15%할인추가/봄신상/슬랙스/셔츠/원피스/블라우스\n",
      "9위 - 후기좋은 후르츠마켓 햇 부사 사과 5kg/10kg 특가 엄격선별 품질보장!\n",
      "10위 - 단하루 25%쿠폰! 아모레 클라스~ #미쟝센 #해피바스 #려 #일리윤 #프레시팝 #샴푸 #트리트먼트 #바디워시 #바디로션\n"
     ]
    }
   ],
   "source": [
    "for i in range(0,10):\n",
    "    print(str(i+1) + '위 - ' + result[i].text)"
   ]
  },
  {
   "cell_type": "markdown",
   "metadata": {},
   "source": [
    "### 하이퍼링크 주소 추출\n",
    "\n",
    "```\n",
    "http://www.wemakeprice.com/best \n",
    "베스트 상품의 하이퍼링크 주소 \n",
    "```\n",
    "\n",
    "- get_attribute(속성)"
   ]
  },
  {
   "cell_type": "code",
   "execution_count": 5,
   "metadata": {},
   "outputs": [
    {
     "data": {
      "text/plain": [
       "'http://www.wemakeprice.com/best#gnb'"
      ]
     },
     "execution_count": 5,
     "metadata": {},
     "output_type": "execute_result"
    }
   ],
   "source": [
    "## 첫번째 하이퍼링크 태그의 href 속성값 추출하기 \n",
    "\n",
    "result_a = driver.find_element_by_tag_name('a')\n",
    "result_a \n",
    "result_a.get_attribute('href')"
   ]
  },
  {
   "cell_type": "markdown",
   "metadata": {},
   "source": [
    "## 여러개의 하이퍼링크 주소 추출"
   ]
  },
  {
   "cell_type": "code",
   "execution_count": 6,
   "metadata": {},
   "outputs": [
    {
     "data": {
      "text/plain": [
       "list"
      ]
     },
     "execution_count": 6,
     "metadata": {},
     "output_type": "execute_result"
    }
   ],
   "source": [
    "target_a = '#wrap_main_best > li > span > a'\n",
    "result_aList = driver.find_elements_by_css_selector(target_a)\n",
    "type(result_aList)"
   ]
  },
  {
   "cell_type": "code",
   "execution_count": 7,
   "metadata": {},
   "outputs": [
    {
     "name": "stdout",
     "output_type": "stream",
     "text": [
      "1위 - http://www.wemakeprice.com/deal/adeal/4620306/103900/?source=mdeal&tab=&no=1\n",
      "2위 - https://front.wemakeprice.com/deal/603081581\n",
      "3위 - https://front.wemakeprice.com/product/123658174\n",
      "4위 - https://front.wemakeprice.com/deal/603075482\n",
      "5위 - https://front.wemakeprice.com/deal/603080658\n",
      "6위 - https://front.wemakeprice.com/deal/603084058\n",
      "7위 - https://front.wemakeprice.com/deal/603083947\n",
      "8위 - https://front.wemakeprice.com/deal/603063835\n",
      "9위 - https://front.wemakeprice.com/deal/602440171\n",
      "10위 - https://front.wemakeprice.com/deal/602953069\n"
     ]
    }
   ],
   "source": [
    "for i in range(0,10):\n",
    "    print(str(i+1) + '위 - ' + result_aList[i].get_attribute('href'))"
   ]
  },
  {
   "cell_type": "code",
   "execution_count": null,
   "metadata": {},
   "outputs": [],
   "source": []
  },
  {
   "cell_type": "markdown",
   "metadata": {},
   "source": [
    "### 이미지 처리하기 "
   ]
  },
  {
   "cell_type": "code",
   "execution_count": 8,
   "metadata": {},
   "outputs": [
    {
     "data": {
      "text/plain": [
       "list"
      ]
     },
     "execution_count": 8,
     "metadata": {},
     "output_type": "execute_result"
    }
   ],
   "source": [
    "# #wrap_main_best > li > span > a > span.box_thumb > img\n",
    "\n",
    "target_img = '#wrap_main_best > li > span > a > span.box_thumb > img'\n",
    "img_list = driver.find_elements_by_css_selector(target_img)\n",
    "type(img_list)"
   ]
  },
  {
   "cell_type": "code",
   "execution_count": 9,
   "metadata": {},
   "outputs": [
    {
     "data": {
      "text/plain": [
       "100"
      ]
     },
     "execution_count": 9,
     "metadata": {},
     "output_type": "execute_result"
    }
   ],
   "source": [
    "len(img_list)"
   ]
  },
  {
   "cell_type": "markdown",
   "metadata": {},
   "source": [
    "### 이미지주소 1~10위"
   ]
  },
  {
   "cell_type": "code",
   "execution_count": 10,
   "metadata": {},
   "outputs": [
    {
     "name": "stdout",
     "output_type": "stream",
     "text": [
      "http://image.wemakeprice.com/deal/6/030/4620306/02e9833590c9320882c58a83e7b70a69026df419.jpg?modify=D_1580894587\n",
      "https://view01.wemep.co.kr/wmp-deal/1/158/603081581/603081581_large.jpg?1580911289\n",
      "https://view01.wemep.co.kr/wmp-product/4/817/123658174/123658174_large.jpg?1540951974\n",
      "https://view01.wemep.co.kr/wmp-deal/2/548/603075482/603075482_large.jpg?1580899119\n",
      "https://view01.wemep.co.kr/wmp-deal/8/065/603080658/603080658_large.jpg?1580807114\n",
      "https://view01.wemep.co.kr/wmp-deal/8/405/603084058/603084058_large.jpg?1580783004\n",
      "https://view01.wemep.co.kr/wmp-deal/7/394/603083947/603083947_large.jpg?1580897029\n",
      "https://view01.wemep.co.kr/wmp-deal/5/383/603063835/603063835_large.jpg?1580886286\n",
      "https://view01.wemep.co.kr/wmp-deal/1/017/602440171/602440171_large.jpg?1580904945\n",
      "https://view01.wemep.co.kr/wmp-deal/9/306/602953069/602953069_large.jpg?1580885988\n"
     ]
    }
   ],
   "source": [
    "for i in range(0,10):\n",
    "    print(img_list[i].get_attribute('src'))"
   ]
  },
  {
   "cell_type": "markdown",
   "metadata": {},
   "source": [
    "### 주피터노트북에서 이미지 표시하기 "
   ]
  },
  {
   "cell_type": "code",
   "execution_count": 11,
   "metadata": {},
   "outputs": [],
   "source": [
    "from IPython.display import HTML"
   ]
  },
  {
   "cell_type": "code",
   "execution_count": 12,
   "metadata": {},
   "outputs": [
    {
     "data": {
      "text/html": [
       "<img src='http://image.wemakeprice.com/deal/6/030/4620306/02e9833590c9320882c58a83e7b70a69026df419.jpg?modify=D_1580894587'>"
      ],
      "text/plain": [
       "<IPython.core.display.HTML object>"
      ]
     },
     "execution_count": 12,
     "metadata": {},
     "output_type": "execute_result"
    }
   ],
   "source": [
    "HTML(\"<img src=\\'\"+img_list[0].get_attribute('src')+\"\\'>\")"
   ]
  },
  {
   "cell_type": "markdown",
   "metadata": {},
   "source": [
    "## 웹 이미지 저장하기 \n",
    "\n",
    "- import urllib.request\n",
    "- urllib.request.urlretrieve(이미지주소경로, '저장이미지파일경로')"
   ]
  },
  {
   "cell_type": "code",
   "execution_count": 13,
   "metadata": {},
   "outputs": [],
   "source": [
    "import urllib.request"
   ]
  },
  {
   "cell_type": "code",
   "execution_count": 14,
   "metadata": {},
   "outputs": [
    {
     "data": {
      "text/plain": [
       "('output/위메프1.png', <http.client.HTTPMessage at 0x24e341b6cc8>)"
      ]
     },
     "execution_count": 14,
     "metadata": {},
     "output_type": "execute_result"
    }
   ],
   "source": [
    "urllib.request.urlretrieve(img_list[0].get_attribute('src'), 'output/위메프1.png')"
   ]
  },
  {
   "cell_type": "code",
   "execution_count": 15,
   "metadata": {},
   "outputs": [
    {
     "data": {
      "text/plain": [
       "['google1.png', '위메프1.png']"
      ]
     },
     "execution_count": 15,
     "metadata": {},
     "output_type": "execute_result"
    }
   ],
   "source": [
    "import os\n",
    "os.listdir('output')"
   ]
  },
  {
   "cell_type": "markdown",
   "metadata": {},
   "source": [
    "### 여러장"
   ]
  },
  {
   "cell_type": "code",
   "execution_count": 16,
   "metadata": {},
   "outputs": [
    {
     "name": "stdout",
     "output_type": "stream",
     "text": [
      "0 번 이미지가 저장되었습니다.\n",
      "1 번 이미지가 저장되었습니다.\n",
      "2 번 이미지가 저장되었습니다.\n",
      "3 번 이미지가 저장되었습니다.\n",
      "4 번 이미지가 저장되었습니다.\n",
      "5 번 이미지가 저장되었습니다.\n",
      "6 번 이미지가 저장되었습니다.\n",
      "7 번 이미지가 저장되었습니다.\n",
      "8 번 이미지가 저장되었습니다.\n",
      "9 번 이미지가 저장되었습니다.\n",
      "10 번 이미지가 저장되었습니다.\n"
     ]
    }
   ],
   "source": [
    "for i in range(0,11):\n",
    "    saveImg = 'output/result'+ str(i) + '.png'\n",
    "    urllib.request.urlretrieve(img_list[i].get_attribute('src'), saveImg)\n",
    "    print('%d 번 이미지가 저장되었습니다.' % i)"
   ]
  },
  {
   "cell_type": "code",
   "execution_count": null,
   "metadata": {},
   "outputs": [],
   "source": []
  },
  {
   "cell_type": "markdown",
   "metadata": {},
   "source": [
    "# 서울의 산과 공원: 페이지 연결 크롤링"
   ]
  },
  {
   "cell_type": "markdown",
   "metadata": {},
   "source": [
    "http://parks.seoul.go.kr/main.do"
   ]
  },
  {
   "cell_type": "code",
   "execution_count": 42,
   "metadata": {},
   "outputs": [],
   "source": [
    "#  chromedriver의 경로 지정\n",
    "driver = webdriver.Chrome('driver/chromedriver')\n",
    "# 웹 자원 로드를 위한 시간 설정\n",
    "driver.implicitly_wait(3) "
   ]
  },
  {
   "cell_type": "code",
   "execution_count": 43,
   "metadata": {},
   "outputs": [],
   "source": [
    "# url 에 접근 \n",
    "driver.get('http://parks.seoul.go.kr/main.do#')"
   ]
  },
  {
   "cell_type": "code",
   "execution_count": 44,
   "metadata": {},
   "outputs": [
    {
     "data": {
      "text/plain": [
       "[<selenium.webdriver.remote.webelement.WebElement (session=\"5e308362c5eafd33d63c287e8ea71a07\", element=\"e0a42b70-770e-4964-aaee-93d6bf574da2\")>,\n",
       " <selenium.webdriver.remote.webelement.WebElement (session=\"5e308362c5eafd33d63c287e8ea71a07\", element=\"cd6423af-6201-4201-a2b5-a7282eacd706\")>,\n",
       " <selenium.webdriver.remote.webelement.WebElement (session=\"5e308362c5eafd33d63c287e8ea71a07\", element=\"c0cd02ed-dc1e-480a-a903-1f6a76bff6d7\")>,\n",
       " <selenium.webdriver.remote.webelement.WebElement (session=\"5e308362c5eafd33d63c287e8ea71a07\", element=\"a7a1a0dd-e4d8-4344-8cfa-a4fa8293b973\")>]"
      ]
     },
     "execution_count": 44,
     "metadata": {},
     "output_type": "execute_result"
    }
   ],
   "source": [
    "# 서울의 산과공원 메뉴 클릭 \n",
    "#gnb > li:nth-child(1) > a\n",
    "target = '#gnb > li > a'\n",
    "result = driver.find_elements_by_css_selector(target)\n",
    "result"
   ]
  },
  {
   "cell_type": "code",
   "execution_count": 45,
   "metadata": {},
   "outputs": [
    {
     "name": "stdout",
     "output_type": "stream",
     "text": [
      "서울의 산과 공원\n",
      "예약\n",
      "공원의 친구들\n",
      "공원의 이야기\n"
     ]
    }
   ],
   "source": [
    "for i in result:\n",
    "    print(i.text)"
   ]
  },
  {
   "cell_type": "code",
   "execution_count": 46,
   "metadata": {},
   "outputs": [
    {
     "data": {
      "text/plain": [
       "'서울의 산과 공원'"
      ]
     },
     "execution_count": 46,
     "metadata": {},
     "output_type": "execute_result"
    }
   ],
   "source": [
    "result[0].text"
   ]
  },
  {
   "cell_type": "code",
   "execution_count": 47,
   "metadata": {},
   "outputs": [],
   "source": [
    "result[0].click()"
   ]
  },
  {
   "cell_type": "code",
   "execution_count": 48,
   "metadata": {},
   "outputs": [],
   "source": [
    "#all_seoul_region1"
   ]
  },
  {
   "cell_type": "code",
   "execution_count": 49,
   "metadata": {},
   "outputs": [],
   "source": [
    "driver.find_element_by_id('all_seoul_region1').send_keys('구로구')\n",
    "driver.find_element_by_id('all_seoul_region1').submit()"
   ]
  },
  {
   "cell_type": "code",
   "execution_count": 50,
   "metadata": {},
   "outputs": [
    {
     "data": {
      "text/plain": [
       "[<selenium.webdriver.remote.webelement.WebElement (session=\"5e308362c5eafd33d63c287e8ea71a07\", element=\"87076c43-3784-428c-b6fd-cbd95f52876d\")>,\n",
       " <selenium.webdriver.remote.webelement.WebElement (session=\"5e308362c5eafd33d63c287e8ea71a07\", element=\"4101d2a5-6d03-412a-83b4-ba68c83e83af\")>,\n",
       " <selenium.webdriver.remote.webelement.WebElement (session=\"5e308362c5eafd33d63c287e8ea71a07\", element=\"1dcd7369-76d4-454e-88c8-aa941a922d97\")>,\n",
       " <selenium.webdriver.remote.webelement.WebElement (session=\"5e308362c5eafd33d63c287e8ea71a07\", element=\"e3854a94-c7ef-49dd-841a-e4efb1f8942f\")>]"
      ]
     },
     "execution_count": 50,
     "metadata": {},
     "output_type": "execute_result"
    }
   ],
   "source": [
    "# #dataList > li:nth-child(1) > div > div.pageTit > a > span\n",
    "target = '#dataList > li > div > div.pageTit > a > span'\n",
    "gu1_title_list = driver.find_elements_by_css_selector(target)\n",
    "gu1_title_list"
   ]
  },
  {
   "cell_type": "code",
   "execution_count": 51,
   "metadata": {},
   "outputs": [
    {
     "name": "stdout",
     "output_type": "stream",
     "text": [
      "개웅산근린공원\n",
      "고척근린공원\n",
      "온수도시자연공원\n",
      "푸른수목원\n"
     ]
    }
   ],
   "source": [
    "for i in gu1_title_list:\n",
    "    print(i.text)"
   ]
  },
  {
   "cell_type": "markdown",
   "metadata": {},
   "source": [
    "# 반복문 이용"
   ]
  },
  {
   "cell_type": "code",
   "execution_count": 52,
   "metadata": {},
   "outputs": [],
   "source": [
    "gu_list = ['구로구', '영등포구', '종로구', '서초구', '강남구', '노원구', '서대문구']"
   ]
  },
  {
   "cell_type": "code",
   "execution_count": 53,
   "metadata": {},
   "outputs": [],
   "source": [
    "# 함수로 선언 \n",
    "def get_m(guName):\n",
    "    temp_list = []\n",
    "    # url 에 접근후 검색 페이지로 이동 \n",
    "    driver.get('http://parks.seoul.go.kr/main.do#')\n",
    "    target = '#gnb > li > a'\n",
    "    result = driver.find_elements_by_css_selector(target)\n",
    "    result[0].click()\n",
    "\n",
    "    driver.find_element_by_id('all_seoul_region1').send_keys(guName)\n",
    "    driver.find_element_by_id('all_seoul_region1').submit()\n",
    "    target = '#dataList > li > div > div.pageTit > a > span'\n",
    "    gu1_title_list = driver.find_elements_by_css_selector(target)\n",
    "    gu1_title_list\n",
    "    for i in gu1_title_list:\n",
    "#         print(i.text)\n",
    "        temp_list.append(i.text)\n",
    "    return temp_list\n",
    "\n",
    "gu_mountin_list1 = get_m('영등포구')"
   ]
  },
  {
   "cell_type": "code",
   "execution_count": 54,
   "metadata": {
    "scrolled": true
   },
   "outputs": [
    {
     "data": {
      "text/plain": [
       "['선유도공원', '여의도공원', '영등포근린공원', '자매근린공원', '중마루근린공원']"
      ]
     },
     "execution_count": 54,
     "metadata": {},
     "output_type": "execute_result"
    }
   ],
   "source": [
    "gu_mountin_list1"
   ]
  },
  {
   "cell_type": "code",
   "execution_count": 119,
   "metadata": {
    "scrolled": true
   },
   "outputs": [],
   "source": [
    "gu_list = ['구로구', '영등포구', '종로구', '서초구', '강남구', '노원구', '서대문구']\n",
    "count=1\n",
    "totList=[]\n",
    "for guName in gu_list:\n",
    "    tempList=[]\n",
    "    tempList = get_m(guName)\n",
    "    totList.append(tempList)"
   ]
  },
  {
   "cell_type": "code",
   "execution_count": 120,
   "metadata": {},
   "outputs": [
    {
     "name": "stdout",
     "output_type": "stream",
     "text": [
      "[['개웅산근린공원', '고척근린공원', '온수도시자연공원', '푸른수목원'], ['선유도공원', '여의도공원', '영등포근린공원', '자매근린공원', '중마루근린공원'], ['경희궁', '광화문시민열린마당', '낙산공원', '마로니에공원', '북악산도시자연공원', '사직근린공원', '삼청근린공원', '세종로공원', '숭인근린공원', '와룡근린공원'], ['구룡산', '문화예술공원', '양재시민의숲', '우면산도시자연공원', '인능산도시자연공원', '청계산도시자연공원'], ['광평근린공원', '대모산도시자연공원', '도곡근린공원', '도산근린공원', '봉은공원', '율현공원', '청담근린공원'], ['불암산도시자연공원', '수락산도시자연공원'], ['궁동근린공원', '독립공원', '백련근린공원', '안산도시자연공원']]\n"
     ]
    }
   ],
   "source": [
    "print(totList)"
   ]
  },
  {
   "cell_type": "code",
   "execution_count": 126,
   "metadata": {
    "scrolled": true
   },
   "outputs": [],
   "source": [
    "import pandas as pd\n",
    "df = pd.DataFrame(totList, index=gu_list)"
   ]
  },
  {
   "cell_type": "code",
   "execution_count": 127,
   "metadata": {},
   "outputs": [
    {
     "data": {
      "text/html": [
       "<div>\n",
       "<style scoped>\n",
       "    .dataframe tbody tr th:only-of-type {\n",
       "        vertical-align: middle;\n",
       "    }\n",
       "\n",
       "    .dataframe tbody tr th {\n",
       "        vertical-align: top;\n",
       "    }\n",
       "\n",
       "    .dataframe thead th {\n",
       "        text-align: right;\n",
       "    }\n",
       "</style>\n",
       "<table border=\"1\" class=\"dataframe\">\n",
       "  <thead>\n",
       "    <tr style=\"text-align: right;\">\n",
       "      <th></th>\n",
       "      <th>0</th>\n",
       "      <th>1</th>\n",
       "      <th>2</th>\n",
       "      <th>3</th>\n",
       "      <th>4</th>\n",
       "      <th>5</th>\n",
       "      <th>6</th>\n",
       "      <th>7</th>\n",
       "      <th>8</th>\n",
       "      <th>9</th>\n",
       "    </tr>\n",
       "  </thead>\n",
       "  <tbody>\n",
       "    <tr>\n",
       "      <th>구로구</th>\n",
       "      <td>개웅산근린공원</td>\n",
       "      <td>고척근린공원</td>\n",
       "      <td>온수도시자연공원</td>\n",
       "      <td>푸른수목원</td>\n",
       "      <td>None</td>\n",
       "      <td>None</td>\n",
       "      <td>None</td>\n",
       "      <td>None</td>\n",
       "      <td>None</td>\n",
       "      <td>None</td>\n",
       "    </tr>\n",
       "    <tr>\n",
       "      <th>영등포구</th>\n",
       "      <td>선유도공원</td>\n",
       "      <td>여의도공원</td>\n",
       "      <td>영등포근린공원</td>\n",
       "      <td>자매근린공원</td>\n",
       "      <td>중마루근린공원</td>\n",
       "      <td>None</td>\n",
       "      <td>None</td>\n",
       "      <td>None</td>\n",
       "      <td>None</td>\n",
       "      <td>None</td>\n",
       "    </tr>\n",
       "    <tr>\n",
       "      <th>종로구</th>\n",
       "      <td>경희궁</td>\n",
       "      <td>광화문시민열린마당</td>\n",
       "      <td>낙산공원</td>\n",
       "      <td>마로니에공원</td>\n",
       "      <td>북악산도시자연공원</td>\n",
       "      <td>사직근린공원</td>\n",
       "      <td>삼청근린공원</td>\n",
       "      <td>세종로공원</td>\n",
       "      <td>숭인근린공원</td>\n",
       "      <td>와룡근린공원</td>\n",
       "    </tr>\n",
       "    <tr>\n",
       "      <th>서초구</th>\n",
       "      <td>구룡산</td>\n",
       "      <td>문화예술공원</td>\n",
       "      <td>양재시민의숲</td>\n",
       "      <td>우면산도시자연공원</td>\n",
       "      <td>인능산도시자연공원</td>\n",
       "      <td>청계산도시자연공원</td>\n",
       "      <td>None</td>\n",
       "      <td>None</td>\n",
       "      <td>None</td>\n",
       "      <td>None</td>\n",
       "    </tr>\n",
       "    <tr>\n",
       "      <th>강남구</th>\n",
       "      <td>광평근린공원</td>\n",
       "      <td>대모산도시자연공원</td>\n",
       "      <td>도곡근린공원</td>\n",
       "      <td>도산근린공원</td>\n",
       "      <td>봉은공원</td>\n",
       "      <td>율현공원</td>\n",
       "      <td>청담근린공원</td>\n",
       "      <td>None</td>\n",
       "      <td>None</td>\n",
       "      <td>None</td>\n",
       "    </tr>\n",
       "    <tr>\n",
       "      <th>노원구</th>\n",
       "      <td>불암산도시자연공원</td>\n",
       "      <td>수락산도시자연공원</td>\n",
       "      <td>None</td>\n",
       "      <td>None</td>\n",
       "      <td>None</td>\n",
       "      <td>None</td>\n",
       "      <td>None</td>\n",
       "      <td>None</td>\n",
       "      <td>None</td>\n",
       "      <td>None</td>\n",
       "    </tr>\n",
       "    <tr>\n",
       "      <th>서대문구</th>\n",
       "      <td>궁동근린공원</td>\n",
       "      <td>독립공원</td>\n",
       "      <td>백련근린공원</td>\n",
       "      <td>안산도시자연공원</td>\n",
       "      <td>None</td>\n",
       "      <td>None</td>\n",
       "      <td>None</td>\n",
       "      <td>None</td>\n",
       "      <td>None</td>\n",
       "      <td>None</td>\n",
       "    </tr>\n",
       "  </tbody>\n",
       "</table>\n",
       "</div>"
      ],
      "text/plain": [
       "              0          1         2          3          4          5       6  \\\n",
       "구로구     개웅산근린공원     고척근린공원  온수도시자연공원      푸른수목원       None       None    None   \n",
       "영등포구      선유도공원      여의도공원   영등포근린공원     자매근린공원    중마루근린공원       None    None   \n",
       "종로구         경희궁  광화문시민열린마당      낙산공원     마로니에공원  북악산도시자연공원     사직근린공원  삼청근린공원   \n",
       "서초구         구룡산     문화예술공원    양재시민의숲  우면산도시자연공원  인능산도시자연공원  청계산도시자연공원    None   \n",
       "강남구      광평근린공원  대모산도시자연공원    도곡근린공원     도산근린공원       봉은공원       율현공원  청담근린공원   \n",
       "노원구   불암산도시자연공원  수락산도시자연공원      None       None       None       None    None   \n",
       "서대문구     궁동근린공원       독립공원    백련근린공원   안산도시자연공원       None       None    None   \n",
       "\n",
       "          7       8       9  \n",
       "구로구    None    None    None  \n",
       "영등포구   None    None    None  \n",
       "종로구   세종로공원  숭인근린공원  와룡근린공원  \n",
       "서초구    None    None    None  \n",
       "강남구    None    None    None  \n",
       "노원구    None    None    None  \n",
       "서대문구   None    None    None  "
      ]
     },
     "execution_count": 127,
     "metadata": {},
     "output_type": "execute_result"
    }
   ],
   "source": [
    "df"
   ]
  },
  {
   "cell_type": "code",
   "execution_count": 118,
   "metadata": {},
   "outputs": [
    {
     "data": {
      "text/plain": [
       "[[0, 0, 0], [0, 0, 0], [0, 0, 0]]"
      ]
     },
     "execution_count": 118,
     "metadata": {},
     "output_type": "execute_result"
    }
   ],
   "source": [
    "array = [[0]*3]*3\n",
    "array"
   ]
  },
  {
   "cell_type": "code",
   "execution_count": null,
   "metadata": {
    "collapsed": true
   },
   "outputs": [],
   "source": []
  }
 ],
 "metadata": {
  "kernelspec": {
   "display_name": "Python 3",
   "language": "python",
   "name": "python3"
  },
  "language_info": {
   "codemirror_mode": {
    "name": "ipython",
    "version": 3
   },
   "file_extension": ".py",
   "mimetype": "text/x-python",
   "name": "python",
   "nbconvert_exporter": "python",
   "pygments_lexer": "ipython3",
   "version": "3.7.4"
  }
 },
 "nbformat": 4,
 "nbformat_minor": 1
}
