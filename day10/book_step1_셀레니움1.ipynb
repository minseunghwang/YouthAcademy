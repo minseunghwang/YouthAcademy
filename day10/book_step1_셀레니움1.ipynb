{
 "cells": [
  {
   "cell_type": "markdown",
   "metadata": {},
   "source": [
    "## 4-1 Selenium 사용하기\n",
    "\n",
    "- 구글 크롬웹드라이버 설치하기 \n",
    "    - 주의사항:현재 사용하고 있는 크롬웹브라우저와 버전이 같아야한다. \n",
    "       예) 버전 79.0.3945.130(공식 빌드) (64비트)\n",
    "       \n",
    "    - http://chromedriver.chromium.org/downloads 에서 윈도우용 32비트 저장 \n",
    "    - 작업폴더 기준으로 driver/chromedriver.exe 붙여넣기 \n",
    "    \n",
    "- 셀레니움 설치 \n",
    "    - pip install selenium"
   ]
  },
  {
   "cell_type": "code",
   "execution_count": null,
   "metadata": {},
   "outputs": [],
   "source": [
    "import os\n",
    "os.listdir('driver')"
   ]
  },
  {
   "cell_type": "markdown",
   "metadata": {},
   "source": [
    "### selenium 설치와 임포트 "
   ]
  },
  {
   "cell_type": "code",
   "execution_count": null,
   "metadata": {
    "scrolled": true
   },
   "outputs": [],
   "source": [
    "pip install selenium"
   ]
  },
  {
   "cell_type": "code",
   "execution_count": null,
   "metadata": {
    "scrolled": false
   },
   "outputs": [],
   "source": [
    "import selenium\n",
    "\n",
    "selenium.__version__"
   ]
  },
  {
   "cell_type": "code",
   "execution_count": null,
   "metadata": {},
   "outputs": [],
   "source": []
  },
  {
   "cell_type": "markdown",
   "metadata": {},
   "source": [
    "### webdriver 설치 및 구동"
   ]
  },
  {
   "cell_type": "code",
   "execution_count": null,
   "metadata": {
    "scrolled": false
   },
   "outputs": [],
   "source": [
    "from selenium import webdriver"
   ]
  },
  {
   "cell_type": "code",
   "execution_count": null,
   "metadata": {},
   "outputs": [],
   "source": [
    "# 자동으로 크롬웹브라우저가 실행되는지 확인 \n",
    "# chromedriver.exe 확인 \n",
    "driver = webdriver.Chrome('driver/chromedriver')"
   ]
  },
  {
   "cell_type": "code",
   "execution_count": null,
   "metadata": {},
   "outputs": [],
   "source": [
    "# url 에 접근 \n",
    "driver.get('http://www.google.com')"
   ]
  },
  {
   "cell_type": "code",
   "execution_count": null,
   "metadata": {
    "scrolled": true
   },
   "outputs": [],
   "source": [
    "# 스크린샷 저장하기 \n",
    "driver.save_screenshot('D:\\\\datascience\\\\day10\\\\output\\\\google1.png')"
   ]
  },
  {
   "cell_type": "code",
   "execution_count": null,
   "metadata": {
    "scrolled": true
   },
   "outputs": [],
   "source": [
    "import os\n",
    "os.listdir('D:\\\\datascience\\\\day10\\\\output')"
   ]
  },
  {
   "cell_type": "code",
   "execution_count": null,
   "metadata": {},
   "outputs": [],
   "source": []
  },
  {
   "cell_type": "markdown",
   "metadata": {},
   "source": [
    "## 구글 검색창에 키워드 입력하여 검색 결과 확인하기 \n",
    "\n",
    "- driver.find_element_by_name(태그의name속성값).send_keys(검색어입력)\n",
    "- driver.find_element_by_name(태그의name속성값).submit()"
   ]
  },
  {
   "cell_type": "code",
   "execution_count": null,
   "metadata": {},
   "outputs": [],
   "source": [
    "# 구글검색창의 검색입력창 copy Element\n",
    "'''\n",
    "<input class=\"gLFyf gsfi\" maxlength=\"2048\" name=\"q\" \n",
    "type=\"text\" jsaction=\"paste:puy29d\" aria-autocomplete=\"both\" \n",
    "aria-haspopup=\"false\" autocapitalize=\"off\" autocomplete=\"off\"\n",
    "autocorrect=\"off\" autofocus=\"\" role=\"combobox\" spellcheck=\"false\" \n",
    "title=\"검색\" value=\"\" aria-label=\"검색\" \n",
    "data-ved=\"0ahUKEwiMjY3l1bvnAhUM-2EKHcnHA0MQ39UDCAQ\">\n",
    "'''"
   ]
  },
  {
   "cell_type": "code",
   "execution_count": null,
   "metadata": {},
   "outputs": [],
   "source": [
    "# 파이썬 검색단어가 입력되고 검색페이지로 이동 \n",
    "driver.find_element_by_name('q').send_keys('파이썬')\n",
    "driver.find_element_by_name('q').submit()"
   ]
  },
  {
   "cell_type": "markdown",
   "metadata": {},
   "source": [
    "### 검색결과에서 첫번째 제목\n",
    "\n",
    "- driver.find_element_by_css_selector('선택자')\n",
    "- 텍스트만 표시 \n",
    "    - driver.find_element_by_css_selector('선택자').text"
   ]
  },
  {
   "cell_type": "code",
   "execution_count": null,
   "metadata": {},
   "outputs": [],
   "source": [
    "# copy selector 이용\n",
    "# 검색페이지의 첫번째 제목 부분 셀렉터 확인 \n",
    "#rso > div:nth-child(1) > div > div:nth-child(1) > div > div > div.r > a > h3\n",
    "\n",
    "title = '#rso > div:nth-child(1) > div > div:nth-child(1) > div > div > div.r > a > h3'"
   ]
  },
  {
   "cell_type": "code",
   "execution_count": null,
   "metadata": {
    "scrolled": true
   },
   "outputs": [],
   "source": [
    "result = driver.find_element_by_css_selector(title)\n",
    "result"
   ]
  },
  {
   "cell_type": "code",
   "execution_count": null,
   "metadata": {},
   "outputs": [],
   "source": [
    "result.text"
   ]
  },
  {
   "cell_type": "code",
   "execution_count": null,
   "metadata": {},
   "outputs": [],
   "source": [
    "# 첫번째 검색페이지에서 첫번째 목록에서 글내용부분 추출하기 \n",
    "#rso > div:nth-child(1) > div > div:nth-child(1) > div > div > div.s > div > span\n",
    "target = '#rso > div:nth-child(1) > div > div:nth-child(1) > div > div > div.s > div > span'\n",
    "result = driver.find_element_by_css_selector(target)\n",
    "result.text"
   ]
  },
  {
   "cell_type": "code",
   "execution_count": null,
   "metadata": {},
   "outputs": [],
   "source": []
  },
  {
   "cell_type": "markdown",
   "metadata": {},
   "source": [
    "## 네이버 검색창 결과 확인하기 \n",
    "\n",
    "```\n",
    "네이버 검색창에 트위터로 검색한 후 결과창에서 1번째 검색결과의 제목을 출력하여라\n",
    "네이버 검색창에 트위터로 검색한 후 결과창에서 1번째 검색결과를 클릭하여라 \n",
    "```\n",
    "\n",
    "- driver.find_element_by_css_selector(CSS셀렉터)\n",
    "- driver.find_element_by_css_selector(CSS셀렉터).text\n",
    "- driver.find_element_by_css_selector(CSS셀렉터).click() : 하이퍼링크 객체 "
   ]
  },
  {
   "cell_type": "code",
   "execution_count": null,
   "metadata": {},
   "outputs": [],
   "source": [
    "driver = webdriver.Chrome('driver/chromedriver')\n",
    "# url 에 접근 \n",
    "driver.get('http://naver.com')"
   ]
  },
  {
   "cell_type": "code",
   "execution_count": null,
   "metadata": {},
   "outputs": [],
   "source": [
    "# 네이버검색창 소스 확인 \n",
    "# - 검색창의 name 값은? query"
   ]
  },
  {
   "cell_type": "code",
   "execution_count": null,
   "metadata": {},
   "outputs": [],
   "source": [
    "# 검색어 입력후 페이지로 이동 \n",
    "driver.find_element_by_name('query').send_keys('트위터')\n",
    "driver.find_element_by_name('query').submit()"
   ]
  },
  {
   "cell_type": "code",
   "execution_count": null,
   "metadata": {},
   "outputs": [],
   "source": [
    "target = '#main_pack > div.nsite.section._nsiteTop > ul > li > dl > dt > a'\n",
    "driver.find_element_by_css_selector(target)"
   ]
  },
  {
   "cell_type": "code",
   "execution_count": null,
   "metadata": {},
   "outputs": [],
   "source": [
    "driver.find_element_by_css_selector(target).text"
   ]
  },
  {
   "cell_type": "code",
   "execution_count": null,
   "metadata": {},
   "outputs": [],
   "source": [
    "# 첫번째 제목 하이퍼링크 클릭 \n",
    "driver.find_element_by_css_selector(target).click()"
   ]
  },
  {
   "cell_type": "code",
   "execution_count": null,
   "metadata": {},
   "outputs": [],
   "source": []
  },
  {
   "cell_type": "markdown",
   "metadata": {},
   "source": [
    "###  DAUM  검색창 결과 확인하기 \n",
    "\n",
    "```\n",
    "DAUM 검색창에 오늘의날씨 로 검색한 후 결과창에서 검색결과의 제목을 출력하여라\n",
    "DAUM 검색창에 오늘의날씨로 검색한 후 결과창에서  검색결과을 클릭하여라 \n",
    "```"
   ]
  },
  {
   "cell_type": "code",
   "execution_count": null,
   "metadata": {},
   "outputs": [],
   "source": [
    "# url 에 접근 \n",
    "driver.get('https://www.daum.net')"
   ]
  },
  {
   "cell_type": "code",
   "execution_count": null,
   "metadata": {},
   "outputs": [],
   "source": [
    "# 검색창 소스 확인 \n",
    "# 다음 검색창의 name 값 확인 - 'q'"
   ]
  },
  {
   "cell_type": "code",
   "execution_count": null,
   "metadata": {},
   "outputs": [],
   "source": [
    "driver.find_element_by_name('q').send_keys('신종코로나')\n",
    "driver.find_element_by_name('q').submit()"
   ]
  },
  {
   "cell_type": "code",
   "execution_count": null,
   "metadata": {},
   "outputs": [],
   "source": [
    "# #dirtColl > div.coll_tit > span.tit_name.mg_tit > a\n",
    "taget = '#dirtColl > div.coll_tit > span.tit_name.mg_tit > a'\n",
    "driver.find_element_by_css_selector(taget)"
   ]
  },
  {
   "cell_type": "code",
   "execution_count": null,
   "metadata": {},
   "outputs": [],
   "source": [
    "driver.find_element_by_css_selector(taget).text"
   ]
  },
  {
   "cell_type": "code",
   "execution_count": null,
   "metadata": {},
   "outputs": [],
   "source": [
    "driver.find_element_by_css_selector(taget).click()"
   ]
  },
  {
   "cell_type": "code",
   "execution_count": null,
   "metadata": {},
   "outputs": [],
   "source": [
    "target = 'body > div > div.container.main_container > div > div:nth-child(2) > div.co_news > dl > dt > a'"
   ]
  },
  {
   "cell_type": "code",
   "execution_count": null,
   "metadata": {
    "scrolled": true
   },
   "outputs": [],
   "source": [
    "driver.find_elements_by_css_selector(target)"
   ]
  },
  {
   "cell_type": "markdown",
   "metadata": {},
   "source": [
    "### 크롬드라이버 닫기"
   ]
  },
  {
   "cell_type": "code",
   "execution_count": null,
   "metadata": {},
   "outputs": [],
   "source": [
    "driver.close()"
   ]
  },
  {
   "cell_type": "code",
   "execution_count": null,
   "metadata": {},
   "outputs": [],
   "source": []
  },
  {
   "cell_type": "markdown",
   "metadata": {},
   "source": [
    "## Naver 영화 순위 \n",
    "\n",
    "```\n",
    "https://movie.naver.com/movie/sdb/rank/rmovie.nhn?sel=cur&date=20190731\n",
    "```"
   ]
  },
  {
   "cell_type": "code",
   "execution_count": null,
   "metadata": {},
   "outputs": [],
   "source": [
    "# Selenium Module\n",
    "from selenium import webdriver \n",
    "# BeautifulSoup Module\n",
    "from bs4 import BeautifulSoup as bs"
   ]
  },
  {
   "cell_type": "code",
   "execution_count": null,
   "metadata": {},
   "outputs": [],
   "source": [
    "#  chromedriver의 경로 지정\n",
    "# 자동으로 크롬웹브라우저가 실행되는지 확인 \n",
    "driver = webdriver.Chrome('driver/chromedriver')\n",
    "# 웹 자원 로드를 위한 시간 설정\n",
    "driver.implicitly_wait(3) "
   ]
  },
  {
   "cell_type": "code",
   "execution_count": null,
   "metadata": {},
   "outputs": [],
   "source": [
    "# url 에 접근 \n",
    "driver.get('https://movie.naver.com/movie/sdb/rank/rmovie.nhn?sel=cur&date=20190731')"
   ]
  },
  {
   "cell_type": "markdown",
   "metadata": {},
   "source": [
    "#### 순위 리스트 생성 \n",
    "\n",
    "- 리스트변수 = driver.find_elements_by_css_selector(타겟셀렉터)"
   ]
  },
  {
   "cell_type": "code",
   "execution_count": null,
   "metadata": {},
   "outputs": [],
   "source": [
    "# 순위에 관련된 css 셀렉터 \n",
    "#old_content > table > tbody > tr:nth-child(2) > td.title > div > a"
   ]
  },
  {
   "cell_type": "code",
   "execution_count": null,
   "metadata": {},
   "outputs": [],
   "source": [
    "target = '#old_content > table > tbody > tr > td.title > div > a'\n",
    "\n",
    "result = driver.find_elements_by_css_selector(target)\n",
    "len(result)"
   ]
  },
  {
   "cell_type": "code",
   "execution_count": null,
   "metadata": {},
   "outputs": [],
   "source": [
    "# result"
   ]
  },
  {
   "cell_type": "code",
   "execution_count": null,
   "metadata": {},
   "outputs": [],
   "source": [
    "type(result)"
   ]
  },
  {
   "cell_type": "markdown",
   "metadata": {},
   "source": [
    "#### 10위까지만 출력"
   ]
  },
  {
   "cell_type": "code",
   "execution_count": null,
   "metadata": {
    "scrolled": true
   },
   "outputs": [],
   "source": [
    "for i in range(10):\n",
    "    print(result[i].text)"
   ]
  },
  {
   "cell_type": "code",
   "execution_count": null,
   "metadata": {},
   "outputs": [],
   "source": [
    "for i in result:\n",
    "    print(i.text)"
   ]
  },
  {
   "cell_type": "markdown",
   "metadata": {},
   "source": [
    "### 네이버영화 티켓예매순 랭킹을 출력하여라 "
   ]
  },
  {
   "cell_type": "code",
   "execution_count": null,
   "metadata": {},
   "outputs": [],
   "source": [
    "'''\n",
    "<li class=\"ranking01\"><a href=\"/movie/bi/mi/basic.nhn?code=181925\" onclick=\"clickcr(this,'tck.list','181925','1',event);\" class=\"b\" title=\"클로젯\"><span class=\"blind\">1위</span>클로젯</a><span class=\"ratio check\">30.73%</span></li>\n",
    "'''"
   ]
  },
  {
   "cell_type": "code",
   "execution_count": null,
   "metadata": {},
   "outputs": [],
   "source": [
    "# url 에 접근 \n",
    "driver.get('https://movie.naver.com/movie/sdb/rank/rmovie.nhn?sel=cur&date=20190731')"
   ]
  },
  {
   "cell_type": "code",
   "execution_count": null,
   "metadata": {},
   "outputs": [],
   "source": [
    "target = '#reserveRanking0 > ul > li > a'\n",
    "result = driver.find_elements_by_css_selector(target)\n",
    "len(result)"
   ]
  },
  {
   "cell_type": "code",
   "execution_count": null,
   "metadata": {
    "scrolled": false
   },
   "outputs": [],
   "source": [
    "for i in range(0, len(result)):\n",
    "    print(f'{i+1}위 => {result[i].text}')"
   ]
  },
  {
   "cell_type": "code",
   "execution_count": null,
   "metadata": {},
   "outputs": [],
   "source": []
  },
  {
   "cell_type": "markdown",
   "metadata": {},
   "source": [
    "## Naver 영화 보헤미안랩소드 평점/리뷰\n",
    "\n",
    "> https://movie.naver.com/movie/bi/mi/point.nhn?code=156464&onlyActualPointYn=Y#pointAfterTab"
   ]
  },
  {
   "cell_type": "code",
   "execution_count": null,
   "metadata": {},
   "outputs": [],
   "source": [
    "#  chromedriver의 경로 지정\n",
    "driver = webdriver.Chrome('driver/chromedriver')\n",
    "# 웹 자원 로드를 위한 시간 설정\n",
    "driver.implicitly_wait(3) \n",
    "# url 에 접근 \n",
    "driver.get('https://movie.naver.com/movie/bi/mi/point.nhn?code=156464&onlyActualPointYn=Y#pointAfterTab')"
   ]
  },
  {
   "cell_type": "code",
   "execution_count": null,
   "metadata": {},
   "outputs": [],
   "source": [
    "# #netizen_point_tab_inner > em.num9\n",
    "\n",
    "target = '#netizen_point_tab_inner > em'\n",
    "result = driver.find_elements_by_css_selector(target)\n",
    "result"
   ]
  },
  {
   "cell_type": "code",
   "execution_count": null,
   "metadata": {},
   "outputs": [],
   "source": [
    "for i in result:\n",
    "    print(i.text, end='')"
   ]
  },
  {
   "cell_type": "code",
   "execution_count": null,
   "metadata": {},
   "outputs": [],
   "source": []
  },
  {
   "cell_type": "markdown",
   "metadata": {},
   "source": [
    "# 리뷰 - 페이지한개"
   ]
  },
  {
   "cell_type": "code",
   "execution_count": null,
   "metadata": {},
   "outputs": [],
   "source": [
    "#  chromedriver의 경로 지정\n",
    "driver = webdriver.Chrome('driver/chromedriver')\n",
    "# 웹 자원 로드를 위한 시간 설정\n",
    "driver.implicitly_wait(3) \n",
    "# url 에 접근 \n",
    "# driver.get('https://movie.naver.com/movie/bi/mi/basic.nhn?code=156464')\n",
    "driver.get('https://movie.naver.com/movie/bi/mi/review.nhn?code=156464#reviewTab')\n",
    "\n"
   ]
  },
  {
   "cell_type": "code",
   "execution_count": null,
   "metadata": {},
   "outputs": [],
   "source": [
    "#reviewTab > div > div > ul > li:nth-child(1) > p\n",
    "        \n",
    "# target = '#reviewTab > div > div > ul > li:nth-child(1) > p'\n",
    "target = '#reviewTab > div > div > ul > li > p'\n",
    "\n",
    "result = driver.find_elements_by_css_selector(target)\n",
    "result"
   ]
  },
  {
   "cell_type": "code",
   "execution_count": null,
   "metadata": {
    "scrolled": true
   },
   "outputs": [],
   "source": [
    "for i in result:\n",
    "    print(i.text)"
   ]
  },
  {
   "cell_type": "code",
   "execution_count": null,
   "metadata": {},
   "outputs": [],
   "source": []
  },
  {
   "cell_type": "markdown",
   "metadata": {},
   "source": [
    "## 여러페이지 크롤링을 위한 주소 체계 이해하기 \n",
    "\n",
    "- https://movie.naver.com/movie/bi/mi/review.nhn?code=156464&page=2"
   ]
  },
  {
   "cell_type": "code",
   "execution_count": null,
   "metadata": {},
   "outputs": [],
   "source": [
    "#  chromedriver의 경로 지정\n",
    "driver = webdriver.Chrome('driver/chromedriver')\n",
    "# 웹 자원 로드를 위한 시간 설정\n",
    "driver.implicitly_wait(3) \n"
   ]
  },
  {
   "cell_type": "code",
   "execution_count": null,
   "metadata": {},
   "outputs": [],
   "source": [
    "# #pagerTagAnchor2\n",
    "result_list=[]\n",
    "for i in range(1,11):\n",
    "    print(i)\n",
    "    driver.get('https://movie.naver.com/movie/bi/mi/review.nhn?code=156464&page='+str(i))\n",
    "    \n",
    "    target = '#reviewTab > div > div > ul > li > p > a'\n",
    "    result = driver.find_elements_by_css_selector(target)\n",
    "    for j in result:\n",
    "        result_list.append(j.text)"
   ]
  },
  {
   "cell_type": "code",
   "execution_count": null,
   "metadata": {},
   "outputs": [],
   "source": [
    "print(result_list)"
   ]
  },
  {
   "cell_type": "code",
   "execution_count": null,
   "metadata": {},
   "outputs": [],
   "source": [
    "for i in range(len(result_list)):\n",
    "    print(i+1, \" : \", result_list[i])"
   ]
  },
  {
   "cell_type": "code",
   "execution_count": null,
   "metadata": {},
   "outputs": [],
   "source": []
  },
  {
   "cell_type": "code",
   "execution_count": null,
   "metadata": {},
   "outputs": [],
   "source": []
  },
  {
   "cell_type": "code",
   "execution_count": null,
   "metadata": {},
   "outputs": [],
   "source": []
  }
 ],
 "metadata": {
  "kernelspec": {
   "display_name": "Python 3",
   "language": "python",
   "name": "python3"
  },
  "language_info": {
   "codemirror_mode": {
    "name": "ipython",
    "version": 3
   },
   "file_extension": ".py",
   "mimetype": "text/x-python",
   "name": "python",
   "nbconvert_exporter": "python",
   "pygments_lexer": "ipython3",
   "version": "3.7.4"
  }
 },
 "nbformat": 4,
 "nbformat_minor": 1
}
