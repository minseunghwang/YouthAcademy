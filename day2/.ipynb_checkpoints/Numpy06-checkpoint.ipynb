{
 "cells": [
  {
   "cell_type": "markdown",
   "metadata": {},
   "source": [
    "# Numpy06\n",
    "- 정렬\n",
    "- 중복값 제거\n",
    "- 단위행열\n",
    "- All& Any\n",
    "- Boolean Index\n"
   ]
  },
  {
   "cell_type": "code",
   "execution_count": 2,
   "metadata": {},
   "outputs": [],
   "source": [
    "import numpy as np"
   ]
  },
  {
   "cell_type": "markdown",
   "metadata": {},
   "source": [
    "## 배열의 정렬\n",
    "- np.sort(배열1차) / 배열명.sort() : 오름차순\n",
    "- np.sort(배열1차)[::-1] : 내림차순\n",
    "- np.sort(배열2차, axis=0/1)"
   ]
  },
  {
   "cell_type": "code",
   "execution_count": 5,
   "metadata": {
    "scrolled": false
   },
   "outputs": [
    {
     "name": "stdout",
     "output_type": "stream",
     "text": [
      "[ 1.00251736  0.70185659  1.39852449  0.35965014  0.06968815 -0.01915922\n",
      " -0.13994869  0.07420553 -1.9326974   0.85473764]\n",
      "[ 1.00251736  0.70185659  1.39852449  0.35965014  0.06968815 -0.01915922\n",
      " -0.13994869  0.07420553 -1.9326974   0.85473764]\n"
     ]
    },
    {
     "data": {
      "text/plain": [
       "array([ 1.39852449,  1.00251736,  0.85473764,  0.70185659,  0.35965014,\n",
       "        0.07420553,  0.06968815, -0.01915922, -0.13994869, -1.9326974 ])"
      ]
     },
     "execution_count": 5,
     "metadata": {},
     "output_type": "execute_result"
    }
   ],
   "source": [
    "arr1 = np.random.randn(10)\n",
    "print(arr1)\n",
    "np.sort(arr1) # 정렬화 \n",
    "print(arr1)\n",
    "np.sort(arr1)[::-1]"
   ]
  },
  {
   "cell_type": "code",
   "execution_count": null,
   "metadata": {},
   "outputs": [],
   "source": [
    "# 2차원 넘파이 배열 \n",
    "arr2 = np.random.randn(10)\n",
    "arr2 = arr2.reshape(5,2)\n",
    "print(arr2)\n",
    "\n",
    "# 컬럼단위로 정렬 \n",
    "np.sort(arr2, axis=0)\n",
    "print(np.sort(arr2, axis=0))\n",
    "np.sort(arr2, axis=0)[::-1]\n",
    "print(np.sort(arr2, axis=0)[::-1])\n",
    "\n",
    "# 행단위로 정렬 \n",
    "np.sort(arr2, axis=1)\n",
    "print(np.sort(arr2, axis=1))"
   ]
  },
  {
   "cell_type": "markdown",
   "metadata": {},
   "source": [
    "## 중복값 제거\n",
    "- np.unique(배열명)"
   ]
  },
  {
   "cell_type": "code",
   "execution_count": 7,
   "metadata": {},
   "outputs": [
    {
     "name": "stdout",
     "output_type": "stream",
     "text": [
      "['순희' '영희' '철수' '순희' '영희' '영희']\n"
     ]
    },
    {
     "data": {
      "text/plain": [
       "array(['순희', '영희', '철수'], dtype='<U2')"
      ]
     },
     "execution_count": 7,
     "metadata": {},
     "output_type": "execute_result"
    }
   ],
   "source": [
    "npNameArr =np.array( ['순희', '영희', '철수',\n",
    "             '순희','영희', '영희' ])\n",
    "print(npNameArr)\n",
    "np.unique(npNameArr)"
   ]
  },
  {
   "cell_type": "markdown",
   "metadata": {},
   "source": [
    "## 단위행열\n",
    "- 대각선의 원소가 1, 나머지는 모두 0\n",
    "- np.identity(1의갯수=대각선수) => float64\n",
    "- np.identity(n=1의갯수, dtype=int) => int"
   ]
  },
  {
   "cell_type": "code",
   "execution_count": 12,
   "metadata": {},
   "outputs": [
    {
     "name": "stdout",
     "output_type": "stream",
     "text": [
      "float64\n",
      "[[1. 0. 0. 0. 0.]\n",
      " [0. 1. 0. 0. 0.]\n",
      " [0. 0. 1. 0. 0.]\n",
      " [0. 0. 0. 1. 0.]\n",
      " [0. 0. 0. 0. 1.]]\n",
      "------------------\n",
      "int32\n",
      "[[1 0 0 0]\n",
      " [0 1 0 0]\n",
      " [0 0 1 0]\n",
      " [0 0 0 1]]\n"
     ]
    }
   ],
   "source": [
    "npIden1 = np.identity(5)\n",
    "npIden1.dtype\n",
    "print(npIden1.dtype)\n",
    "print(npIden1)\n",
    "print(\"------------------\")\n",
    "npIden2 = np.identity(n=4, dtype=int)\n",
    "npIden2.dtype\n",
    "print(npIden2.dtype)\n",
    "print(npIden2)"
   ]
  },
  {
   "cell_type": "markdown",
   "metadata": {},
   "source": [
    "## 조건에 따라 True/False\n",
    "\n",
    "###  조건식/all/any\n",
    "- 넘파이배열을 이용한 조건식 => True/False 배열수만큼 리턴\n",
    "- all(조건식) => 모든 값이 조건식에 만족 => True (And)\n",
    "- any(조건식) => 값 중 하나만 만족 => True (Or)\n",
    "\n",
    "### 비교연산\n",
    "- 넘파이 배열간의 갯수(size)가 같아야한다.\n",
    "- 배열1 비교연산자 배열2  \n",
    ", <, ==\n",
    "\n",
    "- 배열 각각의 요소 비교\n",
    "\n",
    "### np.where()\n",
    "- np.where(조건식, True, False)"
   ]
  },
  {
   "cell_type": "code",
   "execution_count": 23,
   "metadata": {},
   "outputs": [
    {
     "name": "stdout",
     "output_type": "stream",
     "text": [
      "[ 1  2  3  4  5  6  7  8  9 10] \n",
      "\n",
      "[False False False False False  True  True  True  True  True] \n",
      "\n",
      "True \n",
      "\n",
      "False \n",
      "\n",
      "False \n",
      "\n",
      "True \n",
      "\n",
      "[False False  True] \n",
      "\n",
      "[ True False False] \n",
      "\n",
      "[False  True False] \n",
      "\n",
      "[ 1 10  5] \n",
      "\n",
      "[False  True False] \n",
      "\n",
      "[False  True False] \n",
      "\n"
     ]
    },
    {
     "data": {
      "text/plain": [
       "array(['거짓이다', '참이다', '거짓이다'], dtype='<U4')"
      ]
     },
     "execution_count": 23,
     "metadata": {},
     "output_type": "execute_result"
    }
   ],
   "source": [
    "arr1 = np.arange(1,11)\n",
    "print(arr1,'\\n')\n",
    "\n",
    "# 조건식 적용 \n",
    "arr1>5\n",
    "print(arr1>5,'\\n')\n",
    "np.any(arr1>5) \n",
    "print(np.any(arr1>5),'\\n')\n",
    "print(np.any(arr1<0),'\\n')\n",
    "print(np.all(arr1>5),'\\n')\n",
    "print(np.all(arr1>0),'\\n')\n",
    "\n",
    "arrA = np.array([1, 10, 5])\n",
    "arrB = np.array([5, 10, 1])\n",
    "print(arrA > arrB,'\\n')\n",
    "print(arrA < arrB,'\\n')\n",
    "print(arrA == arrB,'\\n')\n",
    "print(arrA,'\\n')\n",
    "print(arrA > 9,'\\n')\n",
    "print(np.where(arrA>9, True, False),'\\n')\n",
    "np.where(arrA>9, '참이다', '거짓이다')"
   ]
  },
  {
   "cell_type": "code",
   "execution_count": 29,
   "metadata": {
    "scrolled": true
   },
   "outputs": [
    {
     "name": "stdout",
     "output_type": "stream",
     "text": [
      "[ 0 10  5  0]\n"
     ]
    },
    {
     "data": {
      "text/plain": [
       "array(['0이다', '20', '10', '0이다'], dtype='<U11')"
      ]
     },
     "execution_count": 29,
     "metadata": {},
     "output_type": "execute_result"
    }
   ],
   "source": [
    "##### a 값이 0이면 0, 그렇지 않다면 곱하기 2\n",
    "arrC = np.array([0, 10, 5, 0])\n",
    "print(arrC)\n",
    "np.where(arrC==0, '0이다', arrC*2)"
   ]
  },
  {
   "cell_type": "code",
   "execution_count": 32,
   "metadata": {},
   "outputs": [
    {
     "name": "stdout",
     "output_type": "stream",
     "text": [
      "[ 0 20 10  0]\n"
     ]
    },
    {
     "data": {
      "text/plain": [
       "dtype('int32')"
      ]
     },
     "execution_count": 32,
     "metadata": {},
     "output_type": "execute_result"
    }
   ],
   "source": [
    "result1 = np.where(arrC==0, 0, arrC*2)\n",
    "print(result1)\n",
    "\n",
    "result1.dtype"
   ]
  },
  {
   "cell_type": "markdown",
   "metadata": {},
   "source": [
    "### 배열안에 Null 값 표시\n",
    "- 넘파이배열에서 Null 값은? np.NaN\n",
    "- np.isnan(배열명)\n",
    "- Null 값이면 True 아니면 False"
   ]
  },
  {
   "cell_type": "code",
   "execution_count": 36,
   "metadata": {},
   "outputs": [
    {
     "name": "stdout",
     "output_type": "stream",
     "text": [
      "[nan  5. nan  0. -1.]\n"
     ]
    },
    {
     "data": {
      "text/plain": [
       "array([ True, False,  True, False, False])"
      ]
     },
     "execution_count": 36,
     "metadata": {},
     "output_type": "execute_result"
    }
   ],
   "source": [
    "arrD = np.array([np.NaN, 5, np.NaN, 0, -1])\n",
    "print(arrD)\n",
    "np.isnan(arrD)"
   ]
  },
  {
   "cell_type": "markdown",
   "metadata": {},
   "source": [
    "### 넘파이배열의 Boolean Indexing\n",
    "\n",
    "- 넘파이배열에서 조건식에 맞는 값만 추출할 때 이용 \n",
    "- True/False \n",
    "- 넘파이배열명[조건식]"
   ]
  },
  {
   "cell_type": "code",
   "execution_count": 38,
   "metadata": {},
   "outputs": [
    {
     "name": "stdout",
     "output_type": "stream",
     "text": [
      "['사과' '배' '배' '사과' '사과' '귤' '수박']\n"
     ]
    },
    {
     "data": {
      "text/plain": [
       "array([ True, False, False,  True,  True, False, False])"
      ]
     },
     "execution_count": 38,
     "metadata": {},
     "output_type": "execute_result"
    }
   ],
   "source": [
    "# size=7 (중복값)\n",
    "fruitArr = np.array(['사과','배','배',\n",
    "                     '사과','사과', '귤', '수박'])\n",
    "print(fruitArr)\n",
    "\n",
    "# 조건식 == 값 스타일로 적용 \n",
    "fruitArr == '사과'"
   ]
  },
  {
   "cell_type": "code",
   "execution_count": 41,
   "metadata": {},
   "outputs": [
    {
     "name": "stdout",
     "output_type": "stream",
     "text": [
      "[[ 2.23974284 -1.14151049 -1.62810648  1.89276671 -0.06989205]\n",
      " [ 0.0383742   0.26469096 -1.72388456  0.58391584  1.59642772]\n",
      " [ 0.52389408  0.7533661  -0.27842711  1.14277774 -0.13901497]\n",
      " [ 1.79118713  0.60351713 -1.28039346  2.19780179 -0.33275057]\n",
      " [-0.83262112 -1.57283562  1.28352123 -0.15058501  1.54513616]\n",
      " [ 1.23829016 -0.04946257 -2.35439194 -0.5012854   1.41352098]\n",
      " [-1.34801559  0.57961141  0.02549893  0.46789331  0.64922931]]\n",
      "\n",
      "[[ 2.23974284 -1.14151049 -1.62810648  1.89276671 -0.06989205]\n",
      " [ 0.0383742   0.26469096 -1.72388456  0.58391584  1.59642772]\n",
      " [ 0.52389408  0.7533661  -0.27842711  1.14277774 -0.13901497]\n",
      " [ 1.79118713  0.60351713 -1.28039346  2.19780179 -0.33275057]\n",
      " [-0.83262112 -1.57283562  1.28352123 -0.15058501  1.54513616]\n",
      " [ 1.23829016 -0.04946257 -2.35439194 -0.5012854   1.41352098]\n",
      " [-1.34801559  0.57961141  0.02549893  0.46789331  0.64922931]]\n",
      "\n",
      "[[ 2.23974284 -1.14151049 -1.62810648  1.89276671 -0.06989205]\n",
      " [ 1.79118713  0.60351713 -1.28039346  2.19780179 -0.33275057]\n",
      " [-0.83262112 -1.57283562  1.28352123 -0.15058501  1.54513616]]\n",
      "\n",
      "[[-1.34801559  0.57961141  0.02549893  0.46789331  0.64922931]]\n"
     ]
    }
   ],
   "source": [
    "# 난수값을 이용하여 배열 생성 \n",
    "numArr = np.random.randn(7,5)\n",
    "print(numArr)\n",
    "print()\n",
    "# numArr 넘파이배열에 \n",
    "# (fruitArr == '사과') 불링인덱싱 적용하기 \n",
    "result2 = numArr[fruitArr == '사과']\n",
    "print(numArr)\n",
    "print()\n",
    "# fruitArr == '사과' True 인 인덱싱이 행으로 적용\n",
    "# result2 1/4/5 행만 표시 \n",
    "print(result2)\n",
    "print()\n",
    "result3 = numArr[fruitArr == '수박']\n",
    "print(result3)"
   ]
  },
  {
   "cell_type": "markdown",
   "metadata": {},
   "source": [
    "## 조건식이 참인 값의 갯수 구하기\n",
    "- np.sum(배열명)\n",
    "- (조건식).sum()"
   ]
  },
  {
   "cell_type": "code",
   "execution_count": 44,
   "metadata": {},
   "outputs": [
    {
     "name": "stdout",
     "output_type": "stream",
     "text": [
      "[ 6  3  7 10  6  1  7 10  3  8]\n",
      "\n",
      "61\n",
      "\n",
      "[False False False  True False False False  True False  True]\n",
      "\n"
     ]
    },
    {
     "data": {
      "text/plain": [
       "3"
      ]
     },
     "execution_count": 44,
     "metadata": {},
     "output_type": "execute_result"
    }
   ],
   "source": [
    "# 10개 난수정수\n",
    "arrE = np.random.randint(1,11,10)\n",
    "print(arrE )\n",
    "print()\n",
    "\n",
    "# 배열의 총합 \n",
    "np.sum(arrE)\n",
    "print(np.sum(arrE))\n",
    "print()\n",
    "\n",
    "# 조건식 적용 \n",
    "arrE>7\n",
    "print(arrE>7)\n",
    "print()\n",
    "\n",
    "# 조건식에 만족하는 총 합?\n",
    "(arrE>7).sum()"
   ]
  },
  {
   "cell_type": "markdown",
   "metadata": {},
   "source": [
    "## 퀴즈  \n",
    "    1) 50개의 정수난수로 된 넘파이 배열 생성 \n",
    "    2) 역순 소팅 (가장 큰값이 가장 먼저나온다) \n",
    "    3) 전체길이를 구한 후 상위 5%에 해당하는 값만 표시"
   ]
  },
  {
   "cell_type": "code",
   "execution_count": 46,
   "metadata": {},
   "outputs": [
    {
     "name": "stdout",
     "output_type": "stream",
     "text": [
      "[ 31  50   5  98  75  66  77  88 100  80   8  79   9  78  55  70  72  11\n",
      "  75  95  28   4  61  81  29  40  31  52   7  30  23  69  65  22   1   5\n",
      "  43  23  11  85   2  34  85  23  16   9  77  78  16  69]\n",
      "50\n",
      "38\n"
     ]
    }
   ],
   "source": [
    "# 1) 50개의 정수난수로 된 넘파이 배열 생성 (0~100사이 숫자)\n",
    "matrix_50 = np.random.randint(0,101,50)\n",
    "print(matrix_50)\n",
    "print(len(matrix_50))\n",
    "print(len(np.unique(matrix_50)))"
   ]
  },
  {
   "cell_type": "code",
   "execution_count": 47,
   "metadata": {},
   "outputs": [
    {
     "name": "stdout",
     "output_type": "stream",
     "text": [
      "[  2  87  84  78  92  25  41  39  62  58  24  56  77  95  83  47  35  14\n",
      "  46  10  72  63  20  15  71  40  16  91  57  75  32  51  18  86   9   1\n",
      "  68  81  53  12  80  66  82  54  22  59  79  98 100  31]\n",
      "50\n",
      "50\n"
     ]
    }
   ],
   "source": [
    "matrix_50 = np.random.choice(101, size=50, replace=False)\n",
    "print(matrix_50)\n",
    "print(len(np.unique(matrix_50)))\n",
    "print(len(np.unique(matrix_50)))"
   ]
  },
  {
   "cell_type": "code",
   "execution_count": 48,
   "metadata": {},
   "outputs": [
    {
     "data": {
      "text/plain": [
       "array([100,  98,  95,  92,  91,  87,  86,  84,  83,  82,  81,  80,  79,\n",
       "        78,  77,  75,  72,  71,  68,  66,  63,  62,  59,  58,  57,  56,\n",
       "        54,  53,  51,  47,  46,  41,  40,  39,  35,  32,  31,  25,  24,\n",
       "        22,  20,  18,  16,  15,  14,  12,  10,   9,   2,   1])"
      ]
     },
     "execution_count": 48,
     "metadata": {},
     "output_type": "execute_result"
    }
   ],
   "source": [
    "# 2) 역순 소팅 (가장 큰값이 가장 먼저나온다) \n",
    "matrix_50 = np.sort(matrix_50)[::-1]\n",
    "matrix_50"
   ]
  },
  {
   "cell_type": "code",
   "execution_count": 50,
   "metadata": {
    "scrolled": true
   },
   "outputs": [
    {
     "name": "stdout",
     "output_type": "stream",
     "text": [
      "2\n"
     ]
    },
    {
     "data": {
      "text/plain": [
       "array([100,  98])"
      ]
     },
     "execution_count": 50,
     "metadata": {},
     "output_type": "execute_result"
    }
   ],
   "source": [
    "# 3) 상위 5%에 해당하는 값만 표시 \n",
    "n = int(0.05*len(matrix_50))\n",
    "print(n)\n",
    "matrix_50[0:n]"
   ]
  },
  {
   "cell_type": "markdown",
   "metadata": {},
   "source": [
    "## 외부파일 불러오기\n",
    "    배열명변수 = np.loadtxt('파일경로', \n",
    "                        delimiter='구분자',\n",
    "                        dtype=데이타형)\n",
    "    http://naver.me/5yraKmr1\n",
    "    0122\n",
    "    data/ratings.dat 다운로드후 작업폴더안에 data 폴더에 준비"
   ]
  },
  {
   "cell_type": "code",
   "execution_count": 59,
   "metadata": {},
   "outputs": [],
   "source": [
    "data = np.loadtxt('data/ratings.dat', \n",
    "                  delimiter='::', \n",
    "                  dtype=np.int32)"
   ]
  },
  {
   "cell_type": "code",
   "execution_count": 60,
   "metadata": {},
   "outputs": [
    {
     "data": {
      "text/plain": [
       "array([[        1,      1193,         5, 978300760],\n",
       "       [        1,       661,         3, 978302109],\n",
       "       [        1,       914,         3, 978301968],\n",
       "       [        1,      3408,         4, 978300275],\n",
       "       [        1,      2355,         5, 978824291]])"
      ]
     },
     "execution_count": 60,
     "metadata": {},
     "output_type": "execute_result"
    }
   ],
   "source": [
    "# 5개만 표시하기 \n",
    "data[:5]"
   ]
  },
  {
   "cell_type": "code",
   "execution_count": 61,
   "metadata": {},
   "outputs": [
    {
     "data": {
      "text/plain": [
       "(1000209, 4)"
      ]
     },
     "execution_count": 61,
     "metadata": {},
     "output_type": "execute_result"
    }
   ],
   "source": [
    "data.shape"
   ]
  },
  {
   "cell_type": "code",
   "execution_count": 62,
   "metadata": {},
   "outputs": [
    {
     "data": {
      "text/plain": [
       "4000836"
      ]
     },
     "execution_count": 62,
     "metadata": {},
     "output_type": "execute_result"
    }
   ],
   "source": [
    "# 총 데이타갯수\n",
    "data.size"
   ]
  },
  {
   "cell_type": "code",
   "execution_count": 63,
   "metadata": {},
   "outputs": [
    {
     "data": {
      "text/plain": [
       "array([5, 3, 3, ..., 5, 4, 4])"
      ]
     },
     "execution_count": 63,
     "metadata": {},
     "output_type": "execute_result"
    }
   ],
   "source": [
    "# 3컬럼만 데이타 표시 \n",
    "data[:, 2]"
   ]
  },
  {
   "cell_type": "code",
   "execution_count": 64,
   "metadata": {},
   "outputs": [
    {
     "data": {
      "text/plain": [
       "3.581564453029317"
      ]
     },
     "execution_count": 64,
     "metadata": {},
     "output_type": "execute_result"
    }
   ],
   "source": [
    "# 평점의 평균 (3번컬럼)\n",
    "result = np.mean(data[:, 2])\n",
    "result "
   ]
  },
  {
   "cell_type": "code",
   "execution_count": 65,
   "metadata": {},
   "outputs": [
    {
     "data": {
      "text/plain": [
       "3.581564453029317"
      ]
     },
     "execution_count": 65,
     "metadata": {},
     "output_type": "execute_result"
    }
   ],
   "source": [
    "data[:, 2].mean()"
   ]
  },
  {
   "cell_type": "markdown",
   "metadata": {},
   "source": [
    "### 파일로 저장하기\n",
    "``` np.savetxt('파일경로', '데이터 변수명')\n",
    "```\n"
   ]
  },
  {
   "cell_type": "code",
   "execution_count": null,
   "metadata": {},
   "outputs": [],
   "source": [
    "data2 = np.loadtxt('data/ratings.dat', \n",
    "                  delimiter='::', \n",
    "                  dtype=np.int32)"
   ]
  },
  {
   "cell_type": "code",
   "execution_count": 2,
   "metadata": {},
   "outputs": [
    {
     "data": {
      "text/plain": [
       "'C:\\\\dataScience\\\\day2'"
      ]
     },
     "execution_count": 2,
     "metadata": {},
     "output_type": "execute_result"
    }
   ],
   "source": [
    "# 현재 작업폴더 경로 확인\n",
    "import os\n",
    "os.getcwd()"
   ]
  },
  {
   "cell_type": "code",
   "execution_count": 3,
   "metadata": {},
   "outputs": [],
   "source": [
    "import numpy as np\n",
    "data = np.loadtxt('data/ratings.dat', delimiter='::',dtype=np.int32)"
   ]
  },
  {
   "cell_type": "markdown",
   "metadata": {},
   "source": [
    "#### 데이터 형태\n",
    "```\n",
    "ratings.dat =>  무비렌즈의 영화평점 데이터\n",
    "( userid / movieid / ratings / timstamp )\n",
    "```"
   ]
  },
  {
   "cell_type": "code",
   "execution_count": 5,
   "metadata": {},
   "outputs": [
    {
     "name": "stdout",
     "output_type": "stream",
     "text": [
      "(1000209, 4)\n",
      "4000836\n"
     ]
    }
   ],
   "source": [
    "print(data.shape)\n",
    "\n",
    "# 데이터 크키\n",
    "print(data.size)"
   ]
  },
  {
   "cell_type": "code",
   "execution_count": 6,
   "metadata": {},
   "outputs": [
    {
     "data": {
      "text/plain": [
       "3.581564453029317"
      ]
     },
     "execution_count": 6,
     "metadata": {},
     "output_type": "execute_result"
    }
   ],
   "source": [
    "result = np.mean(data[:,2])\n",
    "result"
   ]
  },
  {
   "cell_type": "code",
   "execution_count": null,
   "metadata": {},
   "outputs": [],
   "source": [
    "# 순서대로 50개만 가져와서 .txt파일로 저장하기\n",
    "result = data[:50]\n",
    "np.savetxt('data/resultRatings.txt',\n",
    "           result,\n",
    "           delimiter=',',\n",
    "           fmt = '%.3f')"
   ]
  },
  {
   "cell_type": "code",
   "execution_count": null,
   "metadata": {},
   "outputs": [],
   "source": [
    "# .csv 형태로 저장하기!\n",
    "# fmt 는 format, delimiter는 구분자\n",
    "np.savetxt('data/resultRatings.csv',\n",
    "           result,\n",
    "           fmt='%.3f',\n",
    "           delimiter=',')"
   ]
  }
 ],
 "metadata": {
  "kernelspec": {
   "display_name": "Python 3",
   "language": "python",
   "name": "python3"
  },
  "language_info": {
   "codemirror_mode": {
    "name": "ipython",
    "version": 3
   },
   "file_extension": ".py",
   "mimetype": "text/x-python",
   "name": "python",
   "nbconvert_exporter": "python",
   "pygments_lexer": "ipython3",
   "version": "3.7.4"
  }
 },
 "nbformat": 4,
 "nbformat_minor": 2
}
