{
 "cells": [
  {
   "cell_type": "markdown",
   "metadata": {},
   "source": [
    "# Pandas01\n",
    "## Pandas란?\n",
    "- 데이터 분석계의 엑셀\n",
    "- 데이터 처리와 분석을 위한 파이썬 라이브러리"
   ]
  },
  {
   "cell_type": "code",
   "execution_count": 8,
   "metadata": {},
   "outputs": [],
   "source": [
    "# 모듈 임포트(numpy as np, pandas as pd)\n",
    "import numpy as np\n",
    "import pandas as pd"
   ]
  },
  {
   "cell_type": "code",
   "execution_count": 9,
   "metadata": {},
   "outputs": [
    {
     "name": "stdout",
     "output_type": "stream",
     "text": [
      "1.16.5\n",
      "0.25.1\n"
     ]
    }
   ],
   "source": [
    "print(np.__version__)\n",
    "print(pd.__version__)"
   ]
  },
  {
   "cell_type": "markdown",
   "metadata": {},
   "source": [
    "## Pandas의 자료형태\n",
    "\n",
    "- 시리즈 <= 리스트 + 딕셔너리\n",
    "- 데이터 프레임 <= 시리즈의 집합, 엑셀 자료구조, 컬럼과 셀로 구성"
   ]
  },
  {
   "cell_type": "markdown",
   "metadata": {},
   "source": [
    "##  시리즈 생성\n",
    "\n",
    "- 1차원 집합형 자료구조\n",
    "- 리스트, 딕셔너리와의 차이점은? key가 존재하고, 세로로 출력\n",
    "- 시리즈 변수명 = pd.Series(리스트)\n",
    "- 시리즈 변수명 = pd.Series(딕셔너리)\n",
    "- 시리즈 변수명 = pd.Series(numpy배열)"
   ]
  },
  {
   "cell_type": "code",
   "execution_count": 33,
   "metadata": {},
   "outputs": [
    {
     "name": "stdout",
     "output_type": "stream",
     "text": [
      "[1, 100, 5, -90, 200] <class 'list'>\n",
      "0      1\n",
      "1    100\n",
      "2      5\n",
      "3    -90\n",
      "4    200\n",
      "dtype: int64 <class 'pandas.core.series.Series'>\n",
      "1 0      1\n",
      "1    100\n",
      "2      5\n",
      "3    -90\n",
      "4    200\n",
      "dtype: int64\n"
     ]
    }
   ],
   "source": [
    "# 리스트 => 판다스의 시리즈\n",
    "list1 = [1, 100, 5, -90, 200]\n",
    "print(list1, type(list1))\n",
    "s1 = pd.Series(list1)\n",
    "print(s1, type(s1))"
   ]
  },
  {
   "cell_type": "code",
   "execution_count": 36,
   "metadata": {},
   "outputs": [
    {
     "name": "stdout",
     "output_type": "stream",
     "text": [
      "0    삼\n",
      "1    천\n",
      "2    세\n",
      "3    계\n",
      "dtype: object\n",
      "<class 'pandas.core.series.Series'>\n"
     ]
    }
   ],
   "source": [
    "# 문자열 리스트\n",
    "# pd.Series([값1, 값2...])\n",
    "s2 = pd.Series(['삼','천','세','계'])\n",
    "print(s2)\n",
    "print(type(s2))"
   ]
  },
  {
   "cell_type": "code",
   "execution_count": 57,
   "metadata": {},
   "outputs": [
    {
     "name": "stdout",
     "output_type": "stream",
     "text": [
      "{'a': 'syukman', 'b': 'j1hoon', 'c': 'umm'} <class 'dict'>\n",
      "--------------------------------------------------\n",
      "a    syukman\n",
      "b     j1hoon\n",
      "c        umm\n",
      "dtype: object <class 'pandas.core.series.Series'>\n"
     ]
    },
    {
     "data": {
      "text/plain": [
       "'syukman'"
      ]
     },
     "execution_count": 57,
     "metadata": {},
     "output_type": "execute_result"
    }
   ],
   "source": [
    "# 딕셔너리 => 판다스의 시리즈\n",
    "dict1 = {'a':'syukman', 'b':'j1hoon', 'c':'umm'}\n",
    "print(dict1, type(dict1))\n",
    "print('-'*50)\n",
    "s3 = pd.Series(dict1)\n",
    "print(s3,type(s3))\n",
    "s3['a']"
   ]
  },
  {
   "cell_type": "code",
   "execution_count": 56,
   "metadata": {},
   "outputs": [
    {
     "name": "stdout",
     "output_type": "stream",
     "text": [
      "[10 11 12 13 14 15 16 17 18 19] <class 'numpy.ndarray'>\n",
      "--------------------------------------------------\n",
      "0    10\n",
      "1    11\n",
      "2    12\n",
      "3    13\n",
      "4    14\n",
      "5    15\n",
      "6    16\n",
      "7    17\n",
      "8    18\n",
      "9    19\n",
      "dtype: int32 <class 'pandas.core.series.Series'>\n"
     ]
    }
   ],
   "source": [
    "# 넘파이 배열 => 판다스의 시리즈\n",
    "np1 = np.arange(10,20)\n",
    "print(np1, type(np1))\n",
    "print('-'*50)\n",
    "s4 = pd.Series(np1)\n",
    "print(s4, type(s4))"
   ]
  },
  {
   "cell_type": "markdown",
   "metadata": {},
   "source": [
    "##  시리즈 생성 2 - 키 인덱스 설정\n",
    "\n",
    "- 시리즈 변수 = pd.Series(집합형 자료형, index=[값1,값2...])\n",
    "- 시리즈의 데이터먼저 생성후 인덱스 설정\n",
    "```\n",
    "시리즈 변수 = pd.Series(집합형자료)\n",
    "시리즈 변수.index = [값1, 값2...]\n",
    "```"
   ]
  },
  {
   "cell_type": "code",
   "execution_count": 64,
   "metadata": {},
   "outputs": [
    {
     "name": "stdout",
     "output_type": "stream",
     "text": [
      "ㄱ      신라면\n",
      "ㄴ      진라면\n",
      "ㄷ    불닭볶음면\n",
      "ㄹ      왕뚜껑\n",
      "ㅁ     짜파게티\n",
      "dtype: object\n",
      "-----------\n",
      "신라면 짜파게티\n"
     ]
    }
   ],
   "source": [
    "s5 = pd.Series(['신라면','진라면','불닭볶음면','왕뚜껑','짜파게티'], index=['ㄱ','ㄴ','ㄷ','ㄹ','ㅁ'])\n",
    "print(s5)\n",
    "print('-----------')\n",
    "print(s5['ㄱ'],s5['ㅁ'])"
   ]
  },
  {
   "cell_type": "code",
   "execution_count": 78,
   "metadata": {},
   "outputs": [
    {
     "name": "stdout",
     "output_type": "stream",
     "text": [
      "0     1.0\n",
      "1     4.3\n",
      "2     7.6\n",
      "3    10.9\n",
      "dtype: float64 <class 'pandas.core.series.Series'>\n",
      "---------------------------------------------------------\n",
      "아르헨티나       1.0\n",
      "우르과이        4.3\n",
      "룩셈부르크       7.6\n",
      "앗살라말라이쿰    10.9\n",
      "dtype: float64\n",
      "1.0\n",
      "10.899999999999999\n"
     ]
    }
   ],
   "source": [
    "s6 = pd.Series(np.arange(1,14,3.3))\n",
    "print(s6, type(s6))\n",
    "\n",
    "print('---------------------------------------------------------')\n",
    "# index 설정\n",
    "s6.index=['아르헨티나','우르과이','룩셈부르크','앗살라말라이쿰']\n",
    "print(s6)\n",
    "print(s6['아르헨티나'])\n",
    "print(s6['앗살라말라이쿰'])\n"
   ]
  },
  {
   "cell_type": "markdown",
   "metadata": {},
   "source": [
    "## 시리즈 속성\n",
    "\n",
    "- 인덱스 배열 보기 : 시리즈변수.index\n",
    "- 인덱스 배열 보기 : 시리즈변수.value\n",
    "- 시리즈 이름 : name\n",
    "\n",
    "```\n",
    "1) 별도 지정\n",
    "시리즈변수.name = 시리즈이름\n",
    "2) 시리즈생성시 함께정의\n",
    "pd.Series(집합형자료, index=인덱스배열, name=시리즈이름)\n",
    "```"
   ]
  },
  {
   "cell_type": "code",
   "execution_count": 85,
   "metadata": {},
   "outputs": [
    {
     "name": "stdout",
     "output_type": "stream",
     "text": [
      "RangeIndex(start=0, stop=5, step=1)\n",
      "Index(['아르헨티나', '우르과이', '룩셈부르크', '앗살라말라이쿰'], dtype='object')\n",
      "[  1 100   5 -90 200]\n",
      "[ 1.   4.3  7.6 10.9]\n"
     ]
    }
   ],
   "source": [
    "# 자동 증감 인덱스 = RqngeIndex(start=시작번호, stop=마지막벟노, step=1)\n",
    "print(s1.index)\n",
    "# 문자열 인덱스 = Index([인덱스문자베열], dtype='object')\n",
    "print(s6.index)\n",
    "\n",
    "# 값만 배열로 표시\n",
    "print(s1.values)\n",
    "print(s6.values)"
   ]
  },
  {
   "cell_type": "markdown",
   "metadata": {},
   "source": [
    "퀴즈\n",
    "```\n",
    "1) 딕셔너리 1생성\n",
    "    {'a':'apart', 'b':'banana', 'c':'cat'}\n",
    "2) 리스트 생성\n",
    "    ['아파트', '바나나','고양이']\n",
    "3) 1번의 키값 + 2번의 데이터 => 시리즈 생성\n",
    "    'a' 아파트\n",
    "    'b' 바나나\n",
    "    'c' 고양이\n",
    "```"
   ]
  },
  {
   "cell_type": "code",
   "execution_count": 92,
   "metadata": {},
   "outputs": [
    {
     "data": {
      "text/plain": [
       "a    아파트\n",
       "b    바나나\n",
       "c    고양이\n",
       "dtype: object"
      ]
     },
     "execution_count": 92,
     "metadata": {},
     "output_type": "execute_result"
    }
   ],
   "source": [
    "dict1 = {'a':'apart', 'b':'banana', 'c':'cat'}\n",
    "dict1\n",
    "list1 = ['아파트', '바나나','고양이']\n",
    "list1\n",
    "s7 = pd.Series(list1, index=dict1.keys())\n",
    "s7"
   ]
  },
  {
   "cell_type": "code",
   "execution_count": 98,
   "metadata": {},
   "outputs": [
    {
     "name": "stdout",
     "output_type": "stream",
     "text": [
      "0    삼\n",
      "1    천\n",
      "2    세\n",
      "3    계\n",
      "Name: 롤로노아조로, dtype: object\n"
     ]
    },
    {
     "data": {
      "text/plain": [
       "0    삼\n",
       "1    천\n",
       "2    세\n",
       "3    계\n",
       "Name: 롤로노아조로, dtype: object"
      ]
     },
     "execution_count": 98,
     "metadata": {},
     "output_type": "execute_result"
    }
   ],
   "source": [
    "# 시리즈 이름정하기 (기존에 존재하던 시리즈에 이름 부여)\n",
    "print(s2)\n",
    "s2.name = '롤로노아조로'\n",
    "s2"
   ]
  },
  {
   "cell_type": "code",
   "execution_count": 101,
   "metadata": {},
   "outputs": [
    {
     "data": {
      "text/plain": [
       "0    21\n",
       "1    22\n",
       "2    23\n",
       "3    24\n",
       "4    25\n",
       "5    26\n",
       "6    27\n",
       "7    28\n",
       "8    29\n",
       "9    30\n",
       "Name: 시리즈연습2, dtype: int32"
      ]
     },
     "execution_count": 101,
     "metadata": {},
     "output_type": "execute_result"
    }
   ],
   "source": [
    "# 넘파이 배열(21~30) + 이름은'시리즈연습2'\n",
    "s7 = pd.Series(np.arange(21,31), name='시리즈연습2')\n",
    "s7"
   ]
  },
  {
   "cell_type": "markdown",
   "metadata": {},
   "source": [
    "## 시리즈의 인덱싱\n",
    "\n",
    "- 시리즈명[위치인덱스] => 값\n",
    "- 시리즈명.index[위치인덱스] => 키 값"
   ]
  },
  {
   "cell_type": "code",
   "execution_count": 135,
   "metadata": {},
   "outputs": [
    {
     "name": "stdout",
     "output_type": "stream",
     "text": [
      "s1 = \n",
      "0      1\n",
      "1    100\n",
      "2      5\n",
      "3    -90\n",
      "4    200\n",
      "dtype: int64\n",
      "--------------------------------------------------\n",
      "s2 = \n",
      "0    삼\n",
      "1    천\n",
      "2    세\n",
      "3    계\n",
      "Name: 롤로노아조로, dtype: object\n",
      "\n",
      "s1[1] = 100\n",
      "--------------------------------------------------\n",
      "아르헨티나       1.0\n",
      "우르과이        4.3\n",
      "룩셈부르크       7.6\n",
      "앗살라말라이쿰    10.9\n",
      "dtype: float64\n",
      "\n",
      "s6.index[2] = 룩셈부르크\n",
      "s6['아르헨티나' = 1.0\n",
      "s6의 첫번째 키값은 ? : 아르헨티나\n"
     ]
    }
   ],
   "source": [
    "## 시리즈의 인덱싱\n",
    "print(f's1 = \\n{s1}')\n",
    "print('-'*50)\n",
    "print(f's2 = \\n{s2}\\n')\n",
    "\n",
    "print(f's1[1] = {s1[1]}')\n",
    "print('-'*50)\n",
    "print(f'{s6}\\n')\n",
    "print(f's6.index[2] = {s6.index[2]}')\n",
    "\n",
    "print(f\"s6['아르헨티나' = {s6['아르헨티나']}\")\n",
    "print(f's6의 첫번째 키값은 ? : {s6.index[0]}')"
   ]
  },
  {
   "cell_type": "markdown",
   "metadata": {},
   "source": [
    "## 퀴즈\n",
    "아래와 같은 형태로 시리즈 그래프를 생성하고 평균값을 출력하여라\n",
    "\n",
    "```\n",
    "과목\n",
    "-----------\n",
    "국어   90\n",
    "수학   80\n",
    "영어   100\n",
    "과학   55\n",
    "역사   70\n",
    "Name:중간고사 성적표, dtype=?\n",
    "-----------\n",
    "평균 = ?\n",
    "```"
   ]
  },
  {
   "cell_type": "code",
   "execution_count": 136,
   "metadata": {},
   "outputs": [
    {
     "name": "stdout",
     "output_type": "stream",
     "text": [
      "----------\n",
      "국어     90\n",
      "수학     80\n",
      "영어    100\n",
      "과학     55\n",
      "역사     70\n",
      "Name: 중간고사 성적표, dtype: int64\n",
      "----------\n",
      "평균 = 79.0\n"
     ]
    }
   ],
   "source": [
    "import numpy as np\n",
    "subject = ['국어','수학','영어','과학','역사']\n",
    "scores = [90,80,100,55,70]\n",
    "quizS = pd.Series(scores, index=subject, name='중간고사 성적표')\n",
    "print('----------')\n",
    "print(s8)\n",
    "print('----------')\n",
    "avg = np.mean(scores)\n",
    "print(f'평균 = {avg}')"
   ]
  },
  {
   "cell_type": "markdown",
   "metadata": {},
   "source": [
    "## 인덱스이름 사용하기\n",
    "\n",
    "-시리즈 인덱스 이름 : 시리즈변수.index.name\n",
    "1) 별도 지정\n",
    "시리즈변수.index.name = 시리즈인덱스이름"
   ]
  },
  {
   "cell_type": "code",
   "execution_count": 137,
   "metadata": {},
   "outputs": [
    {
     "data": {
      "text/plain": [
       "과목\n",
       "국어     90\n",
       "수학     80\n",
       "영어    100\n",
       "과학     55\n",
       "역사     70\n",
       "Name: 중간고사 성적표, dtype: int64"
      ]
     },
     "execution_count": 137,
     "metadata": {},
     "output_type": "execute_result"
    }
   ],
   "source": [
    "quizS.index.name = '과목'\n",
    "quizS"
   ]
  }
 ],
 "metadata": {
  "kernelspec": {
   "display_name": "Python 3",
   "language": "python",
   "name": "python3"
  },
  "language_info": {
   "codemirror_mode": {
    "name": "ipython",
    "version": 3
   },
   "file_extension": ".py",
   "mimetype": "text/x-python",
   "name": "python",
   "nbconvert_exporter": "python",
   "pygments_lexer": "ipython3",
   "version": "3.7.4"
  }
 },
 "nbformat": 4,
 "nbformat_minor": 2
}
