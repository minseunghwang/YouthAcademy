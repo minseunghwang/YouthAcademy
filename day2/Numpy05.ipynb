{
 "cells": [
  {
   "cell_type": "markdown",
   "metadata": {},
   "source": [
    "# Numpy05\n",
    "\n",
    "## 넘파이 수학함수  \n",
    "    - 조건 : 넘파이 배열형태의 숫자 자료형만 가능(문자형 사용 불가)\n",
    "   \n",
    "   ### 두 넘파이 배열에서 큰수나 작은수 출력\n",
    "    - np.maximum(배열1, 배열2)\n",
    "    - np.minimum(배열1, 배열2)\n",
    "    \n",
    "   ### 같은 배열에서 큰수나 작은수 출력( 최댓값, 최솟값)\n",
    "    - np.max(배열) => 결과 하나\n",
    "    - np.min(배열) => 결과 하나\n",
    "    - np.max(배열, axis = 0 ) => 컬럼의 최댓값 (결과 컬럼수)\n",
    "    - np.min(배열, axis = 1 ) => 행의 최댓값 (결과 행수)\n",
    "    \n",
    "   ### 같은 배열에서 합과 평균\n",
    "    - np.sum(배열) => 결과 하나\n",
    "    - np.mean(배열) => 결과 하나\n",
    "    - np.sum(배열, axis=0/1) = 배열이름.sum(axis=0/1) axis가 0일때 -> 컬럼기준/ axis가 1일때 -> 행기준\n",
    "    - np.mean(배열, axis=0/1)= 배열이름.mean(axis=0/1) \n",
    " \n",
    "## 병합\n",
    "   \n",
    "   ### 기존 배열을 이용해서 새로운 배열 만들기\n",
    "    - np.vstack((배열1,배열2)) : 행으로 합치기\n",
    "    - np.hstack((배열1,배열2)) : 열로 합치기\n",
    "    - np.concatenate((배열1,배열2, axis=1/0)) : 행/열로 합치기(이건 2차원배열로 해야 오류가 없단다..)\n",
    "    \n",
    "   "
   ]
  },
  {
   "cell_type": "code",
   "execution_count": 2,
   "metadata": {},
   "outputs": [],
   "source": [
    "import numpy as np"
   ]
  },
  {
   "cell_type": "code",
   "execution_count": 19,
   "metadata": {},
   "outputs": [
    {
     "data": {
      "text/plain": [
       "array([5, 6, 7, 8, 9])"
      ]
     },
     "execution_count": 19,
     "metadata": {},
     "output_type": "execute_result"
    }
   ],
   "source": [
    "# 넘파이 배열 생성 및 minimum/maximum\n",
    "npArr1 = np.array([1,2,3,4,5])\n",
    "npArr1\n",
    "npArr2 = np.arange(5,10)\n",
    "npArr2\n",
    "np.minimum(npArr1,npArr2)\n",
    "np.maximum(npArr1,npArr2)\n",
    "# npArr3 = np.array(['가','나','다'])\n",
    "# npArr4 = np.array(['마','바','사'])\n",
    "# np.minimum(npArr3,npArr4)\n",
    "# np.maximum(npArr3,npArr4)  => 오류남"
   ]
  },
  {
   "cell_type": "code",
   "execution_count": 44,
   "metadata": {},
   "outputs": [
    {
     "name": "stdout",
     "output_type": "stream",
     "text": [
      "[[ 0  1  2  3  4]\n",
      " [ 5  6  7  8  9]\n",
      " [10 11 12 13 14]\n",
      " [15 16 17 18 19]]\n",
      "컬럼의 최댓값 [15 16 17 18 19]\n",
      "행의 최솟값 [ 0  5 10 15]\n"
     ]
    }
   ],
   "source": [
    "# max/min\n",
    "npArr5 = np.arange(1,20)\n",
    "np.max(npArr1) # 최대값\n",
    "np.min(npArr1) # 최소값\n",
    "\n",
    "# 2차원 배열\n",
    "npArr6 = np.arange(20)\n",
    "npArr7 = npArr6.reshape(4,5)\n",
    "print(npArr7)\n",
    "print('컬럼의 최댓값',np.max(npArr7, axis = 0))\n",
    "print('행의 최솟값',np.min(npArr7, axis = 1))"
   ]
  },
  {
   "cell_type": "code",
   "execution_count": 50,
   "metadata": {},
   "outputs": [
    {
     "name": "stdout",
     "output_type": "stream",
     "text": [
      "1차원 npArr5의 합 190\n",
      "1차원 npArr5의 평균 10.0\n",
      "2차원 npArr7의 합 [30 34 38 42 46]\n",
      "2차원 npArr7의 평균 [ 7.5  8.5  9.5 10.5 11.5]\n"
     ]
    }
   ],
   "source": [
    "print('1차원 npArr5의 합',np.sum(npArr5))\n",
    "print('1차원 npArr5의 평균',np.mean(npArr5))\n",
    "print('2차원 npArr7의 합',np.sum(npArr7, axis=0))\n",
    "print('2차원 npArr7의 평균',np.mean(npArr7, axis=0))"
   ]
  },
  {
   "cell_type": "code",
   "execution_count": 67,
   "metadata": {},
   "outputs": [
    {
     "name": "stdout",
     "output_type": "stream",
     "text": [
      "[[15 10 67 80]\n",
      " [33 56 78 77]]\n",
      "[15 10 67 80 33 56 78 77]\n",
      "[[15 10 67 80 33 56 78 77]]\n",
      "[[15 10 67 80]\n",
      " [33 56 78 77]]\n"
     ]
    }
   ],
   "source": [
    "npArr8 = np.array([15,10,67,80])\n",
    "npArr9 = np.array([33,56,78,77])\n",
    "print(np.vstack((npArr8,npArr9))) \n",
    "print(np.hstack((npArr8,npArr9)))\n",
    "npArr10 = np.array([[15,10,67,80]])\n",
    "npArr11 = np.array([[33,56,78,77]])\n",
    "print(np.concatenate((npArr10,npArr11),axis=1))\n",
    "print(np.concatenate((npArr10,npArr11),axis=0))"
   ]
  }
 ],
 "metadata": {
  "kernelspec": {
   "display_name": "Python 3",
   "language": "python",
   "name": "python3"
  },
  "language_info": {
   "codemirror_mode": {
    "name": "ipython",
    "version": 3
   },
   "file_extension": ".py",
   "mimetype": "text/x-python",
   "name": "python",
   "nbconvert_exporter": "python",
   "pygments_lexer": "ipython3",
   "version": "3.7.4"
  }
 },
 "nbformat": 4,
 "nbformat_minor": 2
}
